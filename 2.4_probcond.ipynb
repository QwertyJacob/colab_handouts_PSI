{
  "cells": [
    {
      "cell_type": "markdown",
      "metadata": {},
      "source": [
        "<a href=\"https://colab.research.google.com/github/QwertyJacob/colab_handouts_PSI/blob/main/2.4_probcond.ipynb\" target=\"_parent\"><img src=\"https://colab.research.google.com/assets/colab-badge.svg\" alt=\"Open In Colab\"/></a>"
      ]
    },
    {
      "cell_type": "markdown",
      "metadata": {},
      "source": [
        "\n",
        "\n",
        "## 2.4 indipendenza, Probabilità Condizionata e teorema di Bayes\n",
        "___________\n",
        "\n",
        "Addattamento da: \n",
        "- Probability and Statistics for Computer Scientists, M. Baron, CRC Press, 2014\n",
        "- Probability for Computer Science, D. Forsyth, Springer Nature, 2018\n"
      ]
    },
    {
      "cell_type": "markdown",
      "metadata": {},
      "source": [
        "Supponiamo di dover incontrare qualcuno all'aeroporto. È probabile che il volo arrivi in orario; la probabilità di ciò è $ 0.8 $. Improvvisamente viene annunciato che il volo è partito con un'ora di ritardo rispetto al programma. Ora la probabilità che arrivi in orario è soltanto $ 0.05 $. La nuova informazione ha modificato la probabilità di incontrare questo volo in orario. Tale nuova probabilità prende il nome di **probabilità condizionata**, dove la nuova informazione — che il volo è partito in ritardo — rappresenta la **condizione**.\n"
      ]
    },
    {
      "cell_type": "markdown",
      "metadata": {},
      "source": [
        "> **DEFINIZIONE 2.15**  La probabilità condizionata dell'**evento** $ A $ dato l'**evento** $ B $ è la probabilità che $ A $ si verifichi quando si sa che $ B $ si è verificato.\n",
        "\n",
        "Notazione  \n",
        "$ P (A \\mid B) = $ probabilità condizionata di $ A $ dato $ B $"
      ]
    },
    {
      "cell_type": "markdown",
      "metadata": {},
      "source": [
        "La probabilità condizionata è un concetto fondamentale che ci permette di rispondere a domande del tipo: \"Qual è la probabilità di un evento, dato che sappiamo che un altro evento è già accaduto?\"\n"
      ]
    },
    {
      "cell_type": "markdown",
      "metadata": {},
      "source": [
        "\n",
        "#### Diagrammi di Venn\n",
        "\n",
        "I diagrammi di Venn forniscono un'interpretazione visiva molto intuitiva della probabilità condizionata:\n",
        "\n",
        "1. L'intero rettangolo rappresenta lo spazio campione $\\Omega$\n",
        "2. Quando condizioniamo su $\\mathcal{B}$, è come se \"zoomassimo\" sull'area di $\\mathcal{B}$, come se lo spazio campione si ridefinisse per diventare $\\mathcal{B}$ il nuovo spazio campione.\n",
        "3. $P(\\mathcal{A}|\\mathcal{B})$ è la proporzione dell'area di $\\mathcal{B}$ che è anche in $\\mathcal{A}$"
      ]
    },
    {
      "attachments": {
        "image.png": {
          "image/png": "[encoded data removed]"
        }
      },
      "cell_type": "markdown",
      "metadata": {},
      "source": [
        "![image.png](attachment:image.png)"
      ]
    },
    {
      "cell_type": "markdown",
      "metadata": {
        "id": "HFRIT6JHm_D2"
      },
      "source": [
        "#### Definizione frequentista della probabilità:\n",
        "\n",
        "Facciamo una parentesi per parlare della definizione frequentista della probabilità, che è la seguente: \n",
        "\n",
        "Dato un esperimento, la probabilità di un determinato esito $\\omega$ di E si dice essere $P(\\omega)$ e consiste nella _frequenza relativa_ con cui $\\omega$ si verifica quando si ripete l'esperimento un numero molto elevato di volte. \n",
        "\n",
        "Questa definizione non è sempre utile, perché ci sono \"esperimenti\" che non possiamo ripetere un numero molto elevato di volte. (Per esempio, l'esperimento che verifica se nei prossimi 10 anni ci sarà un terremoto a Varese).\n",
        "\n",
        "Supponiamo di ripetere un esperimento $N$ volte, e che ogni ripetizione dell'esperimento non influenzi le altri. La definizione frequentista ci direbbe che, in questo caso, un esito $\\omega$ ha probabilità $0<P\\leq1$ se:\n",
        "\n",
        "1.   l'esito $\\omega$ si verifica in circa in $NP$ occasioni, e, man mano che $N$ si avvicina a $\\infty$, il numero di volte in cui l'esito $\\omega$ si verifica è sempre più precisamente pari a $NP$.\n",
        "2. Al crescere di $N$, la *frazione* di esperimenti in cui si verifica il risultato $\\omega$ si avvicina a $P$.\n",
        "\n",
        "Scriviamo $\\#\\omega$ per indicare il numero di volte in cui si verifica l'esito $\\omega$. Interpretiamo quindi $P$ come:\n",
        "\n",
        "$$ P = \\lim_{N \\to \\infty} \\frac{\\# \\omega}{N}$$\n",
        "\n",
        "Da questa equazione possiamo subito notare due cose:\n",
        "\n",
        "1. Per qualsiasi esito $\\omega$ (ben definito), si ha che: $ 0 < P(\\omega) \\leq 1 $ [ Ricorda, se $P(\\omega)=0$ tecnicamente $\\omega$ non sarebbe un esito dell'esperimento. ]\n",
        "2. Se denotiamo ogni esito possibile in $\\Omega$ con $\\omega_i$, allora averemmo che:  $\\sum_{\\omega_i \\in \\Omega} P(\\omega_i) = 1 $\n",
        "\n",
        "Ricordate che ogni esecuzione dell'esperimento **produce esattamente un esito**. Le probabilità sommano uno perché ogni esecuzione deve avere uno dei risultati presenti nello spazio campionario.\n",
        "\n",
        "Come abbiamo visto nel capitolo 2.3, alcuni problemi possono essere gestiti costruendo un insieme di esiti e ragionando semplicemente sulla cardinalità di $\\Omega$: . Questo accade quando i risultati hanno la stessa probabilità."
      ]
    },
    {
      "cell_type": "markdown",
      "metadata": {},
      "source": [
        "#### Interpretazione frequentista della probabilità condizionata"
      ]
    },
    {
      "cell_type": "markdown",
      "metadata": {},
      "source": [
        "\n",
        "Pensando alla definizione frequentista di probabilità, al probabibilità condizionata di un esito $\\mathcal{A}$ dato un esito $\\mathcal{B}$ può capire più intuitivamente:\n",
        "\n",
        "- Se in 100 lanci di due dadi, otteniamo 36 volte un numero pari (Chiamiamolo evento $\\mathcal{B}$)\n",
        "- E di queste 36 volte, 18 volte abbiamo che il primo dado era 6 (Chiamiamolo evento $\\mathcal{A}$)\n",
        "- Allora la probabilità condizionata di $\\mathcal{A}$ dato $\\mathcal{B}$ sarebbe $P(\\mathcal{A}|\\mathcal{B}) = \\frac{18}{36} = 0.5$.\n",
        "\n",
        "Vedete come la probabilità condizionata di $\\mathcal{A}$ è una sempre una proporzione? Non è più la proporzione tra l'area di $\\mathcal{B}$ e l'area di $\\Omega$, ma la proporzione tra l'area di $\\mathcal{A} \\cap \\mathcal{B}$ e l'area di $\\mathcal{B}$."
      ]
    },
    {
      "cell_type": "markdown",
      "metadata": {},
      "source": [
        "> **Esempio (BONUS):** Consideriamo un mazzo di 52 carte:\n",
        "- Sia $\\mathcal{A}$ l'evento \"estrarre un asso\"\n",
        "- Sia $\\mathcal{B}$ l'evento \"estrarre una carta di cuori\"\n",
        "\n",
        "Allora:\n",
        "- $P(\\mathcal{A}) = \\frac{4}{52} = \\frac{1}{13}$\n",
        "- $P(\\mathcal{B}) = \\frac{13}{52} = \\frac{1}{4}$\n",
        "- $P(\\mathcal{A} \\cap \\mathcal{B}) = \\frac{1}{52}$ (l'asso di cuori)\n",
        "\n",
        "La probabilità di estrarre un asso, dato che sappiamo che la carta è di cuori:\n",
        "\n",
        "$$P(\\mathcal{A}|\\mathcal{B}) = \\frac{P(\\mathcal{A} \\cap \\mathcal{B})}{P(\\mathcal{B})} = \\frac{\\frac{1}{52}}{\\frac{13}{52}} = \\frac{1}{13}$$\n",
        "\n",
        "Questo risultato è intuitivo: tra le 13 carte di cuori, solo una è un asso."
      ]
    },
    {
      "cell_type": "markdown",
      "metadata": {},
      "source": [
        "\n",
        "#### Interpretazione classica della probabilità condizionata:\n",
        "\n",
        "Consideriamo innanzitutto il caso di **esiti equiprobabili**. Alla luce della nuova informazione — ovvero che si è verificato l'**esito** $ B $ — soltanto gli esiti contenuti in $ B $ hanno ancora una probabilità non nulla di verificarsi. Contando solo tali esiti, la probabilità non condizionata di $ A $,\n",
        "\n",
        "$$\n",
        "P (A) = \\frac{\\text{numero di esiti in } A}{\\text{numero di esiti in } \\Omega},\n",
        "$$\n",
        "\n",
        "viene ora sostituita dalla \"_probabilità condizionata di $ A $ dato $ B $\"_:\n",
        "\n",
        "$$\n",
        "P (A \\mid B) = \\frac{\\text{numero di esiti in } A \\cap B}{\\text{numero di esiti in } B} = \\frac{P (A \\cap B)}{P (B)}.\n",
        "$$\n",
        "\n",
        "Questa risulta essere la formula generale:\n",
        "\n"
      ]
    },
    {
      "cell_type": "markdown",
      "metadata": {},
      "source": [
        "**Probabilità Condizionata**\n",
        "$$\n",
        "P (A \\mid B) = \\frac{P (A \\cap B)}{P (B)} \\tag{2.7}\n",
        "$$\n",
        "\n",
        "Riscrivendo la (2.7) in forma diversa, otteniamo la formula generale per la probabilità dell'intersezione.\n",
        "\n",
        "**Probabilità dell'intersezione, caso generale**\n",
        "\n",
        "$$\n",
        "P (A \\cap B) = P (B) \\, P (A \\mid B) \\tag{2.8}\n",
        "$$"
      ]
    },
    {
      "cell_type": "markdown",
      "metadata": {},
      "source": [
        "La probabilità dell'intersezione viene anche chiamata _\"**Regola del prodotto**\"_."
      ]
    },
    {
      "cell_type": "markdown",
      "metadata": {},
      "source": [
        "\n",
        "Osserviamo come, per qualsiasi evento $\\mathcal{E}$:\n",
        "\n",
        "$$\\frac{P(\\mathcal{E} \\cap \\mathcal{B})}{P(\\mathcal{B})} = P(\\mathcal{E}|\\mathcal{B})$$\n",
        "\n",
        "Questo significa che, nel regime \"condizionato\" le \"proporzioni\" degli eventi all'interno di $\\mathcal{B}$ rimangono le stesse, solo che esse vengono _riscalate_ per sommare a 1. In altre parole, quando sappiamo che $\\mathcal{B}$ si è verificato, cioè quando condizioniamo su $\\mathcal{B}$, creiamo un nuovo spazio di probabilità dove:\n",
        "\n",
        "1. $P(\\mathcal{B}|\\mathcal{B}) = 1$ (certezza, $\\mathcal{B}$ è nostro nuovo spazio campione )\n",
        "2. Quindi per eventi disgiunti $\\mathcal{C}$ e $\\mathcal{D}$ avremo:\n",
        "   $$P(\\mathcal{C} \\cup \\mathcal{D}|\\mathcal{B}) = P(\\mathcal{C}|\\mathcal{B}) + P(\\mathcal{D}|\\mathcal{B})$$"
      ]
    },
    {
      "cell_type": "markdown",
      "metadata": {},
      "source": [
        "#### La Regola del Prodotto\n",
        "\n",
        "Per due eventi $\\mathcal{A}$ e $\\mathcal{B}$, la probabilità congiunta può essere espressa come:\n",
        "\n",
        "$$P(\\mathcal{A} \\cap \\mathcal{B}) = P(\\mathcal{B}) \\cdot P(\\mathcal{A}|\\mathcal{B}) = P(\\mathcal{A}) \\cdot P(\\mathcal{B}|\\mathcal{A})$$\n",
        "\n",
        "Per più eventi, questa regola si estende:\n",
        "\n",
        "$$P(\\mathcal{A} \\cap \\mathcal{B} \\cap \\mathcal{C}) = P(\\mathcal{A}) \\cdot P(\\mathcal{B}|\\mathcal{A}) \\cdot P(\\mathcal{C}|\\mathcal{A} \\cap \\mathcal{B})$$\n",
        "\n",
        "Questa scomposizione è particolarmente utile quando abbiamo una sequenza di eventi che seguono un ordine naturale o causale.\n",
        "\n",
        "La regola del prodotto deriva direttamente dalla definizione di probabilità condizionata:\n",
        "\n",
        "$$P(\\mathcal{A}|\\mathcal{B}) = \\frac{P(\\mathcal{A} \\cap \\mathcal{B})}{P(\\mathcal{B})}$$\n",
        "\n",
        "Riorganizzando questa equazione, otteniamo:\n",
        "\n",
        "$$P(\\mathcal{A} \\cap \\mathcal{B}) = P(\\mathcal{B}) \\cdot P(\\mathcal{A}|\\mathcal{B})$$\n"
      ]
    },
    {
      "cell_type": "markdown",
      "metadata": {},
      "source": [
        "Grazie alla proprietà commutativa dell'intersezione ($\\mathcal{A} \\cap \\mathcal{B} \\cap \\mathcal{C} = \\mathcal{B} \\cap \\mathcal{A} \\cap \\mathcal{C}$ etc.), possiamo decomporre la probabilità congiunta di tre eventi in diversi modi, tutti equivalenti:\n",
        "\n",
        "$$ P(\\mathcal{A} \\cap \\mathcal{B} \\cap \\mathcal{C}) = P(\\mathcal{A}) \\cdot P(\\mathcal{B}|\\mathcal{A}) \\cdot P(\\mathcal{C}|\\mathcal{A} \\cap \\mathcal{B}) $$\n",
        "\n",
        "oppure:\n",
        "\n",
        "$$ P(\\mathcal{A} \\cap \\mathcal{B} \\cap \\mathcal{C}) = P(\\mathcal{B}) \\cdot P(\\mathcal{A}|\\mathcal{B}) \\cdot P(\\mathcal{C}|\\mathcal{A} \\cap \\mathcal{B}) $$\n",
        "\n",
        "o ancora:\n",
        "\n",
        "$$ P(\\mathcal{A} \\cap \\mathcal{B} \\cap \\mathcal{C}) = P(\\mathcal{C}) \\cdot P(\\mathcal{A}|\\mathcal{C}) \\cdot P(\\mathcal{B}|\\mathcal{A} \\cap \\mathcal{C}) $$\n",
        "\n",
        "E così via.\n"
      ]
    },
    {
      "cell_type": "markdown",
      "metadata": {},
      "source": [
        "\n",
        "Riesci a capire in quanti modi si può *fattorizzare* questa probabilità congiunta?\n",
        "\n",
        "Per calcolare il numero totale di decomposizioni possibili, osserviamo che:\n",
        "\n",
        "- Possiamo scegliere qualsiasi evento come primo termine (3 scelte)\n",
        "- Dei due eventi rimanenti, possiamo scegliere qualsiasi come secondo termine (2 scelte)\n",
        "- Così facendo, l'ultimo evento sarà automaticamente determinato (1 scelta)\n",
        "\n",
        "Per ogni sequenza di eventi, possiamo condizionare il secondo evento sul primo e il terzo sui primi due\n",
        "\n",
        "Quindi il numero totale di decomposizioni è:\n",
        "$3! = 6$ decomposizioni diverse\n",
        "\n",
        "Esplicitamente, sono:\n",
        "\n",
        "$$\n",
        "\\begin{align}\n",
        "& P(\\mathcal{A}) \\cdot P(\\mathcal{B}|\\mathcal{A}) \\cdot P(\\mathcal{C}|\\mathcal{A} \\cap \\mathcal{B}) \\\\\n",
        "& P(\\mathcal{A}) \\cdot P(\\mathcal{C}|\\mathcal{A}) \\cdot P(\\mathcal{B}|\\mathcal{A} \\cap \\mathcal{C}) \\\\\n",
        "& P(\\mathcal{B}) \\cdot P(\\mathcal{A}|\\mathcal{B}) \\cdot P(\\mathcal{C}|\\mathcal{A} \\cap \\mathcal{B}) \\\\\n",
        "& P(\\mathcal{B}) \\cdot P(\\mathcal{C}|\\mathcal{B}) \\cdot P(\\mathcal{A}|\\mathcal{B} \\cap \\mathcal{C}) \\\\\n",
        "& P(\\mathcal{C}) \\cdot P(\\mathcal{A}|\\mathcal{C}) \\cdot P(\\mathcal{B}|\\mathcal{A} \\cap \\mathcal{C}) \\\\\n",
        "& P(\\mathcal{C}) \\cdot P(\\mathcal{B}|\\mathcal{C}) \\cdot P(\\mathcal{A}|\\mathcal{B} \\cap \\mathcal{C})\n",
        "\\end{align}$$\n",
        "\n",
        "\n",
        "Questa molteplicità di decomposizioni ci offre flessibilità nella risoluzione di problemi: possiamo scegliere la **decomposizione più conveniente in base alle informazioni disponibili nel problema specifico.**"
      ]
    },
    {
      "cell_type": "markdown",
      "metadata": {},
      "source": [
        "\n",
        "> Esempio: Estrazione di Carte\n",
        "Consideriamo l'estrazione di due carte da un mazzo standard di 52 carte senza reinserimento.\n",
        "\n",
        "Qual è la probabilità di estrarre due assi?\n",
        "\n",
        "1. Prima estrazione ($\\mathcal{A}_1$): $P(\\mathcal{A}_1) = \\frac{4}{52} = \\frac{1}{13}$\n",
        "2. Seconda estrazione ($\\mathcal{A}_2$), dato che abbiamo già estratto un asso:\n",
        "   $P(\\mathcal{A}_2|\\mathcal{A}_1) = \\frac{3}{51} = \\frac{1}{17}$\n",
        "\n",
        "La probabilità di estrarre due assi è quindi:\n",
        "\n",
        "$$P(\\mathcal{A}_1 \\cap \\mathcal{A}_2) = \\frac{1}{13} \\cdot \\frac{1}{17} = \\frac{1}{221}$$\n",
        "\n",
        "Si noti che questi eventi non sono indipendenti!\n"
      ]
    },
    {
      "cell_type": "markdown",
      "metadata": {},
      "source": [
        "\n",
        "> Esempio: Lancio di Dadi\n",
        "Lanciamo due dadi. Qual è la probabilità di ottenere un 6 sul primo dado e un numero pari sul secondo?\n",
        "\n",
        "1. Primo evento ($\\mathcal{D}_6$): ottenere 6 sul primo dado\n",
        "   $P(\\mathcal{D}_6) = \\frac{1}{6}$\n",
        "2. Secondo evento ($\\mathcal{P}$): ottenere un numero pari sul secondo dado\n",
        "   $P(\\mathcal{P}|\\mathcal{D}_6) = \\frac{3}{6} = \\frac{1}{2}$ (i due eventi sono indipendenti)\n",
        "\n",
        "$$P(\\mathcal{D}_6 \\cap \\mathcal{P}) = \\frac{1}{6} \\cdot \\frac{1}{2} = \\frac{1}{12}$$\n"
      ]
    },
    {
      "cell_type": "markdown",
      "metadata": {},
      "source": [
        "\n",
        "> Esempio: Esempio con Tre Eventi\n",
        "Consideriamo un processo di controllo qualità con tre fasi:\n",
        "\n",
        "1. $\\mathcal{M}$: il materiale passa il controllo iniziale\n",
        "2. $\\mathcal{D}$: il design è approvato\n",
        "3. $\\mathcal{T}$: il test finale è superato\n",
        "\n",
        "Supponiamo:\n",
        "- $P(\\mathcal{M}) = 0.9$ (90% dei materiali passa il controllo)\n",
        "- $P(\\mathcal{D}|\\mathcal{M}) = 0.8$ (80% dei design con materiali approvati passa)\n",
        "- $P(\\mathcal{T}|\\mathcal{M} \\cap \\mathcal{D}) = 0.95$ (95% dei prodotti con materiali e design approvati passa il test finale)\n",
        "\n",
        "La probabilità che un prodotto superi tutte e tre le fasi è:\n",
        "\n",
        "$$P(\\mathcal{M} \\cap \\mathcal{D} \\cap \\mathcal{T}) = 0.9 \\cdot 0.8 \\cdot 0.95 = 0.684$$\n"
      ]
    },
    {
      "cell_type": "markdown",
      "metadata": {},
      "source": [
        "#### Applicazioni della regola del prodotto\n",
        "\n",
        "La regola del prodotto è fondamentale in molti campi:\n",
        "\n",
        "1. **Analisi dei Rischi**: Calcolare la probabilità di una serie di eventi che devono verificarsi tutti per un fallimento del sistema\n",
        "2. **Machine Learning**: Nella costruzione di modelli probabilistici, come le catene di Markov, tanto usate per il decision making sequenziale e la massimizzazione di profitto a lungo periodo.\n",
        "3. **Genetica**: Calcolare la probabilità di ereditare specifiche combinazioni di geni."
      ]
    },
    {
      "cell_type": "markdown",
      "metadata": {},
      "source": [
        "#### Indipendenza\n",
        "Avevamo parlato dell'indipendenza di due eventi quando abbiamo toccato il discordo della probabilità congiunta. La definizione era piuttosto assettica, perché dava conto solo di una condizione matematica (due eventi sono indipendenti solo se la probabilità della loro intersezione coincide con il prodotto delle loro probabilità). Ora però, alla luce del concetto di probabilità condizionata, possiamo fornire una definizione di indipendenza che risulta molto chiara intuitivamente.\n",
        "\n",
        "> **DEFINIZIONE 2.16** Gli **eventi** $ A $ e $ B $ sono indipendenti se il verificarsi di $ B $ non influenza la probabilità di $ A $, cioè,\n",
        "\n",
        "$$\n",
        "P (A \\mid B) = P (A).\n",
        "$$\n",
        "\n",
        "Secondo questa definizione, nel caso di **eventi** indipendenti la probabilità condizionata coincide con la probabilità non condizionata. Sostituendo questa uguaglianza nella (2.8), otteniamo\n",
        "$$\n",
        "P (A \\cap B) = P (A) \\, P (B).\n",
        "$$\n",
        "\n",
        "E questa è la nostra vecchia formula per **eventi** indipendenti."
      ]
    },
    {
      "cell_type": "markdown",
      "metadata": {},
      "source": [
        "> **Esempi di Eventi Indipendenti**\n",
        "\n",
        "1. **Lancio di due dadi**\n",
        "   - Evento $\\mathcal{A}$: ottenere 6 sul primo dado\n",
        "   - Evento $\\mathcal{B}$: ottenere un numero pari sul secondo dado\n",
        "   - Sono indipendenti perché il risultato di un dado non influenza l'altro\n",
        "\n",
        "2. **Estrazioni con reimmissione**\n",
        "   - Evento $\\mathcal{A}$: estrarre una pallina rossa\n",
        "   - Rimettere la pallina nell'urna\n",
        "   - Evento $\\mathcal{B}$: estrarre una pallina blu\n",
        "   - Sono indipendenti perché la prima estrazione non cambia la composizione dell'urna\n",
        "\n",
        "3. **Meteorologia e Matematica**\n",
        "   - Evento $\\mathcal{A}$: piove domani\n",
        "   - Evento $\\mathcal{B}$: uno studente supera un esame di matematica\n",
        "   - Sono indipendenti perché non c'è alcuna relazione causale tra i due eventi"
      ]
    },
    {
      "cell_type": "markdown",
      "metadata": {},
      "source": [
        "\n",
        "\n",
        "> **Esempi di Eventi Dipendenti**\n",
        "\n",
        "1. **Estrazioni senza reimmissione**\n",
        "   - Evento $\\mathcal{A}$: estrarre un asso da un mazzo di carte\n",
        "   - Evento $\\mathcal{B}$: estrarre un altro asso dallo stesso mazzo\n",
        "   - Sono dipendenti perché la prima estrazione cambia la probabilità della seconda\n",
        "\n",
        "2. **Test medici**\n",
        "   - Evento $\\mathcal{A}$: avere una certa malattia\n",
        "   - Evento $\\mathcal{B}$: risultato positivo al test per quella malattia\n",
        "   - Sono dipendenti perché avere la malattia influenza fortemente la probabilità di un test positivo\n",
        "\n",
        "3. **Rendimento scolastico**\n",
        "   - Evento $\\mathcal{A}$: studiare per un esame\n",
        "   - Evento $\\mathcal{B}$: superare quell'esame\n",
        "   - Sono dipendenti perché studiare aumenta la probabilità di superare l'esame"
      ]
    },
    {
      "cell_type": "markdown",
      "metadata": {},
      "source": [
        "> **Esempio 2.31.** Il novanta percento dei voli parte in orario. L’ottanta percento dei voli arriva in orario. Il settantacinque percento dei voli parte in orario e arriva in orario.\n",
        "\n",
        "(a) Stai aspettando un volo che è partito in orario. Qual è la probabilità che arrivi in orario?  \n",
        "(b) Hai incontrato un volo, e questo è arrivato in orario. Qual è la probabilità che fosse partito in orario?  \n",
        "(c) Gli **eventi** “partire in orario” e “arrivare in orario” sono indipendenti?\n",
        "\n",
        "**Soluzione.** Denotiamo gli **eventi**:\n",
        "\n",
        "$$\n",
        "A = (\\text{arrivo in orario}), \\quad D = (\\text{partenza in orario}).\n",
        "$$\n",
        "\n",
        "Sappiamo che:\n",
        "\n",
        "$$\n",
        "P (A) = 0.8, \\quad P (D) = 0.9, \\quad P (A \\cap D) = 0.75.\n",
        "$$\n",
        "\n",
        "(a)  \n",
        "$$\n",
        "P (A \\mid D) = \\frac{P (A \\cap D)}{P (D)} = \\frac{0.75}{0.9} = 0.8333.\n",
        "$$\n",
        "\n",
        "(b)  \n",
        "$$\n",
        "P (D \\mid A) = \\frac{P (A \\cap D)}{P (A)} = \\frac{0.75}{0.8} = 0.9375.\n",
        "$$\n",
        "\n",
        "(c) Gli **eventi** non sono indipendenti perché\n",
        "\n",
        "$$\n",
        "P (A \\mid D) \\ne P (A), \\quad P (D \\mid A) \\ne P (D), \\quad P (A \\cap D) \\ne P (A) P (D).\n",
        "$$\n",
        "\n",
        "In realtà, basta una sola di queste disuguaglianze per dimostrare che $ A $ e $ D $ sono dipendenti.  \n",
        "Inoltre, osserviamo che $ P (A \\mid D) > P (A) $ e $ P (D \\mid A) > P (D) $. In altre parole, partire in orario aumenta la probabilità di arrivare in orario, e viceversa. Questo risultato è perfettamente in accordo con l’intuizione."
      ]
    },
    {
      "cell_type": "markdown",
      "metadata": {},
      "source": [
        "#### Eventi Disgiunti (Mutuamente Esclusivi) e dipendenza\n",
        "\n",
        "Sappiamo che due eventi sono disgiunti se non possono verificarsi contemporaneamente. Si ha che eventi disgiunti sono sempre dipendenti. Perché? Per come sono definiti gli eventi disgiunti, se so che si è verificato $\\mathcal{A}$, so con certezza che $\\mathcal{B}$ non può verificarsi Quindi, $\\mathcal{A}$ influenza decisamente la probabilità di $\\mathcal{B}$\n",
        "\n",
        "> Esempio di Eventi Disgiunti nel lancio di un dado\n",
        "   - Evento $\\mathcal{A}$: ottenere un numero pari\n",
        "   - Evento $\\mathcal{B}$: ottenere un numero dispari\n",
        "   - Sapendo che è uscito pari, la probabilità di dispari diventa zero\n",
        "\n",
        "> Ricorda: Due eventi $A$ e $B$ sono indipendenti se e solo se:\n",
        "\n",
        "  $$P(A \\cap B) = P(A) \\cdot P(B)$$\n"
      ]
    },
    {
      "cell_type": "markdown",
      "metadata": {},
      "source": [
        "\n",
        "#### Proprietà fondamentali dell indipendenza\n",
        "\n",
        "1. Se $A$ e $B$ sono indipendenti, allora:\n",
        "   - $A$ e $B^c$ sono indipendenti\n",
        "   - $A^c$ e $B$ sono indipendenti\n",
        "   - $A^c$ e $B^c$ sono indipendenti\n",
        "\n",
        "2. La probabilità condizionata di eventi indipendenti rimane invariata:\n",
        "   $$P(A|B) = P(A) \\quad \\text{e} \\quad P(B|A) = P(B)$$\n",
        "\n",
        "3. La disgiunzione implica **DIPENDENZA** (o non indipendenza): Eventi disgiunti ($A \\cap B = \\emptyset$) con probabilità non nulla sono sempre dipendenti.\n"
      ]
    },
    {
      "cell_type": "markdown",
      "metadata": {},
      "source": [
        "\n",
        "#### Generalizzazione a più eventi\n",
        "\n",
        "Tre eventi $A$, $B$ e $C$ sono mutualmente indipendenti se:\n",
        "- $P(A \\cap B) = P(A) \\cdot P(B)$\n",
        "- $P(A \\cap C) = P(A) \\cdot P(C)$\n",
        "- $P(B \\cap C) = P(B) \\cdot P(C)$\n",
        "- $P(A \\cap B \\cap C) = P(A) \\cdot P(B) \\cdot P(C)$\n",
        "\n",
        "> Esempio\n",
        "\n",
        "Nel lancio di due dadi:\n",
        "- Sia $A$ l'evento \"il primo dado mostra 6\"\n",
        "- Sia $B$ l'evento \"il secondo dado mostra 6\"\n",
        "\n",
        "Questi eventi sono indipendenti poiché:\n",
        "- $P(A) = \\frac{1}{6}$\n",
        "- $P(B) = \\frac{1}{6}$\n",
        "- $P(A \\cap B) = \\frac{1}{36} = \\frac{1}{6} \\cdot \\frac{1}{6} = P(A) \\cdot P(B)$"
      ]
    },
    {
      "attachments": {
        "image.png": {
          "image/png": "[encoded data removed]"
        }
      },
      "cell_type": "markdown",
      "metadata": {},
      "source": [
        "#### Il Teorema della Probabilità Totale\n",
        "\n",
        "Questa legge mette in relazione la probabilità incondizionata di un esito $ A $ con le sue probabilità condizionate. Viene utilizzata ogni volta che è più semplice calcolare le probabilità condizionate di $ A $ sulla base di informazioni aggiuntive.\n",
        "\n",
        "\n",
        "> **Ricorda**: il concetto di Partizione\n",
        "\n",
        "Una partizione dello spazio campionario $\\Omega$ è un insieme di eventi $\\{\\mathcal{B}_1, \\mathcal{B}_2, ..., \\mathcal{B}_n\\}$ tali che:\n",
        "1. Sono mutuamente esclusivi: $\\mathcal{B}_i \\cap \\mathcal{B}_j = \\emptyset$ per $i \\neq j$\n",
        "2. Sono esaustivi: $\\bigcup_{i=1}^n \\mathcal{B}_i = \\Omega$\n",
        "3. Sono non vuoti: $P(\\mathcal{B}_i) > 0$ per ogni $i$\n",
        "\n",
        "![image.png](attachment:image.png)\n"
      ]
    },
    {
      "cell_type": "markdown",
      "metadata": {},
      "source": [
        "Consideriamo una partizione dello spazio campione $ \\Omega $ in eventi $ B_1, \\ldots, B_k $ mutuamente esclusivi ed esaustivi. Ciò significa che\n",
        "\n",
        "$$ B_i \\cap B_j = \\emptyset \\quad \\text{per ogni } i \\neq j \\quad \\text{e} \\quad B_1 \\cup \\ldots \\cup B_k = \\Omega. $$\n",
        "\n",
        "Questi eventi partizionano anche l'evento $ A $:\n",
        "\n",
        "$$ A = (A \\cap B_1) \\cup \\ldots \\cup (A \\cap B_k), $$\n",
        "\n",
        "e questa è anch'essa un'unione di eventi mutuamente esclusivi (Figura 2.6). Di conseguenza,\n",
        "\n",
        "$$ P(A) = \\sum_{j=1}^{k} P(A \\mid B_j) P(B_j), $$\n",
        "\n",
        "e si ottiene la seguente regola."
      ]
    },
    {
      "cell_type": "markdown",
      "metadata": {},
      "source": [
        "\n",
        "> **Teorema della probabilità totale:**\n",
        "\n",
        "Per qualsiasi evento $\\mathcal{A}$ e per qualsiasi partizione $\\{\\mathcal{B}_1, \\mathcal{B}_2, ..., \\mathcal{B}_n\\}$ si ha che:\n",
        "\n",
        "$$P(\\mathcal{A}) = \\sum_{i=1}^n P(\\mathcal{A}|\\mathcal{B}_i) \\cdot P(\\mathcal{B}_i) \\tag{2.10} $$\n",
        "\n",
        "Questo teorema ci permette di calcolare la probabilità di un evento scomponendola attraverso una partizione dello spazio campionario."
      ]
    },
    {
      "cell_type": "markdown",
      "metadata": {},
      "source": [
        "\n",
        "Nel caso di due eventi ($ k = 2 $),\n",
        "\n",
        "$$\n",
        "P(A) = P(A \\mid B) P(B) + P\\left(A \\mid \\overline{B}\\right) P\\left(\\overline{B}\\right).\n",
        "$$"
      ]
    },
    {
      "cell_type": "markdown",
      "metadata": {},
      "source": [
        "#### Teorema di Bayes\n",
        "\n",
        "L'esempio 2.31 mostra che due probabilità condizionate, $ P(A \\mid B) $ e $ P(B \\mid A) $, in generale non sono uguali. Consideriamo un altro esempio.\n",
        "\n",
        "> **Esempio 2.32 (Affidabilità di un test)**. Esiste un test per una certa infezione virale (incluso un attacco di virus su una rete informatica). Il test è affidabile al 95% per i pazienti infetti e al 99% per i soggetti sani. Cioè, se un paziente ha il virus (evento $ V $), il test lo rivela (evento $ S $) con probabilità condizionata $ P(S \\mid V) = 0.95 $, e se il paziente non ha il virus, il test conferma che è sano con probabilità condizionata $ P(S \\mid \\overline{V}) = 0.99 $, dove $ \\overline{V} $ indica l'evento complementare a $ V $ (il paziente non è infetto).\n",
        "\n",
        "Consideriamo un paziente il cui risultato del test è positivo (ossia, il test indica che il paziente ha il virus). Sapendo che talvolta il test può essere errato, naturalmente il paziente desidera conoscere la probabilità che effettivamente abbia il virus. Tuttavia, questa probabilità condizionata, $ P(V \\mid S) $, non è indicata tra le caratteristiche fornite del test.\n",
        "\n",
        "♦\n",
        "\n",
        "Questo esempio si applica a ogni procedura di test, inclusi test di software e hardware, test di gravidanza, test di paternità, test dell’alcol, esami accademici, ecc. Il problema consiste nel collegare la probabilità condizionata nota $ P(S \\mid V) $ con la quantità richiesta $ P(V \\mid S) $. Tale collegamento fu stabilito nel XVIII secolo dal ministro inglese Thomas Bayes (1702–1761) nel modo seguente.\n",
        "\n",
        "Osserviamo che $ A \\cap B = B \\cap A $. Di conseguenza, usando l'equazione (2.8), otteniamo:\n",
        "\n",
        "$$ P(B) \\, P(A \\mid B) = P(A) \\, P(B \\mid A) $$\n",
        "\n",
        "Risolvendo rispetto a $ P(B \\mid A) $, si ottiene il\n",
        "\n",
        "> **Teorema di Bayes**\n",
        "\n",
        "$$ P(B \\mid A) = \\frac{P(A \\mid B) \\, P(B)}{P(A)} \\quad (2.9) $$\n"
      ]
    },
    {
      "cell_type": "markdown",
      "metadata": {},
      "source": [
        "#### Il Teorema di Bayes e l'inferenza\n",
        "\n",
        "\n",
        "\n",
        "L'inferenza è il processo di trarre conclusioni partendo da premesse o evidenze. Nel contesto probabilistico, spesso vogliamo:\n",
        "1. Capire la causa di un effetto osservato\n",
        "2. Prevedere effetti futuri basandoci su cause note\n",
        "\n",
        "La probabilità condizionata è fondamentale in questo processo perché ci permette di aggiornare le nostre credenze alla luce di nuove informazioni.\n",
        "\n",
        "\n",
        "> **Esempio**: Diagnosi Medica\n",
        "- Causa ($\\mathcal{D}$): presenza di una malattia\n",
        "- Effetto ($\\mathcal{S}$): presenza di un sintomo\n",
        "\n",
        "Conosciamo:\n",
        "- $P(\\mathcal{D})$: probabilità a priori della malattia\n",
        "- $P(\\mathcal{S}|\\mathcal{D})$: probabilità del sintomo data la malattia (verosimiglianza)\n",
        "\n",
        "Vogliamo:\n",
        "- $P(\\mathcal{D}|\\mathcal{S})$: probabilità della malattia dato il sintomo (probabilità a posteriori)\n",
        "\n",
        "**Componenti Chiave**\n",
        "\n",
        "1. **Probabilità a priori** $P(\\mathcal{H})$: la nostra credenza iniziale su un'ipotesi\n",
        "2. **Verosimiglianza** $P(\\mathcal{E}|\\mathcal{H})$: probabilità dell'evidenza data l'ipotesi\n",
        "3. **Probabilità a posteriori** $P(\\mathcal{H}|\\mathcal{E})$: la credenza aggiornata dopo aver osservato l'evidenza\n",
        "\n",
        "**Formula del teorema di Bayes**\n",
        "\n",
        "$$P(\\mathcal{H}|\\mathcal{E}) = \\frac{P(\\mathcal{E}|\\mathcal{H}) \\cdot P(\\mathcal{H})}{P(\\mathcal{E})}$$\n",
        "\n",
        "dove $P(\\mathcal{E})$ può essere calcolato usando il teorema della probabilità totale:\n",
        "\n",
        "$$P(\\mathcal{E}) = P(\\mathcal{E}|\\mathcal{H}) \\cdot P(\\mathcal{H}) + P(\\mathcal{E}|\\neg\\mathcal{H}) \\cdot P(\\neg\\mathcal{H})$$\n"
      ]
    },
    {
      "cell_type": "markdown",
      "metadata": {},
      "source": [
        "\n",
        "\n",
        "**Interpretazione**\n",
        "Il teorema di Bayes ci fornisce un metodo formale per:\n",
        "1. Aggiornare le nostre credenze alla luce di nuove evidenze\n",
        "2. Invertire la direzione della probabilità condizionata (da effetto a causa)\n",
        "3. Combinare informazioni a priori con nuovi dati\n",
        "\n",
        "> Esempio Numerico\n",
        "Consideriamo un test medico:\n",
        "- $P(\\mathcal{D}) = 0.01$ (1% della popolazione ha la malattia)\n",
        "- $P(\\mathcal{S}|\\mathcal{D}) = 0.95$ (95% di sensibilità del test)\n",
        "- $P(\\mathcal{S}|\\neg\\mathcal{D}) = 0.10$ (10% di falsi positivi)\n",
        "\n",
        "Usando Bayes:\n",
        "\n",
        "$$P(\\mathcal{D}|\\mathcal{S}) = \\frac{0.95 \\cdot 0.01}{0.95 \\cdot 0.01 + 0.10 \\cdot 0.99} \\approx 0.088$$\n",
        "\n",
        "Quindi, anche con un test positivo, la probabilità di avere la malattia è solo circa 8.8%."
      ]
    },
    {
      "cell_type": "markdown",
      "metadata": {},
      "source": [
        "\n",
        "> **Esempio 2.33 (Situazione in un esame intermedio)**. In un esame intermedio, gli studenti X, Y e Z hanno dimenticato di firmare i loro compiti. Il professore sa che essi possono scrivere un buon esame con probabilità rispettivamente di 0.8, 0.7 e 0.5. Dopo la correzione, nota che due compiti senza firma sono buoni e uno è insufficiente. Dato questo fatto, e assumendo che gli studenti abbiano lavorato in modo indipendente, qual è la probabilità che il compito insufficiente appartenga allo studente Z?\n",
        "\n",
        "**Soluzione**. Indichiamo con $ G $ un esame buono e con $ B $ un esame insufficiente. Inoltre, sia $ GGB $ l'evento \"due esami buoni e uno insufficiente\", $ XG $ l'evento \"lo studente X ha scritto un esame buono\", ecc. Dobbiamo calcolare $ P(ZB \\mid GGB) $, sapendo che $ P(G \\mid X) = 0.8 $, $ P(G \\mid Y) = 0.7 $, e $ P(G \\mid Z) = 0.5 $.\n",
        "\n",
        "Applicando il teroema di Bayes:\n",
        "\n",
        "$$ P(ZB \\mid GGB) = \\frac{P(GGB \\mid ZB) \\, P(ZB)}{P(GGB)} $$\n",
        "\n",
        "Dato $ ZB $ (lo studente Z ha scritto un esame insufficiente), l'evento $ GGB $ si verifica solo se sia X che Y scrivono un esame buono. Dunque:\n",
        "\n",
        "$$ P(GGB \\mid ZB) = (0.8)(0.7) $$\n",
        "\n",
        "L'evento $ GGB $ consiste di tre esiti distinti, a seconda di quale studente ha scritto l'esame insufficiente. Sommando le probabilità di questi esiti:\n",
        "\n",
        "$$\n",
        "P(GGB) = P(XG \\cap YG \\cap ZB) + P(XG \\cap YB \\cap ZG) + P(XB \\cap YG \\cap ZG)\n",
        "$$\n",
        "$$\n",
        "= (0.8)(0.7)(0.5) + (0.8)(0.3)(0.5) + (0.2)(0.7)(0.5) = 0.47\n",
        "$$\n",
        "\n",
        "Pertanto:\n",
        "\n",
        "$$\n",
        "P(ZB \\mid GGB) = \\frac{(0.8)(0.7)(0.5)}{0.47} = \\frac{0.28}{0.47} \\approx 0.5957\n",
        "$$\n",
        "\n",
        "♦"
      ]
    },
    {
      "cell_type": "markdown",
      "metadata": {},
      "source": [
        "Nella formula di Bayes (2.9), il denominatore è spesso calcolato mediante il **teorema della probabilità totale**.\n",
        "\n",
        "**Regola di Bayes per due eventi (denominatore usando il teorema della probabilità totale**\n",
        "\n",
        "$$\n",
        "P(B \\mid A) = \\frac{P(A \\mid B) P(B)}{P(A \\mid B) P(B) + P\\left(A \\mid \\overline{B}\\right) P\\left(\\overline{B}\\right)}\n",
        "$$\n"
      ]
    },
    {
      "cell_type": "markdown",
      "metadata": {},
      "source": [
        "\n",
        "**Esempio 2.34 (Affidabilità di un test, continuazione).** Si consideri l’Esempio 2.32. Supponiamo che il 4% di tutti i pazienti sia infetto dal virus, cioè $ P(V) = 0.04 $. Ricordiamo che $ P(S \\mid V) = 0.95 $ e $ P\\left(S \\mid \\overline{V}\\right) = 0.99 $. Se il test dà esito positivo, la probabilità condizionata che un paziente abbia effettivamente il virus è\n",
        "\n",
        "$$\n",
        "P(V \\mid S) = \\frac{P(S \\mid V) P(V)}{P(S \\mid V) P(V) + P\\left(S \\mid \\overline{V}\\right) P\\left(\\overline{V}\\right)} = \\frac{(0.95)(0.04)}{(0.95)(0.04) + (1 - 0.99)(1 - 0.04)} = 0.7983.\n",
        "$$\n",
        "\n",
        "♦"
      ]
    },
    {
      "cell_type": "markdown",
      "metadata": {},
      "source": [
        "\n",
        "**Esempio 2.35 (Diagnostica del codice informatico).** Un nuovo programma informatico è composto da due moduli. Il primo modulo contiene un errore con probabilità $ 0.2 $. Il secondo modulo è più complesso e ha una probabilità $ 0.4 $ di contenere un errore, indipendentemente dal primo modulo. Un errore presente solo nel primo modulo causa il crash del programma con probabilità $ 0.5 $. Per il secondo modulo, tale probabilità è $ 0.8 $. Se sono presenti errori in entrambi i moduli, il programma va in crash con probabilità $ 0.9 $. Supponiamo che il programma sia andato in crash. Qual è la probabilità che ci siano errori in entrambi i moduli?\n",
        "\n",
        "**Soluzione.** Denotiamo gli eventi:\n",
        "\n",
        "- $ A = \\{\\text{errori nel modulo I}\\} $,\n",
        "- $ B = \\{\\text{errori nel modulo II}\\} $,\n",
        "- $ C = \\{\\text{crash}\\} $.\n",
        "\n",
        "Inoltre,\n",
        "\n",
        "- $ \\{\\text{errori solo nel modulo I}\\} = A \\setminus B = A \\setminus (A \\cap B) $,\n",
        "- $ \\{\\text{errori solo nel modulo II}\\} = B \\setminus A = B \\setminus (A \\cap B) $.\n",
        "\n",
        "È dato che $ P(A) = 0.2 $, $ P(B) = 0.4 $, e per indipendenza $ P(A \\cap B) = (0.2)(0.4) = 0.08 $. Inoltre, $ P(C \\mid A \\setminus B) = 0.5 $, $ P(C \\mid B \\setminus A) = 0.8 $, e $ P(C \\mid A \\cap B) = 0.9 $.\n",
        "\n",
        "Dobbiamo calcolare $ P(A \\cap B \\mid C) $. Poiché $ A $ è unione degli eventi disgiunti $ A \\setminus B $ e $ A \\cap B $, calcoliamo\n",
        "\n",
        "$$\n",
        "P(A \\setminus B) = P(A) - P(A \\cap B) = 0.2 - 0.08 = 0.12.\n",
        "$$"
      ]
    },
    {
      "cell_type": "markdown",
      "metadata": {},
      "source": [
        "\n",
        "\n",
        "\n",
        "\n",
        "Analogamente,\n",
        "\n",
        "$$\n",
        "P(B \\setminus A) = 0.4 - 0.08 = 0.32.\n",
        "$$\n",
        "\n",
        "Gli eventi $ (A \\setminus B) $, $ (B \\setminus A) $, $ A \\cap B $ e $ \\overline{A \\cup B} $ formano una partizione di $ \\Omega $, poiché sono mutuamente esclusivi ed esaustivi. L’ultimo di questi è l’evento “nessun errore nel programma”. Dato questo evento, la probabilità di crash è $ 0 $. Si noti che $ A $, $ B $ e $ A \\cap B $ non sono né mutuamente esclusivi né esaustivi, quindi non possono essere usati direttamente nella Regola di Bayes. Ora organizziamo i dati.\n",
        "\n",
        "| Localizzazione degli errori | $ P(\\cdot) $ | $ P(C \\mid \\cdot) $ |\n",
        "|-----------------------------|---------------|------------------------|\n",
        "| $ A \\setminus B $           | $ 0.12 $     | $ 0.5 $              |\n",
        "| $ B \\setminus A $           | $ 0.32 $     | $ 0.8 $              |\n",
        "| $ A \\cap B $                | $ 0.08 $     | $ 0.9 $              |\n",
        "| $ \\overline{A \\cup B} $     | $ 0.48 $     | $ 0 $                |"
      ]
    },
    {
      "cell_type": "markdown",
      "metadata": {},
      "source": [
        "Combinando la Regola di Bayes e la Legge della Probabilità Totale,\n",
        "\n",
        "$$\n",
        "P(A \\cap B \\mid C) = \\frac{P(C \\mid A \\cap B) P(A \\cap B)}{P(C)},\n",
        "$$\n",
        "\n",
        "dove\n",
        "\n",
        "$$\n",
        "P(C) = P(C \\mid A \\setminus B) P(A \\setminus B) + P(C \\mid B \\setminus A) P(B \\setminus A) + P(C \\mid A \\cap B) P(A \\cap B) + P\\left(C \\mid \\overline{A \\cup B}\\right) P\\left(\\overline{A \\cup B}\\right).\n",
        "$$\n",
        "\n",
        "Sostituendo i valori:\n",
        "\n",
        "$$\n",
        "P(A \\cap B \\mid C) = \\frac{(0.9)(0.08)}{(0.5)(0.12) + (0.8)(0.32) + (0.9)(0.08) + 0} = \\frac{0.072}{0.06 + 0.256 + 0.072} = \\frac{0.072}{0.388} = 0.1856.\n",
        "$$\n",
        "\n",
        "♦"
      ]
    },
    {
      "cell_type": "markdown",
      "metadata": {},
      "source": [
        "### Il Teorema di Bayes nell'Era dell'Intelligenza Artificiale Moderna\n",
        "\n",
        "Il teorema di Bayes, formulato più di 250 anni fa, si è rivelato sorprendentemente centrale nello sviluppo dell'intelligenza artificiale moderna. La sua importanza va ben oltre la semplice statistica, permeando sia la nostra comprensione del cervello umano che lo sviluppo di potenti algoritmi di machine learning.\n",
        "\n",
        "Nel campo delle neuroscienze cognitive, l'ipotesi del \"cervello bayesiano\" suggerisce che il nostro cervello funzioni essenzialmente come una macchina di inferenza probabilistica. Secondo questa teoria, percepiamo il mondo non semplicemente raccogliendo informazioni sensoriali, ma piuttosto combinando continuamente le nostre aspettative precedenti (prior) con nuove evidenze (likelihood) per aggiornare la nostra comprensione del mondo (posterior). Questo processo di aggiornamento continuo delle nostre \"credenze\" sul mondo è essenzialmente un'implementazione biologica del teorema di Bayes.\n",
        "\n",
        "Parallelamente, nel campo dell'intelligenza artificiale, l'inferenza bayesiana si è rivelata fondamentale per lo sviluppo di modelli generativi avanzati. Tuttavia, calcolare esattamente le probabilità posteriori in spazi ad alta dimensionalità - come quelli necessari per generare immagini, video o testo - è computazionalmente intrattabile. La svolta è arrivata con lo sviluppo di metodi di approssimazione dell'inferenza bayesiana, in particolare l'inferenza variazionale. Questi metodi permettono di approssimare distribuzioni di probabilità complesse con altre più semplici e trattabili.\n",
        "\n",
        "Questa intuizione ha portato allo sviluppo dei Variational Autoencoders (VAE) e ha influenzato profondamente l'architettura di molti modelli generativi moderni. Anche se modelli come i Diffusion Models o le moderne architetture Transformer non sono esplicitamente bayesiani, incorporano spesso principi di ragionamento probabilistico ispirati all'inferenza bayesiana. Per esempio, il processo di denoising nei modelli di diffusione può essere interpretato come una forma di inferenza bayesiana, dove il modello gradualmente \"raffina\" la sua stima di un'immagine o un video partendo da puro rumore.\n",
        "\n",
        "L'impatto di questo approccio probabilistico si estende alla robustezza dei modelli di AI. Incorporando l'incertezza nei loro predizioni e decisioni, i sistemi di AI moderni possono gestire meglio situazioni ambigue o dati rumorosi. Inoltre, la capacità di quantificare l'incertezza è cruciale in applicazioni critiche come la diagnosi medica o la guida autonoma.\n",
        "\n",
        "Guardando al futuro, mentre continuiamo a sviluppare modelli di AI sempre più sofisticati, i principi dell'inferenza bayesiana rimarranno probabilmente centrali. Non solo come strumento matematico, ma come framework concettuale per pensare all'apprendimento, alla percezione e alla decisione, sia nelle macchine che nel cervello umano. La sfida continua sarà sviluppare metodi sempre più efficienti per approssimare l'inferenza bayesiana in spazi di alta dimensionalità, permettendo ai nostri modelli di ragionare in modo sempre più sofisticato sull'incertezza."
      ]
    }
  ],
  "metadata": {
    "colab": {
      "authorship_tag": "ABX9TyNkFiCc4VvmEt1FYhuk+YZP",
      "include_colab_link": true,
      "provenance": []
    },
    "kernelspec": {
      "display_name": "Python 3",
      "name": "python3"
    },
    "language_info": {
      "codemirror_mode": {
        "name": "ipython",
        "version": 3
      },
      "file_extension": ".py",
      "mimetype": "text/x-python",
      "name": "python",
      "nbconvert_exporter": "python",
      "pygments_lexer": "ipython3",
      "version": "3.11.11"
    }
  },
  "nbformat": 4,
  "nbformat_minor": 0
}
