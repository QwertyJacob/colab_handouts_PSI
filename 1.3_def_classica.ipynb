{
  "cells": [
    {
      "cell_type": "markdown",
      "metadata": {
        "colab_type": "text",
        "id": "view-in-github"
      },
      "source": [
        "<a href=\"https://colab.research.google.com/github/QwertyJacob/colab_handouts_PSI/blob/main/1.3_def_classica.ipynb\" target=\"_parent\"><img src=\"https://colab.research.google.com/assets/colab-badge.svg\" alt=\"Open In Colab\"/></a>"
      ]
    },
    {
      "cell_type": "markdown",
      "metadata": {
        "id": "hK_m7Dpvn0qz"
      },
      "source": [
        "## 2.3 Calcolo delle probabilità degli eventi attraverso il conteggio dei esiti (i.e., Definizione _classica_ della probabilità)\n",
        "___________\n",
        "\n",
        "Addattamento da: \n",
        "- Probability and Statistics for Computer Scientists, M. Baron, CRC Press, 2014\n",
        "\n",
        "\n",
        "Una situazione semplice per il calcolo delle probabilità è quella dei **esiti equiprobabili**.  \n",
        "\n",
        "Cioè, quando lo spazio campionario $ \\Omega $ è costituito da $ n $ esiti possibili, $ \\omega_1, \\ldots, \\omega_n $, ciascuno con la stessa probabilità, poiché\n",
        "$$\n",
        "\\sum_{k=1}^n P\\{\\omega_k\\} = P\\{\\Omega\\} = 1,\n",
        "$$\n",
        "in questo caso si avrà che $ P\\{\\omega_k\\} = \\frac{1}{n} $ per ogni $ k $.\n",
        "\n",
        "Di conseguenza, la probabilità di un qualsiasi evento $ E $, costituito da $ t $ esiti, sarà uguale a:\n",
        "\n",
        "$$\n",
        "P\\{E\\} = \\sum_{\\omega_k \\in E} \\frac{1}{n} = t \\cdot \\frac{1}{n} = \\frac{\\text{numero di esiti in } E}{\\text{numero di esiti in } \\Omega}.\n",
        "$$\n",
        "\n",
        "Generalizzando l'osservazione precedente abbiamo:\n",
        "$$\n",
        "P\\{E\\} = \\frac{|E|}{|\\Omega|},\n",
        "$$\n",
        "dove $ |E| $ indica il numero di elementi (esiti) nell’evento $ E $, e $ |\\Omega| $ è il numero totale di esiti possibili. Ci si riferisce a questo modo di calcolare (o _definire_) la probabilità in caso di esiti equiprobabili come \"_definizione classica di probabilità_\".\n",
        "\n",
        "\n"
      ]
    },
    {
      "cell_type": "markdown",
      "metadata": {},
      "source": [
        "Gli esiti che formano l'evento $ E $ sono spesso chiamati **\"favorevoli\"**.  \n",
        "Così otteniamo la formula:\n",
        "\n",
        "**Probabilità di un evento in caso di esiti equiprobabili (definizione _classica_ della probabilità)**\n",
        "$$\n",
        "P\\{E\\} = \\frac{\\text{numero di esiti favorevoli}}{\\text{numero totale di esiti}} = \\frac{N_F}{N_T} \\tag{2.5}\n",
        "$$\n",
        "\n",
        "dove l'indice “$ F $” indica “favorevole” e “$ T $” indica “totale”.\n"
      ]
    },
    {
      "cell_type": "markdown",
      "metadata": {},
      "source": [
        "**Esempio 2.21.** Lanciare un dado non truccato produce 6 esiti possibili, equiprobabili, identificati, per esempio, dal numero di punti da 1 a 6. Applicando la formula (2.5), otteniamo:\n",
        "\n",
        "$$\n",
        "P\\{1\\} = \\frac{1}{6}, \\quad\n",
        "P\\{\\text{numero dispari di punti}\\} = \\frac{3}{6} = \\frac{1}{2}, \\quad\n",
        "P\\{\\text{meno di 5}\\} = \\frac{4}{6} = \\frac{2}{3}.\n",
        "$$\n",
        "♦\n",
        "\n",
        "> La soluzione, e persino la risposta a problemi di questo tipo, **può dipendere dalla scelta degli esiti e dallo spazio campionario**. Gli esiti devono essere definiti in modo che siano **equiprobabili**; altrimenti, la formula (2.5) non è applicabile.\n"
      ]
    },
    {
      "cell_type": "markdown",
      "metadata": {},
      "source": [
        "\n",
        "\n",
        "---\n",
        "\n",
        "**Esempio 2.22.** Una carta viene estratta a caso da un mazzo di 52 carte da bridge. Calcolare la probabilità che la carta estratta sia un picca.\n",
        "\n",
        "**Prima soluzione.** Lo spazio campionario è costituito da 52 esiti equiprobabili (le carte). Tra questi, ci sono 13 esiti favorevoli (quelle con il seme picche). Dunque:\n",
        "\n",
        "$$\n",
        "P\\{\\text{carta estratta ha seme picche}\\} = \\frac{13}{52} = \\frac{1}{4}.\n",
        "$$\n",
        "\n",
        "**Seconda soluzione.** Lo spazio campionario è costituito da 4 esiti equiprobabili: i semi — fiori, quadri, cuori e picche. Uno solo è favorevole (picche). Dunque:\n",
        "\n",
        "$$\n",
        "P\\{\\text{carta estratta ha seme picche}\\} = \\frac{1}{4}.\n",
        "$$\n",
        "♦\n",
        "\n",
        "> **Le due soluzioni si basano su spazi campioni diversi. Tuttavia, in entrambi i casi, gli esiti sono stati definiti come equiprobabili, quindi la formula (2.5) è applicabile in ambedue i casi e si ottiene lo stesso risultato.**\n",
        "\n"
      ]
    },
    {
      "cell_type": "markdown",
      "metadata": {
        "id": "coL13ypvoowC"
      },
      "source": [
        "> **Esempio (bonus)**:  Lanciamo un dado non truccato o _equo_  due volte, poi sommiamo i due numeri che escono. Qual è la probabilità di ottenere un numero dispari?\n",
        "\n",
        "*Soluzione*\n",
        "\n",
        "Se lo spazio campione $\\Omega$ sono le diverse _disposizioni_ (parliamo di come cadono i dadi, non del numero che sommano i due dadi) di numeri nei dadi, allora ci sono $36$ esiti . Ognuno degli esiti ha la stessa probabilità $ \\frac{1}{36} $.\n",
        "\n",
        "In diciotto di essi, quando sommiamo, otteniamo un numero dispari e gli altri diciotto danno un numero pari. Quindi la probabilità è $\\frac{18}{36}= 0.5$\n",
        "\n",
        "Lo stesso si potrebbe fare definendo un altro spazio campionario, che possiamo denottare con $\\hat\\Omega$, come la somma di tutti i numeri che si possono ottenere con due lanci di un dado equo. In questo caso abbiamo 11 possibili esiti $\\hat\\Omega \\coloneqq \\{2,3,4,5,6,7,8,9,10,11,12\\}$ **ma questi esiti NON sono equiprobabili!** quindi non possiamo utilizzare la definizione classica di probabilità!\n",
        "\n"
      ]
    },
    {
      "cell_type": "markdown",
      "metadata": {
        "id": "trI6BIUqp-of"
      },
      "source": [
        "Gli esiti in questo secondo caso hanno probabilità diverse. Possiamo calcolare quelle probabilità contanto quante _disposizioni_ generano ognuno dei risultati in $\\hat\\Omega$ \n",
        "\n",
        "Il seguente codice Python genera tutte le probabilità per ogni risultato possibile. (_Riesci a capire dov'è che questo codice non è ottimizzato?_)"
      ]
    },
    {
      "cell_type": "code",
      "execution_count": null,
      "metadata": {
        "colab": {
          "base_uri": "https://localhost:8080/",
          "height": 472
        },
        "id": "SywuZvxNpY-6",
        "outputId": "59887031-4712-4290-fbb3-96493cf0932a"
      },
      "outputs": [
        {
          "data": {
            "image/png": "[encoded data removed]",
            "text/plain": [
              "<Figure size 640x480 with 1 Axes>"
            ]
          },
          "metadata": {},
          "output_type": "display_data"
        }
      ],
      "source": [
        "import matplotlib.pyplot as plt\n",
        "\n",
        "def dice_sum_probabilities():\n",
        "  \"\"\"Generates a plot of the probabilities of sums of two dice rolls.\"\"\"\n",
        "\n",
        "  possible_sums = list(range(2, 13))\n",
        "  probabilities = []\n",
        "\n",
        "  for total in possible_sums:\n",
        "    count = 0\n",
        "\n",
        "    for die1 in range(1, 7):\n",
        "      for die2 in range(1, 7):\n",
        "        if die1 + die2 == total:\n",
        "          count += 1\n",
        "\n",
        "    probabilities.append(count / 36)\n",
        "\n",
        "  plt.bar(possible_sums, probabilities)\n",
        "  plt.xlabel(\"Somma\")\n",
        "  plt.ylabel(\"Probabilità (calcolata usando def. classica)\")\n",
        "  plt.title(\"Probabilità degli esiti in $\\hat\\Omega$\")\n",
        "  plt.show()\n",
        "  return probabilities\n",
        "\n",
        "probabilities =dice_sum_probabilities()"
      ]
    },
    {
      "cell_type": "code",
      "execution_count": 6,
      "metadata": {},
      "outputs": [
        {
          "data": {
            "text/plain": [
              "[0.027777777777777776,\n",
              " 0.05555555555555555,\n",
              " 0.08333333333333333,\n",
              " 0.1111111111111111,\n",
              " 0.1388888888888889,\n",
              " 0.16666666666666666,\n",
              " 0.1388888888888889,\n",
              " 0.1111111111111111,\n",
              " 0.08333333333333333,\n",
              " 0.05555555555555555,\n",
              " 0.027777777777777776]"
            ]
          },
          "execution_count": 6,
          "metadata": {},
          "output_type": "execute_result"
        }
      ],
      "source": [
        "probabilities"
      ]
    },
    {
      "cell_type": "markdown",
      "metadata": {},
      "source": [
        "> Si noti come in questo caso, gli _esiti_ di $\\hat\\Omega$ sono eventi di $\\Omega$. Per calcolare la probabilità di quelli eventi abbiamo usato la (2.5), perché gli esiti in $\\Omega$ sono equiprobabili. Il risultato dei nostri calcoli ci fa vedere come le probabilità degli esiti di $\\hat\\Omega$ sono diverse, per esempio $ P_{\\hat\\Omega} \\{2 \\} =P_{\\hat\\Omega} \\{12 \\} = 0.02777 \\neq P_{\\hat\\Omega} \\{7 \\} =  0.1666$\n",
        "\n",
        "\n",
        "(Abbiamo usato la notazione $P_{\\hat\\Omega} \\{ 2 \\}$ per riferirci alla probabilità dell'esito \"la somma è 2\" in $\\hat\\Omega$.)"
      ]
    },
    {
      "cell_type": "markdown",
      "metadata": {
        "id": "I9tGROiYq9uG"
      },
      "source": [
        "Con le probabilità calcolate precedentemente, possiamo arrivare alla risposta corretta sommando le probabilità degli esiti che in $\\hat\\Omega$ corrispondono a somme dispari (3,5,7,9,11). "
      ]
    },
    {
      "cell_type": "code",
      "execution_count": 9,
      "metadata": {
        "colab": {
          "base_uri": "https://localhost:8080/"
        },
        "id": "wMNQ2yEZp6w9",
        "outputId": "fb80c6d6-09db-44e4-8fa8-449376fde0b5"
      },
      "outputs": [
        {
          "name": "stdout",
          "output_type": "stream",
          "text": [
            "esiti_somma = [2, 3, 4, 5, 6, 7, 8, 9, 10, 11, 12]\n",
            "prob_risultato_dispari = 0.5\n"
          ]
        }
      ],
      "source": [
        "esiti_somma = list(range(2, 13))\n",
        "print(f\"esiti_somma = {esiti_somma}\")\n",
        "prob_risultato_dispari = 0\n",
        "disposizioni_totali = 6 * 6\n",
        "\n",
        "for somma in esiti_somma:\n",
        "  disposizioni_favorevoli = 0\n",
        "\n",
        "  # se la somma è dispari\n",
        "  if somma % 2 != 0:\n",
        "\n",
        "    # ricalcola le prob usando le disposizioni ($\\Omega$)\n",
        "\n",
        "    for die1 in range(1, 7):\n",
        "\n",
        "      for die2 in range(1, 7):\n",
        "\n",
        "        if die1 + die2 == somma:\n",
        "\n",
        "          disposizioni_favorevoli += 1\n",
        "\n",
        "  prob_risultato_dispari += disposizioni_favorevoli / disposizioni_totali\n",
        "\n",
        "print(f\"prob_risultato_dispari = {prob_risultato_dispari}\")"
      ]
    },
    {
      "cell_type": "markdown",
      "metadata": {
        "id": "UJTFNKJ4rFZl"
      },
      "source": [
        "> **Esempio (bonus)**: (Numeri divisibili per cinque con dadi equi) Lanciamo due volte un dado equo a sei facce, poi sommiamo i due numeri. Qual è la probabilità di ottenere un numero divisibile per cinque?\n",
        "\n",
        "**Soluzione** Consideriamo sempre $\\Omega \\coloneqq \\text{disposizioni di numeri con due dadi}$. In questo caso abbiamo 36 risultati come visto prima, e ognuno di essi ha la stessa probabilità ($\\frac{1}{36}$) di accadere. \n",
        "Affinché si dia l'evento, _numero divisibile per cinque_, i punti devono sommare o 5 o 10. \n",
        "\n",
        "Ci sono 4 modi per ottenere 5 e 3 modi per ottenere 10, quindi la probabilità è $\\frac{7}{36}$."
      ]
    },
    {
      "cell_type": "code",
      "execution_count": 10,
      "metadata": {
        "colab": {
          "base_uri": "https://localhost:8080/"
        },
        "id": "IMWzh0nprnp3",
        "outputId": "aa87d4c4-e6cf-471e-e788-5f11f13756de"
      },
      "outputs": [
        {
          "data": {
            "text/plain": [
              "0.19444444444444445"
            ]
          },
          "execution_count": 10,
          "metadata": {},
          "output_type": "execute_result"
        }
      ],
      "source": [
        "7/36"
      ]
    },
    {
      "cell_type": "code",
      "execution_count": 11,
      "metadata": {
        "colab": {
          "base_uri": "https://localhost:8080/"
        },
        "id": "u291fOMprb6i",
        "outputId": "53cf5829-899a-4a82-ed74-1bdd0e62a194"
      },
      "outputs": [
        {
          "name": "stdout",
          "output_type": "stream",
          "text": [
            "The probability of obtaining a number divisible by 5 is: 0.19444444444444445\n"
          ]
        }
      ],
      "source": [
        "def probability_divisible_by_five():\n",
        "\n",
        "  favorable_outcomes = 0\n",
        "  total_outcomes = 36\n",
        "\n",
        "  for die1 in range(1, 7):\n",
        "    for die2 in range(1, 7):\n",
        "      if (die1 + die2) % 5 == 0:\n",
        "        favorable_outcomes += 1\n",
        "\n",
        "  probability = favorable_outcomes / total_outcomes\n",
        "  return probability\n",
        "\n",
        "probability = probability_divisible_by_five()\n",
        "print(f\"The probability of obtaining a number divisible by 5 is: {probability}\")"
      ]
    },
    {
      "cell_type": "markdown",
      "metadata": {},
      "source": [
        "---\n",
        "\n",
        "**Esempio 2.23.** Una giovane famiglia prevede di avere due figli. Qual è la probabilità che entrambi siano femmine?\n",
        "\n",
        "**Soluzione 1 (sbagliata).** Ci sono 3 possibili combinazioni per una famiglia con due figli: due femmine, due maschi, o un maschio e una femmina. Quindi, la probabilità di due femmine sarebbe $ \\frac{1}{3} $.\n",
        "\n",
        "**Soluzione 2 (corretta).** Ogni figlio ha la stessa probabilità di essere maschio o femmina (ipotizziamo $ \\frac{1}{2} $), e i generi dei due figli sono indipendenti. Dunque:\n",
        "\n",
        "$$\n",
        "P\\{\\text{due femmine}\\} = \\left(\\frac{1}{2}\\right)\\left(\\frac{1}{2}\\right) = \\frac{1}{4}.\n",
        "$$\n",
        "♦\n",
        "\n",
        "La seconda soluzione implica che lo spazio campionario consista di **quattro esiti equiprobabili**:\n",
        "- due maschi (MM),\n",
        "- due femmine (FF),\n",
        "- primo maschio, seconda femmina (MF),\n",
        "- prima femmina, secondo maschio (FM).\n",
        "\n",
        "Ogni esito ha probabilità $ \\frac{1}{4} $. Si noti che gli ultimi due esiti sono distinti: rappresentano l'ordine di nascita.\n",
        "\n",
        "È possibile definire lo spazio campionario come nella Soluzione 1, ma in tal caso gli esiti **non sono equiprobabili**. Infatti, dalla Soluzione 2, vediamo che l’esito “un figlio per genere” ha probabilità $ \\frac{1}{4} + \\frac{1}{4} = \\frac{1}{2} $, mentre “due maschi” o “due femmine” hanno ciascuno probabilità $ \\frac{1}{4} $.  \n",
        "È quindi un errore applicare la formula (2.5) a uno spazio con esiti non equiprobabili.\n",
        "\n",
        "---"
      ]
    },
    {
      "cell_type": "markdown",
      "metadata": {
        "id": "DVg75Y6jr6AS"
      },
      "source": [
        "> **Esempio (bonus):** Una coppia decide di avere dei figli. Decidono semplicemente di avere tre figli. Si supponga che si verifichino tre nascite e che da ogni nascita nasca un bambino unicamente (non contempliamo il caso di gemelli), e che i maschi e le femmine abbiano la stessa probabilità ad ogni nascita. Sia $\\mathcal{B}_i$ è l'evento in cui ci sono $i$ bambini (maschi) e $\\mathcal{C}$ è l'evento in cui ci sono più bambine che bambini. Calcolare $P(\\mathcal{B}_1)$ e $P(\\mathcal{C})$.\n",
        "\n",
        "*Soluzione*\n",
        "\n",
        "Ci sono otto possibili esiti. Ognuno di essi ha la stessa probabilità. Tre di essi hanno un solo ragazzo, quindi $P(\\mathcal{B}_1)=\\frac38$, mentre quattro di questi esiti hanno più ragazze che ragazzi, quindi $P(\\mathcal{C})=\\frac12$."
      ]
    },
    {
      "cell_type": "code",
      "execution_count": 12,
      "metadata": {
        "colab": {
          "base_uri": "https://localhost:8080/"
        },
        "id": "qJ_gwGQMs2Wj",
        "outputId": "1c3020d3-55fd-491e-8ed3-714efb57951c"
      },
      "outputs": [
        {
          "name": "stdout",
          "output_type": "stream",
          "text": [
            "All possible outcomes:\n",
            "1 ('B', 'B', 'B')\n",
            "2 ('B', 'B', 'G')\n",
            "3 ('B', 'G', 'B')\n",
            "4 ('B', 'G', 'G')\n",
            "5 ('G', 'B', 'B')\n",
            "6 ('G', 'B', 'G')\n",
            "7 ('G', 'G', 'B')\n",
            "8 ('G', 'G', 'G')\n",
            "Number of possible outcomes: 8\n"
          ]
        }
      ],
      "source": [
        "import itertools\n",
        "\n",
        "possible_outcomes = list(itertools.product(['B', 'G'], repeat=3))\n",
        "\n",
        "print(\"All possible outcomes:\")\n",
        "for idx, outcome in enumerate(possible_outcomes):\n",
        "    print(idx+1, outcome)\n",
        "\n",
        "num_outcomes = len(possible_outcomes)\n",
        "print(f\"Number of possible outcomes: {num_outcomes}\")"
      ]
    },
    {
      "cell_type": "code",
      "execution_count": 13,
      "metadata": {
        "colab": {
          "base_uri": "https://localhost:8080/"
        },
        "id": "u2xuzNTstMO_",
        "outputId": "f6d0a185-f0ae-430d-dfef-f7b322a426c7"
      },
      "outputs": [
        {
          "name": "stdout",
          "output_type": "stream",
          "text": [
            "Possible outcomes with one boy:\n",
            "1 ('B', 'G', 'G')\n",
            "2 ('G', 'B', 'G')\n",
            "3 ('G', 'G', 'B')\n",
            "Possible outcomes with more girls than boys:\n",
            "1 ('B', 'G', 'G')\n",
            "2 ('G', 'B', 'G')\n",
            "3 ('G', 'G', 'B')\n",
            "4 ('G', 'G', 'G')\n"
          ]
        }
      ],
      "source": [
        "num_boys_1 = 0\n",
        "num_more_girls = 0\n",
        "\n",
        "print(\"Possible outcomes with one boy:\")\n",
        "\n",
        "for outcome in possible_outcomes:\n",
        "  num_boys = outcome.count('B')\n",
        "  if num_boys == 1:\n",
        "    num_boys_1 += 1\n",
        "    print(num_boys_1, outcome)\n",
        "\n",
        "print(\"Possible outcomes with more girls than boys:\")\n",
        "for outcome in possible_outcomes:\n",
        "  if outcome.count('G') > outcome.count('B'):\n",
        "    num_more_girls += 1\n",
        "    print(num_more_girls, outcome)"
      ]
    },
    {
      "cell_type": "code",
      "execution_count": 14,
      "metadata": {
        "colab": {
          "base_uri": "https://localhost:8080/"
        },
        "id": "2LFKNz66smno",
        "outputId": "a664a251-35d8-447c-df54-30932f3f7726"
      },
      "outputs": [
        {
          "name": "stdout",
          "output_type": "stream",
          "text": [
            "P(B_1) = 0.375\n",
            "P(C) = 0.5\n"
          ]
        }
      ],
      "source": [
        "probability_boys_1 = num_boys_1 / num_outcomes\n",
        "probability_more_girls = num_more_girls / num_outcomes\n",
        "\n",
        "print(f\"P(B_1) = {probability_boys_1}\")\n",
        "print(f\"P(C) = {probability_more_girls}\")"
      ]
    },
    {
      "cell_type": "markdown",
      "metadata": {},
      "source": [
        "In realtà, gli eventi legati al mondo degli affari, allo sport o alla politica non sono tipicamente equiprobabili. Un esito è solitamente più probabile di un altro. Ad esempio, una squadra è sempre più forte dell'altra. Gli esiti equiprobabili sono generalmente associati a condizioni di \"gioco equo\" (\"fair game\") e di selezione \"a caso\" (\"at random\").\n",
        "\n",
        "Nei giochi equi, tutte le carte, tutti i numeri su un dado, tutti i settori della roulette sono equiprobabili. Allo stesso modo, quando viene condotto un sondaggio o un campione viene selezionato \"a caso\", si cerca di fare in modo che gli esiti siano \"il più possibile equiprobabili\". Questo significa che tutti i soggetti hanno la stessa probabilità di essere inclusi nel campione (altrimenti non si tratta di un campione equo, e i risultati potrebbero essere \"distorti\", ovvero *biased*).\n"
      ]
    }
  ],
  "metadata": {
    "colab": {
      "include_colab_link": true,
      "provenance": []
    },
    "kernelspec": {
      "display_name": "Python 3",
      "name": "python3"
    },
    "language_info": {
      "codemirror_mode": {
        "name": "ipython",
        "version": 3
      },
      "file_extension": ".py",
      "mimetype": "text/x-python",
      "name": "python",
      "nbconvert_exporter": "python",
      "pygments_lexer": "ipython3",
      "version": "3.11.11"
    }
  },
  "nbformat": 4,
  "nbformat_minor": 0
}
