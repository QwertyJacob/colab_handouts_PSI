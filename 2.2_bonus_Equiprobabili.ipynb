{
  "cells": [
    {
      "cell_type": "markdown",
      "metadata": {
        "id": "HFRIT6JHm_D2"
      },
      "source": [
        "## Definizione frequentista della probabilità:\n",
        "____________\n",
        "\n",
        ">"
      ]
    },
    {
      "cell_type": "markdown",
      "metadata": {
        "id": "pJSk2yPHnKPN"
      },
      "source": [
        "> Rappresentiamo il nostro modello della frequenza con cui un particolare risultato si verificherà in un esperimento ripetuto con una **probabilità**, un numero **non negativo.** Questo numero fornisce la frequenza relativa dell'esito di interesse quando un esperimento viene ripetuto un numero molto elevato di volte."
      ]
    },
    {
      "cell_type": "markdown",
      "metadata": {
        "id": "ltviApyInkq8"
      },
      "source": [
        "Supponiamo di ripetere un esperimento $N$ volte. Supponiamo anche che le monete, i dadi, o qualsiasi altra cosa coinvolta in ogni ripetizione dell'esperimento non comunichino tra loro da un esperimento all'altro (o, equivalentemente, che gli esperimenti non \"sappiano\" l'uno dell'altro). Diciamo che un esito $\\omega$ ha probabilità $P$ se:\n",
        "\n",
        "\n",
        "\n",
        "1.   l'esito $\\omega$ si verifica in circa in $NP$ occasioni, e, man mano che $N$ si avvicina a $\\infty$, il numero di volte in cui l'esito $\\omega$ si verifica è sempre più precisamente pari a $NP$.\n",
        "2. Al crescere di $N$, la *frazione* di esperimenti in cui si verifica il risultato $\\omega$ si avvicina a $P$.\n",
        "\n",
        "Scriviamo $\\#\\omega$ per indicare il numero di volte in cui si verifica l'esito $\\omega$. Interpretiamo quindi $P$ come:\n",
        "\n",
        "$$ P = \\lim_{N \\to \\infty} \\frac{\\# \\omega}{N}$$\n",
        "\n",
        "\n",
        "Da questa equazione possiamo subito notare due cose:\n",
        "\n",
        "1. Per qualsiasi esito $\\omega$, si ha che: $ 0 \\leq P(\\omega) \\leq 1 $\n",
        "2. Se denotiamo ogni esito possibile in $\\Omega$ con $\\omega_i$, allora averemmo che:  $\\sum_{\\omega_i \\in \\Omega} P(\\omega_i) = 1 $\n",
        "\n",
        "Ricordate che ogni esecuzione dell'esperimento **produce esattamente un esito**. Le probabilità sommano uno perché ogni esecuzione deve avere uno dei risultati presenti nello spazio campionario.\n",
        "\n",
        "Alcuni problemi possono essere gestiti costruendo un insieme di esiti e ragionando semplicemente sulla cardinalità di $\\Omega$. Questo è particolarmente utile quando i risultati hanno la stessa probabilità, cosa che accade spesso.\n",
        "\n"
      ]
    },
    {
      "cell_type": "markdown",
      "metadata": {
        "id": "w52KQy-Kq6vF"
      },
      "source": [
        "> *Esempio*: Supponiamo di avere una moneta in cui la probabilità di ottenere testa è $P(h) = \\frac13$, e quindi la probabilità di ottenere croce è $P(t) = \\frac23$. Lanciamo questa moneta tre milioni di volte. Quante volte vediamo\n",
        "teste?\n",
        "\n",
        "*Soluzione:* $P(h) = \\frac13$, quindi ci aspettiamo che la moneta esca testa in $\\frac13$ degli esperimenti. Ciò significa che molto probabilmente vedremo quasi un milione di teste. In seguito, saremo in grado di essere più precisi.\n",
        "\n",
        "> *Ricordate:* **La probabilità di un risultato è la frequenza di quel risultato in un numero molto elevato di esperimenti ripetuti.** e  **La somma delle probabilità di tutti gli esiti deve essere pari a uno.**"
      ]
    },
    {
      "cell_type": "markdown",
      "metadata": {},
      "source": []
    }
  ],
  "metadata": {
    "colab": {
      "authorship_tag": "ABX9TyNkFiCc4VvmEt1FYhuk+YZP",
      "include_colab_link": true,
      "provenance": []
    },
    "kernelspec": {
      "display_name": "Python 3",
      "name": "python3"
    },
    "language_info": {
      "codemirror_mode": {
        "name": "ipython",
        "version": 3
      },
      "file_extension": ".py",
      "mimetype": "text/x-python",
      "name": "python",
      "nbconvert_exporter": "python",
      "pygments_lexer": "ipython3",
      "version": "3.11.11"
    }
  },
  "nbformat": 4,
  "nbformat_minor": 0
}
