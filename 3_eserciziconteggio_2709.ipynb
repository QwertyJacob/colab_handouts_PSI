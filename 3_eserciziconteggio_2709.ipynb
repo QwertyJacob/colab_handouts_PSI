{
  "nbformat": 4,
  "nbformat_minor": 0,
  "metadata": {
    "colab": {
      "provenance": [],
      "authorship_tag": "ABX9TyMbWUyUEk9fD0ksvrybPeqh",
      "include_colab_link": true
    },
    "kernelspec": {
      "name": "python3",
      "display_name": "Python 3"
    },
    "language_info": {
      "name": "python"
    }
  },
  "cells": [
    {
      "cell_type": "markdown",
      "metadata": {
        "id": "view-in-github",
        "colab_type": "text"
      },
      "source": [
        "<a href=\"https://colab.research.google.com/github/QwertyJacob/colab_handouts_PSI/blob/main/eserciziconteggio_2709.ipynb\" target=\"_parent\"><img src=\"https://colab.research.google.com/assets/colab-badge.svg\" alt=\"Open In Colab\"/></a>"
      ]
    },
    {
      "cell_type": "markdown",
      "source": [
        "# Alcuni esercizi di conteggio:\n",
        "___________"
      ],
      "metadata": {
        "id": "matdRtp3-Dp0"
      }
    },
    {
      "cell_type": "markdown",
      "source": [
        "> 1. Si pesca una mano di sette carte da un mazzo di carte standard correttamente mescolato. Con quale probabilità si ricevono 2-8 di cuori, **in qualsiasi ordine**?\n",
        "\n",
        "> *soluzione*:\n",
        "\n",
        "Esistono $52!$ ordinamenti diversi di un mazzo di carte correttamente mescolato, quindi $52!$ esiti. Di questi, $45!$ hanno le prime sette carte 2-8 di cuori. Esistono $7!$ ordinamenti di queste carte. Quindi il numero di esiti dell'evento è $45! \\times 7!$ e la probabilità è:\n",
        "\n",
        "$$ \\frac{7!45!}{52!}$$\n",
        "\n",
        "Se volessimo invece usare direttamente la formula che abbiamo imparato nella lezione precendente, avremo detto:\n",
        "\n",
        "ci sono $52 \\choose 7$ mani di sette carte distinte, ignorando l'ordine in cui sono state ottenute. Solo una di queste mani contiene le carte 2-8 di cuori (in qualsiasi ordine), quindi la probabilità è:\n",
        "\n",
        "$$\\frac{1}{\\binom{52}{7}}$$\n",
        "\n",
        "Rendiamoci conto che i due risultati sono equivalenti..."
      ],
      "metadata": {
        "id": "FRKNlIFW0y2G"
      }
    },
    {
      "cell_type": "markdown",
      "source": [
        "> 2. Si pesca una mano di sette carte da un mazzo di carte standard correttamente mescolato. Con quale probabilità la mano contiene 2-8 carte di qualsiasi seme? Non è necessario che le carte abbiano lo stesso seme, e\n",
        "possono arrivare in qualsiasi ordine.\n",
        "\n",
        "> _soluzione:_ Dall'esempio precedente, sappiamo che esistono $52!$ ordinamenti di un mazzo correttamente mescolato e quindi $52!$ risultati in totale.\n",
        "Sappiamo poi che esistono $45!$ ordinamenti che fissano le prime sette carte ad alcuni valori specifici, come nell'esempio precendente. Il numero\n",
        "di mani di sette carte che compiono con le condizioni richieste si ottiene (a) scegliendo un seme per ogni carta e (b) contando il numero di ordini diversi. In questo modo si ottengono $4^7 \\times 7! \\times 45! $ risultati possibili,  quindi la probabilità è:\n",
        "\n",
        "$$ \\frac{4^7 \\times 7! \\times 45!}{52!}$$"
      ],
      "metadata": {
        "id": "6bzycB9O2K52"
      }
    },
    {
      "cell_type": "code",
      "source": [
        "import math\n",
        "\n",
        "def permutations(n, k):\n",
        "  \"\"\"\n",
        "  Calculates the number of permutations of n items taken k at a time.\n",
        "\n",
        "  Args:\n",
        "    n: The total number of items.\n",
        "    k: The number of items to choose.\n",
        "\n",
        "  Returns:\n",
        "    The number of permutations, which is n! / (n-k)!.\n",
        "  \"\"\"\n",
        "  if k > n:\n",
        "    return 0\n",
        "  return math.factorial(n) // math.factorial(n - k)\n",
        "\n",
        "\n",
        "def binomial_coefficient(n, k):\n",
        "  \"\"\"\n",
        "  Computes the binomial coefficient (n choose k).\n",
        "\n",
        "  Args:\n",
        "    n: The total number of items.\n",
        "    k: The number of items to choose.\n",
        "\n",
        "  Returns:\n",
        "    The binomial coefficient (n choose k).\n",
        "  \"\"\"\n",
        "  if k < 0 or k > n:\n",
        "    return 0\n",
        "  return math.comb(n, k)"
      ],
      "metadata": {
        "id": "-QxJTSfj6u2H"
      },
      "execution_count": 5,
      "outputs": []
    },
    {
      "cell_type": "markdown",
      "source": [
        ">3. In una classe di 30 studenti, si vuole formare un comitato speciale per organizzare eventi scolastici. Il comitato sarà strutturato nel seguente modo:\n",
        "\n",
        "1. Un presidente, scelto tra i 5 studenti che hanno molta esperienza di leadership.\n",
        "2. Tre vicepresidenti, scelti tra i rimanenti studenti.\n",
        "3. Quattro coordinatori di eventi, scelti tra i rimanenti studenti.\n",
        "4. Due segretari, scelti tra i rimanenti studenti.\n",
        "\n",
        "Inoltre:\n",
        "\n",
        "- Dopo la selezione iniziale, due dei coordinatori dovranno essere assegnati a progetti specifici.\n",
        "- Infine, tra tutti i membri del comitato (inclusi presidente e vicepresidenti), si devono scegliere 3 rappresentanti per partecipare a una conferenza regionale.\n",
        "\n",
        "Calcolare in quanti modi diversi si può formare questo comitato e assegnare tutti i ruoli descritti.\n"
      ],
      "metadata": {
        "id": "d4IUyQxN42vd"
      }
    },
    {
      "cell_type": "markdown",
      "source": [
        "\n",
        "> *Soluzione*\n",
        "\n",
        "Procediamo passo per passo:\n",
        "\n",
        "1) Scelta del presidente:\n",
        "   - Si tratta di una semplice scelta tra 5 studenti e si può fare in\n",
        "     $m_1 = 5$ modi diversi.\n",
        "\n",
        "2) Scelta dei tre vicepresidenti:\n",
        "   - Combinazioni semplici di classe k da un insieme di 25 elementi (30 - 5) presi: (l'ordine non è importante.)\n",
        "     $m_2 = C_{25,3} = \\frac{25!}{(25-3)! \\times 3!} = 2300$\n",
        "\n",
        "3) Scelta dei quattro coordinatori:\n",
        "   - Combinazioni semplici di 22 elementi presi a 4 a 4: (l'ordine non è importante.)\n",
        "     $m_3 = C_{22,4} = \\binom{22}{4} = \\frac{22!}{4! \\times (22-4)!} = 7315$\n",
        "\n",
        "4) Scelta dei due segretari: (l'ordine non è importante.)\n",
        "   - Combinazioni semplici di 18 elementi presi a 2 a 2:\n",
        "     $m_4 = C_{18,2} = \\binom{18}{2} = \\frac{18!}{2!(18-2)!} = 153$\n",
        "\n",
        "5) Assegnazione di due coordinatori a progetti specifici: (l'ordine è importante: quale coordinatore va a quale progetto).\n",
        "   - Disposizioni semplici di 4 elementi presi a 2 a 2:\n",
        "     $m_5 = D_{4,2} = \\frac{4!}{(4-2)!} = 12$\n",
        "\n",
        "6) Scelta dei 3 rappresentanti per la conferenza: (l'ordine non è importante.)\n",
        "   - Combinazioni semplici di 10 elementi (tutti i membri del comitato) presi a 3 a 3:\n",
        "     $m_6 = C_{10,3} = \\binom{10}{3} = \\frac{10!}{3!(10-3)!} = 120$\n",
        "\n",
        "Infine, applichiamo il **principio fondamentale del calcolo combinatorio**, moltiplicando tutte le possibilità per ottenere il numero totale di modi in cui il comitato può essere formato e i ruoli assegnati. Il numero totale di modi in cui si può formare il comitato e assegnare tutti i ruoli è dato dal prodotto di tutte queste possibilità:\n",
        "\n",
        "$M = m_1 \\times m_2 \\times m_3 \\times m_4 \\times m_5 \\times m_6$\n",
        "\n",
        "$M = 5 \\times 2300 \\times 7315 \\times 153 \\times 12 \\times 120$\n",
        "\n",
        "$M = 18.533.869.200.000$\n",
        "\n",
        "Quindi, ci sono 18.533.869.200.000 modi diversi di formare il comitato e assegnare tutti i ruoli descritti.\n",
        "\n"
      ],
      "metadata": {
        "id": "1uHBYnLl3qZ7"
      }
    },
    {
      "cell_type": "code",
      "source": [
        "m1 = 5\n",
        "\n",
        "# Verify m2\n",
        "m2 = binomial_coefficient(25, 3)\n",
        "print(f\"m2 (C(25,3)) = {m2}\")  # Should be 2300\n",
        "\n",
        "# Verify m3\n",
        "m3 = binomial_coefficient(22, 4)\n",
        "print(f\"m3 (C(22,4)) = {m3}\")  # Should be 7315\n",
        "\n",
        "# Verify m4\n",
        "m4 = binomial_coefficient(18, 2)\n",
        "print(f\"m4 (C(18,2)) = {m4}\")  # Should be 153\n",
        "\n",
        "# Verify m5\n",
        "m5 = permutations(4, 2)\n",
        "print(f\"m5 (D(4,2)) = {m5}\")  # Should be 12\n",
        "\n",
        "# Verify m5\n",
        "m6 = binomial_coefficient(10, 3)\n",
        "print(f\"m6 (D(10,3)) = {m6}\")  # Should be 120\n",
        "\n",
        "print(f\"M = {m1} * {m2} * {m3} * {m4} * {m5} * {m6}\")\n",
        "print(m1 * m2 * m3 * m4 * m5 * m6)"
      ],
      "metadata": {
        "colab": {
          "base_uri": "https://localhost:8080/"
        },
        "id": "gmQLj4Gm6cXi",
        "outputId": "cc5fe216-ef30-40cd-e73c-4a9f7332ebbc"
      },
      "execution_count": 13,
      "outputs": [
        {
          "output_type": "stream",
          "name": "stdout",
          "text": [
            "m2 (C(25,3)) = 2300\n",
            "m3 (C(22,4)) = 7315\n",
            "m4 (C(18,2)) = 153\n",
            "m5 (D(4,2)) = 12\n",
            "m6 (D(10,3)) = 120\n",
            "M = 5 * 2300 * 7315 * 153 * 12 * 120\n",
            "18533869200000\n"
          ]
        }
      ]
    }
  ]
}
