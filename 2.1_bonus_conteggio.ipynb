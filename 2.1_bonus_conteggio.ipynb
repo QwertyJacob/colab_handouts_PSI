{
  "cells": [
    {
      "cell_type": "markdown",
      "metadata": {
        "id": "YhNeP1RurxRd"
      },
      "source": [
        "> A volte, manipolando un po' lo spazio dei risultati, è possibile calcolare facilmente ciò che si desidera:\n",
        "\n",
        "> **Esempio**: Una coppia decide di avere figli. Decidono di avere figli finché non nasce la prima bambina, o finché non ne nascono tre, e poi di fermarsi. Supponiamo che ogni nascita dia luogo a un solo bimbo e che i maschi e le femmine abbiano la stessa probabilità di nascere. Sia $\\mathcal{B}_i$ l'evento in cui ci sono $i$ maschi e $\\mathcal{C}$ l'evento in cui ci sono più femmine che maschi. Calcolare $P(\\mathcal{B}_1)$ e $P(\\mathcal{C})$\n",
        "\n",
        "\n",
        "*Soluzione*.  In questo caso, potremmo scrivere gli esiti possibili come $\\Omega = \\{G; BG; BBG\\}$, ma se li consideriamo in questo modo, non abbiamo un modo semplice per calcolare la loro probabilità!\n",
        "\n",
        "Potremmo invece utilizzare lo spazio campionario della risposta precedente (e cioè quello fatto da 8 possibili combinazioni), ma ipotizzare *che alcune delle nascite successive siano fittizie.* In questo modo si ottiene un insieme naturale di eventi per i quali è facile calcolare le probabilità. (Ogni una delle 8 combinazioni ha la stessa probabilità).\n",
        "\n",
        "Avere una bambina corrisponderebbe all'evento $\\{Gbb; Gbg; Ggb; Ggg\\}$, dove abbiamo usato lettere minuscole per scrivere le nascite successive fittizie. Dato che sono 4 possibili combinazioni su 8 che generano questa casistica, la probabilità è $\\frac12$. Avere un maschio e poi una femmina corrisponderebbe all'evento $\\{BGb; BGgg\\}$ (e quindi ha probabilità $\\frac14$). Avere due maschi e poi una femmina corrisponderebbe all'evento $\\{BBG\\}$ (e quindi ha probabilità $\\frac18$).\n",
        "Infine, avere tre maschi corrisponde all'evento $\\{BBB\\}$ (e quindi ha probabilità $\\frac18$). Ciò significa che $P(\\mathcal{B}_1) = \\frac14$ e $P(\\mathcal{C})=\\frac12$."
      ]
    },
    {
      "cell_type": "markdown",
      "metadata": {},
      "source": [
        "-------------------------------------\n",
        "> **Esempio (bonus):** Una coppia decide di avere dei figli. Decidono semplicemente di avere tre figli. Si supponga che si verifichino tre nascite, che da ogni nascita nasca un bambino unicamente, e che i maschi e le femmine abbiano la stessa probabilità ad ogni nascita. Sia $\\mathcal{B}_i$ è l'evento in cui ci sono $i$ bambini e $\\mathcal{C}$ è l'evento in cui ci sono più bambine che bambini. Calcolare $P(\\mathcal{B}_1)$ e $P(\\mathcal{C})$.\n",
        "\n",
        "*Soluzione*\n",
        "\n",
        "Ci sono otto esiti. Ognuno di essi ha la stessa probabilità. Tre di essi hanno un solo ragazzo, quindi $P(\\mathcal{B}_1)=\\frac38$, mentre quattro di questi esiti hanno più ragazze che ragazzi, quindi $P(\\mathcal{C})=\\frac12$.\n",
        "\n",
        "Vedremo più avanti nel corso che esiste un _Procedimento matematico_ per calcolare queste probabilità.\n",
        "\n",
        "Impareremo a modellare questi fenomeni tramite _variabili aleatorie_, che non sono altro che degli oggetti che rappresentano gli esiti di un esperimento, ma che tornano molto utili quando gli esiti non sono equiprobabili.\n",
        "\n",
        "Una variabile aleatoria definisce quindi una _distribuzione di probabilità_ particolare sugli esiti dello spazio campione, essendo questa distribuzione comunemente formalizzata dentro una famiglia di funzioni. Capiremo tutto questo in dettaglio più avanti, per ora ci basti sapere che questo esercizio, per esempio, si poteva risolvere con una _distribuzione Binomiale_, che si usa per assegnare delle probabilità agli esiti di una successione di esperimenti che prevedono due soli esiti ad ogni iterazioni, chiamati _successo_ e _insuccesso_ in letteratura, quando le probabilità di questi eventi sono fisse nel tempo. (Questo tipo di successioni di esperimenti si chiama processo di Bernoulli, lo vedremo più avanti.)\n",
        "\n",
        "Con questa breve introduzione, possiamo leggere, se siamo curiosi e impazienti, come si sarebbe potuto risolvere l'esercizio usando la v.a. Binomiale.\n",
        "\n",
        "Possiamo procedere tramite *processo di Bernoulli*. Andiamo a considerare la probabilità di successo $p$ e la probabilità di fallimento $1-p$. Andiamo a considerare come fallimento $1-p$, la nascita di un maschio $M$, e come successo $p$, la nascita di una femmina $F$. Essendo il numero massimo di nascite 3, $F$ $\\ge$ $M$ solo se $F$ = 2 oppure 3 (solo femmine).\n",
        "A questo punto, è facile andare a calcolare la probabilità di avere più femmine che maschi.\n",
        "\n",
        "$$\n",
        "p(F) = p(F=2) + p(F=3) = \\binom{3}{2} \\cdot \\Big(\\frac{1}{2}\\Big)^2 \\cdot \\Big(1-\\frac{1}{2}\\Big)^{3-2} + \\binom{3}{2} \\cdot \\Big(\\frac{1}{2}\\Big)^3 \\cdot \\Big(1-\\frac{1}{2}\\Big)^{3-3} = 3 \\cdot \\frac{1}{8} + 1 \\cdot \\frac{1}{8} = \\frac{1}{2}\n",
        "$$\n",
        "\n",
        "La formula matematica di base che abbiamo usato è la seguente, e corrisponde alla distribuzione Binomiale:\n",
        "\n",
        "$$\n",
        "P(F=k) = \\binom{n}{k} \\cdot p^k \\cdot (1-p)^{n-k}\n",
        "$$\n",
        "\n",
        "Dove $p$ è la probabilità dell'evento. Nel nostro caso, $\\frac{1}{2}$ in quanto abbiamo 0.5 probabilità di ottenere maschio o femmina. $k$ indica l'esito desiderato, nel nostro caso ($k$ = 2, 2 femmine). E $n$ corrisponde al numero totale di iterazioni effettuate, nel nostro caso 3 (il numero di figli che la coppia decide di avere).\n",
        "\n",
        "Seguendo lo stesso ragionamento, possiamo calcolare la probabilità di ottenere un solo figlio maschio:\n",
        "\n",
        "$$\n",
        "p(M) = \\binom{3}{1} \\cdot \\Big(\\frac{1}{2}\\Big)^1 \\cdot \\Big(1-\\frac{1}{2}\\Big)^2 = 3 \\cdot \\frac{1}{8} = \\frac{3}{8}\n",
        "$$\n",
        "---------------------------"
      ]
    },
    {
      "cell_type": "markdown",
      "metadata": {},
      "source": []
    }
  ],
  "metadata": {
    "colab": {
      "include_colab_link": true,
      "provenance": []
    },
    "kernelspec": {
      "display_name": "Python 3",
      "name": "python3"
    },
    "language_info": {
      "codemirror_mode": {
        "name": "ipython",
        "version": 3
      },
      "file_extension": ".py",
      "mimetype": "text/x-python",
      "name": "python",
      "nbconvert_exporter": "python",
      "pygments_lexer": "ipython3",
      "version": "3.11.11"
    }
  },
  "nbformat": 4,
  "nbformat_minor": 0
}
