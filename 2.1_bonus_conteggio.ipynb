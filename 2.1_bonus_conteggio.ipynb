{
  "cells": [
    {
      "cell_type": "markdown",
      "metadata": {},
      "source": [
        "#### Permutazioni e disposizioni: quando \"l'ordine conta\".\n",
        "\n",
        "______________"
      ]
    },
    {
      "cell_type": "markdown",
      "metadata": {},
      "source": [
        "Il conteggio delle sequenze di simboli che formano gli esiti può richiedere argomenti combinatori piuttosto elaborati. Una forma di argomentazione\n",
        "particolarmente importante è quella di ragionare sulle **disposizioni** e sulle **combinazioni**. Si ricorda che il numero di disposizioni distinte di N elementi è $n!$\n",
        "\n",
        "> **Permutazioni**: Quando abbiamo N elementi distinti e vogliamo *ordinarli* *in tutti i modi possibili*, stiamo calcolando le **permutazioni**. Il risultato è $n!$."
      ]
    },
    {
      "cell_type": "markdown",
      "metadata": {},
      "source": [
        "> Esempio: Si estrae una mano di sette carte da un mazzo di carte standard correttamente mescolato. Con quale probabilità vengono estratte le carte 2,3,4,...,8 di cuori (in quell'ordine)?\n",
        "\n",
        "*Soluzione* Useremo le permutazioni per risolvere questo esericizio. Esistono $52!$ ordinamenti diversi di un mazzo di carte opportunamente mescolato. Questo è il numero totale degli esiti possibili (cioè la cardinalità dello spazio campione). Il numero di esiti dell'evento in questione invece si ottiene notando che che ogni risultato nell'evento è un ordine di carte in cui tra le prime sette carte si trova la sequenza 2,3,4,...,7,8, in quell'ordine.\n",
        "\n",
        "Ci sono quindi $45!$ esiti nell'evento, perché è possibile riordinare le 45 carte rimanenti in modo arbitrario. Ciò significa che la\n",
        "probabilità è:\n",
        "\n",
        "$$ \\frac{45!}{52!}$$"
      ]
    },
    {
      "cell_type": "markdown",
      "metadata": {},
      "source": [
        "> Nota anti-confusione: Di solito, quando vogliamo calcolare il numero di ordinamenti possibili di **tutti** gli $n$ elementi di un insieme, parliamo di **permutazioni**. Invece, quando volgiamo calcolare il numero di ordinamenti di un **sottoinsieme** di elementi, come nell'esercizio precedente, parliamo di **disposizioni**.\n",
        "\n",
        "Per quello, la formula che ci aiuterà a calcolare il numero di ordinamenti di $k$ elementi presi da un insieme di $n$ elementi si dennota con $D_{n,k}$, ed è chiamata \"*numero di disposizioni semplici di classe $k$ di $n$ elementi diversi*\":\n",
        "\n",
        "$$ D_{n,k} = \\frac{n!}{(n-k)!} $$\n",
        "\n",
        "Non ci confondiamo con le diciture. Parliamo di numero di *disposizioni* perché l'ordine conta. Teniamo in conto che, presi i $k$ elementi, ne rimangono $n-K$. Questo vuol dire che **non stiamo reinserendo gli elementi che prendiamo.** In letteratura, questo modo di contare -cioè senza reinserimento- viene chiamato *semplice*, per questo si parla di numero di *disposizioni semplici*.\n",
        "\n",
        "Nell'esempio precedente, reinserire le carte ogni volta e miscolare il mazzo di carte porterebbe ad un altra probabilità. Cioè se facciamo sette estrazioni con reinserimento, ad ogni estrazione abbiamo sempre 52 esiti diversi, il che vuol dire che gli esiti possibili per la sequenza di 7 estazioni con reinserimento è $52^7$. Di queste, quante corrispondono alla sequenza 2,3,4,5,6,7,8 di cuori in quell'ordine? Una. Quindi la probabilità è $\\frac{1}{52^7}$. Si poteva arrivare a questa risposta anche sapendo che la probabiiltà di estrarre una certa carta dal mazzo è sempre $\\frac{1}{52}$ quando c'è reinserimento, per qualsiasi carta, e sapendo che ogni estrazione è un evento indipendente dalle altre estrazioni, ma ne parleremo più avanti nel corso... Per ora ci basta ricordare che:\n",
        "\n",
        "> Il numero di disposizioni con reinserimento di classe $k$ di $n$ elementi diversi è:\n",
        "\n",
        "$$ D_{n,k} = n^k$$\n",
        "\n",
        "Faciamo attenzione al fatto che, per questa e per la formula precedente, abbiamo detto \"$n$ elementi *diversi*\". Per ora non facciamo nessun controesempio né diciamo perché è importante questa clausola, ma più avanti verrà fuori tutto questo. Per ora ci basti dare importanza al fatto che queste formule valgono quando gli $n$ oggetti sono, infatti, diversi.\n",
        "\n",
        "\n",
        "> **Ricorda**: Quado parliamo di **disposizioni** di elementi **senza reinserimento **nell'insieme di partenza, parliamo di **disposizioni semplici**.\n",
        "\n",
        "\n",
        "> **Ricorda**: se devi contare il numero di ordinamenti, cioè se \"**l'ordine conta**\" allora parliamo di **disposizioni**!!!"
      ]
    },
    {
      "cell_type": "markdown",
      "metadata": {},
      "source": [
        "#### Combinazioni: quando \"l'ordine non conta\"\n",
        "__________"
      ]
    },
    {
      "cell_type": "markdown",
      "metadata": {},
      "source": [
        "Il numero di *combinazioni* invece è diverso dal numero di ordinamenti. Contare il numero di combinazioni equivale a contare il numero di  sottoinsiemi di una certa dimensione che possono essere formati da un insieme più grande,**senza considerare l'ordine degli elementi all'interno di ciascun sottoinsieme.**\n",
        "Per essere più precisi:\n",
        "\n",
        "> **Definizione di combinazione:** Una combinazione è una *selezione* di $k$ elementi da un insieme di $n$ elementi, dove l'ordine non importa. Cioè, due combinazioni vengono considerate diverse solo se differiscono per almeno un elemento. Se due combinazioni hanno gli stessi elementi in ordine diverso, vengono comunque considerate la stessa combinazione.\n",
        "\n",
        "> Si indica comunemente il numero di combinazioni di classe $k$ prese da un insieme di $n$ elementi diversi con:\n",
        "\n",
        "$ C_{n,k} = \\binom{n}{k} $.\n",
        "\n",
        "Dove $ n \\choose k$ è il *coefficiente binomiale* $n$ $k$. Più specificamente abbiamo:\n",
        "\n",
        "> Formula per le combinazioni: Il numero di combinazioni di classe $k$ prese da un insieme di $n$ elementi è dato da:\n",
        "\n",
        "$$ C_{n,k} = \\frac{n!}{k! \\cdot (n-k)!} $$\n",
        "\n",
        "\n",
        "Ancora una volta, ripetiamo:\n",
        "\n",
        "- Differenza tra combinazioni e disposizioni o permutazioni:\n",
        "\n",
        "Le permutazioni considerano l'ordine (ABC è diverso da CBA). Le combinazioni non considerano l'ordine (ABC è lo stesso di CBA).\n",
        "\n",
        "- Interpretazione:\n",
        "\n",
        "Contare le combinazioni equivale a contare in quanti modi possiamo selezionare $k$ oggetti da un gruppo di $n$ oggetti, dove non ci interessa l'ordine in cui vengono selezionati. È come rispondere alla domanda: \"In quanti modi diversi posso formare un comitato di $k$ persone da un gruppo di n persone?\"\n",
        "\n",
        "\n",
        "- Connessione con i sottoinsiemi:\n",
        "\n",
        "Ogni combinazione rappresenta un sottoinsieme di $k$ elementi dell'insieme originale di $n$ elementi. Infatti, il numero totale di sottoinsiemi di un insieme di $n$ elementi (inclusi l'insieme vuoto e l'insieme completo) è $2^n$, che è la somma di tutte le possibili combinazioni: $C_{n,0} + C_{n,1} + ... + C_{n,n}$. Puoi dimostrarlo?\n",
        "\n",
        "\n",
        "\n",
        "> In sintesi, mentre le _permutazioni_ o _disposizioni_ contano tutti i possibili *ordinamenti*, le combinazioni contano i sottoinsiemi senza considerare l'ordine interno. Questo concetto è fondamentale in molte applicazioni, dalla teoria delle probabilità alla statistica, dalla teoria dei giochi alla crittografia."
      ]
    },
    {
      "cell_type": "markdown",
      "metadata": {},
      "source": [
        "> Trovi delle spiegazioni più \"passo passo\" sul sito di [YouMath](https://www.youmath.it/lezioni/probabilita/calcolo-combinatorio.html)"
      ]
    },
    {
      "cell_type": "markdown",
      "metadata": {
        "id": "YhNeP1RurxRd"
      },
      "source": [
        "______________________________\n",
        "\n",
        "> A volte, manipolando un po' lo spazio dei risultati, è possibile calcolare facilmente ciò che si desidera:\n",
        "\n",
        "> **Esempio**: Una coppia decide di avere figli. Decidono di avere figli finché non nasce la prima bambina, o finché non ne nascono tre, e poi di fermarsi. Supponiamo che ogni nascita dia luogo a un solo bimbo e che i maschi e le femmine abbiano la stessa probabilità di nascere. Sia $\\mathcal{B}_i$ l'evento in cui ci sono $i$ maschi e $\\mathcal{C}$ l'evento in cui ci sono più femmine che maschi. Calcolare $P(\\mathcal{B}_1)$ e $P(\\mathcal{C})$\n",
        "\n",
        "\n",
        "*Soluzione*.  In questo caso, potremmo scrivere gli esiti possibili come $\\Omega = \\{G; BG; BBG\\}$, ma se li consideriamo in questo modo, non abbiamo un modo semplice per calcolare la loro probabilità!\n",
        "\n",
        "Potremmo invece utilizzare lo spazio campionario della risposta precedente (e cioè quello fatto da 8 possibili combinazioni), ma ipotizzare *che alcune delle nascite successive siano fittizie.* In questo modo si ottiene un insieme naturale di eventi per i quali è facile calcolare le probabilità. (Ogni una delle 8 combinazioni ha la stessa probabilità).\n",
        "\n",
        "Avere una bambina corrisponderebbe all'evento $\\{Gbb; Gbg; Ggb; Ggg\\}$, dove abbiamo usato lettere minuscole per scrivere le nascite successive fittizie. Dato che sono 4 possibili combinazioni su 8 che generano questa casistica, la probabilità è $\\frac12$. Avere un maschio e poi una femmina corrisponderebbe all'evento $\\{BGb; BGgg\\}$ (e quindi ha probabilità $\\frac14$). Avere due maschi e poi una femmina corrisponderebbe all'evento $\\{BBG\\}$ (e quindi ha probabilità $\\frac18$).\n",
        "Infine, avere tre maschi corrisponde all'evento $\\{BBB\\}$ (e quindi ha probabilità $\\frac18$). Ciò significa che $P(\\mathcal{B}_1) = \\frac14$ e $P(\\mathcal{C})=\\frac12$."
      ]
    },
    {
      "cell_type": "markdown",
      "metadata": {},
      "source": [
        "-------------------------------------\n",
        "> **Esempio (bonus):** Una coppia decide di avere dei figli. Decidono semplicemente di avere tre figli. Si supponga che si verifichino tre nascite, che da ogni nascita nasca un bambino unicamente, e che i maschi e le femmine abbiano la stessa probabilità ad ogni nascita. Sia $\\mathcal{B}_i$ è l'evento in cui ci sono $i$ bambini e $\\mathcal{C}$ è l'evento in cui ci sono più bambine che bambini. Calcolare $P(\\mathcal{B}_1)$ e $P(\\mathcal{C})$.\n",
        "\n",
        "*Soluzione*\n",
        "\n",
        "Ci sono otto esiti. Ognuno di essi ha la stessa probabilità. Tre di essi hanno un solo ragazzo, quindi $P(\\mathcal{B}_1)=\\frac38$, mentre quattro di questi esiti hanno più ragazze che ragazzi, quindi $P(\\mathcal{C})=\\frac12$.\n",
        "\n",
        "Vedremo più avanti nel corso che esiste un _Procedimento matematico_ per calcolare queste probabilità.\n",
        "\n",
        "Impareremo a modellare questi fenomeni tramite _variabili aleatorie_, che non sono altro che degli oggetti che rappresentano gli esiti di un esperimento, ma che tornano molto utili quando gli esiti non sono equiprobabili.\n",
        "\n",
        "Una variabile aleatoria definisce quindi una _distribuzione di probabilità_ particolare sugli esiti dello spazio campione, essendo questa distribuzione comunemente formalizzata dentro una famiglia di funzioni. Capiremo tutto questo in dettaglio più avanti, per ora ci basti sapere che questo esercizio, per esempio, si poteva risolvere con una _distribuzione Binomiale_, che si usa per assegnare delle probabilità agli esiti di una successione di esperimenti che prevedono due soli esiti ad ogni iterazioni, chiamati _successo_ e _insuccesso_ in letteratura, quando le probabilità di questi eventi sono fisse nel tempo. (Questo tipo di successioni di esperimenti si chiama processo di Bernoulli, lo vedremo più avanti.)\n",
        "\n",
        "Con questa breve introduzione, possiamo leggere, se siamo curiosi e impazienti, come si sarebbe potuto risolvere l'esercizio usando la v.a. Binomiale.\n",
        "\n",
        "Possiamo procedere tramite *processo di Bernoulli*. Andiamo a considerare la probabilità di successo $p$ e la probabilità di fallimento $1-p$. Andiamo a considerare come fallimento $1-p$, la nascita di un maschio $M$, e come successo $p$, la nascita di una femmina $F$. Essendo il numero massimo di nascite 3, $F$ $\\ge$ $M$ solo se $F$ = 2 oppure 3 (solo femmine).\n",
        "A questo punto, è facile andare a calcolare la probabilità di avere più femmine che maschi.\n",
        "\n",
        "$$\n",
        "p(F) = p(F=2) + p(F=3) = \\binom{3}{2} \\cdot \\Big(\\frac{1}{2}\\Big)^2 \\cdot \\Big(1-\\frac{1}{2}\\Big)^{3-2} + \\binom{3}{2} \\cdot \\Big(\\frac{1}{2}\\Big)^3 \\cdot \\Big(1-\\frac{1}{2}\\Big)^{3-3} = 3 \\cdot \\frac{1}{8} + 1 \\cdot \\frac{1}{8} = \\frac{1}{2}\n",
        "$$\n",
        "\n",
        "La formula matematica di base che abbiamo usato è la seguente, e corrisponde alla distribuzione Binomiale:\n",
        "\n",
        "$$\n",
        "P(F=k) = \\binom{n}{k} \\cdot p^k \\cdot (1-p)^{n-k}\n",
        "$$\n",
        "\n",
        "Dove $p$ è la probabilità dell'evento. Nel nostro caso, $\\frac{1}{2}$ in quanto abbiamo 0.5 probabilità di ottenere maschio o femmina. $k$ indica l'esito desiderato, nel nostro caso ($k$ = 2, 2 femmine). E $n$ corrisponde al numero totale di iterazioni effettuate, nel nostro caso 3 (il numero di figli che la coppia decide di avere).\n",
        "\n",
        "Seguendo lo stesso ragionamento, possiamo calcolare la probabilità di ottenere un solo figlio maschio:\n",
        "\n",
        "$$\n",
        "p(M) = \\binom{3}{1} \\cdot \\Big(\\frac{1}{2}\\Big)^1 \\cdot \\Big(1-\\frac{1}{2}\\Big)^2 = 3 \\cdot \\frac{1}{8} = \\frac{3}{8}\n",
        "$$\n",
        "---------------------------"
      ]
    },
    {
      "cell_type": "markdown",
      "metadata": {},
      "source": []
    }
  ],
  "metadata": {
    "colab": {
      "include_colab_link": true,
      "provenance": []
    },
    "kernelspec": {
      "display_name": "Python 3",
      "name": "python3"
    },
    "language_info": {
      "codemirror_mode": {
        "name": "ipython",
        "version": 3
      },
      "file_extension": ".py",
      "mimetype": "text/x-python",
      "name": "python",
      "nbconvert_exporter": "python",
      "pygments_lexer": "ipython3",
      "version": "3.11.11"
    }
  },
  "nbformat": 4,
  "nbformat_minor": 0
}
