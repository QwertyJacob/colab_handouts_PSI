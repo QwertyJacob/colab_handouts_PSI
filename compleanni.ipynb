{
  "cells": [
    {
      "cell_type": "markdown",
      "metadata": {
        "id": "KA4BC1cFhC2y"
      },
      "source": [
        "# Esempio 1: Compleanni Condivisi\n",
        "\n",
        "## Problema\n",
        "Qual è la probabilità che, in una stanza con 30 persone, ci sia almeno una coppia di persone che compie gli anni lo stesso giorno?\n",
        "\n",
        "## Soluzione\n",
        "\n",
        "Semplifichiamo il problema assumendo che:\n",
        "1. Ogni anno abbia 365 giorni\n",
        "2. Nessun giorno sia speciale (ovvero, ogni giorno ha la stessa probabilità di essere un compleanno)\n",
        "\n",
        "Questo modello non è perfetto (ci tendono ad essere leggermente più nascite circa 9 mesi dopo: l'inizio della primavera, blackout, grandi disastri, e così via) ma è utilizzabile.\n",
        "\n",
        "### Approccio\n",
        "Il modo più semplice per affrontare questa domanda è notare che la probabilità cercata, $P(\\text{compleanno condiviso})$, è:\n",
        "\n",
        "$$P(\\text{compleanno condiviso}) = 1 - P(\\text{tutti compleanni diversi})$$\n",
        "\n",
        "Questa seconda probabilità è più facile da calcolare. Ogni esito nello spazio campionario è una lista di 30 giorni (un compleanno per persona). Ogni esito ha la stessa probabilità. Quindi:\n",
        "\n",
        "$$P(\\text{tutti compleanni diversi}) = \\frac{\\text{Numero di esiti nell'evento}}{\\text{Numero totale di esiti}}$$\n",
        "\n",
        "### Calcolo\n",
        "\n",
        "1. Il numero totale di esiti è facilmente calcolabile come $365^{30}$, che è il numero totale di possibili liste di 30 giorni.\n",
        "\n",
        "2. Il numero di esiti nell'evento è il numero di liste di 30 giorni, tutti diversi. Per contarli, notiamo che ci sono:\n",
        "   - 365 scelte per il primo giorno\n",
        "   - 364 per il secondo\n",
        "   - e così via\n",
        "\n",
        "Quindi:\n",
        "\n",
        "$$P(\\text{compleanno condiviso}) = 1 - \\frac{365 \\cdot 364 \\cdot ... \\cdot 336}{365^{30}} \\approx 1 - 0,29 = 0,71$$\n",
        "\n",
        "## Conclusione\n",
        "Questo significa che c'è una probabilità del 71% che in una stanza di 30 persone, almeno due persone condividano lo stesso compleanno. Una probabilità sorprendentemente alta!"
      ]
    },
    {
      "cell_type": "markdown",
      "metadata": {
        "id": "9r1A0KMuhG7m"
      },
      "source": [
        "# Esempio 2: Scommessa sul Proprio Compleanno\n",
        "\n",
        "## Problema\n",
        "Scommetti che in una stanza con altre 29 persone (quindi 30 persone in totale, te compreso) ci sia qualcuno che compie gli anni nel tuo stesso giorno. Assumendo di non sapere nulla sulle altre 29 persone, qual è la probabilità di vincere la scommessa?\n",
        "\n",
        "## Soluzione\n",
        "\n",
        "### Approccio\n",
        "Il modo più semplice per risolvere questo problema è calcolare:\n",
        "\n",
        "$$P(\\text{vincita}) = 1 - P(\\text{perdita})$$\n",
        "\n",
        "### Analisi\n",
        "Perderai se nessuno ha il tuo stesso compleanno. Possiamo pensare ai compleanni delle altre persone nella stanza come a una lista di 29 giorni dell'anno. Se il tuo compleanno è nella lista, vinci; se non lo è, perdi.\n",
        "\n",
        "### Calcolo\n",
        "Il numero di liste perdenti è il numero di liste di 29 giorni dell'anno tali che il tuo compleanno non sia nella lista. Questo numero è facile da ottenere:\n",
        "- Abbiamo 364 giorni dell'anno da cui scegliere (tutti tranne il tuo compleanno)\n",
        "- Dobbiamo fare 29 scelte (una per ogni altra persona)\n",
        "\n",
        "Il numero totale di possibili liste è il numero di liste di 29 giorni dell'anno. Ogni lista ha la stessa probabilità.\n",
        "\n",
        "Quindi:\n",
        "\n",
        "$$P(\\text{perdita}) = \\frac{364^{29}}{365^{29}}$$\n",
        "\n",
        "E di conseguenza:\n",
        "\n",
        "$$P(\\text{vincita}) = 1 - \\frac{364^{29}}{365^{29}} \\approx 0,0765$$\n",
        "\n",
        "## Conclusione\n",
        "La probabilità di vincere questa scommessa è solo circa del 7,65%, molto più bassa rispetto alla probabilità del 71% dell'esempio precedente dove si scommetteva sulla presenza di una qualsiasi coppia di persone con lo stesso compleanno.\n",
        "\n",
        "## Confronto con l'esempio precedente\n",
        "Questa notevole differenza nelle probabilità (71% vs 7,65%) dimostra come l'intuizione umana possa essere fuorviante quando si tratta di problemi di probabilità. Nel primo caso, stiamo considerando tutte le possibili coincidenze di compleanno tra 30 persone, che sono molte di più rispetto al secondo caso, dove consideriamo solo le coincidenze che includono una data specifica.\n",
        "\n",
        "### Formula per il numero di coppie possibili\n",
        "Per comprendere meglio la differenza, possiamo calcolare il numero di coppie di persone possibili in un gruppo di 30 persone: (dovremmo essere esperti a questo punto a fare questi calcoli ;)\n",
        "\n",
        "$$\\binom{30}{2} = \\frac{30!}{2!(30-2)!} = 435 \\text{ coppie possibili}$$\n",
        "\n",
        "Nel secondo caso, consideriamo solo 29 possibili coppie (tu con ciascuna delle altre persone)."
      ]
    },
    {
      "cell_type": "markdown",
      "metadata": {
        "id": "Udi3bbjHhK4_"
      },
      "source": [
        "## Esempio 3: Divisibilità per 2 ma non per 5\n",
        "\n",
        "### Problema\n",
        "Lanci due dadi equi a sei facce e sommi il numero di punti ottenuti. Qual è la probabilità di ottenere un numero divisibile per 2, ma non per 5?\n",
        "\n",
        "### Soluzione\n",
        "Definiamo $D_n$ come l'evento \"il numero è divisibile per $n$\".\n",
        "\n",
        "#### Analisi\n",
        "1. Calcoliamo $P(D_2)$:\n",
        "   - La somma è pari se esce: (pari + pari) o (dispari + dispari), ora, ogni dado ha lo stesso numero di facce pari e dispari, quindi le probabilità di ottenere (pari + pari) o (dispari + dispari) è la stessa della probabilità di ottenere (pari + dispari) o (dispari + pari), e questi sono eventi complementari (la somma è divisibile per due nel primo caso e non lo è nel secondo), quindi:\n",
        "   - Quindi $P(D_2) = \\frac{1}{2}$\n",
        "\n",
        "\n",
        "2. Per trovare $P(D_2 \\setminus D_5)$, usiamo:\n",
        "   $$P(D_2 \\setminus D_5) = P(D_2) - P(D_2 \\cap D_5)$$\n",
        "\n",
        "3. $D_2 \\cap D_5$ contiene solo tre esiti:\n",
        "   - (5,5) per somma 10\n",
        "   - (4,6) e (6,4) per somma 10\n",
        "\n",
        "#### Calcolo finale\n",
        "$$P(D_2 \\setminus D_5) = \\frac{18}{36} - \\frac{3}{36} = \\frac{15}{36} = \\frac{5}{12}$$\n",
        "\n",
        "## Esempio 4: Divisibilità per 2 o per 5\n",
        "\n",
        "### Problema\n",
        "Lanci due dadi equi a sei facce. Qual è la probabilità che la somma sia divisibile per 2 _oppure_ per 5, o entrambi?\n",
        "\n",
        "### Soluzione\n",
        "Vogliamo calcolare $P(D_2 \\cup D_5)$.\n",
        "\n",
        "#### Analisi usando la formula dell'unione\n",
        "$$P(D_2 \\cup D_5) = P(D_2) + P(D_5) - P(D_2 \\cap D_5)$$\n",
        "\n",
        "Dal problema precedente sappiamo che:\n",
        "- $P(D_2) = \\frac{1}{2} = \\frac{18}{36}$\n",
        "- $P(D_2 \\cap D_5) = \\frac{3}{36}$\n",
        "\n",
        "Contando gli esiti a mano, ci rendiamo conto che:\n",
        "- $P(D_5) = \\frac{7}{36}$\n",
        "- quando i dadi sommano 5: (1,4), (4,1), (3,2) e (2,3)\n",
        "- quando i dadi sommano 10: (4,6), (6,4), e (5,5)\n",
        "\n",
        "#### Calcolo finale\n",
        "$$P(D_2 \\cup D_5) = \\frac{18}{36} + \\frac{7}{36} - \\frac{3}{36} = \\frac{22}{36} = \\frac{11}{18}$$\n",
        "\n",
        "## Nota didattica\n",
        "Questi esempi illustrano l'importanza di:\n",
        "1. Saper utilizzare le operazioni insiemistiche nella probabilità\n",
        "2. Riconoscere quando è più conveniente calcolare una probabilità usando il complementare o la formula dell'unione\n",
        "3. Scomporre problemi complessi in parti più semplici"
      ]
    },
    {
      "cell_type": "markdown",
      "metadata": {},
      "source": [
        "# Riassunto"
      ]
    },
    {
      "cell_type": "code",
      "execution_count": 8,
      "metadata": {},
      "outputs": [
        {
          "data": {
            "text/html": [
              "<pre style=\"white-space:pre;overflow-x:auto;line-height:normal;font-family:Menlo,'DejaVu Sans Mono',consolas,'Courier New',monospace\">Manim Community <span style=\"color: #008000; text-decoration-color: #008000\">v0.19.0</span>\n",
              "\n",
              "</pre>\n"
            ],
            "text/plain": [
              "Manim Community \u001b[32mv0.\u001b[0m\u001b[32m19.0\u001b[0m\n",
              "\n"
            ]
          },
          "metadata": {},
          "output_type": "display_data"
        },
        {
          "name": "stderr",
          "output_type": "stream",
          "text": [
            "                                                                             \r"
          ]
        },
        {
          "data": {
            "text/html": [
              "<video src=\"media/jupyter/VennDiagram@2025-09-20@13-58-07.mp4\" controls autoplay loop style=\"max-width: 75%;\"  >\n",
              "      Your browser does not support the <code>video</code> element.\n",
              "    </video>"
            ],
            "text/plain": [
              "<IPython.core.display.Video object>"
            ]
          },
          "metadata": {},
          "output_type": "display_data"
        }
      ],
      "source": [
        "%%manim -qm VennDiagram\n",
        "\n",
        "ellipse1 = Ellipse(width=4, height=2, color=BLUE)\n",
        "ellipse2 = Ellipse(width=4, height=2, color=GREEN)\n",
        "\n",
        "# fill the ellipses\n",
        "ellipse1.set_fill(opacity=0.5)\n",
        "ellipse2.set_fill(opacity=0.5)\n",
        "\n",
        "ellipse1.move_to(LEFT * 3)\n",
        "ellipse2.move_to(RIGHT * 3)\n",
        "\n",
        "\n",
        "class VennDiagram(Scene):\n",
        "    def construct(self):\n",
        "        self.play(Create(ellipse1), Create(ellipse2))\n",
        "        self.wait(1)\n",
        "        # lets move the right ellipse to the center of the page a bit:\n",
        "        self.play(ellipse2.animate.move_to(ORIGIN + RIGHT * 1))\n",
        "        self.play(ellipse1.animate.move_to(\n",
        "            ellipse2.get_center() - 2 * RIGHT))\n",
        "        self.wait(12)"
      ]
    }
  ],
  "metadata": {
    "colab": {
      "authorship_tag": "ABX9TyPIsdBNFOxM1+63rhOXp3bi",
      "include_colab_link": true,
      "provenance": []
    },
    "kernelspec": {
      "display_name": "Python 3",
      "name": "python3"
    },
    "language_info": {
      "codemirror_mode": {
        "name": "ipython",
        "version": 3
      },
      "file_extension": ".py",
      "mimetype": "text/x-python",
      "name": "python",
      "nbconvert_exporter": "python",
      "pygments_lexer": "ipython3",
      "version": "3.11.11"
    }
  },
  "nbformat": 4,
  "nbformat_minor": 0
}
