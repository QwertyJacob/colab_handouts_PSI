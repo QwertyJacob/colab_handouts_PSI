{
  "nbformat": 4,
  "nbformat_minor": 0,
  "metadata": {
    "colab": {
      "provenance": [],
      "authorship_tag": "ABX9TyMc2sM7Y7rPCEsK448ym6oA",
      "include_colab_link": true
    },
    "kernelspec": {
      "name": "python3",
      "display_name": "Python 3"
    },
    "language_info": {
      "name": "python"
    }
  },
  "cells": [
    {
      "cell_type": "markdown",
      "metadata": {
        "id": "view-in-github",
        "colab_type": "text"
      },
      "source": [
        "<a href=\"https://colab.research.google.com/github/QwertyJacob/colab_handouts_PSI/blob/main/Geometric.ipynb\" target=\"_parent\"><img src=\"https://colab.research.google.com/assets/colab-badge.svg\" alt=\"Open In Colab\"/></a>"
      ]
    },
    {
      "cell_type": "markdown",
      "source": [
        "## Introduzione alla Variabile Aleatoria Geometrica\n",
        "\n",
        "### **Il Gioco delle Freccette**\n",
        "\n",
        "Immagina di essere in un pub con i tuoi amici e di decidere di giocare a freccette. Ogni volta che tiri una freccetta, hai una probabilità $ p $ di colpire il centro (bullseye), e una probabilità $ 1 - p $ di mancarlo.\n",
        "\n",
        "#### **Variabile Aleatoria Geometrica**\n",
        "\n",
        "**Definizione:** La variabile aleatoria geometrica $ X$ rappresenta il numero di tentativi necessari per ottenere il primo successo (colpire il bullseye).\n",
        "\n",
        "**Esempio:**\n",
        "- Supponiamo che $$ p = 0.2 $$.\n",
        "- Vuoi sapere qual è la probabilità che tu colpisca il bullseye per la prima volta al terzo tentativo.\n",
        "\n",
        "La probabilità che ciò accada è data da:\n",
        "\n",
        "$$ P(X = k) = (1 - p)^{k-1} \\cdot p $$\n",
        "\n",
        "Per $ k = 3 $:\n",
        "\n",
        "$$ P(X = 3) = (1 - 0.2)^{3-1} \\cdot 0.2 = 0.8^2 \\cdot 0.2 = 0.128 $$"
      ],
      "metadata": {
        "id": "dd3N6P0qT-Wl"
      }
    },
    {
      "cell_type": "markdown",
      "source": [
        "\n",
        "**Codice Python per calcolare questa probabilità:**"
      ],
      "metadata": {
        "id": "6C9HmhBqUZlh"
      }
    },
    {
      "cell_type": "code",
      "source": [
        "import math\n",
        "\n",
        "def prob_geometrica(p, k):\n",
        "    return (1 - p)**(k - 1) * p\n",
        "\n",
        "p = 0.2\n",
        "k = 3\n",
        "print(f\"La probabilità di colpire il bullseye al terzo tentativo è: {prob_geometrica(p, k):.3f}\")"
      ],
      "metadata": {
        "colab": {
          "base_uri": "https://localhost:8080/"
        },
        "id": "mnI_KJhYUcgb",
        "outputId": "7070a2c7-5764-4887-c91e-588c460abe79"
      },
      "execution_count": null,
      "outputs": [
        {
          "output_type": "stream",
          "name": "stdout",
          "text": [
            "La probabilità di colpire il bullseye al terzo tentativo è: 0.128\n"
          ]
        }
      ]
    },
    {
      "cell_type": "markdown",
      "source": [
        "\n",
        "#### **Variabile Aleatoria di Pascal (o Binomiale Negativa)**\n",
        "\n",
        "**Definizione:** La variabile aleatoria di Pascal $ Y $ rappresenta il numero di tentativi necessari per ottenere $ r $ successi.\n",
        "\n",
        "**Esempio:**\n",
        "- Ora, invece, vuoi sapere quanti tentativi ti servono per colpire il bullseye esattamente 2 volte ($ r = 2 $).\n",
        "\n",
        "La probabilità che tu ottenga il secondo successo al $ k $-esimo tentativo è:\n",
        "$ P(Y = k) = \\binom{k-1}{r-1} \\cdot p^r \\cdot (1-p)^{k-r} $\n",
        "\n",
        "Per $ r = 2 $ e $ k = 5 $:\n",
        "\n",
        "$$ P(Y = 5) = \\binom{4}{1} \\cdot 0.2^2 \\cdot 0.8^3 = 4 \\cdot 0.04 \\cdot 0.512 = 0.08192 $$\n",
        "\n",
        "**Codice Python per calcolare questa probabilità:**"
      ],
      "metadata": {
        "id": "s5rfcS6XUflW"
      }
    },
    {
      "cell_type": "markdown",
      "source": [
        "\n",
        "\n",
        "\n",
        "\n",
        "### **Discussione:**\n",
        "\n",
        "- **Geometrica:** Questa distribuzione è utile quando si vuole sapere quanto tempo ci vuole per ottenere il primo successo in una serie di tentativi indipendenti.\n",
        "- **Pascal:** Questa estende il concetto, utile per sapere quanto tempo ci vuole per ottenere un numero fisso di successi, il che è molto utile in situazioni dove non ti basta un solo successo, ma ne servono diversi.\n",
        "\n",
        "### **Ricorda:**\n",
        "\n",
        "1. **Geometrica:** Calcolare la probabilità che il primo bullseye arrivi al quarto tentativo, con \\( p = 0.3 \\).\n",
        "   \n",
        "2. **Pascal:** Calcolare la probabilità di ottenere il terzo bullseye al settimo tentativo, sempre con \\( p = 0.3 \\)."
      ],
      "metadata": {
        "id": "KTU1x0E2T8p2"
      }
    },
    {
      "cell_type": "code",
      "source": [
        "import math\n",
        "\n",
        "def prob_pascal(r, p, k):\n",
        "    return math.comb(k-1, r-1) * (p**r) * ((1-p)**(k-r))\n",
        "\n",
        "r, p, k = 2, 0.2, 5\n",
        "print(f\"La probabilità di colpire il bullseye 2 volte entro il quinto tentativo è: {prob_pascal(r, p, k):.5f}\")"
      ],
      "metadata": {
        "colab": {
          "base_uri": "https://localhost:8080/"
        },
        "id": "pJH-UZqDUxzZ",
        "outputId": "82afefef-98ac-409c-a8c3-05ec0d13d471"
      },
      "execution_count": null,
      "outputs": [
        {
          "output_type": "stream",
          "name": "stdout",
          "text": [
            "La probabilità di colpire il bullseye 2 volte entro il quinto tentativo è: 0.08192\n"
          ]
        }
      ]
    },
    {
      "cell_type": "markdown",
      "source": [
        "### Un'altro esempio:\n",
        "\n",
        "Immagina di trovarci in un mondo in cui i giochi d'azzardo sono all'ordine del giorno. Un gruppo di amici decide di giocare a un gioco di dadi, e vogliono calcolare le probabilità di ottenere un certo risultato.\n",
        "\n",
        "#### La Variabile Aleatoria Geometrica\n",
        "\n",
        "Iniziamo con la variabile aleatoria geometrica. Supponiamo che uno dei nostri amici, Marco, voglia sapere quante volte deve lanciare un dado per ottenere un **6**. Ogni lancio del dado è un esperimento indipendente, e la probabilità di ottenere un **6** è $ p = \\frac{1}{6} $.\n",
        "\n",
        "La variabile aleatoria geometrica $ X $ rappresenta il numero di lanci necessari fino al primo successo (ovvero, fino a quando Marco ottiene un **6**).\n",
        "\n",
        "La funzione di probabilità della variabile aleatoria geometrica è data da:\n",
        "\n",
        "$$\n",
        "P(X = k) = (1 - p)^{k-1} \\cdot p\n",
        "$$\n",
        "\n",
        "dove:\n",
        "- $ k $ è il numero di lanci necessari,\n",
        "- $ p $ è la probabilità di successo in un singolo lancio.\n",
        "\n",
        "#### Esempio di Calcolo con Python\n",
        "\n",
        "Vediamo come calcolare la probabilità che Marco ottenga un **6** al quarto lancio:"
      ],
      "metadata": {
        "id": "7A7ms-6gVE28"
      }
    },
    {
      "cell_type": "code",
      "source": [
        "def probabilita_geometrica(k, p):\n",
        "    q = 1 - p  # probabilità di insuccesso\n",
        "    return (q ** (k - 1)) * p\n",
        "\n",
        "# Parametri\n",
        "k = 4  # numero di lanci\n",
        "p = 1/6  # probabilità di ottenere un 6\n",
        "\n",
        "# Calcolo della probabilità\n",
        "probabilita = probabilita_geometrica(k, p)\n",
        "print(f\"La probabilità di ottenere un 6 al quarto lancio è: {probabilita:.4f}\")"
      ],
      "metadata": {
        "colab": {
          "base_uri": "https://localhost:8080/"
        },
        "id": "cmp4_bkvVd2j",
        "outputId": "9635d61f-e258-4631-8419-5529698aae7e"
      },
      "execution_count": null,
      "outputs": [
        {
          "output_type": "stream",
          "name": "stdout",
          "text": [
            "La probabilità di ottenere un 6 al quarto lancio è: 0.0965\n"
          ]
        }
      ]
    },
    {
      "cell_type": "markdown",
      "source": [
        "### Media e Varianza della Distribuzione Geometrica\n",
        "\n",
        "## Media (Valore atteso)\n",
        "\n",
        "La media si calcola come:\n",
        "\n",
        "$$ \\mathbb{E}[X] = \\sum_{k=1}^{\\infty} k(1-p)^{k-1}p $$\n",
        "\n",
        "Per risolverla, usiamo la derivata della serie geometrica:\n",
        "$$ \\sum_{k=0}^{\\infty} x^k = \\frac{1}{1-x} \\text{ per }|x|<1 $$\n",
        "\n",
        "Derivando rispetto a x:\n",
        "$$ \\sum_{k=1}^{\\infty} kx^{k-1} = \\frac{1}{(1-x)^2} $$\n",
        "\n",
        "Moltiplicando per x:\n",
        "$$ \\sum_{k=1}^{\\infty} kx^k = \\frac{x}{(1-x)^2} $$\n",
        "\n",
        "Sostituendo $x = (1-p)$:\n",
        "$$ E[X] = p\\sum_{k=1}^{\\infty} k(1-p)^{k-1} = \\frac{1}{p} $$\n",
        "\n",
        "## Varianza\n",
        "\n",
        "La varianza si calcola come:\n",
        "$$ Var(X) = \\mathbb{E}[X^2] - (\\mathbb{E}[X])^2 $$\n",
        "\n",
        "Per trovare $\\mathbb{E}[X^2]$, usiamo la seconda derivata della serie geometrica:\n",
        "$$ \\sum_{k=1}^{\\infty} k^2x^{k-1} = \\frac{1+x}{(1-x)^3} $$\n",
        "\n",
        "Dopo alcuni passaggi algebrici:\n",
        "$$ \\mathbb{E}[X^2] = \\frac{2-p}{p^2} $$\n",
        "\n",
        "Quindi:\n",
        "$$ Var(X) = \\mathbb{E}[X^2] - (\\mathbb{E}[X])^2 = \\frac{2-p}{p^2} - \\frac{1}{p^2} = \\frac{1-p}{p^2} $$\n",
        "\n",
        "## Risultati finali\n",
        "\n",
        "Media: $$ \\mathbb{E}[X] = \\frac{1}{p} $$\n",
        "\n",
        "Varianza: $$ Var(X) = \\frac{1-p}{p^2} $$"
      ],
      "metadata": {
        "id": "dyDU_Y9ehxt7"
      }
    },
    {
      "cell_type": "markdown",
      "source": [
        "- **Approfondimento**: https://dariomalchiodi.gitlab.io/sad-python-book/L11-Distribuzione_geometrica.html"
      ],
      "metadata": {
        "id": "lqXggzZJVDYV"
      }
    }
  ]
}