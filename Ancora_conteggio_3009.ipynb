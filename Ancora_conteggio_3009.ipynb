{
  "nbformat": 4,
  "nbformat_minor": 0,
  "metadata": {
    "colab": {
      "provenance": [],
      "authorship_tag": "ABX9TyM3iXGMZ2+6486xpoagUe3j",
      "include_colab_link": true
    },
    "kernelspec": {
      "name": "python3",
      "display_name": "Python 3"
    },
    "language_info": {
      "name": "python"
    }
  },
  "cells": [
    {
      "cell_type": "markdown",
      "metadata": {
        "id": "view-in-github",
        "colab_type": "text"
      },
      "source": [
        "<a href=\"https://colab.research.google.com/github/QwertyJacob/colab_handouts_PSI/blob/main/Ancora_conteggio_3009.ipynb\" target=\"_parent\"><img src=\"https://colab.research.google.com/assets/colab-badge.svg\" alt=\"Open In Colab\"/></a>"
      ]
    },
    {
      "cell_type": "markdown",
      "source": [
        "# Permutazioni con ripetizione (il caso degli anagrammi e compagnia bella)\n",
        "____\n",
        "\n",
        "\n",
        "Consideriamo un insieme di $n$ elementi, dove ci sono $j$ tipi distinti di elementi, e ogni tipo $i \\in \\{0,1,2,...j\\}$ è ripetuto $k_i$ volte. La formula per il numero di permutazioni uniche in questo caso è:\n",
        "\n",
        "$$ \\frac{n!}{k_1!k_2!...k_j!} $$\n",
        "\n",
        "dove $n = k_1 + k_2 + ... + k_j$\n",
        "\n",
        "## Derivazione\n",
        "\n",
        "1) Iniziamo considerando il caso in cui tutti gli $n$ elementi fossero distinti. In questo caso, avremmo semplicemente $n!$ permutazioni.\n",
        "\n",
        "2) Tuttavia, non tutti gli elementi sono distinti. Per ogni tipo di elemento $i$, ci sono $k_i!$ permutazioni che producono lo stesso risultato (perché scambiare elementi dello stesso tipo non produce una nuova permutazione unica).\n",
        "\n",
        "3) Quindi, per ogni tipo di elemento $i$, dobbiamo dividere per $k_i!$ per eliminare queste permutazioni ridondanti.\n",
        "\n",
        "4) Applicando questo ragionamento a tutti i $j$ tipi di elementi, otteniamo la formula:\n",
        "\n",
        "   $$ \\frac{n!}{k_1!k_2!...k_j!} $$\n",
        "\n",
        "## Esempio\n",
        "\n",
        "Supponiamo di avere la parola \"MISSISSIPPI\". Questa parola ha:\n",
        "- 1 M\n",
        "- 4 I\n",
        "- 4 S\n",
        "- 2 P\n",
        "\n",
        "Quindi, $n = 11$, $j = 4$, $k_1 = 1$, $k_2 = 4$, $k_3 = 4$, $k_4 = 2$\n",
        "\n",
        "Il numero di permutazioni uniche è:\n",
        "\n",
        "$$ \\frac{11!}{1!4!4!2!} = 34\\,650 $$\n",
        "\n",
        "## Interpretazione combinatoria\n",
        "\n",
        "Un altro modo di vedere questa formula è considerarla come una sequenza di scelte:\n",
        "\n",
        "1) Abbiamo $n$ posizioni da riempire.\n",
        "\n",
        "2) Per la prima posizione, abbiamo $n$ scelte.\n",
        "\n",
        "3) Per la seconda, $n-1$ scelte, e così via.\n",
        "\n",
        "4) Questo ci darebbe $n!$ permutazioni se tutti gli elementi fossero distinti.\n",
        "\n",
        "5) Ma per ogni tipo di elemento $i$, le $k_i!$ permutazioni dei suoi elementi tra loro sono indistinguibili.\n",
        "\n",
        "6) Quindi dividiamo per tutti questi fattori per ottenere solo le permutazioni uniche.\n",
        "\n",
        "Questa interpretazione ci porta alla stessa formula:\n",
        "\n",
        "$$ \\frac{n!}{k_1!k_2!...k_j!} $$"
      ],
      "metadata": {
        "id": "eLmPIzC7i3BG"
      }
    },
    {
      "cell_type": "markdown",
      "source": [
        "## Combinazioni con ripetizione\n",
        "____________\n",
        "\n",
        "\n",
        "Il numero di combinazioni di classe $k$ presi da un insieme di $n$ elementi **con reinserimento** (o ripetizione) viene calcolata in questo modo:\n",
        "\n",
        "$$ \\binom{n+k-1}{k} = \\frac{(n+k-1)!}{(n-1)!k!} $$\n",
        "\n",
        "\n",
        "## Story Proof:\n",
        "\n",
        "Immagina di avere $n$ tipi di oggetti diversi e di voler scegliere $k$ oggetti in totale, **potendo ripetere le scelte.** Non importa l'ordine in cui scegli come quando vai ad un ristorante: importa soltanto quali piatti ordini e le  quantità di volte che ordini un determinato piatto.\n",
        "\n",
        "\n",
        "Immaginiamo che nel ristorante ci sono $n$ pietanze diverse e tu dai che ordinerai $k$ pietanze, ma non sai quali e non sai se ci saranno o meno delle ripetizioni. (Magari vai con degli amici e qualcuno ha gusti simili, ecc.)\n",
        "\n",
        "\n",
        "La soluzione equivale a trovare tutte le possibili \"allocazioni\" o di queste $k$ scelte negli $n$ piatti.\n"
      ],
      "metadata": {
        "id": "QCW8Jnh9eoCv"
      }
    },
    {
      "cell_type": "markdown",
      "source": [
        "\n",
        "Per visualizzare questo problema, immagina di avere $n$ contenitori (uno per ogni tipo di pietanza) allineati in fila.\n",
        "\n",
        "Ora, devi distribuire $k$ palline (rappresentanti le tue scelte) in questi contenitori.\n",
        "\n",
        "Un modo ingegnoso per rappresentare questa situazione è il seguente:\n",
        "\n",
        "- Metti $n-1$ separatori tra i contenitori.\n",
        "\n",
        "- Le $k$ palline rappresentano le tue scelte.\n",
        "\n",
        "\n",
        "Quindi, in totale, hai $n-1$ separatori e $k$ palline, per un totale di $(n-1) + k = n+k-1$ elementi.\n",
        "\n",
        "Il problema ora si riduce a: in quanti modi puoi disporre questi $n+k-1$ elementi, considerando che l'ordine dei separatori tra loro e l'ordine delle palline tra loro non importa?\n",
        "\n",
        "Questa è esattamente il caso che abbiamo appena visto, cioè quello delle permutazioni con elementi non tutti diversi! Abbiamo $n-1+k$ elementi, tra i quali ci sono elementi di due tipi diversi: palline (che sono $k$) e i separatori ( che sono n-1 ), e ci chiediamo i possibili ordinamenti di questi elementi, perché a seconda di come li disponiamo avremmo un _ordine_ diverso.\n",
        "\n",
        "Quindi, seguendo la formula vista prima, sappiamo che la soluzione sarà:\n",
        "$$\\frac{(n+k-1)!}{k!(n-1)!} $$\n",
        "\n",
        "Che non è altro che il coefficiente binomiale tra $n+k-1$ e $k$:\n",
        "\n",
        "$$ \\binom{n+k-1}{k}$$\n",
        "\n",
        "\n",
        "> **Esempio**: Supponiamo che il ristorante offra 4 piatti ($n = 4$) e tu voglia ordinare 3 portate in totale ($k = 3$).\n",
        "\n",
        "- supponiamo che la sequenza inzia e termina con le parentesi grafe:\n",
        "\n",
        "      { 1 X maccheroni al sugo | 2 X pennette alla vodka | 0 x fusilli al ragù | 0 X polenta e zola}                \n",
        "\n",
        "- I separatori sono :                       \n",
        "                                                   { | | | }                \n",
        "\n",
        "- Che aiuterebbero a separare le quantità dei diversi piatti:\n",
        "                             { [piatto1]  | [piatto2] | [piatto3] | [piatto4] }\n",
        "\n",
        "- Le tue scelte sono i puntini, e seguendo l'esempio di prima avremmo:\n",
        "                                 { • | • • | | }\n",
        "\n",
        "Quindi stiamo disponendo 6 elementi (3 separatori e 3 puntini) in fila.\n",
        "\n",
        "Un'altro esempio: la scelta:\n",
        "\n",
        "                            {  | • | • | • }\n",
        "\n",
        "rappresenta: niente maccheroni, un piatto di pennette, uno di fusilli e una polenta...\n",
        "\n",
        "Oppure:\n",
        "\n",
        "                { • | | • • | }\n",
        "    \n",
        "rappresenta: 1 piatto di maccheroni e due di fusilli\n",
        "\n",
        "Il numero totale di queste disposizioni è dato dalla formula:\n",
        "$$ \\binom{4+3-1}{3} = \\binom{6}{3} = \\frac{6!}{3!3!} = 20 $$\n",
        "Questo significa che ci sono 20 modi diversi di ordinare 3 piatti da un menu di 4 piatti, consentendo le ripetizioni."
      ],
      "metadata": {
        "id": "7VM2WfvDl_fg"
      }
    },
    {
      "cell_type": "code",
      "source": [
        "import math\n",
        "\n",
        "def combinazioni_con_ripetizione(n, k):\n",
        "  \"\"\"\n",
        "  Calcola il numero di combinazioni con ripetizione di k elementi presi da un insieme di n elementi.\n",
        "\n",
        "  Args:\n",
        "    n: Il numero di elementi nell'insieme.\n",
        "    k: Il numero di elementi da scegliere.\n",
        "\n",
        "  Returns:\n",
        "    Il numero di combinazioni con ripetizione.\n",
        "  \"\"\"\n",
        "  return math.comb(n + k - 1, k)\n",
        "\n",
        "# Esempio:\n",
        "n = 4  # Numero di piatti nel menu\n",
        "k = 3  # Numero di piatti da ordinare\n",
        "\n",
        "numero_combinazioni = combinazioni_con_ripetizione(n, k)\n",
        "print(f\"Ci sono {numero_combinazioni} modi diversi di ordinare {k} piatti da un menu di {n} piatti, consentendo le ripetizioni.\")\n"
      ],
      "metadata": {
        "colab": {
          "base_uri": "https://localhost:8080/"
        },
        "id": "agWmJ-ZUpgGa",
        "outputId": "11edcba2-5e99-408d-d5f4-72b4d9292d9e"
      },
      "execution_count": 1,
      "outputs": [
        {
          "output_type": "stream",
          "name": "stdout",
          "text": [
            "Ci sono 20 modi diversi di ordinare 3 piatti da un menu di 4 piatti, consentendo le ripetizioni.\n"
          ]
        }
      ]
    },
    {
      "cell_type": "code",
      "source": [
        "from itertools import product\n",
        "from collections import Counter\n",
        "\n",
        "def count_unique_combinations(n, k):\n",
        "    # Genera tutte le possibili disposizioni con ripetizione\n",
        "    all_dispositions = product(range(n), repeat=k)\n",
        "\n",
        "    # Set per memorizzare le combinazioni uniche\n",
        "    unique_combinations = set()\n",
        "\n",
        "    for disposition in all_dispositions:\n",
        "        # Ordina la disposizione e convertila in tupla per renderla hashable\n",
        "        sorted_disposition = tuple(sorted(disposition))\n",
        "        unique_combinations.add(sorted_disposition)\n",
        "\n",
        "    return len(unique_combinations)\n",
        "\n",
        "# Test della funzione\n",
        "n = 4  # numero di piatti\n",
        "k = 3  # numero di scelte\n",
        "\n",
        "result = count_unique_combinations(n, k)\n",
        "print(f\"Numero di combinazioni uniche con {n} piatti e {k} scelte: {result}\")\n",
        "\n",
        "# Verifica con la formula teorica\n",
        "from math import comb\n",
        "theoretical = comb(n + k - 1, k)\n",
        "print(f\"Risultato teorico: {theoretical}\")\n",
        "print(f\"I risultati coincidono: {result == theoretical}\")\n",
        "\n",
        "# Funzione per visualizzare alcune combinazioni\n",
        "def print_some_combinations(n, k, limit=10):\n",
        "    all_dispositions = product(range(n), repeat=k)\n",
        "    unique_combinations = set()\n",
        "\n",
        "    for disposition in all_dispositions:\n",
        "        sorted_disposition = tuple(sorted(disposition))\n",
        "        if sorted_disposition not in unique_combinations:\n",
        "            unique_combinations.add(sorted_disposition)\n",
        "            print(f\"Combinazione: {sorted_disposition}\")\n",
        "            if len(unique_combinations) >= limit:\n",
        "                break\n",
        "\n",
        "print(\"\\nAlcune combinazioni uniche:\")\n",
        "print_some_combinations(n, k)"
      ],
      "metadata": {
        "colab": {
          "base_uri": "https://localhost:8080/"
        },
        "id": "XsNkt4BIpqDM",
        "outputId": "f14ce6ab-6b02-4d5e-dc3c-ca0ae1fa1245"
      },
      "execution_count": 3,
      "outputs": [
        {
          "output_type": "stream",
          "name": "stdout",
          "text": [
            "Numero di combinazioni uniche con 4 piatti e 3 scelte: 20\n",
            "Risultato teorico: 20\n",
            "I risultati coincidono: True\n",
            "\n",
            "Alcune combinazioni uniche:\n",
            "Combinazione: (0, 0, 0)\n",
            "Combinazione: (0, 0, 1)\n",
            "Combinazione: (0, 0, 2)\n",
            "Combinazione: (0, 0, 3)\n",
            "Combinazione: (0, 1, 1)\n",
            "Combinazione: (0, 1, 2)\n",
            "Combinazione: (0, 1, 3)\n",
            "Combinazione: (0, 2, 2)\n",
            "Combinazione: (0, 2, 3)\n",
            "Combinazione: (0, 3, 3)\n"
          ]
        }
      ]
    }
  ]
}