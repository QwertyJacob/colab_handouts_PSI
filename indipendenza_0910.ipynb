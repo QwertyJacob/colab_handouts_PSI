{
  "nbformat": 4,
  "nbformat_minor": 0,
  "metadata": {
    "colab": {
      "provenance": [],
      "authorship_tag": "ABX9TyNC0XucUkIGoIPlAoopJETu",
      "include_colab_link": true
    },
    "kernelspec": {
      "name": "python3",
      "display_name": "Python 3"
    },
    "language_info": {
      "name": "python"
    }
  },
  "cells": [
    {
      "cell_type": "markdown",
      "metadata": {
        "id": "view-in-github",
        "colab_type": "text"
      },
      "source": [
        "<a href=\"https://colab.research.google.com/github/QwertyJacob/colab_handouts_PSI/blob/main/indipendenza_0910.ipynb\" target=\"_parent\"><img src=\"https://colab.research.google.com/assets/colab-badge.svg\" alt=\"Open In Colab\"/></a>"
      ]
    },
    {
      "cell_type": "markdown",
      "source": [
        "# Le probabilità degli eventi:\n",
        "____________\n",
        "\n"
      ],
      "metadata": {
        "id": "oTY90MYwaCSR"
      }
    },
    {
      "cell_type": "markdown",
      "source": [
        "- Abbiamo visto che, quando gli esiti di un esperimento aleatorio sono equiprobabili, la probabilità può essere intesa  come un rapporto tra casi -o esiti- favorevoli  e casi -o esiti- totali (definizione classica della probabilità).\n",
        "- Se gli esiti non fossero equiprobabili, allora la probabilità corrisponderebbe alla frequenza di occorrenza di ogni esito in un insieme vasto di simulazioni (definizione frequentista).\n",
        "\n",
        "> In ogni caso, una volta definite le probabilità degli esiti, abbiamo visto che la probabilità di un evento corrisponde alla somma delle singole probabilità degli esiti che sono contenuti in quell'evento."
      ],
      "metadata": {
        "id": "-wr9b09dBr2B"
      }
    },
    {
      "cell_type": "markdown",
      "source": [
        "## Operazioni Insiemistiche nella Teoria della Probabilità\n",
        "\n",
        "Nella teoria della probabilità, un **evento** è rappresentato come un **sottoinsieme** dello spazio degli eventi, denotato generalmente con $\\Omega$. Le operazioni tra insiemi corrispondono ad operazioni tra eventi, ecco le principali:\n"
      ],
      "metadata": {
        "id": "PUkygJpEGho8"
      }
    },
    {
      "cell_type": "markdown",
      "source": [
        "### 1. Intersezione di Eventi\n",
        "L'intersezione di due eventi $\\mathcal{A}$ e $\\mathcal{B}$, denotata come $\\mathcal{A} \\cap \\mathcal{B}$, rappresenta l'evento che contiene solo gli esiti che appartengono (_contemporaneamente_) **sia a** $\\mathcal{A}$ **che a** $\\mathcal{B}$:\n",
        "\n",
        "$$\n",
        "\\mathcal{A} \\cap \\mathcal{B} = \\{ \\omega \\mid \\omega \\in \\mathcal{A} \\wedge \\omega \\in \\mathcal{B} \\}\n",
        "$$\n",
        "\n",
        "Nel contesto della probabilità, diciamo che si verifica $\\mathcal{A} \\cap \\mathcal{B}$ quando si verifica un esito che appartiene **ad entrambi** gli eventi $\\mathcal{A}$ e $\\mathcal{B}$. La probabilità di questo evento verrà denotata così:\n",
        "\n",
        "$$\n",
        "P(\\mathcal{A} \\cap \\mathcal{B})\n",
        "$$\n",
        "\n",
        "Vedremo più avanti che, se $\\mathcal{A}$ e $\\mathcal{B}$ sono eventi **indipendenti**, allora la probabilità della loro intersezione è:\n",
        "\n",
        "$$\n",
        "P(\\mathcal{A} \\cap \\mathcal{B}) = P(\\mathcal{A}) P(\\mathcal{B})\n",
        "$$\n",
        "\n",
        "(per eventi indipendenti, la probabilità che entrambi si verifichino è il prodotto delle loro probabilità di ogni evento.)\n"
      ],
      "metadata": {
        "id": "VeF3-d88Gksd"
      }
    },
    {
      "cell_type": "code",
      "source": [
        "import matplotlib.pyplot as plt\n",
        "from matplotlib_venn import venn2\n",
        "import matplotlib.patches as patches\n",
        "\n",
        "def plot_venn_diagram_union(p_a, p_b, p_intersection):\n",
        "  \"\"\"\n",
        "  Plots a Venn diagram representing the union of two events A and B.\n",
        "\n",
        "  Args:\n",
        "    p_a: Probability of event A.\n",
        "    p_b: Probability of event B.\n",
        "    p_intersection: Probability of the intersection of A and B (A ∩ B).\n",
        "  \"\"\"\n",
        "\n",
        "  p_union = p_a + p_b - p_intersection\n",
        "\n",
        "  venn2(subsets=(\n",
        "      round(p_a - p_intersection,1),\n",
        "      round(p_b - p_intersection,1),\n",
        "      round(p_intersection,1)),\n",
        "        set_labels=(r'$\\mathcal{A}$', r'$\\mathcal{B}$'))\n",
        "\n",
        "  plt.title('Venn Diagram of Events A and B')\n",
        "  plt.show()\n",
        "\n",
        "# Example usage:\n",
        "plot_venn_diagram_union(p_a=0.6, p_b=0.4, p_intersection=0.2)\n",
        "print('Probabilità di A = 0.6')\n",
        "print('Probatilità di B = 0.4')\n",
        "print('Probabilità di A intersecato B = 0.2')"
      ],
      "metadata": {
        "colab": {
          "base_uri": "https://localhost:8080/",
          "height": 481
        },
        "id": "HU3IsR_AIbZR",
        "outputId": "30622054-01d0-43bb-e977-b7faf136a2b6"
      },
      "execution_count": null,
      "outputs": [
        {
          "output_type": "display_data",
          "data": {
            "text/plain": [
              "<Figure size 640x480 with 1 Axes>"
            ],
            "image/png": "[encoded data removed]"
          },
          "metadata": {}
        },
        {
          "output_type": "stream",
          "name": "stdout",
          "text": [
            "Probabilità di A = 0.6\n",
            "Probatilità di B = 0.4\n",
            "Probabilità di A intersecato B = 0.2\n"
          ]
        }
      ]
    },
    {
      "cell_type": "markdown",
      "source": [
        "### 2. Evento Complementare\n",
        "\n",
        "Dato uno spazio campionario $\\Omega$ e un evento $A \\subseteq \\Omega$, l'**evento complementare** di $\\mathcal{A}$, indicato con $\\mathcal{A}^c$ oppure $\\overline{\\mathcal{A}}$, è definito come l'insieme di tutti gli esiti dello spazio campionario **che non appartengono** ad $\\mathcal{A}$.\n",
        "\n",
        "Formalmente:\n",
        "\n",
        "$$\\mathcal{A}^c = \\{\\omega \\in \\Omega : \\omega \\notin \\mathcal{A}\\}$$\n",
        "\n",
        "#### Proprietà fondamentali\n",
        "\n",
        "1. $(\\mathcal{A}^c)^c = \\mathcal{A}$\n",
        "2. $\\mathcal{A} \\cup \\mathcal{A}^c = \\Omega$\n",
        "3. $\\mathcal{A}A \\cap \\mathcal{A}^c = \\emptyset$\n",
        "4. $P(\\mathcal{A}^c) = 1 - P(\\mathcal{A})$\n",
        "\n",
        "#### Esempio\n",
        "\n",
        "Se lanciamo un dado a sei facce e definiamo l'evento $\\mathcal{A}$ come \"esce un numero pari\", allora:\n",
        "\n",
        "- $\\mathcal{A} = \\{2, 4, 6\\}$\n",
        "- \\mathcal{A}^c = \\{1, 3, 5\\}$\n",
        "\n",
        "In questo caso, abbiamo che $P(\\mathcal{A}) = \\frac{3}{6} = \\frac{1}{2}$ e $P(\\mathcal{A}^c) = \\frac{3}{6} = \\frac{1}{2}$"
      ],
      "metadata": {
        "id": "TH5e6k0LCTZd"
      }
    },
    {
      "cell_type": "code",
      "source": [
        "import matplotlib.pyplot as plt\n",
        "import matplotlib.patches as patches\n",
        "\n",
        "fig, ax = plt.subplots(figsize=(6, 4))\n",
        "\n",
        "# Black rectangle\n",
        "rect = patches.Rectangle((0, 0), 1, 1, linewidth=1, edgecolor='black', facecolor='black')\n",
        "ax.add_patch(rect)\n",
        "\n",
        "# White circle\n",
        "circle = patches.Circle((0.5, 0.5), 0.3, linewidth=1, edgecolor='white', facecolor='white')\n",
        "ax.add_patch(circle)\n",
        "\n",
        "# Add labels\n",
        "ax.text(0.5, 0.5, r'$\\mathcal{A}$', ha='center', va='center', color='black', fontsize=16)\n",
        "ax.text(0.5, 0.1, r'$\\mathcal{A}^c$', ha='center', va='center', color='white', fontsize=16)\n",
        "ax.text(0.5, 1.1, r'$\\Omega$', ha='center', va='center', color='red', fontsize=16)\n",
        "\n",
        "\n",
        "# Remove axes and set background color\n",
        "ax.axis('off')\n",
        "fig.patch.set_facecolor('black')\n",
        "\n",
        "plt.show()\n"
      ],
      "metadata": {
        "colab": {
          "base_uri": "https://localhost:8080/",
          "height": 385
        },
        "id": "MtH_CPVIHnMt",
        "outputId": "7ff3d797-4115-4dcb-ab65-85677748c548"
      },
      "execution_count": null,
      "outputs": [
        {
          "output_type": "display_data",
          "data": {
            "text/plain": [
              "<Figure size 600x400 with 1 Axes>"
            ],
            "image/png": "[encoded data removed]"
          },
          "metadata": {}
        }
      ]
    },
    {
      "cell_type": "markdown",
      "source": [
        "###  3. Unione di Eventi\n",
        "L'unione di due eventi $\\mathcal{A}$ e $\\mathcal{B}$, denotata come $\\mathcal{A} \\cup \\mathcal{B}$, rappresenta l'evento che contiene tutti gli esiti sia di $\\mathcal{A}$ che di $\\mathcal{B}$:\n",
        "\n",
        "$$\\mathcal{A} \\cup \\mathcal{B} = \\{ \\omega | \\omega \\in \\mathcal{A} \\vee x \\in \\mathcal{B} \\}$$\n",
        "\n",
        "Nel contesto della probabilità, avremmo che si verifica $\\mathcal{A} \\cup \\mathcal{B}$ quando si verifica un esito contenuto in **almeno uno** degli eventi  $\\mathcal{A}$ o $\\mathcal{B}$. Non sará difficile renderci conto che vale la seguente uguaglianza per la probabilità:\n",
        "\n",
        "$$\n",
        "P(\\mathcal{A} \\cup \\mathcal{B}) = P(\\mathcal{A}) + P(\\mathcal{B}) - P(\\mathcal{A} \\cap \\mathcal{B})\n",
        "$$"
      ],
      "metadata": {
        "id": "hDLnatVwIZaH"
      }
    },
    {
      "cell_type": "code",
      "source": [
        "plot_venn_diagram_union(p_a=0.7, p_b=0.4, p_intersection=0.2)\n",
        "print('Probabilità di A = 0.7')\n",
        "print('Probatilità di B = 0.4')\n",
        "print('Probabilità di A intersecato B = 0.2')\n",
        "print('Probabilità di A unione B = 0.7 + 0.4 - 0.2 = 0.9')"
      ],
      "metadata": {
        "colab": {
          "base_uri": "https://localhost:8080/",
          "height": 498
        },
        "id": "Ew646enJJWdt",
        "outputId": "6e9390e9-1722-48ac-cf2a-579468769a21"
      },
      "execution_count": null,
      "outputs": [
        {
          "output_type": "display_data",
          "data": {
            "text/plain": [
              "<Figure size 640x480 with 1 Axes>"
            ],
            "image/png": "[encoded data removed]"
          },
          "metadata": {}
        },
        {
          "output_type": "stream",
          "name": "stdout",
          "text": [
            "Probabilità di A = 0.7\n",
            "Probatilità di B = 0.4\n",
            "Probabilità di A intersecato B = 0.2\n",
            "Probabilità di A unione B = 0.7 + 0.4 - 0.2 = 0.9\n"
          ]
        }
      ]
    },
    {
      "cell_type": "markdown",
      "source": [
        "\n",
        "#### Caso degli eventi *mutuamente esclusivi*\n",
        "Due eventi $\\mathcal{A}$ e $\\mathcal{B}$ sono mutuamente esclusivi  se non possono verificarsi contemporaneamente, cioè, se corrispondono ad insieme disgiunti di esiti, cioè $\n",
        "\\mathcal{A} \\cap \\mathcal{B} = \\emptyset\n",
        "$.\n",
        "\n",
        "In questo caso, la probabilità dell'unione è:\n",
        "\n",
        "$$\n",
        "P(\\mathcal{A} \\cup \\mathcal{B}) = P(\\mathcal{A}) + P(\\mathcal{B})\n",
        "$$"
      ],
      "metadata": {
        "id": "Fed3POq8LjtM"
      }
    },
    {
      "cell_type": "code",
      "source": [
        "plot_venn_diagram_union(p_a=0.5, p_b=0.4, p_intersection=0.0)\n",
        "print('Probabilità di A = 0.5')\n",
        "print('Probatilità di B = 0.4')\n",
        "print('Probabilità di A intersecato B = 0')\n",
        "print('Probabilità di A unione B = 0.5 + 0.4 - 0 = 0.9')"
      ],
      "metadata": {
        "colab": {
          "base_uri": "https://localhost:8080/",
          "height": 364
        },
        "id": "w4ooBiD2JzeZ",
        "outputId": "44c67905-8518-4883-8eba-36863e38c3ec"
      },
      "execution_count": null,
      "outputs": [
        {
          "output_type": "display_data",
          "data": {
            "text/plain": [
              "<Figure size 640x480 with 1 Axes>"
            ],
            "image/png": "[encoded data removed]"
          },
          "metadata": {}
        },
        {
          "output_type": "stream",
          "name": "stdout",
          "text": [
            "Probabilità di A = 0.5\n",
            "Probatilità di B = 0.4\n",
            "Probabilità di A intersecato B = 0\n",
            "Probabilità di A unione B = 0.5 + 0.4 - 0 = 0.9\n"
          ]
        }
      ]
    },
    {
      "cell_type": "markdown",
      "source": [
        "### 4. Differenza tra Eventi\n",
        "La differenza tra due eventi $\\mathcal{A}$ e $\\mathcal{B}$, denotata come $\\mathcal{A} \\setminus \\mathcal{B}$, rappresenta l'evento che contiene tutti gli esiti che appartengono ad $\\mathcal{A}$ **ma non** a $\\mathcal{B}$:\n",
        "\n",
        "$$\n",
        "\\mathcal{A} \\setminus \\mathcal{B} = \\{ \\omega \\mid \\omega \\in \\mathcal{A} \\wedge \\omega \\notin \\mathcal{B} \\}\n",
        "$$\n",
        "\n",
        "Nel contesto della probabilità, si verifica $\\mathcal{A} \\setminus \\mathcal{B}$ quando l'esito appartiene all'evento $\\mathcal{A}$ ma **non** all'evento $\\mathcal{B}$. La probabilità di questo evento sarà data da:\n",
        "\n",
        "$$\n",
        "P(\\mathcal{A} \\setminus \\mathcal{B}) = P(\\mathcal{A}) - P(\\mathcal{A} \\cap \\mathcal{B})\n",
        "$$\n",
        "\n",
        "Questa formula riflette il fatto che stiamo sottraendo dalla probabilità di $\\mathcal{A}$ gli esiti che appartengono anche a $\\mathcal{B}$, cioè l'intersezione tra $\\mathcal{A}$ e $\\mathcal{B}$."
      ],
      "metadata": {
        "id": "ilOrvMbCKY8s"
      }
    },
    {
      "cell_type": "code",
      "source": [
        "plot_venn_diagram_union(p_a=0.5, p_b=0.4, p_intersection=0.3)\n",
        "print('Probabilità di A = 0.5')\n",
        "print('Probatilità di B = 0.4')\n",
        "print('Probabilità di A intersecato B = 0.3')\n",
        "print('Probabilità di A meno B = 0.5 - 0.3 = 0.2')"
      ],
      "metadata": {
        "colab": {
          "base_uri": "https://localhost:8080/",
          "height": 500
        },
        "id": "h_5QNAr4KrVs",
        "outputId": "1c990a56-66bd-4711-8f98-eb2a72893c8b"
      },
      "execution_count": null,
      "outputs": [
        {
          "output_type": "display_data",
          "data": {
            "text/plain": [
              "<Figure size 640x480 with 1 Axes>"
            ],
            "image/png": "[encoded data removed]"
          },
          "metadata": {}
        },
        {
          "output_type": "stream",
          "name": "stdout",
          "text": [
            "Probabilità di A = 0.5\n",
            "Probatilità di B = 0.4\n",
            "Probabilità di A intersecato B = 0.3\n",
            "Probabilità di A meno B = 0.5 - 0.3 = 0.2\n"
          ]
        }
      ]
    },
    {
      "cell_type": "markdown",
      "source": [
        "\n",
        "\n",
        "\n",
        "### 6. Formula di Bayes\n",
        "Un'applicazione importante delle operazioni insiemistiche nella teoria della probabilità è la **formula di Bayes**, che permette di aggiornare le probabilità condizionate:\n",
        "\n",
        "\\[\n",
        "P(\\mathcal{A} \\mid \\mathcal{B}) = \\frac{P(\\mathcal{B} \\mid \\mathcal{A}) P(\\mathcal{A})}{P(\\mathcal{B})}\n",
        "\\]\n",
        "\n",
        "dove $P(\\mathcal{A} \\mid \\mathcal{B})$ rappresenta la probabilità che l'evento $\\mathcal{A}$ si verifichi dato che $\\mathcal{B}$ si è verificato.\n",
        "\n",
        "### 7. Partizione di uno Spazio di Eventi\n",
        "Una famiglia di eventi $\\mathcal{A}_1, \\mathcal{A}_2, \\dots, \\mathcal{A}_n$ è una **partizione** dello spazio campionario $\\Omega$ se:\n",
        "\n",
        "- Gli eventi sono **mutuamente esclusivi**, ossia $\\mathcal{A}_i \\cap \\mathcal{A}_j = \\emptyset$ per $i \\neq j$.\n",
        "- La loro unione forma l'intero spazio campionario: $\\mathcal{A}_1 \\cup \\mathcal{A}_2 \\cup \\dots \\cup \\mathcal{A}_n = \\Omega$.\n",
        "\n",
        "In questo contesto, possiamo applicare la **legge totale della probabilità**:\n",
        "\n",
        "\\[\n",
        "P(\\mathcal{B}) = \\sum_{i=1}^{n} P(\\mathcal{B} \\mid \\mathcal{A}_i) P(\\mathcal{A}_i)\n",
        "\\]\n",
        "\n",
        "---\n",
        "\n",
        "Spero che questa spiegazione delle operazioni insiemistiche nella teoria della probabilità ti sia stata utile!"
      ],
      "metadata": {
        "id": "vxeNdAbxDqLr"
      }
    },
    {
      "cell_type": "markdown",
      "source": [
        "# Eventi Indipendenti\n",
        "\n",
        "Due eventi $A$ e $B$ in uno spazio campionario $\\Omega$ si dicono **indipendenti** se il verificarsi di uno non influenza la probabilità del verificarsi dell'altro.\n",
        "\n",
        "## Definizione Formale\n",
        "\n",
        "Due eventi $A$ e $B$ sono indipendenti se e solo se:\n",
        "\n",
        "$$P(A \\cap B) = P(A) \\cdot P(B)$$\n",
        "\n",
        "## Proprietà fondamentali\n",
        "\n",
        "1. Se $A$ e $B$ sono indipendenti, allora:\n",
        "   - $A$ e $B^c$ sono indipendenti\n",
        "   - $A^c$ e $B$ sono indipendenti\n",
        "   - $A^c$ e $B^c$ sono indipendenti\n",
        "\n",
        "2. La probabilità condizionata di eventi indipendenti rimane invariata:\n",
        "   $$P(A|B) = P(A) \\quad \\text{e} \\quad P(B|A) = P(B)$$\n",
        "\n",
        "3. L'indipendenza non implica la disgiunzione:\n",
        "   - Eventi disgiunti ($A \\cap B = \\emptyset$) con probabilità non nulla non possono essere indipendenti\n",
        "\n",
        "## Generalizzazione a più eventi\n",
        "\n",
        "Tre eventi $A$, $B$ e $C$ sono mutualmente indipendenti se:\n",
        "- $P(A \\cap B) = P(A) \\cdot P(B)$\n",
        "- $P(A \\cap C) = P(A) \\cdot P(C)$\n",
        "- $P(B \\cap C) = P(B) \\cdot P(C)$\n",
        "- $P(A \\cap B \\cap C) = P(A) \\cdot P(B) \\cdot P(C)$\n",
        "\n",
        "## Esempio\n",
        "\n",
        "Nel lancio di due dadi:\n",
        "- Sia $A$ l'evento \"il primo dado mostra 6\"\n",
        "- Sia $B$ l'evento \"il secondo dado mostra 6\"\n",
        "\n",
        "Questi eventi sono indipendenti poiché:\n",
        "- $P(A) = \\frac{1}{6}$\n",
        "- $P(B) = \\frac{1}{6}$\n",
        "- $P(A \\cap B) = \\frac{1}{36} = \\frac{1}{6} \\cdot \\frac{1}{6} = P(A) \\cdot P(B)$\n",
        "\n",
        "## Nota importante\n",
        "L'indipendenza di eventi è un concetto probabilistico e non deve essere confusa con l'incompatibilità. Due eventi incompatibili (disgiunti) con probabilità non nulla sono sempre dipendenti."
      ],
      "metadata": {
        "id": "lskrF9YWL7lu"
      }
    },
    {
      "cell_type": "markdown",
      "source": [
        "# Esempio 1: Compleanni Condivisi\n",
        "\n",
        "## Problema\n",
        "Qual è la probabilità che, in una stanza con 30 persone, ci sia almeno una coppia di persone che compie gli anni lo stesso giorno?\n",
        "\n",
        "## Soluzione\n",
        "\n",
        "Semplifichiamo il problema assumendo che:\n",
        "1. Ogni anno abbia 365 giorni\n",
        "2. Nessun giorno sia speciale (ovvero, ogni giorno ha la stessa probabilità di essere un compleanno)\n",
        "\n",
        "Questo modello non è perfetto (ci tendono ad essere leggermente più nascite circa 9 mesi dopo: l'inizio della primavera, blackout, grandi disastri, e così via) ma è utilizzabile.\n",
        "\n",
        "### Approccio\n",
        "Il modo più semplice per affrontare questa domanda è notare che la probabilità cercata, $P(\\text{compleanno condiviso})$, è:\n",
        "\n",
        "$$P(\\text{compleanno condiviso}) = 1 - P(\\text{tutti compleanni diversi})$$\n",
        "\n",
        "Questa seconda probabilità è più facile da calcolare. Ogni esito nello spazio campionario è una lista di 30 giorni (un compleanno per persona). Ogni esito ha la stessa probabilità. Quindi:\n",
        "\n",
        "$$P(\\text{tutti compleanni diversi}) = \\frac{\\text{Numero di esiti nell'evento}}{\\text{Numero totale di esiti}}$$\n",
        "\n",
        "### Calcolo\n",
        "\n",
        "1. Il numero totale di esiti è facilmente calcolabile come $365^{30}$, che è il numero totale di possibili liste di 30 giorni.\n",
        "\n",
        "2. Il numero di esiti nell'evento è il numero di liste di 30 giorni, tutti diversi. Per contarli, notiamo che ci sono:\n",
        "   - 365 scelte per il primo giorno\n",
        "   - 364 per il secondo\n",
        "   - e così via\n",
        "\n",
        "Quindi:\n",
        "\n",
        "$$P(\\text{compleanno condiviso}) = 1 - \\frac{365 \\cdot 364 \\cdot ... \\cdot 336}{365^{30}} \\approx 1 - 0,29 = 0,71$$\n",
        "\n",
        "## Conclusione\n",
        "Questo significa che c'è una probabilità del 71% che in una stanza di 30 persone, almeno due persone condividano lo stesso compleanno. Una probabilità sorprendentemente alta!"
      ],
      "metadata": {
        "id": "R1cUQUflQ53r"
      }
    },
    {
      "cell_type": "markdown",
      "source": [
        "# Esempio 2: Scommessa sul Proprio Compleanno\n",
        "\n",
        "## Problema\n",
        "Scommetti che in una stanza con altre 29 persone (quindi 30 persone in totale, te compreso) ci sia qualcuno che compie gli anni nel tuo stesso giorno. Assumendo di non sapere nulla sulle altre 29 persone, qual è la probabilità di vincere la scommessa?\n",
        "\n",
        "## Soluzione\n",
        "\n",
        "### Approccio\n",
        "Il modo più semplice per risolvere questo problema è calcolare:\n",
        "\n",
        "$$P(\\text{vincita}) = 1 - P(\\text{perdita})$$\n",
        "\n",
        "### Analisi\n",
        "Perderai se nessuno ha il tuo stesso compleanno. Possiamo pensare ai compleanni delle altre persone nella stanza come a una lista di 29 giorni dell'anno. Se il tuo compleanno è nella lista, vinci; se non lo è, perdi.\n",
        "\n",
        "### Calcolo\n",
        "Il numero di liste perdenti è il numero di liste di 29 giorni dell'anno tali che il tuo compleanno non sia nella lista. Questo numero è facile da ottenere:\n",
        "- Abbiamo 364 giorni dell'anno da cui scegliere (tutti tranne il tuo compleanno)\n",
        "- Dobbiamo fare 29 scelte (una per ogni altra persona)\n",
        "\n",
        "Il numero totale di possibili liste è il numero di liste di 29 giorni dell'anno. Ogni lista ha la stessa probabilità.\n",
        "\n",
        "Quindi:\n",
        "\n",
        "$$P(\\text{perdita}) = \\frac{364^{29}}{365^{29}}$$\n",
        "\n",
        "E di conseguenza:\n",
        "\n",
        "$$P(\\text{vincita}) = 1 - \\frac{364^{29}}{365^{29}} \\approx 0,0765$$\n",
        "\n",
        "## Conclusione\n",
        "La probabilità di vincere questa scommessa è solo circa del 7,65%, molto più bassa rispetto alla probabilità del 71% dell'esempio precedente dove si scommetteva sulla presenza di una qualsiasi coppia di persone con lo stesso compleanno.\n",
        "\n",
        "## Confronto con l'esempio precedente\n",
        "Questa notevole differenza nelle probabilità (71% vs 7,65%) dimostra come l'intuizione umana possa essere fuorviante quando si tratta di problemi di probabilità. Nel primo caso, stiamo considerando tutte le possibili coincidenze di compleanno tra 30 persone, che sono molte di più rispetto al secondo caso, dove consideriamo solo le coincidenze che includono una data specifica.\n",
        "\n",
        "### Formula per il numero di coppie possibili\n",
        "Per comprendere meglio la differenza, possiamo calcolare il numero di coppie di persone possibili in un gruppo di 30 persone: (dovremmo essere esperti a questo punto a fare questi calcoli ;)\n",
        "\n",
        "$$\\binom{30}{2} = \\frac{30!}{2!(30-2)!} = 435 \\text{ coppie possibili}$$\n",
        "\n",
        "Nel secondo caso, consideriamo solo 29 possibili coppie (tu con ciascuna delle altre persone)."
      ],
      "metadata": {
        "id": "eEHaX0_dRe3Q"
      }
    },
    {
      "cell_type": "markdown",
      "source": [
        "## Esempio 3: Divisibilità per 2 ma non per 5\n",
        "\n",
        "### Problema\n",
        "Lanci due dadi equi a sei facce e sommi il numero di punti ottenuti. Qual è la probabilità di ottenere un numero divisibile per 2, ma non per 5?\n",
        "\n",
        "### Soluzione\n",
        "Definiamo $D_n$ come l'evento \"il numero è divisibile per $n$\".\n",
        "\n",
        "#### Analisi\n",
        "1. Calcoliamo $P(D_2)$:\n",
        "   - La somma è pari se esce: (pari + pari) o (dispari + dispari), ora, ogni dado ha lo stesso numero di facce pari e dispari, quindi le probabilità di ottenere (pari + pari) o (dispari + dispari) è la stessa della probabilità di ottenere (pari + dispari) o (dispari + pari), e questi sono eventi complementari (la somma è divisibile per due nel primo caso e non lo è nel secondo), quindi:\n",
        "   - Quindi $P(D_2) = \\frac{1}{2}$\n",
        "\n",
        "\n",
        "2. Per trovare $P(D_2 \\setminus D_5)$, usiamo:\n",
        "   $$P(D_2 \\setminus D_5) = P(D_2) - P(D_2 \\cap D_5)$$\n",
        "\n",
        "3. $D_2 \\cap D_5$ contiene solo tre esiti:\n",
        "   - (5,5) per somma 10\n",
        "   - (4,6) e (6,4) per somma 10\n",
        "\n",
        "#### Calcolo finale\n",
        "$$P(D_2 \\setminus D_5) = \\frac{18}{36} - \\frac{3}{36} = \\frac{15}{36} = \\frac{5}{12}$$\n",
        "\n",
        "## Esempio 4: Divisibilità per 2 o per 5\n",
        "\n",
        "### Problema\n",
        "Lanci due dadi equi a sei facce. Qual è la probabilità che la somma sia divisibile per 2 _oppure_ per 5, o entrambi?\n",
        "\n",
        "### Soluzione\n",
        "Vogliamo calcolare $P(D_2 \\cup D_5)$.\n",
        "\n",
        "#### Analisi usando la formula dell'unione\n",
        "$$P(D_2 \\cup D_5) = P(D_2) + P(D_5) - P(D_2 \\cap D_5)$$\n",
        "\n",
        "Dal problema precedente sappiamo che:\n",
        "- $P(D_2) = \\frac{1}{2} = \\frac{18}{36}$\n",
        "- $P(D_2 \\cap D_5) = \\frac{3}{36}$\n",
        "\n",
        "Contando gli esiti a mano, ci rendiamo conto che:\n",
        "- $P(D_5) = \\frac{7}{36}$\n",
        "- quando i dadi sommano 5: (1,4), (4,1), (3,2) e (2,3)\n",
        "- quando i dadi sommano 10: (4,6), (6,4), e (5,5)\n",
        "\n",
        "#### Calcolo finale\n",
        "$$P(D_2 \\cup D_5) = \\frac{18}{36} + \\frac{7}{36} - \\frac{3}{36} = \\frac{22}{36} = \\frac{11}{18}$$\n",
        "\n",
        "## Nota didattica\n",
        "Questi esempi illustrano l'importanza di:\n",
        "1. Saper utilizzare le operazioni insiemistiche nella probabilità\n",
        "2. Riconoscere quando è più conveniente calcolare una probabilità usando il complementare o la formula dell'unione\n",
        "3. Scomporre problemi complessi in parti più semplici"
      ],
      "metadata": {
        "id": "Mrew6wxcSZib"
      }
    }
  ]
}