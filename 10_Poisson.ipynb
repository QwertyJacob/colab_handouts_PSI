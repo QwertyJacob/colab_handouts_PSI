{
  "nbformat": 4,
  "nbformat_minor": 0,
  "metadata": {
    "colab": {
      "provenance": [],
      "authorship_tag": "ABX9TyOJwnconzS53vZKlLk5HM03",
      "include_colab_link": true
    },
    "kernelspec": {
      "name": "python3",
      "display_name": "Python 3"
    },
    "language_info": {
      "name": "python"
    },
    "widgets": {
      "application/vnd.jupyter.widget-state+json": {
        "4727210c80354fe7bad5d7d6af5915c1": {
          "model_module": "@jupyter-widgets/controls",
          "model_name": "VBoxModel",
          "model_module_version": "1.5.0",
          "state": {
            "_dom_classes": [
              "widget-interact"
            ],
            "_model_module": "@jupyter-widgets/controls",
            "_model_module_version": "1.5.0",
            "_model_name": "VBoxModel",
            "_view_count": null,
            "_view_module": "@jupyter-widgets/controls",
            "_view_module_version": "1.5.0",
            "_view_name": "VBoxView",
            "box_style": "",
            "children": [
              "IPY_MODEL_b2c9933c96f4471a89241526f8691b9b",
              "IPY_MODEL_a1eee50f72744b27a3d3ef7a3cdd7c90"
            ],
            "layout": "IPY_MODEL_02784d88021043d39958bff06e5c14bc"
          }
        },
        "b2c9933c96f4471a89241526f8691b9b": {
          "model_module": "@jupyter-widgets/controls",
          "model_name": "IntSliderModel",
          "model_module_version": "1.5.0",
          "state": {
            "_dom_classes": [],
            "_model_module": "@jupyter-widgets/controls",
            "_model_module_version": "1.5.0",
            "_model_name": "IntSliderModel",
            "_view_count": null,
            "_view_module": "@jupyter-widgets/controls",
            "_view_module_version": "1.5.0",
            "_view_name": "IntSliderView",
            "continuous_update": true,
            "description": "lambd",
            "description_tooltip": null,
            "disabled": false,
            "layout": "IPY_MODEL_5e04d2a0e42f4281ac08528c79b7720e",
            "max": 15,
            "min": 1,
            "orientation": "horizontal",
            "readout": true,
            "readout_format": "d",
            "step": 1,
            "style": "IPY_MODEL_0f61a3ed5d7d49258a8eccac9c928438",
            "value": 12
          }
        },
        "a1eee50f72744b27a3d3ef7a3cdd7c90": {
          "model_module": "@jupyter-widgets/output",
          "model_name": "OutputModel",
          "model_module_version": "1.0.0",
          "state": {
            "_dom_classes": [],
            "_model_module": "@jupyter-widgets/output",
            "_model_module_version": "1.0.0",
            "_model_name": "OutputModel",
            "_view_count": null,
            "_view_module": "@jupyter-widgets/output",
            "_view_module_version": "1.0.0",
            "_view_name": "OutputView",
            "layout": "IPY_MODEL_bba3d9b4b97342c6b9ccbddbb15610e8",
            "msg_id": "",
            "outputs": [
              {
                "output_type": "stream",
                "name": "stderr",
                "text": [
                  "<ipython-input-1-bfd8ca8016fd>:11: DeprecationWarning: `np.math` is a deprecated alias for the standard library `math` module (Deprecated Numpy 1.25). Replace usages of `np.math` with `math`\n",
                  "  y = np.exp(-lambd) * np.power(lambd, x) / np.array([np.math.factorial(i) for i in x])\n"
                ]
              },
              {
                "output_type": "display_data",
                "data": {
                  "text/plain": "<Figure size 800x600 with 1 Axes>",
                  "image/png": "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\n"
                },
                "metadata": {}
              }
            ]
          }
        },
        "02784d88021043d39958bff06e5c14bc": {
          "model_module": "@jupyter-widgets/base",
          "model_name": "LayoutModel",
          "model_module_version": "1.2.0",
          "state": {
            "_model_module": "@jupyter-widgets/base",
            "_model_module_version": "1.2.0",
            "_model_name": "LayoutModel",
            "_view_count": null,
            "_view_module": "@jupyter-widgets/base",
            "_view_module_version": "1.2.0",
            "_view_name": "LayoutView",
            "align_content": null,
            "align_items": null,
            "align_self": null,
            "border": null,
            "bottom": null,
            "display": null,
            "flex": null,
            "flex_flow": null,
            "grid_area": null,
            "grid_auto_columns": null,
            "grid_auto_flow": null,
            "grid_auto_rows": null,
            "grid_column": null,
            "grid_gap": null,
            "grid_row": null,
            "grid_template_areas": null,
            "grid_template_columns": null,
            "grid_template_rows": null,
            "height": null,
            "justify_content": null,
            "justify_items": null,
            "left": null,
            "margin": null,
            "max_height": null,
            "max_width": null,
            "min_height": null,
            "min_width": null,
            "object_fit": null,
            "object_position": null,
            "order": null,
            "overflow": null,
            "overflow_x": null,
            "overflow_y": null,
            "padding": null,
            "right": null,
            "top": null,
            "visibility": null,
            "width": null
          }
        },
        "5e04d2a0e42f4281ac08528c79b7720e": {
          "model_module": "@jupyter-widgets/base",
          "model_name": "LayoutModel",
          "model_module_version": "1.2.0",
          "state": {
            "_model_module": "@jupyter-widgets/base",
            "_model_module_version": "1.2.0",
            "_model_name": "LayoutModel",
            "_view_count": null,
            "_view_module": "@jupyter-widgets/base",
            "_view_module_version": "1.2.0",
            "_view_name": "LayoutView",
            "align_content": null,
            "align_items": null,
            "align_self": null,
            "border": null,
            "bottom": null,
            "display": null,
            "flex": null,
            "flex_flow": null,
            "grid_area": null,
            "grid_auto_columns": null,
            "grid_auto_flow": null,
            "grid_auto_rows": null,
            "grid_column": null,
            "grid_gap": null,
            "grid_row": null,
            "grid_template_areas": null,
            "grid_template_columns": null,
            "grid_template_rows": null,
            "height": null,
            "justify_content": null,
            "justify_items": null,
            "left": null,
            "margin": null,
            "max_height": null,
            "max_width": null,
            "min_height": null,
            "min_width": null,
            "object_fit": null,
            "object_position": null,
            "order": null,
            "overflow": null,
            "overflow_x": null,
            "overflow_y": null,
            "padding": null,
            "right": null,
            "top": null,
            "visibility": null,
            "width": null
          }
        },
        "0f61a3ed5d7d49258a8eccac9c928438": {
          "model_module": "@jupyter-widgets/controls",
          "model_name": "SliderStyleModel",
          "model_module_version": "1.5.0",
          "state": {
            "_model_module": "@jupyter-widgets/controls",
            "_model_module_version": "1.5.0",
            "_model_name": "SliderStyleModel",
            "_view_count": null,
            "_view_module": "@jupyter-widgets/base",
            "_view_module_version": "1.2.0",
            "_view_name": "StyleView",
            "description_width": "",
            "handle_color": null
          }
        },
        "bba3d9b4b97342c6b9ccbddbb15610e8": {
          "model_module": "@jupyter-widgets/base",
          "model_name": "LayoutModel",
          "model_module_version": "1.2.0",
          "state": {
            "_model_module": "@jupyter-widgets/base",
            "_model_module_version": "1.2.0",
            "_model_name": "LayoutModel",
            "_view_count": null,
            "_view_module": "@jupyter-widgets/base",
            "_view_module_version": "1.2.0",
            "_view_name": "LayoutView",
            "align_content": null,
            "align_items": null,
            "align_self": null,
            "border": null,
            "bottom": null,
            "display": null,
            "flex": null,
            "flex_flow": null,
            "grid_area": null,
            "grid_auto_columns": null,
            "grid_auto_flow": null,
            "grid_auto_rows": null,
            "grid_column": null,
            "grid_gap": null,
            "grid_row": null,
            "grid_template_areas": null,
            "grid_template_columns": null,
            "grid_template_rows": null,
            "height": null,
            "justify_content": null,
            "justify_items": null,
            "left": null,
            "margin": null,
            "max_height": null,
            "max_width": null,
            "min_height": null,
            "min_width": null,
            "object_fit": null,
            "object_position": null,
            "order": null,
            "overflow": null,
            "overflow_x": null,
            "overflow_y": null,
            "padding": null,
            "right": null,
            "top": null,
            "visibility": null,
            "width": null
          }
        }
      }
    }
  },
  "cells": [
    {
      "cell_type": "markdown",
      "metadata": {
        "id": "view-in-github",
        "colab_type": "text"
      },
      "source": [
        "<a href=\"https://colab.research.google.com/github/QwertyJacob/colab_handouts_PSI/blob/main/10_Poisson.ipynb\" target=\"_parent\"><img src=\"https://colab.research.google.com/assets/colab-badge.svg\" alt=\"Open In Colab\"/></a>"
      ]
    },
    {
      "cell_type": "markdown",
      "source": [
        "# La distribuzione di Poisson\n"
      ],
      "metadata": {
        "id": "k8bA1qdhzYKk"
      }
    },
    {
      "cell_type": "markdown",
      "source": [
        "La **distribuzione di Poisson** è utilizzata per modellare eventi che si verificano in modo **raro** in un determinato intervallo di tempo o spazio. Questo concetto di \"rarità\" è legato alla sua applicazione pratica e alla natura delle situazioni in cui viene impiegata.\n",
        "\n",
        "## Perché si parla di eventi \"rari\"?\n",
        "\n",
        "1. **Definizione della distribuzione**: La distribuzione di Poisson è tipicamente utilizzata quando il numero di eventi che si verificano è relativamente basso rispetto all'intervallo considerato. Ad esempio, eventi come il numero di chiamate ricevute in un call center in un'ora o il numero di incidenti stradali in una settimana sono esempi classici.\n",
        "\n",
        "2. **Parametri della distribuzione**: La distribuzione è caratterizzata da un solo parametro, $ \\lambda $ (lambda), che rappresenta il **tasso medio di occorrenza degli eventi**. Quando $ \\lambda $ è piccolo, la probabilità di osservare più di un certo numero di eventi diminuisce e viceversa.\n",
        "\n",
        "3. **Provenienza dalla binomiale**: La distribuzione di Poisson può essere derivata da una distribuzione binomiale quando il numero di prove $ n $ è molto grande e la probabilità di successo $ p $ è molto piccola, con la condizione che $ np $ rimanga costante al crescere di $n$. Questo contesto porta a situazioni in cui gli eventi sono _rari_ rispetto al totale delle prove.\n",
        "\n",
        "## Eventi potenzialmente infiniti\n",
        "\n",
        "Sebbene gli eventi possano essere potenzialmente infiniti (poiché la variabile casuale può assumere valori interi non negativi da 0 a infinito), la probabilità associata a valori molto elevati diminuisce rapidamente. Questo significa che, mentre teoricamente ci possono essere infiniti eventi, nella pratica, ci si aspetta che il numero effettivo di eventi osservati rimanga basso rispetto all'intervallo totale considerato.\n",
        "\n",
        "## Rarità e PMF\n",
        "\n",
        "La **funzione di massa di probabilità (PMF)** della distribuzione di Poisson è data dalla formula:\n",
        "\n",
        "$$\n",
        "P(X = k) = \\frac{e^{-\\lambda} \\lambda^k}{k!}\n",
        "$$\n",
        "\n",
        "dove:\n",
        "- $ k $ è il numero specifico di eventi,\n",
        "- $ \\lambda $ è il tasso medio degli eventi,\n",
        "- $ e $ è la base dei logaritmi naturali.\n",
        "\n",
        "Questa formula mostra chiaramente come la probabilità diminuisca per valori elevati di $ k $ quando $ \\lambda $ è relativamente basso. Pertanto, la PMF evidenzia la rarità degli eventi: man mano che ci si allontana dal valore medio $ \\lambda $, la probabilità associata a valori estremi diventa sempre più piccola.\n",
        "\n",
        "In sintesi, la distribuzione di Poisson è utilizzata per eventi rari perché essa modella situazioni in cui le occorrenze sono sporadiche e il numero atteso di tali occorrenze rimane relativamente basso rispetto all'intervallo osservato.\n",
        "\n"
      ],
      "metadata": {
        "id": "_lzVwagyzcHZ"
      }
    },
    {
      "cell_type": "code",
      "source": [
        "import numpy as np\n",
        "import matplotlib.pyplot as plt\n",
        "from ipywidgets import interact, IntSlider\n",
        "\n",
        "def plot_poisson(lambd):\n",
        "  \"\"\"Plots the Poisson distribution for a given lambda.\"\"\"\n",
        "\n",
        "  x = np.arange(0, 20)\n",
        "  y = np.exp(-lambd) * np.power(lambd, x) / np.array([np.math.factorial(i) for i in x])\n",
        "  plt.figure(figsize=(8, 6))\n",
        "  plt.bar(x, y, width=0.5)\n",
        "  plt.title(f\"Poisson Distribution (λ = {lambd})\")\n",
        "  plt.xlabel(\"Number of Events\")\n",
        "  plt.ylabel(\"Probability\")\n",
        "  plt.show()\n",
        "\n",
        "interact(plot_poisson, lambd=IntSlider(min=1, max=15, step=1, value=5));"
      ],
      "metadata": {
        "colab": {
          "base_uri": "https://localhost:8080/",
          "height": 631,
          "referenced_widgets": [
            "4727210c80354fe7bad5d7d6af5915c1",
            "b2c9933c96f4471a89241526f8691b9b",
            "a1eee50f72744b27a3d3ef7a3cdd7c90",
            "02784d88021043d39958bff06e5c14bc",
            "5e04d2a0e42f4281ac08528c79b7720e",
            "0f61a3ed5d7d49258a8eccac9c928438",
            "bba3d9b4b97342c6b9ccbddbb15610e8"
          ]
        },
        "id": "L0UUIe9k0_rZ",
        "outputId": "f8878ead-767b-4b04-a9dc-0ef7c4b15d05"
      },
      "execution_count": null,
      "outputs": [
        {
          "output_type": "display_data",
          "data": {
            "text/plain": [
              "interactive(children=(IntSlider(value=5, description='lambd', max=15, min=1), Output()), _dom_classes=('widget…"
            ],
            "application/vnd.jupyter.widget-view+json": {
              "version_major": 2,
              "version_minor": 0,
              "model_id": "4727210c80354fe7bad5d7d6af5915c1"
            }
          },
          "metadata": {}
        }
      ]
    },
    {
      "cell_type": "markdown",
      "source": [
        "La derivazione della **distribuzione di Poisson** dalla **distribuzione binomiale** avviene attraverso un processo di limite, in cui il numero di prove $ n $ tende all'infinito e la probabilità di successo $ p $ tende a zero.\n",
        "\n",
        "Ora, l'unico parametro della v.a. di Poisson è il valore atteso $\\lambda$, che nella v.a. Binomiale corrisponde al prodotto $ \\lambda = n \\cdot p $.\n",
        "\n",
        "Se quindi ricaviamo $p$ dall'espressione precedente, otteniamo che potremmo esprimere la probabilità di successo - o di occorrenza dell'evento- con il rapporto $\\frac{\\lambda}{p}$.\n",
        "\n",
        "Ora vediamo come si ottiene la PMF di Poisson partendo da una Binomiale dove la probabilità di successo è proprio $\\frac{\\lambda}{p}$. Seguiamo i passaggi dettagliati:\n",
        "\n",
        "Iniziamo con la probabilità che una variabile binomiale $X \\sim \\text{Bin}(n,\\frac{\\lambda}{n})$ assuma il valore k:\n",
        "\n",
        "$$ p(X=k) =  \\binom{n}{k} (\\frac{\\lambda}{n})^k (1-\\frac{\\lambda}{n})^{n-k} $$\n",
        "\n",
        "1) Primo passaggio: usiamo la defizionde di coefficiente binomiale $\\binom{n}{k}$ e anche le proprietà degli esponenti:\n",
        "\n",
        "$$ = \\frac{n!}{k!(n-k)!} \\cdot \\frac{\\lambda^k}{n^k} (1-\\frac{\\lambda}{n})^n (1-\\frac{\\lambda}{n})^{-k} $$\n",
        "\n",
        "2) Secondo passaggio: raccogliamo $\\frac{\\lambda^k}{k!}$:\n",
        "$$ = \\frac{\\lambda^k}{k!} \\cdot \\frac{n!}{(n-k)!n^k} (1-\\frac{\\lambda}{n})^n (1-\\frac{\\lambda}{n})^{-k} $$\n",
        "\n",
        "3) Terzo passaggio: espandiamo $\\frac{n!}{(n-k)!n^k}$:\n",
        "$$ = \\frac{\\lambda^k}{k!} \\cdot \\frac{n(n-1)\\cdots(n-k+1)}{n^k} (1-\\frac{\\lambda}{n})^n (1-\\frac{\\lambda}{n})^{-k} $$\n",
        "\n",
        "Ora analizziamo i tre limiti fondamentali per $n \\to \\infty$:\n",
        "\n",
        "a) Il primo limite:\n",
        "$$ \\frac{n(n-1)\\cdots(n-k+1)}{n^k} \\sim \\frac{n^k}{n^k} \\to 1 $$\n",
        "Questo accade perché per n molto grande, i termini sottratti (1, 2, ..., k-1) diventano trascurabili rispetto a n.\n",
        "\n",
        "b) Il secondo limite:\n",
        "$$ (1-\\frac{\\lambda}{n})^n \\to e^{-\\lambda} $$\n",
        "Questo è un limite notevole, che si può vedere come caso particolare di $(1+\\frac{\\alpha}{n})^n \\to e^\\alpha$ con $\\alpha = -\\lambda$\n",
        "\n",
        "c) Il terzo limite:\n",
        "$$ (1-\\frac{\\lambda}{n})^{-k} \\to 1^{-k} = 1 $$\n",
        "Questo perché $\\frac{\\lambda}{n}$ diventa trascurabile per n grande.\n",
        "\n",
        "Quindi, mettendo tutto insieme:\n",
        "\n",
        "$$ p(k) = \\frac{\\lambda^k}{k!} \\cdot \\underbrace{\\frac{n(n-1)\\cdots(n-k+1)}{n^k}}_{\\to1} \\underbrace{(1-\\frac{\\lambda}{n})^n}_{\\to e^{-\\lambda}} \\underbrace{(1-\\frac{\\lambda}{n})^{-k}}_{\\to 1} \\to \\frac{\\lambda^k}{k!}e^{-\\lambda} $$\n",
        "\n",
        "Il risultato finale $\\frac{\\lambda^k}{k!}e^{-\\lambda}$ è la funzione di massa di probabilità della distribuzione di Poisson di parametro $\\lambda$.\n",
        "\n",
        "Riccorda, questa approssimazione è particolarmente utile quando:\n",
        "\n",
        "1) n è molto grande (numero di prove)\n",
        "\n",
        "2) $\\frac{\\lambda}{n}$ è molto piccolo (probabilità di successo)\n",
        "\n",
        "3) Il loro prodotto $\\lambda$ rimane costante\n",
        "\n"
      ],
      "metadata": {
        "id": "lzC5RQVC1xc6"
      }
    },
    {
      "cell_type": "markdown",
      "source": [
        "Approfondimenti:\n",
        "- https://adrianogilardone.com/distribuzione-di-poisson/\n",
        "- https://fastercapital.com/it/contenuto/Funzione-di-massa-di-probabilit%C3%A0--appello-di-massa--il-ruolo-della-funzione-di-massa-di-probabilit%C3%A0-in-Poisson.html\n",
        "- https://www.webtutordimatematica.it/materie/statistica-e-probabilita/distribuzioni-di-probabilita-discrete/distribuzione-di-poisson\n",
        "- https://elearning.uniparthenope.it/pluginfile.php/146733/mod_folder/content/0/Metodi/8.%20v.c.%20Discrete_Binomiale%20e%20Poisson.pdf?forcedownload=1\n",
        "- https://it.wikipedia.org/wiki/Distribuzione_di_Poisson\n",
        "-  https://appunti.cavallium.it/"
      ],
      "metadata": {
        "id": "IpmCc5MU6htf"
      }
    }
  ]
}