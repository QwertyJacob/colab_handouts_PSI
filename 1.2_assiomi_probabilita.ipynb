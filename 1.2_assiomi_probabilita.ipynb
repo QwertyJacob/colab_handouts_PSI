{
  "cells": [
    {
      "cell_type": "markdown",
      "metadata": {
        "colab_type": "text",
        "id": "view-in-github"
      },
      "source": [
        "<a href=\"https://colab.research.google.com/github/QwertyJacob/colab_handouts_PSI/blob/main/PROBABILIT%C3%80_2309.ipynb\" target=\"_parent\"><img src=\"https://colab.research.google.com/assets/colab-badge.svg\" alt=\"Open In Colab\"/></a>"
      ]
    },
    {
      "cell_type": "markdown",
      "metadata": {},
      "source": [
        "## 2.2 Assiomi della probabilità\n",
        "__________\n",
        "Addattamento da \"Probability and Statistics for Computer Scientists\", M. Baron, CRC Press, 2014"
      ]
    },
    {
      "cell_type": "markdown",
      "metadata": {},
      "source": [
        "Ora siamo pronti per la definizione rigorosa di probabilità. Tutte le regole e i principi per il calcolo delle probabilità degli eventi derivano da questa definizione.  \n",
        "Matematicamente, la probabilità viene introdotta attraverso alcuni assiomi.\n",
        "\n",
        "### 2.2.1 Assiomi della Probabilità\n",
        "\n",
        "Prima di tutto, scegliamo una sigma-algebra $ \\mathcal{M} $ di eventi su uno spazio campionario $ \\Omega $. Questa è una collezione di eventi le cui probabilità possiamo considerare nel nostro problema.\n",
        "\n",
        "**DEFINIZIONE 2.9**  \n",
        "Una collezione $ \\mathcal{M} $ di eventi è una **sigma-algebra** sullo spazio campionario $ \\Omega $ se:  \n",
        "(a) contiene lo spazio campionario,  \n",
        "$$\n",
        "\\Omega \\in \\mathcal{M}\n",
        "$$  \n",
        "(b) ogni evento in $ \\mathcal{M} $ è contenuto insieme al suo complemento; cioè,  \n",
        "$$\n",
        "E \\in \\mathcal{M} \\Rightarrow \\overline{E} \\in \\mathcal{M}\n",
        "$$  \n",
        "(c) ogni collezione finita o numerabile di eventi in $ \\mathcal{M} $ è contenuta insieme alla sua unione; cioè,  \n",
        "$$\n",
        "E_1, E_2, \\ldots \\in \\mathcal{M} \\Rightarrow E_1 \\cup E_2 \\cup \\ldots \\in \\mathcal{M}.\n",
        "$$\n",
        "\n",
        "\n"
      ]
    },
    {
      "cell_type": "markdown",
      "metadata": {},
      "source": [
        "Di seguito alcuni esempi di sigma-algebre.\n",
        "\n",
        "**Esempio 2.10 (Sigma-algebra degenere).** Per le condizioni (a) e (b) della Definizione 2.9, ogni sigma-algebra deve contenere lo spazio campionario $ \\Omega $ e l’evento vuoto $ \\emptyset $.  \n",
        "Questa collezione minimale  \n",
        "$$\n",
        "\\mathcal{M}_1 \\coloneqq \\{ \\Omega, \\emptyset \\}\n",
        "$$  \n",
        "forma una sigma-algebra detta *degenere*.\n",
        "\n",
        "**Esempio 2.11 (Insieme delle parti).** All’estremo opposto, qual è la sigma-algebra più ricca su uno spazio campionario $ \\Omega $? È la collezione di tutti gli eventi possibili,  \n",
        "$$\n",
        "\\mathcal{M}_2 \\coloneqq  2^\\Omega = \\{ E \\mid E \\subset \\Omega \\}.\n",
        "$$  \n",
        "Come sappiamo dall'osservazione 2.1, su uno spazio campionario con $ N $ esiti ci sono $ 2^N $ eventi. Questo spiega la notazione $ 2^\\Omega $. Tale sigma-algebra è chiamata *insieme delle parti* (o *power set*).  \n",
        "♦\n",
        "\n"
      ]
    },
    {
      "cell_type": "markdown",
      "metadata": {},
      "source": [
        "Gli Assiomi della Probabilità sono contenuti nella seguente definizione.\n",
        "\n",
        "**DEFINIZIONE 2.10**  \n",
        "Siano dati uno spazio campione $ \\Omega $ e una sigma-algebra di eventi $ \\mathcal{M} $ definita su di esso. Una **probabilità**  \n",
        "$$\n",
        "P : \\mathcal{M} \\to [0, 1]\n",
        "$$  \n",
        "è una funzione sugli eventi con dominio $ \\mathcal{M} $ e codominio $ [0, 1] $ che soddisfa le seguenti due condizioni:\n",
        "\n",
        "- **(Misura unitaria)** Lo spazio campionario ha probabilità pari a uno:  \n",
        "  $$\n",
        "  P(\\Omega) \\coloneqq 1.\n",
        "  $$\n",
        "\n",
        "- **(Sigma-additività)** Per ogni collezione finita o numerabile di eventi mutuamente esclusivi $ E_1, E_2, \\ldots \\in \\mathcal{M} $, vale:  \n",
        "  $$\n",
        "  P(E_1 \\cup E_2 \\cup \\ldots) \\coloneqq P(E_1) + P(E_2) + \\ldots.\n",
        "  $$\n",
        "\n",
        "Tutte le regole della probabilità sono conseguenze di questa definizione.\n",
        "\n"
      ]
    },
    {
      "cell_type": "markdown",
      "metadata": {},
      "source": [
        "### 2.2.2 Calcolo delle probabilità degli eventi\n",
        "\n",
        "Dotati dei fondamenti della teoria della probabilità, siamo ora in grado di calcolare le probabilità di molti eventi interessanti.\n"
      ]
    },
    {
      "cell_type": "markdown",
      "metadata": {},
      "source": [
        "### Casi estremi\n",
        "\n",
        "Lo spazio campionario $ \\Omega $ contiene tutti gli esiti possibili, quindi si verifica sicuramente. Al contrario, l’evento vuoto $ \\emptyset $ non si verifica mai. Di conseguenza,\n",
        "\n",
        "$$\n",
        "P\\{\\Omega\\} = 1 \\quad \\text{e} \\quad P\\{\\emptyset\\} = 0.\n",
        "\\tag{2.3}\n",
        "$$\n",
        "\n",
        "**Dimostrazione:** La probabilità di $ \\Omega $ è data direttamente dalla definizione di probabilità. Sempre per tale definizione, poiché $ \\Omega $ e $ \\emptyset $ sono mutuamente esclusivi, vale:\n",
        "\n",
        "$$\n",
        "P\\{\\Omega\\} = P\\{\\Omega \\cup \\emptyset\\} = P\\{\\Omega\\} + P\\{\\emptyset\\}.\n",
        "$$\n",
        "\n",
        "Sottraendo $ P\\{\\Omega\\} $ da entrambi i membri, otteniamo $ P\\{\\emptyset\\} = 0 $.  $\\square$\n",
        "\n",
        "---"
      ]
    },
    {
      "cell_type": "markdown",
      "metadata": {},
      "source": [
        "### Unione\n",
        "\n",
        "Consideriamo un evento $ E $ costituito da una collezione finita o numerabile di esiti diversi:\n",
        "\n",
        "$$\n",
        "E \\coloneqq \\{\\omega_1, \\omega_2, \\omega_3, \\ldots\\}.\n",
        "$$\n",
        "\n",
        "Sommando le probabilità di tali esiti, otteniamo la probabilità dell’intero evento:\n",
        "\n",
        "$$\n",
        "P\\{E\\} = \\sum_{\\omega_k \\in E} P\\{\\omega_k\\} = P\\{\\omega_1\\} + P\\{\\omega_2\\} + P\\{\\omega_3\\} + \\ldots\n",
        "$$"
      ]
    },
    {
      "cell_type": "markdown",
      "metadata": {},
      "source": [
        "\n",
        "\n",
        "**Esempio 2.13.** Se un lavoro inviato a una stampante si trova al primo posto in coda con probabilità del 60% e al secondo posto con probabilità del 30%, allora con probabilità $ 60\\% + 30\\% = 90\\% $ si trova **o** al primo **o** al secondo posto in coda.\n",
        "\n",
        "È fondamentale osservare che **solo eventi mutuamente esclusivi** (cioè con intersezione vuota) soddisfano la sigma-additività. Se gli eventi si intersecano, le loro probabilità **non possono essere semplicemente sommate**. Consideriamo il seguente esempio.\n",
        "\n",
        "**Esempio 2.14.** Durante un’opera di costruzione, un’interruzione della rete si verifica lunedì con probabilità $ 0.7 $ e martedì con probabilità $ 0.5 $. Allora, si verifica lunedì o martedì con probabilità $ 0.7 + 0.5 = 1.2 $? Ovviamente no, perché una probabilità deve sempre essere compresa tra $ 0 $ e $ 1 $! In questo caso, le probabilità non sono additive perché le interruzioni di lunedì e martedì **non sono mutuamente esclusive**. In altre parole, non è impossibile che si verifichino interruzioni in entrambi i giorni.  \n",
        "♦"
      ]
    },
    {
      "cell_type": "markdown",
      "metadata": {},
      "source": [
        "\n",
        "\n",
        "\n",
        "\n",
        "Nell’Esempio 2.14, l’applicazione cieca della regola per l’unione di eventi mutuamente esclusivi ha chiaramente sovrastimato la probabilità reale. Il diagramma di Venn in Figura 2.2a lo spiega: nella somma $ P\\{A\\} + P\\{B\\} $, tutti i risultati comuni sono contati due volte. Ovviamente, ciò causa una sovrastima. Ogni risultato deve essere contato una sola volta!\n",
        "\n",
        "Per correggere la formula, si sottrae la probabilità dei risultati comuni, cioè $ P\\{A \\cap B\\} $. Si ottiene così:\n",
        "\n",
        "**Probabilità dell’unione**  \n",
        "$$\n",
        "P\\{A \\cup B\\} = P\\{A\\} + P\\{B\\} - P\\{A \\cap B\\}\n",
        "$$\n",
        "\n",
        "Per eventi mutuamente esclusivi (cioè $ A \\cap B = \\emptyset $), si ha:\n",
        "\n",
        "$$\n",
        "P\\{A \\cup B\\} = P\\{A\\} + P\\{B\\}\n",
        "$$\n",
        "\n",
        "La generalizzazione di questa formula a più di due eventi non è immediata. Per tre eventi:\n",
        "\n",
        "$$\n",
        "P\\{A \\cup B \\cup C\\} = P\\{A\\} + P\\{B\\} + P\\{C\\} - P\\{A \\cap B\\} - P\\{A \\cap C\\} - P\\{B \\cap C\\} + P\\{A \\cap B \\cap C\\}.\n",
        "$$\n",
        "\n",
        "Come mostrato in Figura 2.2b, sommando $ P\\{A\\}, P\\{B\\}, P\\{C\\} $, ogni intersezione a due a due viene contata due volte, quindi la sottraiamo. Infine, consideriamo l’intersezione tripla $ A \\cap B \\cap C $: la sua probabilità è sommata 3 volte nei singoli eventi, poi sottratta 3 volte nelle intersezioni a coppie, quindi complessivamente **non è stata contata affatto**. Per questo motivo, la aggiungiamo alla fine.\n",
        "\n",
        "Per una collezione arbitraria di eventi, si veda l’Esercizio 2.33.\n",
        "\n",
        "**Esempio 2.15.** Nell’Esempio 2.14, supponiamo che la probabilità di avere interruzioni di rete sia lunedì che martedì sia $ 0.35 $. Allora, la probabilità di avere un’interruzione lunedì **o** martedì è:\n",
        "\n",
        "$$\n",
        "0.7 + 0.5 - 0.35 = 0.85.\n",
        "$$\n",
        "♦\n",
        "\n",
        "---\n"
      ]
    },
    {
      "attachments": {
        "image.png": {
          "image/png": "[encoded data removed]"
        }
      },
      "cell_type": "markdown",
      "metadata": {},
      "source": [
        "![image.png](attachment:image.png)"
      ]
    },
    {
      "cell_type": "markdown",
      "metadata": {},
      "source": [
        "### Manim Bonus:"
      ]
    },
    {
      "cell_type": "code",
      "execution_count": 1,
      "metadata": {},
      "outputs": [
        {
          "name": "stderr",
          "output_type": "stream",
          "text": [
            "/usr/local/lib/python3.11/site-packages/pydub/utils.py:170: RuntimeWarning: Couldn't find ffmpeg or avconv - defaulting to ffmpeg, but may not work\n",
            "  warn(\"Couldn't find ffmpeg or avconv - defaulting to ffmpeg, but may not work\", RuntimeWarning)\n"
          ]
        },
        {
          "name": "stdout",
          "output_type": "stream",
          "text": [
            "0.19.0\n"
          ]
        }
      ],
      "source": [
        "import manim as mn\n",
        "from manim import *\n",
        "\n",
        "config.media_width = \"75%\"\n",
        "config.verbosity = \"WARNING\"\n",
        "\n",
        "print(mn.__version__)"
      ]
    },
    {
      "cell_type": "code",
      "execution_count": 2,
      "metadata": {},
      "outputs": [],
      "source": [
        "from manim import *\n",
        "\n",
        "class VennUnion(Scene):\n",
        "    def construct(self):\n",
        "        # --- Two sets ---\n",
        "        circleA = Circle(radius=2, color=BLUE).shift(LEFT*1.2)\n",
        "        circleB = Circle(radius=2, color=GREEN).shift(RIGHT*1.2)\n",
        "\n",
        "        circleA.set_fill(BLUE, opacity=0.2)\n",
        "        circleB.set_fill(GREEN, opacity=0.2)\n",
        "\n",
        "        # Union and intersection regions\n",
        "        unionAB = Union(circleA, circleB, color=BLUE, fill_opacity=0.2)\n",
        "        interAB = Intersection(circleA, circleB, color=YELLOW, fill_opacity=0.5)\n",
        "\n",
        "        labelA = MathTex(\"A\").next_to(circleA, DOWN+LEFT)\n",
        "        labelB = MathTex(\"B\").next_to(circleB, DOWN+RIGHT)\n",
        "        union_label = MathTex(\"A \\\\cup B\").move_to(UP*3)\n",
        "        inter_label = MathTex(\"A \\\\cap B\").move_to(interAB.get_center())\n",
        "\n",
        "        # Animate\n",
        "        self.play(Create(circleA), Create(circleB))\n",
        "        self.play(Write(labelA), Write(labelB))\n",
        "        self.play(FadeIn(unionAB))\n",
        "        self.play(FadeIn(interAB))\n",
        "        self.play(Write(union_label), Write(inter_label))\n",
        "        self.wait(2)\n",
        "\n",
        "\n",
        "class VennThree(Scene):\n",
        "    def construct(self):\n",
        "        circleA = Circle(radius=2, color=BLUE).shift(LEFT*1.5)\n",
        "        circleB = Circle(radius=2, color=GREEN).shift(RIGHT*1.5)\n",
        "        circleC = Circle(radius=2, color=RED).shift(UP*1.5)\n",
        "\n",
        "        for c in [circleA, circleB, circleC]:\n",
        "            c.set_fill(c.color, opacity=0.2)\n",
        "\n",
        "        unionABC = Union(circleA, Union(circleB, circleC),\n",
        "                         color=WHITE, fill_opacity=0.2)\n",
        "\n",
        "        labelA = MathTex(\"A\").next_to(circleA, DOWN)\n",
        "        labelB = MathTex(\"B\").next_to(circleB, DOWN)\n",
        "        labelC = MathTex(\"C\").next_to(circleC, UP)\n",
        "        union_label = MathTex(\"A \\\\cup B \\\\cup C\").move_to(UP*3)\n",
        "\n",
        "        self.play(Create(circleA), Create(circleB), Create(circleC))\n",
        "        self.play(Write(labelA), Write(labelB), Write(labelC))\n",
        "        self.play(FadeIn(unionABC))\n",
        "        self.play(Write(union_label))\n",
        "        self.wait(2)\n"
      ]
    },
    {
      "cell_type": "code",
      "execution_count": 3,
      "metadata": {},
      "outputs": [
        {
          "data": {
            "text/html": [
              "<pre style=\"white-space:pre;overflow-x:auto;line-height:normal;font-family:Menlo,'DejaVu Sans Mono',consolas,'Courier New',monospace\">Manim Community <span style=\"color: #008000; text-decoration-color: #008000\">v0.19.0</span>\n",
              "\n",
              "</pre>\n"
            ],
            "text/plain": [
              "Manim Community \u001b[32mv0.\u001b[0m\u001b[32m19.0\u001b[0m\n",
              "\n"
            ]
          },
          "metadata": {},
          "output_type": "display_data"
        },
        {
          "name": "stderr",
          "output_type": "stream",
          "text": [
            "                                                                                                \r"
          ]
        },
        {
          "data": {
            "text/html": [
              "<video src=\"media/jupyter/VennUnion@2025-10-05@19-08-11.mp4\" controls autoplay loop style=\"max-width: 75%;\"  >\n",
              "      Your browser does not support the <code>video</code> element.\n",
              "    </video>"
            ],
            "text/plain": [
              "<IPython.core.display.Video object>"
            ]
          },
          "metadata": {},
          "output_type": "display_data"
        }
      ],
      "source": [
        "%manim -qm VennUnion\n"
      ]
    },
    {
      "cell_type": "code",
      "execution_count": 4,
      "metadata": {},
      "outputs": [
        {
          "data": {
            "text/html": [
              "<pre style=\"white-space:pre;overflow-x:auto;line-height:normal;font-family:Menlo,'DejaVu Sans Mono',consolas,'Courier New',monospace\">Manim Community <span style=\"color: #008000; text-decoration-color: #008000\">v0.19.0</span>\n",
              "\n",
              "</pre>\n"
            ],
            "text/plain": [
              "Manim Community \u001b[32mv0.\u001b[0m\u001b[32m19.0\u001b[0m\n",
              "\n"
            ]
          },
          "metadata": {},
          "output_type": "display_data"
        },
        {
          "name": "stderr",
          "output_type": "stream",
          "text": [
            "                                                                                                  \r"
          ]
        },
        {
          "data": {
            "text/html": [
              "<video src=\"media/jupyter/VennThree@2025-10-05@19-08-27.mp4\" controls autoplay loop style=\"max-width: 75%;\"  >\n",
              "      Your browser does not support the <code>video</code> element.\n",
              "    </video>"
            ],
            "text/plain": [
              "<IPython.core.display.Video object>"
            ]
          },
          "metadata": {},
          "output_type": "display_data"
        }
      ],
      "source": [
        "%manim -qm VennThree"
      ]
    },
    {
      "cell_type": "markdown",
      "metadata": {},
      "source": [
        "\n",
        "### Complemento\n",
        "\n",
        "Ricordiamo che gli eventi $ A $ e $ \\overline{A} $ sono esaustivi, quindi $ A \\cup \\overline{A} = \\Omega $, e $ A $ e $ \\overline{A} sono disgiunti, quindi:\n",
        "\n",
        "$$\n",
        "P\\{A\\} + P\\{\\overline{A}\\} = P\\{A \\cup \\overline{A}\\} = P\\{\\Omega\\} = 1.\n",
        "$$\n",
        "\n",
        "Risolvendo rispetto a $ P\\{\\overline{A}\\} $, otteniamo una regola che corrisponde perfettamente al senso comune:\n",
        "\n",
        "**Regola del complemento**  \n",
        "$$\n",
        "P\\{\\overline{A}\\} = 1 - P\\{A\\}\n",
        "$$\n",
        "\n",
        "**Esempio 2.16.** Se un sistema risulta protetto contro un nuovo virus informatico con probabilità $ 0.7 $, allora è esposto al virus con probabilità $ 1 - 0.7 = 0.3 $.  \n",
        "♦\n",
        "\n",
        "**Esempio 2.17.** Supponiamo che un codice informatico non contenga errori con probabilità $ 0.45 $. Allora, ha **almeno un errore** con probabilità $ 1 - 0.45 = 0.55 $.  \n",
        "♦\n"
      ]
    },
    {
      "cell_type": "markdown",
      "metadata": {},
      "source": [
        "\n",
        "---\n",
        "\n",
        "### Intersezione \n",
        "\n",
        "Sappiamo come è definita l'intersezione di eventi (ricordiamo la definizione 2.4). Tale definizione può essere espressa matematicamente in questo modo:\n",
        "\n",
        "$$ A\\cap{B}=\\{\\omega\\mid\\omega\\in{A}\\wedge\\omega\\in{B}\\} $$\n",
        "\n",
        "Dagli assiomi, la probabilità di questo evento è calcolabile, sempre che sappiamo come questa intersezione è costituita:\n",
        "\n",
        "$ P\\{A\\cap{B}\\} = \\sum_{ \\omega \\in A \\cap B } P \\{ \\omega \\} $\n",
        "\n",
        "Ma non sempre questo è il caso. \n",
        "\n",
        "### Intersezione di eventi indipendenti\n",
        "\n",
        "**DEFINIZIONE 2.11**  \n",
        "Gli eventi $ E_1, \\ldots, E_n $ sono **indipendenti** se si verificano in modo indipendente l’uno dall’altro, cioè il verificarsi di un evento **non influenza** la probabilità degli altri.\n",
        "\n",
        "La seguente formula fondamentale può essere usata come criterio di indipendenza:\n",
        "\n",
        "**Eventi indipendenti**  \n",
        "$$\n",
        "P\\{E_1 \\cap \\ldots \\cap E_n\\} \\coloneqq P\\{E_1\\} \\cdot P\\{E_2\\} \\cdot \\ldots \\cdot P\\{E_n\\}\n",
        "$$\n",
        "\n",
        "Rimandiamo la spiegazione di questa formula alla Sezione 2.4, dove forniremo anche una regola per l’intersezione di eventi **dipendenti**.\n",
        "\n",
        "---"
      ]
    },
    {
      "cell_type": "markdown",
      "metadata": {},
      "source": [
        "\n",
        "\n",
        "### 2.2.3 Applicazioni nella affidabilità\n",
        "\n",
        "Le formule della sezione precedente sono ampiamente usate nell’affidabilità, quando si calcola la probabilità che un sistema composto da più componenti sia funzionante.\n",
        "\n",
        "**Esempio 2.18 (Affidabilità dei backup).** Un hard disk ha una probabilità dell’1% di rompersi. Per questo, dispone di due backup, ciascuno con una probabilità del 2% di rompersi, e tutti e tre i componenti sono indipendenti tra loro. L’informazione memorizzata si perde solo nel caso sfortunato in cui tutti e tre i dispositivi si rompano. Qual è la probabilità che l’informazione sia salvata?\n",
        "```"
      ]
    },
    {
      "cell_type": "markdown",
      "metadata": {},
      "source": [
        "**Soluzione.** Organizziamo i dati. Denotiamo gli eventi, ad esempio:\n",
        "\n",
        "$$\n",
        "H = \\{ \\text{hard drive si rompe} \\}, \\\\\n",
        "B_1 = \\{ \\text{primo backup si rompe} \\}, \\\\\n",
        "B_2 = \\{ \\text{secondo backup si rompe} \\}.\n",
        "$$\n",
        "\n",
        "È dato che $ H $, $ B_1 $ e $ B_2 $ sono indipendenti, con:\n",
        "\n",
        "$$\n",
        "P\\{H\\} = 0.01, \\quad P\\{B_1\\} = P\\{B_2\\} = 0.02.\n",
        "$$\n",
        "\n",
        "Applicando le regole del complemento e dell’intersezione per eventi indipendenti:\n",
        "\n",
        "$$\n",
        "P\\{\\text{salvato}\\} = 1 - P\\{\\text{perduto}\\} = 1 - P\\{H \\cap B_1 \\cap B_2\\} \\\\\n",
        "= 1 - P\\{H\\} \\cdot P\\{B_1\\} \\cdot P\\{B_2\\} \\\\\n",
        "= 1 - (0.01)(0.02)(0.02) = 1 - 0.000004 = 0.999996.\n",
        "$$\n",
        "\n",
        "(Questo è esattamente il motivo per cui si usano i backup, giusto? Senza backup, la probabilità che l’informazione sia salvata sarebbe solo $ 0.99 $.)  \n",
        "♦\n",
        "\n"
      ]
    },
    {
      "cell_type": "markdown",
      "metadata": {},
      "source": [
        "Quando i componenti di un sistema sono collegati **in parallelo**, è sufficiente che **almeno uno** funzioni affinché l’intero sistema funzioni. L’affidabilità di un tale sistema si calcola come nell’Esempio 2.18. I backup possono sempre essere considerati dispositivi collegati in parallelo.\n",
        "\n",
        "Dall’altro lato, consideriamo un sistema i cui componenti sono collegati in **sequenza** (in serie). Il guasto di un componente provoca inevitabilmente il guasto dell’intero sistema. Tale sistema è più “vulnerabile”. Per funzionare con alta probabilità, richiede che **ogni componente** sia affidabile, come mostrato nel prossimo esempio.\n"
      ]
    },
    {
      "cell_type": "markdown",
      "metadata": {},
      "source": [
        "\n",
        "**Esempio 2.19.** Supponiamo che il lancio di uno shuttle dipenda da tre dispositivi fondamentali che operano indipendentemente l'uno dall'altro e che si guastino con probabilità rispettivamente $ 0.01 $, $ 0.02 $ e $ 0.02 $. Se uno qualunque dei dispositivi si guasta, il lancio verrà rinviato. Calcolare la probabilità che lo shuttle venga lanciato in tempo, secondo il programma previsto.\n",
        "\n",
        "**Soluzione.** In questo caso,\n",
        "\n",
        "$$\n",
        "P\\{\\text{in tempo}\\} = P\\{\\text{tutti i dispositivi funzionano}\\} \\\\\n",
        "= P\\{H^c \\cap B_1^c \\cap B_2^c\\} \\quad \\text{(dove } H^c \\text{ denota il complemento di } H\\text{)} \\\\\n",
        "= P\\{H^c\\} \\cdot P\\{B_1^c\\} \\cdot P\\{B_2^c\\} \\quad \\text{(per l'indipendenza)} \\\\\n",
        "= (1 - 0.01)(1 - 0.02)(1 - 0.02) \\quad \\text{(regola del complemento)} \\\\\n",
        "= (0.99)(0.98)(0.98) = 0.950792 \\approx 0.9508.\n",
        "$$\n",
        "\n",
        "Si osservi come, pur avendo le stesse probabilità di guasto dei singoli componenti dell’Esempio 2.18, l’affidabilità del sistema sia diminuita a causa del collegamento in serie (sequenziale) dei componenti.  \n",
        "♦\n",
        "\n"
      ]
    },
    {
      "cell_type": "markdown",
      "metadata": {},
      "source": [
        "Molti sistemi moderni sono costituiti da un gran numero di dispositivi collegati sia in sequenza che in parallelo:"
      ]
    },
    {
      "attachments": {
        "image.png": {
          "image/png": "[encoded data removed]"
        }
      },
      "cell_type": "markdown",
      "metadata": {},
      "source": [
        "![image.png](attachment:image.png)"
      ]
    },
    {
      "cell_type": "markdown",
      "metadata": {},
      "source": [
        "\n",
        "**Esempio 2.20 (Tecniche per la risoluzione di problemi di affidabilità).** Calcolare l'affidabilità del sistema mostrato in Figura 2.3, sapendo che ciascun componente funziona con probabilità $ 0.92 $, in modo indipendente dagli altri.\n",
        "\n",
        "**Soluzione.** Questo problema può essere semplificato e risolto **passo dopo passo**.\n",
        "\n",
        "1. Il collegamento superiore $ A $-$ B $ funziona se **entrambi** $ A $ e $ B $ funzionano. La probabilità di questo evento è:\n",
        "   $$\n",
        "   P\\{A \\cap B\\} = (0.92)^2 = 0.8464.\n",
        "   $$\n",
        "   Possiamo rappresentare questo collegamento come un singolo componente $ F $, che funziona con probabilità $ 0.8464 $.\n",
        "\n",
        "2. Allo stesso modo, i componenti $ D $ ed $ E $, collegati **in parallelo**, possono essere sostituiti da un componente equivalente $ G $, la cui probabilità di funzionamento è:\n",
        "   $$\n",
        "   P\\{D \\cup E\\} = 1 - P\\{\\overline{D} \\cap \\overline{E}\\} = 1 - (1 - 0.92)^2 = 1 - (0.08)^2 = 1 - 0.0064 = 0.9936,\n",
        "   $$\n",
        "   come mostrato in Figura 2.4a.\n",
        "\n",
        "\n"
      ]
    },
    {
      "attachments": {
        "image.png": {
          "image/png": "[encoded data removed]"
        }
      },
      "cell_type": "markdown",
      "metadata": {},
      "source": [
        "![image.png](attachment:image.png)"
      ]
    },
    {
      "cell_type": "markdown",
      "metadata": {},
      "source": [
        "3. I componenti $ C $ e $ G $, collegati in serie, possono essere sostituiti da un componente $ H $, che funziona solo se entrambi funzionano. La probabilità è:\n",
        "   $$\n",
        "   P\\{C \\cap G\\} = P\\{C\\} \\cdot P\\{G\\} = 0.92 \\cdot 0.9936 = 0.914112 \\approx 0.9141,\n",
        "   $$\n",
        "   come mostrato in Figura 2.4b.\n",
        "\n",
        "4. Ultimo passo: il sistema nel suo complesso funziona se **almeno uno** dei due rami $ F $ o $ H $ funziona (cioè sono in parallelo). Quindi:\n",
        "   $$\n",
        "   P\\{F \\cup H\\} = 1 - P\\{\\overline{F} \\cap \\overline{H}\\} = 1 - (1 - 0.8464)(1 - 0.9141) \\\\\n",
        "   = 1 - (0.1536)(0.0859) \\approx 1 - 0.01319 = 0.9868.\n",
        "   $$\n",
        "\n",
        "La probabilità che il sistema sia operativo è quindi:\n",
        "$$\n",
        "\\boxed{0.9868}\n",
        "$$\n",
        "\n",
        "In effetti, l’evento “il sistema è operativo” può essere espresso come:\n",
        "$$\n",
        "(A \\cap B) \\cup \\left\\{ C \\cap (D \\cup E) \\right\\},\n",
        "$$\n",
        "la cui probabilità abbiamo calcolato passo dopo passo."
      ]
    },
    {
      "cell_type": "code",
      "execution_count": 1,
      "metadata": {},
      "outputs": [
        {
          "name": "stderr",
          "output_type": "stream",
          "text": [
            "/usr/local/lib/python3.11/site-packages/pydub/utils.py:170: RuntimeWarning: Couldn't find ffmpeg or avconv - defaulting to ffmpeg, but may not work\n",
            "  warn(\"Couldn't find ffmpeg or avconv - defaulting to ffmpeg, but may not work\", RuntimeWarning)\n"
          ]
        }
      ],
      "source": [
        "from manim import *\n",
        "\n",
        "class CircuitReliabilityClaude(Scene):\n",
        "    def construct(self):\n",
        "        # Titolo\n",
        "        title = Text(\"Affidabilità di un Sistema\", font_size=40)\n",
        "        title.to_edge(UP)\n",
        "        self.play(Write(title))\n",
        "        self.wait()\n",
        "        \n",
        "        # Probabilità iniziale\n",
        "        prob_text = MathTex(\"P(\\\\text{ogni componente}) = 0.92\", font_size=32)\n",
        "        prob_text.next_to(title, DOWN, buff=0.3)\n",
        "        self.play(Write(prob_text))\n",
        "        self.wait()\n",
        "        \n",
        "        # CIRCUITO INIZIALE\n",
        "        self.show_initial_circuit()\n",
        "        self.wait(2)\n",
        "        \n",
        "        # PASSO 1: Semplifica A-B in serie\n",
        "        self.simplify_series_AB()\n",
        "        self.wait(2)\n",
        "        \n",
        "        # PASSO 2: Semplifica D-E in parallelo\n",
        "        self.simplify_parallel_DE()\n",
        "        self.wait(2)\n",
        "        \n",
        "        # PASSO 3: Semplifica C-G in serie\n",
        "        self.simplify_series_CG()\n",
        "        self.wait(2)\n",
        "        \n",
        "        # PASSO 4: Calcolo finale F-H in parallelo\n",
        "        self.final_parallel_FH()\n",
        "        self.wait(3)\n",
        "\n",
        "    def create_component(self, label, pos, color=BLUE):\n",
        "        \"\"\"Crea un componente del circuito\"\"\"\n",
        "        box = Rectangle(width=0.8, height=0.6, color=color, fill_opacity=0.3)\n",
        "        box.move_to(pos)\n",
        "        text = Text(label, font_size=28)\n",
        "        text.move_to(pos)\n",
        "        return VGroup(box, text)\n",
        "\n",
        "    def show_initial_circuit(self):\n",
        "        \"\"\"Mostra il circuito iniziale\"\"\"\n",
        "        self.clear()\n",
        "        \n",
        "        step = Text(\"Circuito Iniziale\", font_size=36, color=YELLOW)\n",
        "        step.to_edge(UP)\n",
        "        self.play(Write(step))\n",
        "        \n",
        "        # Ramo superiore: A-B in serie\n",
        "        self.A = self.create_component(\"A\", LEFT*3 + UP*1.5)\n",
        "        self.B = self.create_component(\"B\", LEFT*1 + UP*1.5)\n",
        "        line_AB = Line(self.A.get_right(), self.B.get_left(), color=WHITE)\n",
        "        \n",
        "        # Ramo inferiore: C poi split D-E\n",
        "        self.C = self.create_component(\"C\", LEFT*3 + DOWN*1.5)\n",
        "        self.D = self.create_component(\"D\", RIGHT*0.2 + DOWN*0.7)\n",
        "        self.E = self.create_component(\"E\", RIGHT*0.2 + DOWN*2.3)\n",
        "        \n",
        "        # Linee di connessione\n",
        "        line_C_split = Line(self.C.get_right(), LEFT*0.5 + DOWN*1.5, color=WHITE)\n",
        "        split_point = LEFT*0.5 + DOWN*1.5\n",
        "        line_split_D = Line(split_point, self.D.get_left(), color=WHITE)\n",
        "        line_split_E = Line(split_point, self.E.get_left(), color=WHITE)\n",
        "        line_D_merge = Line(self.D.get_right(), RIGHT*1.5 + DOWN*1.5, color=WHITE)\n",
        "        line_E_merge = Line(self.E.get_right(), RIGHT*1.5 + DOWN*1.5, color=WHITE)\n",
        "        \n",
        "        # Connessioni iniziali e finali\n",
        "        start_point = LEFT*4.5 + UP*0\n",
        "        end_point = RIGHT*3 + UP*0\n",
        "        line_start_A = Line(start_point, self.A.get_left(), color=WHITE)\n",
        "        line_start_C = Line(start_point, self.C.get_left(), color=WHITE)\n",
        "        line_B_end = Line(self.B.get_right(), end_point, color=WHITE)\n",
        "        line_merge_end = Line(RIGHT*1.5 + DOWN*1.5, end_point, color=WHITE)\n",
        "        \n",
        "        circuit = VGroup(\n",
        "            self.A, self.B, self.C, self.D, self.E,\n",
        "            line_AB, line_C_split, line_split_D, line_split_E,\n",
        "            line_D_merge, line_E_merge, line_start_A, line_start_C,\n",
        "            line_B_end, line_merge_end\n",
        "        )\n",
        "        \n",
        "        self.play(Create(circuit))\n",
        "        self.circuit = circuit\n",
        "        self.step_text = step\n",
        "\n",
        "    def simplify_series_AB(self):\n",
        "        \"\"\"Passo 1: Semplifica A-B in serie\"\"\"\n",
        "        self.play(FadeOut(self.step_text))\n",
        "        \n",
        "        step1 = Text(\"Passo 1: Componenti A-B in Serie\", font_size=32, color=YELLOW)\n",
        "        step1.to_edge(UP)\n",
        "        self.play(Write(step1))\n",
        "        \n",
        "        # Evidenzia A e B\n",
        "        self.play(\n",
        "            self.A[0].animate.set_color(YELLOW),\n",
        "            self.B[0].animate.set_color(YELLOW)\n",
        "        )\n",
        "        \n",
        "        # Formula\n",
        "        formula = MathTex(\n",
        "            \"P\\\\{A \\\\cap B\\\\} = (0.92)^2 = 0.8464\",\n",
        "            font_size=30\n",
        "        )\n",
        "        formula.to_edge(DOWN, buff=1)\n",
        "        self.play(Write(formula))\n",
        "        self.wait(2)\n",
        "        \n",
        "        # Crea componente F\n",
        "        F = self.create_component(\"F\", LEFT*2 + UP*1.5, color=GREEN)\n",
        "        prob_F = MathTex(\"p=0.8464\", font_size=20, color=GREEN)\n",
        "        prob_F.next_to(F, UP, buff=0.2)\n",
        "        \n",
        "        self.play(\n",
        "            FadeOut(self.A),\n",
        "            FadeOut(self.B),\n",
        "            FadeIn(F),\n",
        "            FadeIn(prob_F),\n",
        "            formula.animate.shift(UP*0.5)\n",
        "        )\n",
        "        self.F = F\n",
        "        self.prob_F = prob_F\n",
        "        self.formula1 = formula\n",
        "        self.step1_text = step1\n",
        "        self.wait(2)\n",
        "\n",
        "    def simplify_parallel_DE(self):\n",
        "        \"\"\"Passo 2: Semplifica D-E in parallelo\"\"\"\n",
        "        self.play(\n",
        "            FadeOut(self.step1_text),\n",
        "            FadeOut(self.formula1)\n",
        "        )\n",
        "        \n",
        "        step2 = Text(\"Passo 2: Componenti D-E in Parallelo\", font_size=32, color=YELLOW)\n",
        "        step2.to_edge(UP)\n",
        "        self.play(Write(step2))\n",
        "        \n",
        "        # Evidenzia D e E\n",
        "        self.play(\n",
        "            self.D[0].animate.set_color(YELLOW),\n",
        "            self.E[0].animate.set_color(YELLOW)\n",
        "        )\n",
        "        \n",
        "        # Formula\n",
        "        formula = MathTex(\n",
        "            \"P\\\\{D \\\\cup E\\\\} = 1 - (1-0.92)^2\",\n",
        "            font_size=28\n",
        "        )\n",
        "        formula.to_edge(DOWN, buff=1.5)\n",
        "        formula2 = MathTex(\n",
        "            \"= 1 - 0.0064 = 0.9936\",\n",
        "            font_size=28\n",
        "        )\n",
        "        formula2.next_to(formula, DOWN, buff=0.3)\n",
        "        \n",
        "        self.play(Write(formula))\n",
        "        self.wait()\n",
        "        self.play(Write(formula2))\n",
        "        self.wait(2)\n",
        "        \n",
        "        # Crea componente G\n",
        "        G = self.create_component(\"G\", RIGHT*0.2 + DOWN*1.5, color=GREEN)\n",
        "        prob_G = MathTex(\"p=0.9936\", font_size=20, color=GREEN)\n",
        "        prob_G.next_to(G, RIGHT, buff=0.2)\n",
        "        \n",
        "        self.play(\n",
        "            FadeOut(self.D),\n",
        "            FadeOut(self.E),\n",
        "            FadeIn(G),\n",
        "            FadeIn(prob_G)\n",
        "        )\n",
        "        self.G = G\n",
        "        self.prob_G = prob_G\n",
        "        self.step2_text = step2\n",
        "        self.formula2_group = VGroup(formula, formula2)\n",
        "        self.wait(2)\n",
        "\n",
        "    def simplify_series_CG(self):\n",
        "        \"\"\"Passo 3: Semplifica C-G in serie\"\"\"\n",
        "        self.play(\n",
        "            FadeOut(self.step2_text),\n",
        "            FadeOut(self.formula2_group)\n",
        "        )\n",
        "        \n",
        "        step3 = Text(\"Passo 3: Componenti C-G in Serie\", font_size=32, color=YELLOW)\n",
        "        step3.to_edge(UP)\n",
        "        self.play(Write(step3))\n",
        "        \n",
        "        # Evidenzia C e G\n",
        "        self.play(\n",
        "            self.C[0].animate.set_color(YELLOW),\n",
        "            self.G[0].animate.set_color(YELLOW)\n",
        "        )\n",
        "        \n",
        "        # Formula\n",
        "        formula = MathTex(\n",
        "            \"P\\\\{C \\\\cap G\\\\} = 0.92 \\\\cdot 0.9936\",\n",
        "            font_size=28\n",
        "        )\n",
        "        formula.to_edge(DOWN, buff=1.5)\n",
        "        formula2 = MathTex(\n",
        "            \"= 0.9141\",\n",
        "            font_size=28\n",
        "        )\n",
        "        formula2.next_to(formula, DOWN, buff=0.3)\n",
        "        \n",
        "        self.play(Write(formula))\n",
        "        self.wait()\n",
        "        self.play(Write(formula2))\n",
        "        self.wait(2)\n",
        "        \n",
        "        # Crea componente H\n",
        "        H = self.create_component(\"H\", LEFT*0.5 + DOWN*1.5, color=GREEN)\n",
        "        prob_H = MathTex(\"p=0.9141\", font_size=20, color=GREEN)\n",
        "        prob_H.next_to(H, DOWN, buff=0.2)\n",
        "        \n",
        "        self.play(\n",
        "            FadeOut(self.C),\n",
        "            FadeOut(self.G),\n",
        "            FadeOut(self.prob_G),\n",
        "            FadeIn(H),\n",
        "            FadeIn(prob_H)\n",
        "        )\n",
        "        self.H = H\n",
        "        self.prob_H = prob_H\n",
        "        self.step3_text = step3\n",
        "        self.formula3_group = VGroup(formula, formula2)\n",
        "        self.wait(2)\n",
        "\n",
        "    def final_parallel_FH(self):\n",
        "        \"\"\"Passo 4: Calcolo finale F-H in parallelo\"\"\"\n",
        "        self.play(\n",
        "            FadeOut(self.step3_text),\n",
        "            FadeOut(self.formula3_group)\n",
        "        )\n",
        "        \n",
        "        step4 = Text(\"Passo 4: Sistema Finale (F-H in Parallelo)\", font_size=32, color=YELLOW)\n",
        "        step4.to_edge(UP)\n",
        "        self.play(Write(step4))\n",
        "        \n",
        "        # Evidenzia F e H\n",
        "        self.play(\n",
        "            self.F[0].animate.set_color(YELLOW),\n",
        "            self.H[0].animate.set_color(YELLOW)\n",
        "        )\n",
        "        \n",
        "        # Formula finale\n",
        "        formula = MathTex(\n",
        "            \"P\\\\{F \\\\cup H\\\\} = 1 - (1-0.8464)(1-0.9141)\",\n",
        "            font_size=26\n",
        "        )\n",
        "        formula.to_edge(DOWN, buff=2)\n",
        "        formula2 = MathTex(\n",
        "            \"= 1 - (0.1536)(0.0859)\",\n",
        "            font_size=26\n",
        "        )\n",
        "        formula2.next_to(formula, DOWN, buff=0.2)\n",
        "        formula3 = MathTex(\n",
        "            \"= 1 - 0.01319 = 0.9868\",\n",
        "            font_size=26\n",
        "        )\n",
        "        formula3.next_to(formula2, DOWN, buff=0.2)\n",
        "        \n",
        "        self.play(Write(formula))\n",
        "        self.wait()\n",
        "        self.play(Write(formula2))\n",
        "        self.wait()\n",
        "        self.play(Write(formula3))\n",
        "        self.wait(2)\n",
        "        \n",
        "        # Risultato finale\n",
        "        result = MathTex(\n",
        "            \"\\\\boxed{P(\\\\text{sistema}) = 0.9868}\",\n",
        "            font_size=40,\n",
        "            color=GREEN\n",
        "        )\n",
        "        result.move_to(ORIGIN)\n",
        "        \n",
        "        self.play(\n",
        "            FadeOut(self.F),\n",
        "            FadeOut(self.H),\n",
        "            FadeOut(self.prob_F),\n",
        "            FadeOut(self.prob_H),\n",
        "            FadeOut(VGroup(formula, formula2, formula3)),\n",
        "            FadeOut(step4)\n",
        "        )\n",
        "        \n",
        "        self.play(Write(result), run_time=2)\n",
        "        self.play(result.animate.scale(1.2), rate_func=there_and_back, run_time=1)"
      ]
    },
    {
      "cell_type": "code",
      "execution_count": null,
      "metadata": {},
      "outputs": [
        {
          "data": {
            "text/html": [
              "<pre style=\"white-space:pre;overflow-x:auto;line-height:normal;font-family:Menlo,'DejaVu Sans Mono',consolas,'Courier New',monospace\">Manim Community <span style=\"color: #008000; text-decoration-color: #008000\">v0.19.0</span>\n",
              "\n",
              "</pre>\n"
            ],
            "text/plain": [
              "Manim Community \u001b[32mv0.\u001b[0m\u001b[32m19.0\u001b[0m\n",
              "\n"
            ]
          },
          "metadata": {},
          "output_type": "display_data"
        },
        {
          "name": "stderr",
          "output_type": "stream",
          "text": [
            "                                                                                                                                \r"
          ]
        },
        {
          "data": {
            "text/html": [
              "<video src=\"media/jupyter/CircuitReliability@2025-10-05@19-24-31.mp4\" controls autoplay loop style=\"max-width: 75%;\"  >\n",
              "      Your browser does not support the <code>video</code> element.\n",
              "    </video>"
            ],
            "text/plain": [
              "<IPython.core.display.Video object>"
            ]
          },
          "metadata": {},
          "output_type": "display_data"
        }
      ],
      "source": [
        "%manim -qm CircuitReliabilityClaude"
      ]
    },
    {
      "cell_type": "code",
      "execution_count": 2,
      "metadata": {},
      "outputs": [],
      "source": [
        "from manim import *\n",
        "\n",
        "class CircuitReliabilityChatGPT(Scene):\n",
        "    def make_component(self, label: str, prob: float, pos: np.ndarray, width=1.1, height=0.6):\n",
        "        \"\"\"Crea un piccolo blocco rettangolare con etichetta e probabilità sotto.\"\"\"\n",
        "        rect = Rectangle(width=width, height=height, stroke_width=2)\n",
        "        lbl = MathTex(label).scale(0.9)\n",
        "        ptxt = MathTex(f\"{prob:.4f}\").scale(0.6)\n",
        "        grp = VGroup(rect, lbl, ptxt)\n",
        "        lbl.move_to(rect.get_center())\n",
        "        ptxt.next_to(rect, DOWN, buff=0.06)\n",
        "        grp.move_to(pos)\n",
        "        return grp\n",
        "\n",
        "    def construct(self):\n",
        "        # Parametri modificabili\n",
        "        p = 0.92\n",
        "        run_time_short = 0.8\n",
        "        run_time_med = 1.2\n",
        "\n",
        "        # Posizioni principali\n",
        "        left_x, right_x = -4.0, 4.0\n",
        "        A_pos = np.array([-2.0, 1.6, 0])\n",
        "        B_pos = np.array([0.5, 1.6, 0])\n",
        "        C_pos = np.array([-1.2, -0.6, 0])\n",
        "        D_pos = np.array([1.6, 0.6, 0])\n",
        "        E_pos = np.array([1.6, -1.8, 0])\n",
        "\n",
        "        # Rotaie (left/right rails)\n",
        "        left_rail = Line(np.array([left_x, -2.4, 0]), np.array([left_x, 2.2, 0]), stroke_width=3)\n",
        "        right_rail = Line(np.array([right_x, -2.4, 0]), np.array([right_x, 2.2, 0]), stroke_width=3)\n",
        "\n",
        "        # Testo dell'espressione iniziale\n",
        "        expr = MathTex(r\"(A \\cap B) \\cup \\{ C \\cap (D \\cup E)\\}\").to_edge(UP)\n",
        "\n",
        "        # Componenti\n",
        "        A = self.make_component(\"A\", p, A_pos)\n",
        "        B = self.make_component(\"B\", p, B_pos)\n",
        "        C = self.make_component(\"C\", p, C_pos)\n",
        "        D = self.make_component(\"D\", p, D_pos)\n",
        "        E = self.make_component(\"E\", p, E_pos)\n",
        "\n",
        "        # Fili / collegamenti (linee)\n",
        "        w_left_A = Line(np.array([left_x, A.get_center()[1], 0]), A.get_left())\n",
        "        w_B_right = Line(B.get_right(), np.array([right_x, B.get_center()[1], 0]))\n",
        "        w_A_B = Line(A.get_right(), B.get_left())\n",
        "\n",
        "        w_left_C = Line(np.array([left_x, C.get_center()[1], 0]), C.get_left())\n",
        "        # split da C verso D ed E (collegamenti diagonali) + verso le rotaie esterne\n",
        "        w_C_D = Line(C.get_right(), D.get_left())\n",
        "        w_C_E = Line(C.get_right(), E.get_left())\n",
        "        w_D_right = Line(D.get_right(), np.array([right_x, D.get_center()[1], 0]))\n",
        "        w_E_right = Line(E.get_right(), np.array([right_x, E.get_center()[1], 0]))\n",
        "\n",
        "        # Mostro il circuito iniziale\n",
        "        self.play(Create(left_rail), Create(right_rail), run_time=run_time_short)\n",
        "        self.play(FadeIn(A), FadeIn(B), FadeIn(C), FadeIn(D), FadeIn(E), run_time=run_time_short)\n",
        "        self.play(Create(w_left_A), Create(w_A_B), Create(w_B_right),\n",
        "                  Create(w_left_C), Create(w_C_D), Create(w_C_E), Create(w_D_right), Create(w_E_right),\n",
        "                  Write(expr), run_time=run_time_med)\n",
        "        self.wait(0.6)\n",
        "\n",
        "        # --- STEP 1: A e B in serie -> F ---\n",
        "        surround_AB = SurroundingRectangle(VGroup(A, B), buff=0.28, color=YELLOW)\n",
        "        self.play(Create(surround_AB), run_time=run_time_short)\n",
        "        pAB = p * p\n",
        "        step1 = MathTex(r\"P\\{A\\cap B\\} = (0.92)^2 =\", f\"{pAB:.4f}\").next_to(expr, DOWN, buff=0.4)\n",
        "        self.play(Write(step1), run_time=run_time_med)\n",
        "        self.wait(0.6)\n",
        "\n",
        "        # Sostituisco A+B con F\n",
        "        mid_top = (A.get_center() + B.get_center()) / 2\n",
        "        F = self.make_component(\"F\", pAB, mid_top)\n",
        "        # Rimuovo A,B e fili interni e creo F con nuovi fili\n",
        "        self.play(FadeOut(VGroup(A, B, w_A_B, w_left_A, w_B_right, surround_AB)), run_time=run_time_med)\n",
        "        # Crea nuovi fili dal rail a F\n",
        "        w_left_F = Line(np.array([left_x, F.get_center()[1], 0]), F.get_left())\n",
        "        w_F_right = Line(F.get_right(), np.array([right_x, F.get_center()[1], 0]))\n",
        "        self.play(FadeIn(F), Create(w_left_F), Create(w_F_right), run_time=run_time_med)\n",
        "        self.wait(0.6)\n",
        "\n",
        "        # Aggiorno il gruppo dei fili visibili (usato per trasformazioni successive)\n",
        "        # (nota: i fili del ramo inferiore restano inalterati)\n",
        "\n",
        "        # --- STEP 2: D ed E in parallelo -> G ---\n",
        "        surround_DE = SurroundingRectangle(VGroup(D, E), buff=0.28, color=YELLOW)\n",
        "        self.play(Create(surround_DE), run_time=run_time_short)\n",
        "        pDE = 1 - (1 - p) ** 2\n",
        "        step2 = MathTex(r\"P\\{D\\cup E\\} = 1 - (1-0.92)^2 =\", f\"{pDE:.4f}\").next_to(step1, DOWN, buff=0.25)\n",
        "        self.play(Write(step2), run_time=run_time_med)\n",
        "        self.wait(0.6)\n",
        "\n",
        "        # Sostituisco D+E con G\n",
        "        # Posizione per G: centro tra D ed E\n",
        "        mid_DE = (D.get_center() + E.get_center()) / 2\n",
        "        G = self.make_component(\"G\", pDE, mid_DE)\n",
        "        self.play(FadeOut(VGroup(D, E, w_C_D, w_C_E, w_D_right, w_E_right, surround_DE)), run_time=run_time_med)\n",
        "        # crea nuovi fili per G\n",
        "        w_C_G = Line(C.get_right(), G.get_left())\n",
        "        w_G_right = Line(G.get_right(), np.array([right_x, G.get_center()[1], 0]))\n",
        "        self.play(FadeIn(G), Create(w_C_G), Create(w_G_right), run_time=run_time_med)\n",
        "        self.wait(0.6)\n",
        "\n",
        "        # --- STEP 3: C e G in serie -> H ---\n",
        "        surround_CG = SurroundingRectangle(VGroup(C, G), buff=0.25, color=YELLOW)\n",
        "        self.play(Create(surround_CG), run_time=run_time_short)\n",
        "        pCG = p * pDE\n",
        "        step3 = MathTex(r\"P\\{C\\cap G\\} = 0.92 \\cdot\", f\"{pDE:.4f}\", \"=\", f\"{pCG:.4f}\")\n",
        "        step3.arrange(RIGHT, buff=0.15).next_to(step2, DOWN, buff=0.25)\n",
        "        self.play(Write(step3), run_time=run_time_med)\n",
        "        self.wait(0.6)\n",
        "\n",
        "        # Sostituisco C+G con H\n",
        "        mid_bottom = (C.get_center() + G.get_center()) / 2\n",
        "        H = self.make_component(\"H\", pCG, mid_bottom)\n",
        "        self.play(FadeOut(VGroup(C, G, w_C_G, surround_CG)), run_time=run_time_med)\n",
        "        w_left_H = Line(np.array([left_x, H.get_center()[1], 0]), H.get_left())\n",
        "        w_H_right = Line(H.get_right(), np.array([right_x, H.get_center()[1], 0]))\n",
        "        self.play(FadeIn(H), Create(w_left_H), Create(w_H_right), run_time=run_time_med)\n",
        "        self.wait(0.6)\n",
        "\n",
        "        # --- STEP 4: Rami F e H in parallelo -> probabilità finale ---\n",
        "        surround_final = SurroundingRectangle(VGroup(F, H), buff=0.6, color=GREEN)\n",
        "        self.play(Create(surround_final), run_time=run_time_short)\n",
        "        pF = pAB\n",
        "        pH = pCG\n",
        "        p_total = 1 - (1 - pF) * (1 - pH)\n",
        "        final_calc = MathTex(r\"P\\{F\\cup H\\} = 1 - (1-P_F)(1-P_H) =\",\n",
        "                             f\"1 - (1 - {pF:.4f})(1 - {pH:.4f}) =\", f\"{p_total:.4f}\")\n",
        "        final_calc.scale(0.9).next_to(step3, DOWN, buff=0.4)\n",
        "        self.play(Write(final_calc), run_time=run_time_med)\n",
        "        self.wait(0.6)\n",
        "\n",
        "        # Box con risultato finale\n",
        "        result_box = SurroundingRectangle(final_calc, buff=0.18, color=BLUE)\n",
        "        self.play(Create(result_box), run_time=run_time_short)\n",
        "        self.wait(1.2)\n",
        "\n",
        "        # Mostro il risultato in grande al centro\n",
        "        final_text = MathTex(r\"P(\\text{Sistema operativo}) =\", f\"{p_total:.4f}\").scale(1.2)\n",
        "        final_text.to_edge(DOWN)\n",
        "        self.play(Write(final_text), run_time=run_time_med)\n",
        "        self.wait(2)\n",
        "\n",
        "        # Fine\n",
        "        self.play(FadeOut(VGroup(expr, step1, step2, step3, final_calc, result_box)), run_time=0.8)\n",
        "        self.wait(0.6)"
      ]
    },
    {
      "cell_type": "code",
      "execution_count": 3,
      "metadata": {},
      "outputs": [
        {
          "data": {
            "text/html": [
              "<pre style=\"white-space:pre;overflow-x:auto;line-height:normal;font-family:Menlo,'DejaVu Sans Mono',consolas,'Courier New',monospace\">Manim Community <span style=\"color: #008000; text-decoration-color: #008000\">v0.19.0</span>\n",
              "\n",
              "</pre>\n"
            ],
            "text/plain": [
              "Manim Community \u001b[32mv0.\u001b[0m\u001b[32m19.0\u001b[0m\n",
              "\n"
            ]
          },
          "metadata": {},
          "output_type": "display_data"
        },
        {
          "data": {
            "text/html": [
              "<pre style=\"white-space:pre;overflow-x:auto;line-height:normal;font-family:Menlo,'DejaVu Sans Mono',consolas,'Courier New',monospace\"><span style=\"color: #7fbfbf; text-decoration-color: #7fbfbf\">[10/07/25 12:06:43] </span><span style=\"color: #008000; text-decoration-color: #008000\">INFO    </span> <span style=\"color: #808000; text-decoration-color: #808000; font-weight: bold\">Writing</span> <span style=\"font-weight: bold\">(</span>A \\cap B<span style=\"font-weight: bold\">)</span> \\cup \\<span style=\"font-weight: bold\">{</span> C \\cap <span style=\"font-weight: bold\">(</span>D \\cup E<span style=\"font-weight: bold\">)</span>\\<span style=\"font-weight: bold\">}</span> to              <a href=\"file:///usr/local/lib/python3.11/site-packages/manim/utils/tex_file_writing.py\" target=\"_blank\"><span style=\"color: #7f7f7f; text-decoration-color: #7f7f7f\">tex_file_writing.py</span></a><span style=\"color: #7f7f7f; text-decoration-color: #7f7f7f\">:</span><a href=\"file:///usr/local/lib/python3.11/site-packages/manim/utils/tex_file_writing.py#111\" target=\"_blank\"><span style=\"color: #7f7f7f; text-decoration-color: #7f7f7f\">111</span></a>\n",
              "<span style=\"color: #7fbfbf; text-decoration-color: #7fbfbf\">                    </span>         media/Tex/6e8c486fbf5ea2ec.tex                                 <span style=\"color: #7f7f7f; text-decoration-color: #7f7f7f\">                       </span>\n",
              "</pre>\n"
            ],
            "text/plain": [
              "\u001b[2;36m[10/07/25 12:06:43]\u001b[0m\u001b[2;36m \u001b[0m\u001b[32mINFO    \u001b[0m \u001b[1;33mWriting\u001b[0m \u001b[1m(\u001b[0mA \\cap B\u001b[1m)\u001b[0m \\cup \\\u001b[1m{\u001b[0m C \\cap \u001b[1m(\u001b[0mD \\cup E\u001b[1m)\u001b[0m\\\u001b[1m}\u001b[0m to              \u001b]8;id=83668;file:///usr/local/lib/python3.11/site-packages/manim/utils/tex_file_writing.py\u001b\\\u001b[2mtex_file_writing.py\u001b[0m\u001b]8;;\u001b\\\u001b[2m:\u001b[0m\u001b]8;id=245525;file:///usr/local/lib/python3.11/site-packages/manim/utils/tex_file_writing.py#111\u001b\\\u001b[2m111\u001b[0m\u001b]8;;\u001b\\\n",
              "\u001b[2;36m                    \u001b[0m         media/Tex/6e8c486fbf5ea2ec.tex                                 \u001b[2m                       \u001b[0m\n"
            ]
          },
          "metadata": {},
          "output_type": "display_data"
        },
        {
          "data": {
            "text/html": [
              "<pre style=\"white-space:pre;overflow-x:auto;line-height:normal;font-family:Menlo,'DejaVu Sans Mono',consolas,'Courier New',monospace\"><span style=\"color: #7fbfbf; text-decoration-color: #7fbfbf\">[10/07/25 12:06:44] </span><span style=\"color: #008000; text-decoration-color: #008000\">INFO    </span> <span style=\"color: #808000; text-decoration-color: #808000; font-weight: bold\">Writing</span> A to media/Tex/90f07b07e57adf79.tex                    <a href=\"file:///usr/local/lib/python3.11/site-packages/manim/utils/tex_file_writing.py\" target=\"_blank\"><span style=\"color: #7f7f7f; text-decoration-color: #7f7f7f\">tex_file_writing.py</span></a><span style=\"color: #7f7f7f; text-decoration-color: #7f7f7f\">:</span><a href=\"file:///usr/local/lib/python3.11/site-packages/manim/utils/tex_file_writing.py#111\" target=\"_blank\"><span style=\"color: #7f7f7f; text-decoration-color: #7f7f7f\">111</span></a>\n",
              "</pre>\n"
            ],
            "text/plain": [
              "\u001b[2;36m[10/07/25 12:06:44]\u001b[0m\u001b[2;36m \u001b[0m\u001b[32mINFO    \u001b[0m \u001b[1;33mWriting\u001b[0m A to media/Tex/90f07b07e57adf79.tex                    \u001b]8;id=285612;file:///usr/local/lib/python3.11/site-packages/manim/utils/tex_file_writing.py\u001b\\\u001b[2mtex_file_writing.py\u001b[0m\u001b]8;;\u001b\\\u001b[2m:\u001b[0m\u001b]8;id=185861;file:///usr/local/lib/python3.11/site-packages/manim/utils/tex_file_writing.py#111\u001b\\\u001b[2m111\u001b[0m\u001b]8;;\u001b\\\n"
            ]
          },
          "metadata": {},
          "output_type": "display_data"
        },
        {
          "data": {
            "text/html": [
              "<pre style=\"white-space:pre;overflow-x:auto;line-height:normal;font-family:Menlo,'DejaVu Sans Mono',consolas,'Courier New',monospace\"><span style=\"color: #7fbfbf; text-decoration-color: #7fbfbf\">[10/07/25 12:06:45] </span><span style=\"color: #008000; text-decoration-color: #008000\">INFO    </span> <span style=\"color: #808000; text-decoration-color: #808000; font-weight: bold\">Writing</span> <span style=\"color: #008000; text-decoration-color: #008000\">0.9200</span> to media/Tex/1aef7d3217750f72.tex               <a href=\"file:///usr/local/lib/python3.11/site-packages/manim/utils/tex_file_writing.py\" target=\"_blank\"><span style=\"color: #7f7f7f; text-decoration-color: #7f7f7f\">tex_file_writing.py</span></a><span style=\"color: #7f7f7f; text-decoration-color: #7f7f7f\">:</span><a href=\"file:///usr/local/lib/python3.11/site-packages/manim/utils/tex_file_writing.py#111\" target=\"_blank\"><span style=\"color: #7f7f7f; text-decoration-color: #7f7f7f\">111</span></a>\n",
              "</pre>\n"
            ],
            "text/plain": [
              "\u001b[2;36m[10/07/25 12:06:45]\u001b[0m\u001b[2;36m \u001b[0m\u001b[32mINFO    \u001b[0m \u001b[1;33mWriting\u001b[0m \u001b[32m0.9200\u001b[0m to media/Tex/1aef7d3217750f72.tex               \u001b]8;id=496627;file:///usr/local/lib/python3.11/site-packages/manim/utils/tex_file_writing.py\u001b\\\u001b[2mtex_file_writing.py\u001b[0m\u001b]8;;\u001b\\\u001b[2m:\u001b[0m\u001b]8;id=717601;file:///usr/local/lib/python3.11/site-packages/manim/utils/tex_file_writing.py#111\u001b\\\u001b[2m111\u001b[0m\u001b]8;;\u001b\\\n"
            ]
          },
          "metadata": {},
          "output_type": "display_data"
        },
        {
          "data": {
            "text/html": [
              "<pre style=\"white-space:pre;overflow-x:auto;line-height:normal;font-family:Menlo,'DejaVu Sans Mono',consolas,'Courier New',monospace\"><span style=\"color: #7fbfbf; text-decoration-color: #7fbfbf\">                    </span><span style=\"color: #008000; text-decoration-color: #008000\">INFO    </span> <span style=\"color: #808000; text-decoration-color: #808000; font-weight: bold\">Writing</span> B to media/Tex/d82288bb87e99d59.tex                    <a href=\"file:///usr/local/lib/python3.11/site-packages/manim/utils/tex_file_writing.py\" target=\"_blank\"><span style=\"color: #7f7f7f; text-decoration-color: #7f7f7f\">tex_file_writing.py</span></a><span style=\"color: #7f7f7f; text-decoration-color: #7f7f7f\">:</span><a href=\"file:///usr/local/lib/python3.11/site-packages/manim/utils/tex_file_writing.py#111\" target=\"_blank\"><span style=\"color: #7f7f7f; text-decoration-color: #7f7f7f\">111</span></a>\n",
              "</pre>\n"
            ],
            "text/plain": [
              "\u001b[2;36m                   \u001b[0m\u001b[2;36m \u001b[0m\u001b[32mINFO    \u001b[0m \u001b[1;33mWriting\u001b[0m B to media/Tex/d82288bb87e99d59.tex                    \u001b]8;id=966354;file:///usr/local/lib/python3.11/site-packages/manim/utils/tex_file_writing.py\u001b\\\u001b[2mtex_file_writing.py\u001b[0m\u001b]8;;\u001b\\\u001b[2m:\u001b[0m\u001b]8;id=462352;file:///usr/local/lib/python3.11/site-packages/manim/utils/tex_file_writing.py#111\u001b\\\u001b[2m111\u001b[0m\u001b]8;;\u001b\\\n"
            ]
          },
          "metadata": {},
          "output_type": "display_data"
        },
        {
          "data": {
            "text/html": [
              "<pre style=\"white-space:pre;overflow-x:auto;line-height:normal;font-family:Menlo,'DejaVu Sans Mono',consolas,'Courier New',monospace\"><span style=\"color: #7fbfbf; text-decoration-color: #7fbfbf\">[10/07/25 12:06:46] </span><span style=\"color: #008000; text-decoration-color: #008000\">INFO    </span> <span style=\"color: #808000; text-decoration-color: #808000; font-weight: bold\">Writing</span> C to media/Tex/86474863bfdee3e7.tex                    <a href=\"file:///usr/local/lib/python3.11/site-packages/manim/utils/tex_file_writing.py\" target=\"_blank\"><span style=\"color: #7f7f7f; text-decoration-color: #7f7f7f\">tex_file_writing.py</span></a><span style=\"color: #7f7f7f; text-decoration-color: #7f7f7f\">:</span><a href=\"file:///usr/local/lib/python3.11/site-packages/manim/utils/tex_file_writing.py#111\" target=\"_blank\"><span style=\"color: #7f7f7f; text-decoration-color: #7f7f7f\">111</span></a>\n",
              "</pre>\n"
            ],
            "text/plain": [
              "\u001b[2;36m[10/07/25 12:06:46]\u001b[0m\u001b[2;36m \u001b[0m\u001b[32mINFO    \u001b[0m \u001b[1;33mWriting\u001b[0m C to media/Tex/86474863bfdee3e7.tex                    \u001b]8;id=720714;file:///usr/local/lib/python3.11/site-packages/manim/utils/tex_file_writing.py\u001b\\\u001b[2mtex_file_writing.py\u001b[0m\u001b]8;;\u001b\\\u001b[2m:\u001b[0m\u001b]8;id=735909;file:///usr/local/lib/python3.11/site-packages/manim/utils/tex_file_writing.py#111\u001b\\\u001b[2m111\u001b[0m\u001b]8;;\u001b\\\n"
            ]
          },
          "metadata": {},
          "output_type": "display_data"
        },
        {
          "data": {
            "text/html": [
              "<pre style=\"white-space:pre;overflow-x:auto;line-height:normal;font-family:Menlo,'DejaVu Sans Mono',consolas,'Courier New',monospace\"><span style=\"color: #7fbfbf; text-decoration-color: #7fbfbf\">                    </span><span style=\"color: #008000; text-decoration-color: #008000\">INFO    </span> <span style=\"color: #808000; text-decoration-color: #808000; font-weight: bold\">Writing</span> D to media/Tex/265843fdb06dea70.tex                    <a href=\"file:///usr/local/lib/python3.11/site-packages/manim/utils/tex_file_writing.py\" target=\"_blank\"><span style=\"color: #7f7f7f; text-decoration-color: #7f7f7f\">tex_file_writing.py</span></a><span style=\"color: #7f7f7f; text-decoration-color: #7f7f7f\">:</span><a href=\"file:///usr/local/lib/python3.11/site-packages/manim/utils/tex_file_writing.py#111\" target=\"_blank\"><span style=\"color: #7f7f7f; text-decoration-color: #7f7f7f\">111</span></a>\n",
              "</pre>\n"
            ],
            "text/plain": [
              "\u001b[2;36m                   \u001b[0m\u001b[2;36m \u001b[0m\u001b[32mINFO    \u001b[0m \u001b[1;33mWriting\u001b[0m D to media/Tex/265843fdb06dea70.tex                    \u001b]8;id=964515;file:///usr/local/lib/python3.11/site-packages/manim/utils/tex_file_writing.py\u001b\\\u001b[2mtex_file_writing.py\u001b[0m\u001b]8;;\u001b\\\u001b[2m:\u001b[0m\u001b]8;id=883486;file:///usr/local/lib/python3.11/site-packages/manim/utils/tex_file_writing.py#111\u001b\\\u001b[2m111\u001b[0m\u001b]8;;\u001b\\\n"
            ]
          },
          "metadata": {},
          "output_type": "display_data"
        },
        {
          "data": {
            "text/html": [
              "<pre style=\"white-space:pre;overflow-x:auto;line-height:normal;font-family:Menlo,'DejaVu Sans Mono',consolas,'Courier New',monospace\"><span style=\"color: #7fbfbf; text-decoration-color: #7fbfbf\">[10/07/25 12:06:47] </span><span style=\"color: #008000; text-decoration-color: #008000\">INFO    </span> <span style=\"color: #808000; text-decoration-color: #808000; font-weight: bold\">Writing</span> E to media/Tex/e1a073610d09680e.tex                    <a href=\"file:///usr/local/lib/python3.11/site-packages/manim/utils/tex_file_writing.py\" target=\"_blank\"><span style=\"color: #7f7f7f; text-decoration-color: #7f7f7f\">tex_file_writing.py</span></a><span style=\"color: #7f7f7f; text-decoration-color: #7f7f7f\">:</span><a href=\"file:///usr/local/lib/python3.11/site-packages/manim/utils/tex_file_writing.py#111\" target=\"_blank\"><span style=\"color: #7f7f7f; text-decoration-color: #7f7f7f\">111</span></a>\n",
              "</pre>\n"
            ],
            "text/plain": [
              "\u001b[2;36m[10/07/25 12:06:47]\u001b[0m\u001b[2;36m \u001b[0m\u001b[32mINFO    \u001b[0m \u001b[1;33mWriting\u001b[0m E to media/Tex/e1a073610d09680e.tex                    \u001b]8;id=957605;file:///usr/local/lib/python3.11/site-packages/manim/utils/tex_file_writing.py\u001b\\\u001b[2mtex_file_writing.py\u001b[0m\u001b]8;;\u001b\\\u001b[2m:\u001b[0m\u001b]8;id=901283;file:///usr/local/lib/python3.11/site-packages/manim/utils/tex_file_writing.py#111\u001b\\\u001b[2m111\u001b[0m\u001b]8;;\u001b\\\n"
            ]
          },
          "metadata": {},
          "output_type": "display_data"
        },
        {
          "name": "stderr",
          "output_type": "stream",
          "text": [
            "                                                                                 \r"
          ]
        },
        {
          "data": {
            "text/html": [
              "<pre style=\"white-space:pre;overflow-x:auto;line-height:normal;font-family:Menlo,'DejaVu Sans Mono',consolas,'Courier New',monospace\"><span style=\"color: #7fbfbf; text-decoration-color: #7fbfbf\">[10/07/25 12:06:48] </span><span style=\"color: #008000; text-decoration-color: #008000\">INFO    </span> Animation <span style=\"color: #008000; text-decoration-color: #008000\">0</span> : Partial movie file written in                   <a href=\"file:///usr/local/lib/python3.11/site-packages/manim/scene/scene_file_writer.py\" target=\"_blank\"><span style=\"color: #7f7f7f; text-decoration-color: #7f7f7f\">scene_file_writer.py</span></a><span style=\"color: #7f7f7f; text-decoration-color: #7f7f7f\">:</span><a href=\"file:///usr/local/lib/python3.11/site-packages/manim/scene/scene_file_writer.py#588\" target=\"_blank\"><span style=\"color: #7f7f7f; text-decoration-color: #7f7f7f\">588</span></a>\n",
              "<span style=\"color: #7fbfbf; text-decoration-color: #7fbfbf\">                    </span>         <span style=\"color: #008000; text-decoration-color: #008000\">'/manim/colab_handouts_PSI/media/videos/colab_handouts_PSI/72</span> <span style=\"color: #7f7f7f; text-decoration-color: #7f7f7f\">                        </span>\n",
              "<span style=\"color: #7fbfbf; text-decoration-color: #7fbfbf\">                    </span>         <span style=\"color: #008000; text-decoration-color: #008000\">0p30/partial_movie_files/CircuitReliabilityChatGPT/2016333726</span> <span style=\"color: #7f7f7f; text-decoration-color: #7f7f7f\">                        </span>\n",
              "<span style=\"color: #7fbfbf; text-decoration-color: #7fbfbf\">                    </span>         <span style=\"color: #008000; text-decoration-color: #008000\">_3453165652_223132457.mp4'</span>                                    <span style=\"color: #7f7f7f; text-decoration-color: #7f7f7f\">                        </span>\n",
              "</pre>\n"
            ],
            "text/plain": [
              "\u001b[2;36m[10/07/25 12:06:48]\u001b[0m\u001b[2;36m \u001b[0m\u001b[32mINFO    \u001b[0m Animation \u001b[32m0\u001b[0m : Partial movie file written in                   \u001b]8;id=56018;file:///usr/local/lib/python3.11/site-packages/manim/scene/scene_file_writer.py\u001b\\\u001b[2mscene_file_writer.py\u001b[0m\u001b]8;;\u001b\\\u001b[2m:\u001b[0m\u001b]8;id=349796;file:///usr/local/lib/python3.11/site-packages/manim/scene/scene_file_writer.py#588\u001b\\\u001b[2m588\u001b[0m\u001b]8;;\u001b\\\n",
              "\u001b[2;36m                    \u001b[0m         \u001b[32m'/manim/colab_handouts_PSI/media/videos/colab_handouts_PSI/72\u001b[0m \u001b[2m                        \u001b[0m\n",
              "\u001b[2;36m                    \u001b[0m         \u001b[32m0p30/partial_movie_files/CircuitReliabilityChatGPT/2016333726\u001b[0m \u001b[2m                        \u001b[0m\n",
              "\u001b[2;36m                    \u001b[0m         \u001b[32m_3453165652_223132457.mp4'\u001b[0m                                    \u001b[2m                        \u001b[0m\n"
            ]
          },
          "metadata": {},
          "output_type": "display_data"
        },
        {
          "name": "stderr",
          "output_type": "stream",
          "text": [
            "                                                                                                   \r"
          ]
        },
        {
          "data": {
            "text/html": [
              "<pre style=\"white-space:pre;overflow-x:auto;line-height:normal;font-family:Menlo,'DejaVu Sans Mono',consolas,'Courier New',monospace\"><span style=\"color: #7fbfbf; text-decoration-color: #7fbfbf\">[10/07/25 12:06:49] </span><span style=\"color: #008000; text-decoration-color: #008000\">INFO    </span> Animation <span style=\"color: #008000; text-decoration-color: #008000\">1</span> : Partial movie file written in                   <a href=\"file:///usr/local/lib/python3.11/site-packages/manim/scene/scene_file_writer.py\" target=\"_blank\"><span style=\"color: #7f7f7f; text-decoration-color: #7f7f7f\">scene_file_writer.py</span></a><span style=\"color: #7f7f7f; text-decoration-color: #7f7f7f\">:</span><a href=\"file:///usr/local/lib/python3.11/site-packages/manim/scene/scene_file_writer.py#588\" target=\"_blank\"><span style=\"color: #7f7f7f; text-decoration-color: #7f7f7f\">588</span></a>\n",
              "<span style=\"color: #7fbfbf; text-decoration-color: #7fbfbf\">                    </span>         <span style=\"color: #008000; text-decoration-color: #008000\">'/manim/colab_handouts_PSI/media/videos/colab_handouts_PSI/72</span> <span style=\"color: #7f7f7f; text-decoration-color: #7f7f7f\">                        </span>\n",
              "<span style=\"color: #7fbfbf; text-decoration-color: #7fbfbf\">                    </span>         <span style=\"color: #008000; text-decoration-color: #008000\">0p30/partial_movie_files/CircuitReliabilityChatGPT/543634251_</span> <span style=\"color: #7f7f7f; text-decoration-color: #7f7f7f\">                        </span>\n",
              "<span style=\"color: #7fbfbf; text-decoration-color: #7fbfbf\">                    </span>         <span style=\"color: #008000; text-decoration-color: #008000\">1673551077_3467543719.mp4'</span>                                    <span style=\"color: #7f7f7f; text-decoration-color: #7f7f7f\">                        </span>\n",
              "</pre>\n"
            ],
            "text/plain": [
              "\u001b[2;36m[10/07/25 12:06:49]\u001b[0m\u001b[2;36m \u001b[0m\u001b[32mINFO    \u001b[0m Animation \u001b[32m1\u001b[0m : Partial movie file written in                   \u001b]8;id=195903;file:///usr/local/lib/python3.11/site-packages/manim/scene/scene_file_writer.py\u001b\\\u001b[2mscene_file_writer.py\u001b[0m\u001b]8;;\u001b\\\u001b[2m:\u001b[0m\u001b]8;id=863585;file:///usr/local/lib/python3.11/site-packages/manim/scene/scene_file_writer.py#588\u001b\\\u001b[2m588\u001b[0m\u001b]8;;\u001b\\\n",
              "\u001b[2;36m                    \u001b[0m         \u001b[32m'/manim/colab_handouts_PSI/media/videos/colab_handouts_PSI/72\u001b[0m \u001b[2m                        \u001b[0m\n",
              "\u001b[2;36m                    \u001b[0m         \u001b[32m0p30/partial_movie_files/CircuitReliabilityChatGPT/543634251_\u001b[0m \u001b[2m                        \u001b[0m\n",
              "\u001b[2;36m                    \u001b[0m         \u001b[32m1673551077_3467543719.mp4'\u001b[0m                                    \u001b[2m                        \u001b[0m\n"
            ]
          },
          "metadata": {},
          "output_type": "display_data"
        },
        {
          "name": "stderr",
          "output_type": "stream",
          "text": [
            "                                                                                \r"
          ]
        },
        {
          "data": {
            "text/html": [
              "<pre style=\"white-space:pre;overflow-x:auto;line-height:normal;font-family:Menlo,'DejaVu Sans Mono',consolas,'Courier New',monospace\"><span style=\"color: #7fbfbf; text-decoration-color: #7fbfbf\">[10/07/25 12:06:50] </span><span style=\"color: #008000; text-decoration-color: #008000\">INFO    </span> Animation <span style=\"color: #008000; text-decoration-color: #008000\">2</span> : Partial movie file written in                   <a href=\"file:///usr/local/lib/python3.11/site-packages/manim/scene/scene_file_writer.py\" target=\"_blank\"><span style=\"color: #7f7f7f; text-decoration-color: #7f7f7f\">scene_file_writer.py</span></a><span style=\"color: #7f7f7f; text-decoration-color: #7f7f7f\">:</span><a href=\"file:///usr/local/lib/python3.11/site-packages/manim/scene/scene_file_writer.py#588\" target=\"_blank\"><span style=\"color: #7f7f7f; text-decoration-color: #7f7f7f\">588</span></a>\n",
              "<span style=\"color: #7fbfbf; text-decoration-color: #7fbfbf\">                    </span>         <span style=\"color: #008000; text-decoration-color: #008000\">'/manim/colab_handouts_PSI/media/videos/colab_handouts_PSI/72</span> <span style=\"color: #7f7f7f; text-decoration-color: #7f7f7f\">                        </span>\n",
              "<span style=\"color: #7fbfbf; text-decoration-color: #7fbfbf\">                    </span>         <span style=\"color: #008000; text-decoration-color: #008000\">0p30/partial_movie_files/CircuitReliabilityChatGPT/543634251_</span> <span style=\"color: #7f7f7f; text-decoration-color: #7f7f7f\">                        </span>\n",
              "<span style=\"color: #7fbfbf; text-decoration-color: #7fbfbf\">                    </span>         <span style=\"color: #008000; text-decoration-color: #008000\">1062413528_1653455701.mp4'</span>                                    <span style=\"color: #7f7f7f; text-decoration-color: #7f7f7f\">                        </span>\n",
              "</pre>\n"
            ],
            "text/plain": [
              "\u001b[2;36m[10/07/25 12:06:50]\u001b[0m\u001b[2;36m \u001b[0m\u001b[32mINFO    \u001b[0m Animation \u001b[32m2\u001b[0m : Partial movie file written in                   \u001b]8;id=317155;file:///usr/local/lib/python3.11/site-packages/manim/scene/scene_file_writer.py\u001b\\\u001b[2mscene_file_writer.py\u001b[0m\u001b]8;;\u001b\\\u001b[2m:\u001b[0m\u001b]8;id=431241;file:///usr/local/lib/python3.11/site-packages/manim/scene/scene_file_writer.py#588\u001b\\\u001b[2m588\u001b[0m\u001b]8;;\u001b\\\n",
              "\u001b[2;36m                    \u001b[0m         \u001b[32m'/manim/colab_handouts_PSI/media/videos/colab_handouts_PSI/72\u001b[0m \u001b[2m                        \u001b[0m\n",
              "\u001b[2;36m                    \u001b[0m         \u001b[32m0p30/partial_movie_files/CircuitReliabilityChatGPT/543634251_\u001b[0m \u001b[2m                        \u001b[0m\n",
              "\u001b[2;36m                    \u001b[0m         \u001b[32m1062413528_1653455701.mp4'\u001b[0m                                    \u001b[2m                        \u001b[0m\n"
            ]
          },
          "metadata": {},
          "output_type": "display_data"
        },
        {
          "data": {
            "text/html": [
              "<pre style=\"white-space:pre;overflow-x:auto;line-height:normal;font-family:Menlo,'DejaVu Sans Mono',consolas,'Courier New',monospace\"><span style=\"color: #7fbfbf; text-decoration-color: #7fbfbf\">[10/07/25 12:06:51] </span><span style=\"color: #008000; text-decoration-color: #008000\">INFO    </span> Animation <span style=\"color: #008000; text-decoration-color: #008000\">3</span> : Partial movie file written in                   <a href=\"file:///usr/local/lib/python3.11/site-packages/manim/scene/scene_file_writer.py\" target=\"_blank\"><span style=\"color: #7f7f7f; text-decoration-color: #7f7f7f\">scene_file_writer.py</span></a><span style=\"color: #7f7f7f; text-decoration-color: #7f7f7f\">:</span><a href=\"file:///usr/local/lib/python3.11/site-packages/manim/scene/scene_file_writer.py#588\" target=\"_blank\"><span style=\"color: #7f7f7f; text-decoration-color: #7f7f7f\">588</span></a>\n",
              "<span style=\"color: #7fbfbf; text-decoration-color: #7fbfbf\">                    </span>         <span style=\"color: #008000; text-decoration-color: #008000\">'/manim/colab_handouts_PSI/media/videos/colab_handouts_PSI/72</span> <span style=\"color: #7f7f7f; text-decoration-color: #7f7f7f\">                        </span>\n",
              "<span style=\"color: #7fbfbf; text-decoration-color: #7fbfbf\">                    </span>         <span style=\"color: #008000; text-decoration-color: #008000\">0p30/partial_movie_files/CircuitReliabilityChatGPT/543634251_</span> <span style=\"color: #7f7f7f; text-decoration-color: #7f7f7f\">                        </span>\n",
              "<span style=\"color: #7fbfbf; text-decoration-color: #7fbfbf\">                    </span>         <span style=\"color: #008000; text-decoration-color: #008000\">3932249147_3257317720.mp4'</span>                                    <span style=\"color: #7f7f7f; text-decoration-color: #7f7f7f\">                        </span>\n",
              "</pre>\n"
            ],
            "text/plain": [
              "\u001b[2;36m[10/07/25 12:06:51]\u001b[0m\u001b[2;36m \u001b[0m\u001b[32mINFO    \u001b[0m Animation \u001b[32m3\u001b[0m : Partial movie file written in                   \u001b]8;id=808565;file:///usr/local/lib/python3.11/site-packages/manim/scene/scene_file_writer.py\u001b\\\u001b[2mscene_file_writer.py\u001b[0m\u001b]8;;\u001b\\\u001b[2m:\u001b[0m\u001b]8;id=547067;file:///usr/local/lib/python3.11/site-packages/manim/scene/scene_file_writer.py#588\u001b\\\u001b[2m588\u001b[0m\u001b]8;;\u001b\\\n",
              "\u001b[2;36m                    \u001b[0m         \u001b[32m'/manim/colab_handouts_PSI/media/videos/colab_handouts_PSI/72\u001b[0m \u001b[2m                        \u001b[0m\n",
              "\u001b[2;36m                    \u001b[0m         \u001b[32m0p30/partial_movie_files/CircuitReliabilityChatGPT/543634251_\u001b[0m \u001b[2m                        \u001b[0m\n",
              "\u001b[2;36m                    \u001b[0m         \u001b[32m3932249147_3257317720.mp4'\u001b[0m                                    \u001b[2m                        \u001b[0m\n"
            ]
          },
          "metadata": {},
          "output_type": "display_data"
        },
        {
          "name": "stderr",
          "output_type": "stream",
          "text": [
            "                                                                                           \r"
          ]
        },
        {
          "data": {
            "text/html": [
              "<pre style=\"white-space:pre;overflow-x:auto;line-height:normal;font-family:Menlo,'DejaVu Sans Mono',consolas,'Courier New',monospace\"><span style=\"color: #7fbfbf; text-decoration-color: #7fbfbf\">                    </span><span style=\"color: #008000; text-decoration-color: #008000\">INFO    </span> Animation <span style=\"color: #008000; text-decoration-color: #008000\">4</span> : Partial movie file written in                   <a href=\"file:///usr/local/lib/python3.11/site-packages/manim/scene/scene_file_writer.py\" target=\"_blank\"><span style=\"color: #7f7f7f; text-decoration-color: #7f7f7f\">scene_file_writer.py</span></a><span style=\"color: #7f7f7f; text-decoration-color: #7f7f7f\">:</span><a href=\"file:///usr/local/lib/python3.11/site-packages/manim/scene/scene_file_writer.py#588\" target=\"_blank\"><span style=\"color: #7f7f7f; text-decoration-color: #7f7f7f\">588</span></a>\n",
              "<span style=\"color: #7fbfbf; text-decoration-color: #7fbfbf\">                    </span>         <span style=\"color: #008000; text-decoration-color: #008000\">'/manim/colab_handouts_PSI/media/videos/colab_handouts_PSI/72</span> <span style=\"color: #7f7f7f; text-decoration-color: #7f7f7f\">                        </span>\n",
              "<span style=\"color: #7fbfbf; text-decoration-color: #7fbfbf\">                    </span>         <span style=\"color: #008000; text-decoration-color: #008000\">0p30/partial_movie_files/CircuitReliabilityChatGPT/543634251_</span> <span style=\"color: #7f7f7f; text-decoration-color: #7f7f7f\">                        </span>\n",
              "<span style=\"color: #7fbfbf; text-decoration-color: #7fbfbf\">                    </span>         <span style=\"color: #008000; text-decoration-color: #008000\">3380672091_980571690.mp4'</span>                                     <span style=\"color: #7f7f7f; text-decoration-color: #7f7f7f\">                        </span>\n",
              "</pre>\n"
            ],
            "text/plain": [
              "\u001b[2;36m                   \u001b[0m\u001b[2;36m \u001b[0m\u001b[32mINFO    \u001b[0m Animation \u001b[32m4\u001b[0m : Partial movie file written in                   \u001b]8;id=988712;file:///usr/local/lib/python3.11/site-packages/manim/scene/scene_file_writer.py\u001b\\\u001b[2mscene_file_writer.py\u001b[0m\u001b]8;;\u001b\\\u001b[2m:\u001b[0m\u001b]8;id=291104;file:///usr/local/lib/python3.11/site-packages/manim/scene/scene_file_writer.py#588\u001b\\\u001b[2m588\u001b[0m\u001b]8;;\u001b\\\n",
              "\u001b[2;36m                    \u001b[0m         \u001b[32m'/manim/colab_handouts_PSI/media/videos/colab_handouts_PSI/72\u001b[0m \u001b[2m                        \u001b[0m\n",
              "\u001b[2;36m                    \u001b[0m         \u001b[32m0p30/partial_movie_files/CircuitReliabilityChatGPT/543634251_\u001b[0m \u001b[2m                        \u001b[0m\n",
              "\u001b[2;36m                    \u001b[0m         \u001b[32m3380672091_980571690.mp4'\u001b[0m                                     \u001b[2m                        \u001b[0m\n"
            ]
          },
          "metadata": {},
          "output_type": "display_data"
        },
        {
          "data": {
            "text/html": [
              "<pre style=\"white-space:pre;overflow-x:auto;line-height:normal;font-family:Menlo,'DejaVu Sans Mono',consolas,'Courier New',monospace\"><span style=\"color: #7fbfbf; text-decoration-color: #7fbfbf\">                    </span><span style=\"color: #008000; text-decoration-color: #008000\">INFO    </span> <span style=\"color: #808000; text-decoration-color: #808000; font-weight: bold\">Writing</span> P\\<span style=\"font-weight: bold\">{</span>A\\cap B\\<span style=\"font-weight: bold\">}</span> = <span style=\"font-weight: bold\">(</span><span style=\"color: #008000; text-decoration-color: #008000\">0.92</span><span style=\"font-weight: bold\">)</span>^<span style=\"color: #008000; text-decoration-color: #008000\">2</span> = <span style=\"color: #008000; text-decoration-color: #008000\">0.8464</span> to                    <a href=\"file:///usr/local/lib/python3.11/site-packages/manim/utils/tex_file_writing.py\" target=\"_blank\"><span style=\"color: #7f7f7f; text-decoration-color: #7f7f7f\">tex_file_writing.py</span></a><span style=\"color: #7f7f7f; text-decoration-color: #7f7f7f\">:</span><a href=\"file:///usr/local/lib/python3.11/site-packages/manim/utils/tex_file_writing.py#111\" target=\"_blank\"><span style=\"color: #7f7f7f; text-decoration-color: #7f7f7f\">111</span></a>\n",
              "<span style=\"color: #7fbfbf; text-decoration-color: #7fbfbf\">                    </span>         media/Tex/9428ca649bb77272.tex                                 <span style=\"color: #7f7f7f; text-decoration-color: #7f7f7f\">                       </span>\n",
              "</pre>\n"
            ],
            "text/plain": [
              "\u001b[2;36m                   \u001b[0m\u001b[2;36m \u001b[0m\u001b[32mINFO    \u001b[0m \u001b[1;33mWriting\u001b[0m P\\\u001b[1m{\u001b[0mA\\cap B\\\u001b[1m}\u001b[0m = \u001b[1m(\u001b[0m\u001b[32m0.92\u001b[0m\u001b[1m)\u001b[0m^\u001b[32m2\u001b[0m = \u001b[32m0.8464\u001b[0m to                    \u001b]8;id=969323;file:///usr/local/lib/python3.11/site-packages/manim/utils/tex_file_writing.py\u001b\\\u001b[2mtex_file_writing.py\u001b[0m\u001b]8;;\u001b\\\u001b[2m:\u001b[0m\u001b]8;id=312807;file:///usr/local/lib/python3.11/site-packages/manim/utils/tex_file_writing.py#111\u001b\\\u001b[2m111\u001b[0m\u001b]8;;\u001b\\\n",
              "\u001b[2;36m                    \u001b[0m         media/Tex/9428ca649bb77272.tex                                 \u001b[2m                       \u001b[0m\n"
            ]
          },
          "metadata": {},
          "output_type": "display_data"
        },
        {
          "data": {
            "text/html": [
              "<pre style=\"white-space:pre;overflow-x:auto;line-height:normal;font-family:Menlo,'DejaVu Sans Mono',consolas,'Courier New',monospace\"><span style=\"color: #7fbfbf; text-decoration-color: #7fbfbf\">[10/07/25 12:06:52] </span><span style=\"color: #008000; text-decoration-color: #008000\">INFO    </span> <span style=\"color: #808000; text-decoration-color: #808000; font-weight: bold\">Writing</span> P\\<span style=\"font-weight: bold\">{</span>A\\cap B\\<span style=\"font-weight: bold\">}</span> = <span style=\"font-weight: bold\">(</span><span style=\"color: #008000; text-decoration-color: #008000\">0.92</span><span style=\"font-weight: bold\">)</span>^<span style=\"color: #008000; text-decoration-color: #008000\">2</span> = to                           <a href=\"file:///usr/local/lib/python3.11/site-packages/manim/utils/tex_file_writing.py\" target=\"_blank\"><span style=\"color: #7f7f7f; text-decoration-color: #7f7f7f\">tex_file_writing.py</span></a><span style=\"color: #7f7f7f; text-decoration-color: #7f7f7f\">:</span><a href=\"file:///usr/local/lib/python3.11/site-packages/manim/utils/tex_file_writing.py#111\" target=\"_blank\"><span style=\"color: #7f7f7f; text-decoration-color: #7f7f7f\">111</span></a>\n",
              "<span style=\"color: #7fbfbf; text-decoration-color: #7fbfbf\">                    </span>         media/Tex/640bfe6ba8490b5b.tex                                 <span style=\"color: #7f7f7f; text-decoration-color: #7f7f7f\">                       </span>\n",
              "</pre>\n"
            ],
            "text/plain": [
              "\u001b[2;36m[10/07/25 12:06:52]\u001b[0m\u001b[2;36m \u001b[0m\u001b[32mINFO    \u001b[0m \u001b[1;33mWriting\u001b[0m P\\\u001b[1m{\u001b[0mA\\cap B\\\u001b[1m}\u001b[0m = \u001b[1m(\u001b[0m\u001b[32m0.92\u001b[0m\u001b[1m)\u001b[0m^\u001b[32m2\u001b[0m = to                           \u001b]8;id=751961;file:///usr/local/lib/python3.11/site-packages/manim/utils/tex_file_writing.py\u001b\\\u001b[2mtex_file_writing.py\u001b[0m\u001b]8;;\u001b\\\u001b[2m:\u001b[0m\u001b]8;id=111261;file:///usr/local/lib/python3.11/site-packages/manim/utils/tex_file_writing.py#111\u001b\\\u001b[2m111\u001b[0m\u001b]8;;\u001b\\\n",
              "\u001b[2;36m                    \u001b[0m         media/Tex/640bfe6ba8490b5b.tex                                 \u001b[2m                       \u001b[0m\n"
            ]
          },
          "metadata": {},
          "output_type": "display_data"
        },
        {
          "data": {
            "text/html": [
              "<pre style=\"white-space:pre;overflow-x:auto;line-height:normal;font-family:Menlo,'DejaVu Sans Mono',consolas,'Courier New',monospace\"><span style=\"color: #7fbfbf; text-decoration-color: #7fbfbf\">                    </span><span style=\"color: #008000; text-decoration-color: #008000\">INFO    </span> <span style=\"color: #808000; text-decoration-color: #808000; font-weight: bold\">Writing</span> <span style=\"color: #008000; text-decoration-color: #008000\">0.8464</span> to media/Tex/1fd9475875fe8f6e.tex               <a href=\"file:///usr/local/lib/python3.11/site-packages/manim/utils/tex_file_writing.py\" target=\"_blank\"><span style=\"color: #7f7f7f; text-decoration-color: #7f7f7f\">tex_file_writing.py</span></a><span style=\"color: #7f7f7f; text-decoration-color: #7f7f7f\">:</span><a href=\"file:///usr/local/lib/python3.11/site-packages/manim/utils/tex_file_writing.py#111\" target=\"_blank\"><span style=\"color: #7f7f7f; text-decoration-color: #7f7f7f\">111</span></a>\n",
              "</pre>\n"
            ],
            "text/plain": [
              "\u001b[2;36m                   \u001b[0m\u001b[2;36m \u001b[0m\u001b[32mINFO    \u001b[0m \u001b[1;33mWriting\u001b[0m \u001b[32m0.8464\u001b[0m to media/Tex/1fd9475875fe8f6e.tex               \u001b]8;id=537420;file:///usr/local/lib/python3.11/site-packages/manim/utils/tex_file_writing.py\u001b\\\u001b[2mtex_file_writing.py\u001b[0m\u001b]8;;\u001b\\\u001b[2m:\u001b[0m\u001b]8;id=414374;file:///usr/local/lib/python3.11/site-packages/manim/utils/tex_file_writing.py#111\u001b\\\u001b[2m111\u001b[0m\u001b]8;;\u001b\\\n"
            ]
          },
          "metadata": {},
          "output_type": "display_data"
        },
        {
          "name": "stderr",
          "output_type": "stream",
          "text": [
            "                                                                                                                   \r"
          ]
        },
        {
          "data": {
            "text/html": [
              "<pre style=\"white-space:pre;overflow-x:auto;line-height:normal;font-family:Menlo,'DejaVu Sans Mono',consolas,'Courier New',monospace\"><span style=\"color: #7fbfbf; text-decoration-color: #7fbfbf\">[10/07/25 12:06:54] </span><span style=\"color: #008000; text-decoration-color: #008000\">INFO    </span> Animation <span style=\"color: #008000; text-decoration-color: #008000\">5</span> : Partial movie file written in                   <a href=\"file:///usr/local/lib/python3.11/site-packages/manim/scene/scene_file_writer.py\" target=\"_blank\"><span style=\"color: #7f7f7f; text-decoration-color: #7f7f7f\">scene_file_writer.py</span></a><span style=\"color: #7f7f7f; text-decoration-color: #7f7f7f\">:</span><a href=\"file:///usr/local/lib/python3.11/site-packages/manim/scene/scene_file_writer.py#588\" target=\"_blank\"><span style=\"color: #7f7f7f; text-decoration-color: #7f7f7f\">588</span></a>\n",
              "<span style=\"color: #7fbfbf; text-decoration-color: #7fbfbf\">                    </span>         <span style=\"color: #008000; text-decoration-color: #008000\">'/manim/colab_handouts_PSI/media/videos/colab_handouts_PSI/72</span> <span style=\"color: #7f7f7f; text-decoration-color: #7f7f7f\">                        </span>\n",
              "<span style=\"color: #7fbfbf; text-decoration-color: #7fbfbf\">                    </span>         <span style=\"color: #008000; text-decoration-color: #008000\">0p30/partial_movie_files/CircuitReliabilityChatGPT/543634251_</span> <span style=\"color: #7f7f7f; text-decoration-color: #7f7f7f\">                        </span>\n",
              "<span style=\"color: #7fbfbf; text-decoration-color: #7fbfbf\">                    </span>         <span style=\"color: #008000; text-decoration-color: #008000\">2038436772_1890131348.mp4'</span>                                    <span style=\"color: #7f7f7f; text-decoration-color: #7f7f7f\">                        </span>\n",
              "</pre>\n"
            ],
            "text/plain": [
              "\u001b[2;36m[10/07/25 12:06:54]\u001b[0m\u001b[2;36m \u001b[0m\u001b[32mINFO    \u001b[0m Animation \u001b[32m5\u001b[0m : Partial movie file written in                   \u001b]8;id=242055;file:///usr/local/lib/python3.11/site-packages/manim/scene/scene_file_writer.py\u001b\\\u001b[2mscene_file_writer.py\u001b[0m\u001b]8;;\u001b\\\u001b[2m:\u001b[0m\u001b]8;id=740473;file:///usr/local/lib/python3.11/site-packages/manim/scene/scene_file_writer.py#588\u001b\\\u001b[2m588\u001b[0m\u001b]8;;\u001b\\\n",
              "\u001b[2;36m                    \u001b[0m         \u001b[32m'/manim/colab_handouts_PSI/media/videos/colab_handouts_PSI/72\u001b[0m \u001b[2m                        \u001b[0m\n",
              "\u001b[2;36m                    \u001b[0m         \u001b[32m0p30/partial_movie_files/CircuitReliabilityChatGPT/543634251_\u001b[0m \u001b[2m                        \u001b[0m\n",
              "\u001b[2;36m                    \u001b[0m         \u001b[32m2038436772_1890131348.mp4'\u001b[0m                                    \u001b[2m                        \u001b[0m\n"
            ]
          },
          "metadata": {},
          "output_type": "display_data"
        },
        {
          "data": {
            "text/html": [
              "<pre style=\"white-space:pre;overflow-x:auto;line-height:normal;font-family:Menlo,'DejaVu Sans Mono',consolas,'Courier New',monospace\"><span style=\"color: #7fbfbf; text-decoration-color: #7fbfbf\">[10/07/25 12:06:55] </span><span style=\"color: #008000; text-decoration-color: #008000\">INFO    </span> Animation <span style=\"color: #008000; text-decoration-color: #008000\">6</span> : Partial movie file written in                   <a href=\"file:///usr/local/lib/python3.11/site-packages/manim/scene/scene_file_writer.py\" target=\"_blank\"><span style=\"color: #7f7f7f; text-decoration-color: #7f7f7f\">scene_file_writer.py</span></a><span style=\"color: #7f7f7f; text-decoration-color: #7f7f7f\">:</span><a href=\"file:///usr/local/lib/python3.11/site-packages/manim/scene/scene_file_writer.py#588\" target=\"_blank\"><span style=\"color: #7f7f7f; text-decoration-color: #7f7f7f\">588</span></a>\n",
              "<span style=\"color: #7fbfbf; text-decoration-color: #7fbfbf\">                    </span>         <span style=\"color: #008000; text-decoration-color: #008000\">'/manim/colab_handouts_PSI/media/videos/colab_handouts_PSI/72</span> <span style=\"color: #7f7f7f; text-decoration-color: #7f7f7f\">                        </span>\n",
              "<span style=\"color: #7fbfbf; text-decoration-color: #7fbfbf\">                    </span>         <span style=\"color: #008000; text-decoration-color: #008000\">0p30/partial_movie_files/CircuitReliabilityChatGPT/543634251_</span> <span style=\"color: #7f7f7f; text-decoration-color: #7f7f7f\">                        </span>\n",
              "<span style=\"color: #7fbfbf; text-decoration-color: #7fbfbf\">                    </span>         <span style=\"color: #008000; text-decoration-color: #008000\">3932249147_4249044080.mp4'</span>                                    <span style=\"color: #7f7f7f; text-decoration-color: #7f7f7f\">                        </span>\n",
              "</pre>\n"
            ],
            "text/plain": [
              "\u001b[2;36m[10/07/25 12:06:55]\u001b[0m\u001b[2;36m \u001b[0m\u001b[32mINFO    \u001b[0m Animation \u001b[32m6\u001b[0m : Partial movie file written in                   \u001b]8;id=774924;file:///usr/local/lib/python3.11/site-packages/manim/scene/scene_file_writer.py\u001b\\\u001b[2mscene_file_writer.py\u001b[0m\u001b]8;;\u001b\\\u001b[2m:\u001b[0m\u001b]8;id=112762;file:///usr/local/lib/python3.11/site-packages/manim/scene/scene_file_writer.py#588\u001b\\\u001b[2m588\u001b[0m\u001b]8;;\u001b\\\n",
              "\u001b[2;36m                    \u001b[0m         \u001b[32m'/manim/colab_handouts_PSI/media/videos/colab_handouts_PSI/72\u001b[0m \u001b[2m                        \u001b[0m\n",
              "\u001b[2;36m                    \u001b[0m         \u001b[32m0p30/partial_movie_files/CircuitReliabilityChatGPT/543634251_\u001b[0m \u001b[2m                        \u001b[0m\n",
              "\u001b[2;36m                    \u001b[0m         \u001b[32m3932249147_4249044080.mp4'\u001b[0m                                    \u001b[2m                        \u001b[0m\n"
            ]
          },
          "metadata": {},
          "output_type": "display_data"
        },
        {
          "data": {
            "text/html": [
              "<pre style=\"white-space:pre;overflow-x:auto;line-height:normal;font-family:Menlo,'DejaVu Sans Mono',consolas,'Courier New',monospace\"><span style=\"color: #7fbfbf; text-decoration-color: #7fbfbf\">                    </span><span style=\"color: #008000; text-decoration-color: #008000\">INFO    </span> <span style=\"color: #808000; text-decoration-color: #808000; font-weight: bold\">Writing</span> F to media/Tex/a9ffb83c3806581d.tex                    <a href=\"file:///usr/local/lib/python3.11/site-packages/manim/utils/tex_file_writing.py\" target=\"_blank\"><span style=\"color: #7f7f7f; text-decoration-color: #7f7f7f\">tex_file_writing.py</span></a><span style=\"color: #7f7f7f; text-decoration-color: #7f7f7f\">:</span><a href=\"file:///usr/local/lib/python3.11/site-packages/manim/utils/tex_file_writing.py#111\" target=\"_blank\"><span style=\"color: #7f7f7f; text-decoration-color: #7f7f7f\">111</span></a>\n",
              "</pre>\n"
            ],
            "text/plain": [
              "\u001b[2;36m                   \u001b[0m\u001b[2;36m \u001b[0m\u001b[32mINFO    \u001b[0m \u001b[1;33mWriting\u001b[0m F to media/Tex/a9ffb83c3806581d.tex                    \u001b]8;id=930366;file:///usr/local/lib/python3.11/site-packages/manim/utils/tex_file_writing.py\u001b\\\u001b[2mtex_file_writing.py\u001b[0m\u001b]8;;\u001b\\\u001b[2m:\u001b[0m\u001b]8;id=916374;file:///usr/local/lib/python3.11/site-packages/manim/utils/tex_file_writing.py#111\u001b\\\u001b[2m111\u001b[0m\u001b]8;;\u001b\\\n"
            ]
          },
          "metadata": {},
          "output_type": "display_data"
        },
        {
          "name": "stderr",
          "output_type": "stream",
          "text": [
            "                                                                                              \r"
          ]
        },
        {
          "data": {
            "text/html": [
              "<pre style=\"white-space:pre;overflow-x:auto;line-height:normal;font-family:Menlo,'DejaVu Sans Mono',consolas,'Courier New',monospace\"><span style=\"color: #7fbfbf; text-decoration-color: #7fbfbf\">[10/07/25 12:06:57] </span><span style=\"color: #008000; text-decoration-color: #008000\">INFO    </span> Animation <span style=\"color: #008000; text-decoration-color: #008000\">7</span> : Partial movie file written in                   <a href=\"file:///usr/local/lib/python3.11/site-packages/manim/scene/scene_file_writer.py\" target=\"_blank\"><span style=\"color: #7f7f7f; text-decoration-color: #7f7f7f\">scene_file_writer.py</span></a><span style=\"color: #7f7f7f; text-decoration-color: #7f7f7f\">:</span><a href=\"file:///usr/local/lib/python3.11/site-packages/manim/scene/scene_file_writer.py#588\" target=\"_blank\"><span style=\"color: #7f7f7f; text-decoration-color: #7f7f7f\">588</span></a>\n",
              "<span style=\"color: #7fbfbf; text-decoration-color: #7fbfbf\">                    </span>         <span style=\"color: #008000; text-decoration-color: #008000\">'/manim/colab_handouts_PSI/media/videos/colab_handouts_PSI/72</span> <span style=\"color: #7f7f7f; text-decoration-color: #7f7f7f\">                        </span>\n",
              "<span style=\"color: #7fbfbf; text-decoration-color: #7fbfbf\">                    </span>         <span style=\"color: #008000; text-decoration-color: #008000\">0p30/partial_movie_files/CircuitReliabilityChatGPT/543634251_</span> <span style=\"color: #7f7f7f; text-decoration-color: #7f7f7f\">                        </span>\n",
              "<span style=\"color: #7fbfbf; text-decoration-color: #7fbfbf\">                    </span>         <span style=\"color: #008000; text-decoration-color: #008000\">3263860374_3976959408.mp4'</span>                                    <span style=\"color: #7f7f7f; text-decoration-color: #7f7f7f\">                        </span>\n",
              "</pre>\n"
            ],
            "text/plain": [
              "\u001b[2;36m[10/07/25 12:06:57]\u001b[0m\u001b[2;36m \u001b[0m\u001b[32mINFO    \u001b[0m Animation \u001b[32m7\u001b[0m : Partial movie file written in                   \u001b]8;id=702166;file:///usr/local/lib/python3.11/site-packages/manim/scene/scene_file_writer.py\u001b\\\u001b[2mscene_file_writer.py\u001b[0m\u001b]8;;\u001b\\\u001b[2m:\u001b[0m\u001b]8;id=13178;file:///usr/local/lib/python3.11/site-packages/manim/scene/scene_file_writer.py#588\u001b\\\u001b[2m588\u001b[0m\u001b]8;;\u001b\\\n",
              "\u001b[2;36m                    \u001b[0m         \u001b[32m'/manim/colab_handouts_PSI/media/videos/colab_handouts_PSI/72\u001b[0m \u001b[2m                        \u001b[0m\n",
              "\u001b[2;36m                    \u001b[0m         \u001b[32m0p30/partial_movie_files/CircuitReliabilityChatGPT/543634251_\u001b[0m \u001b[2m                        \u001b[0m\n",
              "\u001b[2;36m                    \u001b[0m         \u001b[32m3263860374_3976959408.mp4'\u001b[0m                                    \u001b[2m                        \u001b[0m\n"
            ]
          },
          "metadata": {},
          "output_type": "display_data"
        },
        {
          "name": "stderr",
          "output_type": "stream",
          "text": [
            "                                                                                                    \r"
          ]
        },
        {
          "data": {
            "text/html": [
              "<pre style=\"white-space:pre;overflow-x:auto;line-height:normal;font-family:Menlo,'DejaVu Sans Mono',consolas,'Courier New',monospace\"><span style=\"color: #7fbfbf; text-decoration-color: #7fbfbf\">[10/07/25 12:06:58] </span><span style=\"color: #008000; text-decoration-color: #008000\">INFO    </span> Animation <span style=\"color: #008000; text-decoration-color: #008000\">8</span> : Partial movie file written in                   <a href=\"file:///usr/local/lib/python3.11/site-packages/manim/scene/scene_file_writer.py\" target=\"_blank\"><span style=\"color: #7f7f7f; text-decoration-color: #7f7f7f\">scene_file_writer.py</span></a><span style=\"color: #7f7f7f; text-decoration-color: #7f7f7f\">:</span><a href=\"file:///usr/local/lib/python3.11/site-packages/manim/scene/scene_file_writer.py#588\" target=\"_blank\"><span style=\"color: #7f7f7f; text-decoration-color: #7f7f7f\">588</span></a>\n",
              "<span style=\"color: #7fbfbf; text-decoration-color: #7fbfbf\">                    </span>         <span style=\"color: #008000; text-decoration-color: #008000\">'/manim/colab_handouts_PSI/media/videos/colab_handouts_PSI/72</span> <span style=\"color: #7f7f7f; text-decoration-color: #7f7f7f\">                        </span>\n",
              "<span style=\"color: #7fbfbf; text-decoration-color: #7fbfbf\">                    </span>         <span style=\"color: #008000; text-decoration-color: #008000\">0p30/partial_movie_files/CircuitReliabilityChatGPT/543634251_</span> <span style=\"color: #7f7f7f; text-decoration-color: #7f7f7f\">                        </span>\n",
              "<span style=\"color: #7fbfbf; text-decoration-color: #7fbfbf\">                    </span>         <span style=\"color: #008000; text-decoration-color: #008000\">2807055850_2326882976.mp4'</span>                                    <span style=\"color: #7f7f7f; text-decoration-color: #7f7f7f\">                        </span>\n",
              "</pre>\n"
            ],
            "text/plain": [
              "\u001b[2;36m[10/07/25 12:06:58]\u001b[0m\u001b[2;36m \u001b[0m\u001b[32mINFO    \u001b[0m Animation \u001b[32m8\u001b[0m : Partial movie file written in                   \u001b]8;id=482904;file:///usr/local/lib/python3.11/site-packages/manim/scene/scene_file_writer.py\u001b\\\u001b[2mscene_file_writer.py\u001b[0m\u001b]8;;\u001b\\\u001b[2m:\u001b[0m\u001b]8;id=102186;file:///usr/local/lib/python3.11/site-packages/manim/scene/scene_file_writer.py#588\u001b\\\u001b[2m588\u001b[0m\u001b]8;;\u001b\\\n",
              "\u001b[2;36m                    \u001b[0m         \u001b[32m'/manim/colab_handouts_PSI/media/videos/colab_handouts_PSI/72\u001b[0m \u001b[2m                        \u001b[0m\n",
              "\u001b[2;36m                    \u001b[0m         \u001b[32m0p30/partial_movie_files/CircuitReliabilityChatGPT/543634251_\u001b[0m \u001b[2m                        \u001b[0m\n",
              "\u001b[2;36m                    \u001b[0m         \u001b[32m2807055850_2326882976.mp4'\u001b[0m                                    \u001b[2m                        \u001b[0m\n"
            ]
          },
          "metadata": {},
          "output_type": "display_data"
        },
        {
          "data": {
            "text/html": [
              "<pre style=\"white-space:pre;overflow-x:auto;line-height:normal;font-family:Menlo,'DejaVu Sans Mono',consolas,'Courier New',monospace\"><span style=\"color: #7fbfbf; text-decoration-color: #7fbfbf\">                    </span><span style=\"color: #008000; text-decoration-color: #008000\">INFO    </span> Animation <span style=\"color: #008000; text-decoration-color: #008000\">9</span> : Partial movie file written in                   <a href=\"file:///usr/local/lib/python3.11/site-packages/manim/scene/scene_file_writer.py\" target=\"_blank\"><span style=\"color: #7f7f7f; text-decoration-color: #7f7f7f\">scene_file_writer.py</span></a><span style=\"color: #7f7f7f; text-decoration-color: #7f7f7f\">:</span><a href=\"file:///usr/local/lib/python3.11/site-packages/manim/scene/scene_file_writer.py#588\" target=\"_blank\"><span style=\"color: #7f7f7f; text-decoration-color: #7f7f7f\">588</span></a>\n",
              "<span style=\"color: #7fbfbf; text-decoration-color: #7fbfbf\">                    </span>         <span style=\"color: #008000; text-decoration-color: #008000\">'/manim/colab_handouts_PSI/media/videos/colab_handouts_PSI/72</span> <span style=\"color: #7f7f7f; text-decoration-color: #7f7f7f\">                        </span>\n",
              "<span style=\"color: #7fbfbf; text-decoration-color: #7fbfbf\">                    </span>         <span style=\"color: #008000; text-decoration-color: #008000\">0p30/partial_movie_files/CircuitReliabilityChatGPT/543634251_</span> <span style=\"color: #7f7f7f; text-decoration-color: #7f7f7f\">                        </span>\n",
              "<span style=\"color: #7fbfbf; text-decoration-color: #7fbfbf\">                    </span>         <span style=\"color: #008000; text-decoration-color: #008000\">3932249147_3459774596.mp4'</span>                                    <span style=\"color: #7f7f7f; text-decoration-color: #7f7f7f\">                        </span>\n",
              "</pre>\n"
            ],
            "text/plain": [
              "\u001b[2;36m                   \u001b[0m\u001b[2;36m \u001b[0m\u001b[32mINFO    \u001b[0m Animation \u001b[32m9\u001b[0m : Partial movie file written in                   \u001b]8;id=524844;file:///usr/local/lib/python3.11/site-packages/manim/scene/scene_file_writer.py\u001b\\\u001b[2mscene_file_writer.py\u001b[0m\u001b]8;;\u001b\\\u001b[2m:\u001b[0m\u001b]8;id=425684;file:///usr/local/lib/python3.11/site-packages/manim/scene/scene_file_writer.py#588\u001b\\\u001b[2m588\u001b[0m\u001b]8;;\u001b\\\n",
              "\u001b[2;36m                    \u001b[0m         \u001b[32m'/manim/colab_handouts_PSI/media/videos/colab_handouts_PSI/72\u001b[0m \u001b[2m                        \u001b[0m\n",
              "\u001b[2;36m                    \u001b[0m         \u001b[32m0p30/partial_movie_files/CircuitReliabilityChatGPT/543634251_\u001b[0m \u001b[2m                        \u001b[0m\n",
              "\u001b[2;36m                    \u001b[0m         \u001b[32m3932249147_3459774596.mp4'\u001b[0m                                    \u001b[2m                        \u001b[0m\n"
            ]
          },
          "metadata": {},
          "output_type": "display_data"
        },
        {
          "name": "stderr",
          "output_type": "stream",
          "text": [
            "                                                                                  \r"
          ]
        },
        {
          "data": {
            "text/html": [
              "<pre style=\"white-space:pre;overflow-x:auto;line-height:normal;font-family:Menlo,'DejaVu Sans Mono',consolas,'Courier New',monospace\"><span style=\"color: #7fbfbf; text-decoration-color: #7fbfbf\">[10/07/25 12:06:59] </span><span style=\"color: #008000; text-decoration-color: #008000\">INFO    </span> Animation <span style=\"color: #008000; text-decoration-color: #008000\">10</span> : Partial movie file written in                  <a href=\"file:///usr/local/lib/python3.11/site-packages/manim/scene/scene_file_writer.py\" target=\"_blank\"><span style=\"color: #7f7f7f; text-decoration-color: #7f7f7f\">scene_file_writer.py</span></a><span style=\"color: #7f7f7f; text-decoration-color: #7f7f7f\">:</span><a href=\"file:///usr/local/lib/python3.11/site-packages/manim/scene/scene_file_writer.py#588\" target=\"_blank\"><span style=\"color: #7f7f7f; text-decoration-color: #7f7f7f\">588</span></a>\n",
              "<span style=\"color: #7fbfbf; text-decoration-color: #7fbfbf\">                    </span>         <span style=\"color: #008000; text-decoration-color: #008000\">'/manim/colab_handouts_PSI/media/videos/colab_handouts_PSI/72</span> <span style=\"color: #7f7f7f; text-decoration-color: #7f7f7f\">                        </span>\n",
              "<span style=\"color: #7fbfbf; text-decoration-color: #7fbfbf\">                    </span>         <span style=\"color: #008000; text-decoration-color: #008000\">0p30/partial_movie_files/CircuitReliabilityChatGPT/543634251_</span> <span style=\"color: #7f7f7f; text-decoration-color: #7f7f7f\">                        </span>\n",
              "<span style=\"color: #7fbfbf; text-decoration-color: #7fbfbf\">                    </span>         <span style=\"color: #008000; text-decoration-color: #008000\">2250794443_599158388.mp4'</span>                                     <span style=\"color: #7f7f7f; text-decoration-color: #7f7f7f\">                        </span>\n",
              "</pre>\n"
            ],
            "text/plain": [
              "\u001b[2;36m[10/07/25 12:06:59]\u001b[0m\u001b[2;36m \u001b[0m\u001b[32mINFO    \u001b[0m Animation \u001b[32m10\u001b[0m : Partial movie file written in                  \u001b]8;id=15228;file:///usr/local/lib/python3.11/site-packages/manim/scene/scene_file_writer.py\u001b\\\u001b[2mscene_file_writer.py\u001b[0m\u001b]8;;\u001b\\\u001b[2m:\u001b[0m\u001b]8;id=360386;file:///usr/local/lib/python3.11/site-packages/manim/scene/scene_file_writer.py#588\u001b\\\u001b[2m588\u001b[0m\u001b]8;;\u001b\\\n",
              "\u001b[2;36m                    \u001b[0m         \u001b[32m'/manim/colab_handouts_PSI/media/videos/colab_handouts_PSI/72\u001b[0m \u001b[2m                        \u001b[0m\n",
              "\u001b[2;36m                    \u001b[0m         \u001b[32m0p30/partial_movie_files/CircuitReliabilityChatGPT/543634251_\u001b[0m \u001b[2m                        \u001b[0m\n",
              "\u001b[2;36m                    \u001b[0m         \u001b[32m2250794443_599158388.mp4'\u001b[0m                                     \u001b[2m                        \u001b[0m\n"
            ]
          },
          "metadata": {},
          "output_type": "display_data"
        },
        {
          "data": {
            "text/html": [
              "<pre style=\"white-space:pre;overflow-x:auto;line-height:normal;font-family:Menlo,'DejaVu Sans Mono',consolas,'Courier New',monospace\"><span style=\"color: #7fbfbf; text-decoration-color: #7fbfbf\">                    </span><span style=\"color: #008000; text-decoration-color: #008000\">INFO    </span> <span style=\"color: #808000; text-decoration-color: #808000; font-weight: bold\">Writing</span> P\\<span style=\"font-weight: bold\">{</span>D\\cup E\\<span style=\"font-weight: bold\">}</span> = <span style=\"color: #008000; text-decoration-color: #008000\">1</span> - <span style=\"font-weight: bold\">(</span><span style=\"color: #008000; text-decoration-color: #008000\">1</span>-<span style=\"color: #008000; text-decoration-color: #008000\">0.92</span><span style=\"font-weight: bold\">)</span>^<span style=\"color: #008000; text-decoration-color: #008000\">2</span> = <span style=\"color: #008000; text-decoration-color: #008000\">0.9936</span> to              <a href=\"file:///usr/local/lib/python3.11/site-packages/manim/utils/tex_file_writing.py\" target=\"_blank\"><span style=\"color: #7f7f7f; text-decoration-color: #7f7f7f\">tex_file_writing.py</span></a><span style=\"color: #7f7f7f; text-decoration-color: #7f7f7f\">:</span><a href=\"file:///usr/local/lib/python3.11/site-packages/manim/utils/tex_file_writing.py#111\" target=\"_blank\"><span style=\"color: #7f7f7f; text-decoration-color: #7f7f7f\">111</span></a>\n",
              "<span style=\"color: #7fbfbf; text-decoration-color: #7fbfbf\">                    </span>         media/Tex/b38bdb207f2c6b1d.tex                                 <span style=\"color: #7f7f7f; text-decoration-color: #7f7f7f\">                       </span>\n",
              "</pre>\n"
            ],
            "text/plain": [
              "\u001b[2;36m                   \u001b[0m\u001b[2;36m \u001b[0m\u001b[32mINFO    \u001b[0m \u001b[1;33mWriting\u001b[0m P\\\u001b[1m{\u001b[0mD\\cup E\\\u001b[1m}\u001b[0m = \u001b[32m1\u001b[0m - \u001b[1m(\u001b[0m\u001b[32m1\u001b[0m-\u001b[32m0.92\u001b[0m\u001b[1m)\u001b[0m^\u001b[32m2\u001b[0m = \u001b[32m0.9936\u001b[0m to              \u001b]8;id=995780;file:///usr/local/lib/python3.11/site-packages/manim/utils/tex_file_writing.py\u001b\\\u001b[2mtex_file_writing.py\u001b[0m\u001b]8;;\u001b\\\u001b[2m:\u001b[0m\u001b]8;id=148322;file:///usr/local/lib/python3.11/site-packages/manim/utils/tex_file_writing.py#111\u001b\\\u001b[2m111\u001b[0m\u001b]8;;\u001b\\\n",
              "\u001b[2;36m                    \u001b[0m         media/Tex/b38bdb207f2c6b1d.tex                                 \u001b[2m                       \u001b[0m\n"
            ]
          },
          "metadata": {},
          "output_type": "display_data"
        },
        {
          "data": {
            "text/html": [
              "<pre style=\"white-space:pre;overflow-x:auto;line-height:normal;font-family:Menlo,'DejaVu Sans Mono',consolas,'Courier New',monospace\"><span style=\"color: #7fbfbf; text-decoration-color: #7fbfbf\">[10/07/25 12:07:00] </span><span style=\"color: #008000; text-decoration-color: #008000\">INFO    </span> <span style=\"color: #808000; text-decoration-color: #808000; font-weight: bold\">Writing</span> P\\<span style=\"font-weight: bold\">{</span>D\\cup E\\<span style=\"font-weight: bold\">}</span> = <span style=\"color: #008000; text-decoration-color: #008000\">1</span> - <span style=\"font-weight: bold\">(</span><span style=\"color: #008000; text-decoration-color: #008000\">1</span>-<span style=\"color: #008000; text-decoration-color: #008000\">0.92</span><span style=\"font-weight: bold\">)</span>^<span style=\"color: #008000; text-decoration-color: #008000\">2</span> = to                     <a href=\"file:///usr/local/lib/python3.11/site-packages/manim/utils/tex_file_writing.py\" target=\"_blank\"><span style=\"color: #7f7f7f; text-decoration-color: #7f7f7f\">tex_file_writing.py</span></a><span style=\"color: #7f7f7f; text-decoration-color: #7f7f7f\">:</span><a href=\"file:///usr/local/lib/python3.11/site-packages/manim/utils/tex_file_writing.py#111\" target=\"_blank\"><span style=\"color: #7f7f7f; text-decoration-color: #7f7f7f\">111</span></a>\n",
              "<span style=\"color: #7fbfbf; text-decoration-color: #7fbfbf\">                    </span>         media/Tex/7d17ef114cb8074b.tex                                 <span style=\"color: #7f7f7f; text-decoration-color: #7f7f7f\">                       </span>\n",
              "</pre>\n"
            ],
            "text/plain": [
              "\u001b[2;36m[10/07/25 12:07:00]\u001b[0m\u001b[2;36m \u001b[0m\u001b[32mINFO    \u001b[0m \u001b[1;33mWriting\u001b[0m P\\\u001b[1m{\u001b[0mD\\cup E\\\u001b[1m}\u001b[0m = \u001b[32m1\u001b[0m - \u001b[1m(\u001b[0m\u001b[32m1\u001b[0m-\u001b[32m0.92\u001b[0m\u001b[1m)\u001b[0m^\u001b[32m2\u001b[0m = to                     \u001b]8;id=918080;file:///usr/local/lib/python3.11/site-packages/manim/utils/tex_file_writing.py\u001b\\\u001b[2mtex_file_writing.py\u001b[0m\u001b]8;;\u001b\\\u001b[2m:\u001b[0m\u001b]8;id=742273;file:///usr/local/lib/python3.11/site-packages/manim/utils/tex_file_writing.py#111\u001b\\\u001b[2m111\u001b[0m\u001b]8;;\u001b\\\n",
              "\u001b[2;36m                    \u001b[0m         media/Tex/7d17ef114cb8074b.tex                                 \u001b[2m                       \u001b[0m\n"
            ]
          },
          "metadata": {},
          "output_type": "display_data"
        },
        {
          "data": {
            "text/html": [
              "<pre style=\"white-space:pre;overflow-x:auto;line-height:normal;font-family:Menlo,'DejaVu Sans Mono',consolas,'Courier New',monospace\"><span style=\"color: #7fbfbf; text-decoration-color: #7fbfbf\">                    </span><span style=\"color: #008000; text-decoration-color: #008000\">INFO    </span> <span style=\"color: #808000; text-decoration-color: #808000; font-weight: bold\">Writing</span> <span style=\"color: #008000; text-decoration-color: #008000\">0.9936</span> to media/Tex/253c72060e43f0ef.tex               <a href=\"file:///usr/local/lib/python3.11/site-packages/manim/utils/tex_file_writing.py\" target=\"_blank\"><span style=\"color: #7f7f7f; text-decoration-color: #7f7f7f\">tex_file_writing.py</span></a><span style=\"color: #7f7f7f; text-decoration-color: #7f7f7f\">:</span><a href=\"file:///usr/local/lib/python3.11/site-packages/manim/utils/tex_file_writing.py#111\" target=\"_blank\"><span style=\"color: #7f7f7f; text-decoration-color: #7f7f7f\">111</span></a>\n",
              "</pre>\n"
            ],
            "text/plain": [
              "\u001b[2;36m                   \u001b[0m\u001b[2;36m \u001b[0m\u001b[32mINFO    \u001b[0m \u001b[1;33mWriting\u001b[0m \u001b[32m0.9936\u001b[0m to media/Tex/253c72060e43f0ef.tex               \u001b]8;id=822597;file:///usr/local/lib/python3.11/site-packages/manim/utils/tex_file_writing.py\u001b\\\u001b[2mtex_file_writing.py\u001b[0m\u001b]8;;\u001b\\\u001b[2m:\u001b[0m\u001b]8;id=820217;file:///usr/local/lib/python3.11/site-packages/manim/utils/tex_file_writing.py#111\u001b\\\u001b[2m111\u001b[0m\u001b]8;;\u001b\\\n"
            ]
          },
          "metadata": {},
          "output_type": "display_data"
        },
        {
          "name": "stderr",
          "output_type": "stream",
          "text": [
            "                                                                                                                          \r"
          ]
        },
        {
          "data": {
            "text/html": [
              "<pre style=\"white-space:pre;overflow-x:auto;line-height:normal;font-family:Menlo,'DejaVu Sans Mono',consolas,'Courier New',monospace\"><span style=\"color: #7fbfbf; text-decoration-color: #7fbfbf\">[10/07/25 12:07:02] </span><span style=\"color: #008000; text-decoration-color: #008000\">INFO    </span> Animation <span style=\"color: #008000; text-decoration-color: #008000\">11</span> : Partial movie file written in                  <a href=\"file:///usr/local/lib/python3.11/site-packages/manim/scene/scene_file_writer.py\" target=\"_blank\"><span style=\"color: #7f7f7f; text-decoration-color: #7f7f7f\">scene_file_writer.py</span></a><span style=\"color: #7f7f7f; text-decoration-color: #7f7f7f\">:</span><a href=\"file:///usr/local/lib/python3.11/site-packages/manim/scene/scene_file_writer.py#588\" target=\"_blank\"><span style=\"color: #7f7f7f; text-decoration-color: #7f7f7f\">588</span></a>\n",
              "<span style=\"color: #7fbfbf; text-decoration-color: #7fbfbf\">                    </span>         <span style=\"color: #008000; text-decoration-color: #008000\">'/manim/colab_handouts_PSI/media/videos/colab_handouts_PSI/72</span> <span style=\"color: #7f7f7f; text-decoration-color: #7f7f7f\">                        </span>\n",
              "<span style=\"color: #7fbfbf; text-decoration-color: #7fbfbf\">                    </span>         <span style=\"color: #008000; text-decoration-color: #008000\">0p30/partial_movie_files/CircuitReliabilityChatGPT/543634251_</span> <span style=\"color: #7f7f7f; text-decoration-color: #7f7f7f\">                        </span>\n",
              "<span style=\"color: #7fbfbf; text-decoration-color: #7fbfbf\">                    </span>         <span style=\"color: #008000; text-decoration-color: #008000\">2595578565_2990247892.mp4'</span>                                    <span style=\"color: #7f7f7f; text-decoration-color: #7f7f7f\">                        </span>\n",
              "</pre>\n"
            ],
            "text/plain": [
              "\u001b[2;36m[10/07/25 12:07:02]\u001b[0m\u001b[2;36m \u001b[0m\u001b[32mINFO    \u001b[0m Animation \u001b[32m11\u001b[0m : Partial movie file written in                  \u001b]8;id=513151;file:///usr/local/lib/python3.11/site-packages/manim/scene/scene_file_writer.py\u001b\\\u001b[2mscene_file_writer.py\u001b[0m\u001b]8;;\u001b\\\u001b[2m:\u001b[0m\u001b]8;id=992318;file:///usr/local/lib/python3.11/site-packages/manim/scene/scene_file_writer.py#588\u001b\\\u001b[2m588\u001b[0m\u001b]8;;\u001b\\\n",
              "\u001b[2;36m                    \u001b[0m         \u001b[32m'/manim/colab_handouts_PSI/media/videos/colab_handouts_PSI/72\u001b[0m \u001b[2m                        \u001b[0m\n",
              "\u001b[2;36m                    \u001b[0m         \u001b[32m0p30/partial_movie_files/CircuitReliabilityChatGPT/543634251_\u001b[0m \u001b[2m                        \u001b[0m\n",
              "\u001b[2;36m                    \u001b[0m         \u001b[32m2595578565_2990247892.mp4'\u001b[0m                                    \u001b[2m                        \u001b[0m\n"
            ]
          },
          "metadata": {},
          "output_type": "display_data"
        },
        {
          "data": {
            "text/html": [
              "<pre style=\"white-space:pre;overflow-x:auto;line-height:normal;font-family:Menlo,'DejaVu Sans Mono',consolas,'Courier New',monospace\"><span style=\"color: #7fbfbf; text-decoration-color: #7fbfbf\">                    </span><span style=\"color: #008000; text-decoration-color: #008000\">INFO    </span> Animation <span style=\"color: #008000; text-decoration-color: #008000\">12</span> : Partial movie file written in                  <a href=\"file:///usr/local/lib/python3.11/site-packages/manim/scene/scene_file_writer.py\" target=\"_blank\"><span style=\"color: #7f7f7f; text-decoration-color: #7f7f7f\">scene_file_writer.py</span></a><span style=\"color: #7f7f7f; text-decoration-color: #7f7f7f\">:</span><a href=\"file:///usr/local/lib/python3.11/site-packages/manim/scene/scene_file_writer.py#588\" target=\"_blank\"><span style=\"color: #7f7f7f; text-decoration-color: #7f7f7f\">588</span></a>\n",
              "<span style=\"color: #7fbfbf; text-decoration-color: #7fbfbf\">                    </span>         <span style=\"color: #008000; text-decoration-color: #008000\">'/manim/colab_handouts_PSI/media/videos/colab_handouts_PSI/72</span> <span style=\"color: #7f7f7f; text-decoration-color: #7f7f7f\">                        </span>\n",
              "<span style=\"color: #7fbfbf; text-decoration-color: #7fbfbf\">                    </span>         <span style=\"color: #008000; text-decoration-color: #008000\">0p30/partial_movie_files/CircuitReliabilityChatGPT/543634251_</span> <span style=\"color: #7f7f7f; text-decoration-color: #7f7f7f\">                        </span>\n",
              "<span style=\"color: #7fbfbf; text-decoration-color: #7fbfbf\">                    </span>         <span style=\"color: #008000; text-decoration-color: #008000\">3932249147_2968567562.mp4'</span>                                    <span style=\"color: #7f7f7f; text-decoration-color: #7f7f7f\">                        </span>\n",
              "</pre>\n"
            ],
            "text/plain": [
              "\u001b[2;36m                   \u001b[0m\u001b[2;36m \u001b[0m\u001b[32mINFO    \u001b[0m Animation \u001b[32m12\u001b[0m : Partial movie file written in                  \u001b]8;id=148072;file:///usr/local/lib/python3.11/site-packages/manim/scene/scene_file_writer.py\u001b\\\u001b[2mscene_file_writer.py\u001b[0m\u001b]8;;\u001b\\\u001b[2m:\u001b[0m\u001b]8;id=606030;file:///usr/local/lib/python3.11/site-packages/manim/scene/scene_file_writer.py#588\u001b\\\u001b[2m588\u001b[0m\u001b]8;;\u001b\\\n",
              "\u001b[2;36m                    \u001b[0m         \u001b[32m'/manim/colab_handouts_PSI/media/videos/colab_handouts_PSI/72\u001b[0m \u001b[2m                        \u001b[0m\n",
              "\u001b[2;36m                    \u001b[0m         \u001b[32m0p30/partial_movie_files/CircuitReliabilityChatGPT/543634251_\u001b[0m \u001b[2m                        \u001b[0m\n",
              "\u001b[2;36m                    \u001b[0m         \u001b[32m3932249147_2968567562.mp4'\u001b[0m                                    \u001b[2m                        \u001b[0m\n"
            ]
          },
          "metadata": {},
          "output_type": "display_data"
        },
        {
          "data": {
            "text/html": [
              "<pre style=\"white-space:pre;overflow-x:auto;line-height:normal;font-family:Menlo,'DejaVu Sans Mono',consolas,'Courier New',monospace\"><span style=\"color: #7fbfbf; text-decoration-color: #7fbfbf\">                    </span><span style=\"color: #008000; text-decoration-color: #008000\">INFO    </span> <span style=\"color: #808000; text-decoration-color: #808000; font-weight: bold\">Writing</span> G to media/Tex/75195d7d73f5eab7.tex                    <a href=\"file:///usr/local/lib/python3.11/site-packages/manim/utils/tex_file_writing.py\" target=\"_blank\"><span style=\"color: #7f7f7f; text-decoration-color: #7f7f7f\">tex_file_writing.py</span></a><span style=\"color: #7f7f7f; text-decoration-color: #7f7f7f\">:</span><a href=\"file:///usr/local/lib/python3.11/site-packages/manim/utils/tex_file_writing.py#111\" target=\"_blank\"><span style=\"color: #7f7f7f; text-decoration-color: #7f7f7f\">111</span></a>\n",
              "</pre>\n"
            ],
            "text/plain": [
              "\u001b[2;36m                   \u001b[0m\u001b[2;36m \u001b[0m\u001b[32mINFO    \u001b[0m \u001b[1;33mWriting\u001b[0m G to media/Tex/75195d7d73f5eab7.tex                    \u001b]8;id=418968;file:///usr/local/lib/python3.11/site-packages/manim/utils/tex_file_writing.py\u001b\\\u001b[2mtex_file_writing.py\u001b[0m\u001b]8;;\u001b\\\u001b[2m:\u001b[0m\u001b]8;id=608388;file:///usr/local/lib/python3.11/site-packages/manim/utils/tex_file_writing.py#111\u001b\\\u001b[2m111\u001b[0m\u001b]8;;\u001b\\\n"
            ]
          },
          "metadata": {},
          "output_type": "display_data"
        },
        {
          "name": "stderr",
          "output_type": "stream",
          "text": [
            "                                                                                               \r"
          ]
        },
        {
          "data": {
            "text/html": [
              "<pre style=\"white-space:pre;overflow-x:auto;line-height:normal;font-family:Menlo,'DejaVu Sans Mono',consolas,'Courier New',monospace\"><span style=\"color: #7fbfbf; text-decoration-color: #7fbfbf\">[10/07/25 12:07:04] </span><span style=\"color: #008000; text-decoration-color: #008000\">INFO    </span> Animation <span style=\"color: #008000; text-decoration-color: #008000\">13</span> : Partial movie file written in                  <a href=\"file:///usr/local/lib/python3.11/site-packages/manim/scene/scene_file_writer.py\" target=\"_blank\"><span style=\"color: #7f7f7f; text-decoration-color: #7f7f7f\">scene_file_writer.py</span></a><span style=\"color: #7f7f7f; text-decoration-color: #7f7f7f\">:</span><a href=\"file:///usr/local/lib/python3.11/site-packages/manim/scene/scene_file_writer.py#588\" target=\"_blank\"><span style=\"color: #7f7f7f; text-decoration-color: #7f7f7f\">588</span></a>\n",
              "<span style=\"color: #7fbfbf; text-decoration-color: #7fbfbf\">                    </span>         <span style=\"color: #008000; text-decoration-color: #008000\">'/manim/colab_handouts_PSI/media/videos/colab_handouts_PSI/72</span> <span style=\"color: #7f7f7f; text-decoration-color: #7f7f7f\">                        </span>\n",
              "<span style=\"color: #7fbfbf; text-decoration-color: #7fbfbf\">                    </span>         <span style=\"color: #008000; text-decoration-color: #008000\">0p30/partial_movie_files/CircuitReliabilityChatGPT/543634251_</span> <span style=\"color: #7f7f7f; text-decoration-color: #7f7f7f\">                        </span>\n",
              "<span style=\"color: #7fbfbf; text-decoration-color: #7fbfbf\">                    </span>         <span style=\"color: #008000; text-decoration-color: #008000\">34446285_3341287350.mp4'</span>                                      <span style=\"color: #7f7f7f; text-decoration-color: #7f7f7f\">                        </span>\n",
              "</pre>\n"
            ],
            "text/plain": [
              "\u001b[2;36m[10/07/25 12:07:04]\u001b[0m\u001b[2;36m \u001b[0m\u001b[32mINFO    \u001b[0m Animation \u001b[32m13\u001b[0m : Partial movie file written in                  \u001b]8;id=185133;file:///usr/local/lib/python3.11/site-packages/manim/scene/scene_file_writer.py\u001b\\\u001b[2mscene_file_writer.py\u001b[0m\u001b]8;;\u001b\\\u001b[2m:\u001b[0m\u001b]8;id=546560;file:///usr/local/lib/python3.11/site-packages/manim/scene/scene_file_writer.py#588\u001b\\\u001b[2m588\u001b[0m\u001b]8;;\u001b\\\n",
              "\u001b[2;36m                    \u001b[0m         \u001b[32m'/manim/colab_handouts_PSI/media/videos/colab_handouts_PSI/72\u001b[0m \u001b[2m                        \u001b[0m\n",
              "\u001b[2;36m                    \u001b[0m         \u001b[32m0p30/partial_movie_files/CircuitReliabilityChatGPT/543634251_\u001b[0m \u001b[2m                        \u001b[0m\n",
              "\u001b[2;36m                    \u001b[0m         \u001b[32m34446285_3341287350.mp4'\u001b[0m                                      \u001b[2m                        \u001b[0m\n"
            ]
          },
          "metadata": {},
          "output_type": "display_data"
        },
        {
          "name": "stderr",
          "output_type": "stream",
          "text": [
            "                                                                                                     \r"
          ]
        },
        {
          "data": {
            "text/html": [
              "<pre style=\"white-space:pre;overflow-x:auto;line-height:normal;font-family:Menlo,'DejaVu Sans Mono',consolas,'Courier New',monospace\"><span style=\"color: #7fbfbf; text-decoration-color: #7fbfbf\">[10/07/25 12:07:05] </span><span style=\"color: #008000; text-decoration-color: #008000\">INFO    </span> Animation <span style=\"color: #008000; text-decoration-color: #008000\">14</span> : Partial movie file written in                  <a href=\"file:///usr/local/lib/python3.11/site-packages/manim/scene/scene_file_writer.py\" target=\"_blank\"><span style=\"color: #7f7f7f; text-decoration-color: #7f7f7f\">scene_file_writer.py</span></a><span style=\"color: #7f7f7f; text-decoration-color: #7f7f7f\">:</span><a href=\"file:///usr/local/lib/python3.11/site-packages/manim/scene/scene_file_writer.py#588\" target=\"_blank\"><span style=\"color: #7f7f7f; text-decoration-color: #7f7f7f\">588</span></a>\n",
              "<span style=\"color: #7fbfbf; text-decoration-color: #7fbfbf\">                    </span>         <span style=\"color: #008000; text-decoration-color: #008000\">'/manim/colab_handouts_PSI/media/videos/colab_handouts_PSI/72</span> <span style=\"color: #7f7f7f; text-decoration-color: #7f7f7f\">                        </span>\n",
              "<span style=\"color: #7fbfbf; text-decoration-color: #7fbfbf\">                    </span>         <span style=\"color: #008000; text-decoration-color: #008000\">0p30/partial_movie_files/CircuitReliabilityChatGPT/543634251_</span> <span style=\"color: #7f7f7f; text-decoration-color: #7f7f7f\">                        </span>\n",
              "<span style=\"color: #7fbfbf; text-decoration-color: #7fbfbf\">                    </span>         <span style=\"color: #008000; text-decoration-color: #008000\">2825152889_422393924.mp4'</span>                                     <span style=\"color: #7f7f7f; text-decoration-color: #7f7f7f\">                        </span>\n",
              "</pre>\n"
            ],
            "text/plain": [
              "\u001b[2;36m[10/07/25 12:07:05]\u001b[0m\u001b[2;36m \u001b[0m\u001b[32mINFO    \u001b[0m Animation \u001b[32m14\u001b[0m : Partial movie file written in                  \u001b]8;id=923177;file:///usr/local/lib/python3.11/site-packages/manim/scene/scene_file_writer.py\u001b\\\u001b[2mscene_file_writer.py\u001b[0m\u001b]8;;\u001b\\\u001b[2m:\u001b[0m\u001b]8;id=301064;file:///usr/local/lib/python3.11/site-packages/manim/scene/scene_file_writer.py#588\u001b\\\u001b[2m588\u001b[0m\u001b]8;;\u001b\\\n",
              "\u001b[2;36m                    \u001b[0m         \u001b[32m'/manim/colab_handouts_PSI/media/videos/colab_handouts_PSI/72\u001b[0m \u001b[2m                        \u001b[0m\n",
              "\u001b[2;36m                    \u001b[0m         \u001b[32m0p30/partial_movie_files/CircuitReliabilityChatGPT/543634251_\u001b[0m \u001b[2m                        \u001b[0m\n",
              "\u001b[2;36m                    \u001b[0m         \u001b[32m2825152889_422393924.mp4'\u001b[0m                                     \u001b[2m                        \u001b[0m\n"
            ]
          },
          "metadata": {},
          "output_type": "display_data"
        },
        {
          "data": {
            "text/html": [
              "<pre style=\"white-space:pre;overflow-x:auto;line-height:normal;font-family:Menlo,'DejaVu Sans Mono',consolas,'Courier New',monospace\"><span style=\"color: #7fbfbf; text-decoration-color: #7fbfbf\">[10/07/25 12:07:06] </span><span style=\"color: #008000; text-decoration-color: #008000\">INFO    </span> Animation <span style=\"color: #008000; text-decoration-color: #008000\">15</span> : Partial movie file written in                  <a href=\"file:///usr/local/lib/python3.11/site-packages/manim/scene/scene_file_writer.py\" target=\"_blank\"><span style=\"color: #7f7f7f; text-decoration-color: #7f7f7f\">scene_file_writer.py</span></a><span style=\"color: #7f7f7f; text-decoration-color: #7f7f7f\">:</span><a href=\"file:///usr/local/lib/python3.11/site-packages/manim/scene/scene_file_writer.py#588\" target=\"_blank\"><span style=\"color: #7f7f7f; text-decoration-color: #7f7f7f\">588</span></a>\n",
              "<span style=\"color: #7fbfbf; text-decoration-color: #7fbfbf\">                    </span>         <span style=\"color: #008000; text-decoration-color: #008000\">'/manim/colab_handouts_PSI/media/videos/colab_handouts_PSI/72</span> <span style=\"color: #7f7f7f; text-decoration-color: #7f7f7f\">                        </span>\n",
              "<span style=\"color: #7fbfbf; text-decoration-color: #7fbfbf\">                    </span>         <span style=\"color: #008000; text-decoration-color: #008000\">0p30/partial_movie_files/CircuitReliabilityChatGPT/543634251_</span> <span style=\"color: #7f7f7f; text-decoration-color: #7f7f7f\">                        </span>\n",
              "<span style=\"color: #7fbfbf; text-decoration-color: #7fbfbf\">                    </span>         <span style=\"color: #008000; text-decoration-color: #008000\">3932249147_4023089484.mp4'</span>                                    <span style=\"color: #7f7f7f; text-decoration-color: #7f7f7f\">                        </span>\n",
              "</pre>\n"
            ],
            "text/plain": [
              "\u001b[2;36m[10/07/25 12:07:06]\u001b[0m\u001b[2;36m \u001b[0m\u001b[32mINFO    \u001b[0m Animation \u001b[32m15\u001b[0m : Partial movie file written in                  \u001b]8;id=900085;file:///usr/local/lib/python3.11/site-packages/manim/scene/scene_file_writer.py\u001b\\\u001b[2mscene_file_writer.py\u001b[0m\u001b]8;;\u001b\\\u001b[2m:\u001b[0m\u001b]8;id=378697;file:///usr/local/lib/python3.11/site-packages/manim/scene/scene_file_writer.py#588\u001b\\\u001b[2m588\u001b[0m\u001b]8;;\u001b\\\n",
              "\u001b[2;36m                    \u001b[0m         \u001b[32m'/manim/colab_handouts_PSI/media/videos/colab_handouts_PSI/72\u001b[0m \u001b[2m                        \u001b[0m\n",
              "\u001b[2;36m                    \u001b[0m         \u001b[32m0p30/partial_movie_files/CircuitReliabilityChatGPT/543634251_\u001b[0m \u001b[2m                        \u001b[0m\n",
              "\u001b[2;36m                    \u001b[0m         \u001b[32m3932249147_4023089484.mp4'\u001b[0m                                    \u001b[2m                        \u001b[0m\n"
            ]
          },
          "metadata": {},
          "output_type": "display_data"
        },
        {
          "name": "stderr",
          "output_type": "stream",
          "text": [
            "                                                                                            \r"
          ]
        },
        {
          "data": {
            "text/html": [
              "<pre style=\"white-space:pre;overflow-x:auto;line-height:normal;font-family:Menlo,'DejaVu Sans Mono',consolas,'Courier New',monospace\"><span style=\"color: #7fbfbf; text-decoration-color: #7fbfbf\">[10/07/25 12:07:07] </span><span style=\"color: #008000; text-decoration-color: #008000\">INFO    </span> Animation <span style=\"color: #008000; text-decoration-color: #008000\">16</span> : Partial movie file written in                  <a href=\"file:///usr/local/lib/python3.11/site-packages/manim/scene/scene_file_writer.py\" target=\"_blank\"><span style=\"color: #7f7f7f; text-decoration-color: #7f7f7f\">scene_file_writer.py</span></a><span style=\"color: #7f7f7f; text-decoration-color: #7f7f7f\">:</span><a href=\"file:///usr/local/lib/python3.11/site-packages/manim/scene/scene_file_writer.py#588\" target=\"_blank\"><span style=\"color: #7f7f7f; text-decoration-color: #7f7f7f\">588</span></a>\n",
              "<span style=\"color: #7fbfbf; text-decoration-color: #7fbfbf\">                    </span>         <span style=\"color: #008000; text-decoration-color: #008000\">'/manim/colab_handouts_PSI/media/videos/colab_handouts_PSI/72</span> <span style=\"color: #7f7f7f; text-decoration-color: #7f7f7f\">                        </span>\n",
              "<span style=\"color: #7fbfbf; text-decoration-color: #7fbfbf\">                    </span>         <span style=\"color: #008000; text-decoration-color: #008000\">0p30/partial_movie_files/CircuitReliabilityChatGPT/543634251_</span> <span style=\"color: #7f7f7f; text-decoration-color: #7f7f7f\">                        </span>\n",
              "<span style=\"color: #7fbfbf; text-decoration-color: #7fbfbf\">                    </span>         <span style=\"color: #008000; text-decoration-color: #008000\">468676510_1363061034.mp4'</span>                                     <span style=\"color: #7f7f7f; text-decoration-color: #7f7f7f\">                        </span>\n",
              "</pre>\n"
            ],
            "text/plain": [
              "\u001b[2;36m[10/07/25 12:07:07]\u001b[0m\u001b[2;36m \u001b[0m\u001b[32mINFO    \u001b[0m Animation \u001b[32m16\u001b[0m : Partial movie file written in                  \u001b]8;id=505733;file:///usr/local/lib/python3.11/site-packages/manim/scene/scene_file_writer.py\u001b\\\u001b[2mscene_file_writer.py\u001b[0m\u001b]8;;\u001b\\\u001b[2m:\u001b[0m\u001b]8;id=449749;file:///usr/local/lib/python3.11/site-packages/manim/scene/scene_file_writer.py#588\u001b\\\u001b[2m588\u001b[0m\u001b]8;;\u001b\\\n",
              "\u001b[2;36m                    \u001b[0m         \u001b[32m'/manim/colab_handouts_PSI/media/videos/colab_handouts_PSI/72\u001b[0m \u001b[2m                        \u001b[0m\n",
              "\u001b[2;36m                    \u001b[0m         \u001b[32m0p30/partial_movie_files/CircuitReliabilityChatGPT/543634251_\u001b[0m \u001b[2m                        \u001b[0m\n",
              "\u001b[2;36m                    \u001b[0m         \u001b[32m468676510_1363061034.mp4'\u001b[0m                                     \u001b[2m                        \u001b[0m\n"
            ]
          },
          "metadata": {},
          "output_type": "display_data"
        },
        {
          "data": {
            "text/html": [
              "<pre style=\"white-space:pre;overflow-x:auto;line-height:normal;font-family:Menlo,'DejaVu Sans Mono',consolas,'Courier New',monospace\"><span style=\"color: #7fbfbf; text-decoration-color: #7fbfbf\">                    </span><span style=\"color: #008000; text-decoration-color: #008000\">INFO    </span> <span style=\"color: #808000; text-decoration-color: #808000; font-weight: bold\">Writing</span> P\\<span style=\"font-weight: bold\">{</span>C\\cap G\\<span style=\"font-weight: bold\">}</span> = <span style=\"color: #008000; text-decoration-color: #008000\">0.92</span> \\cdot <span style=\"color: #008000; text-decoration-color: #008000\">0.9936</span> = <span style=\"color: #008000; text-decoration-color: #008000\">0.9141</span> to           <a href=\"file:///usr/local/lib/python3.11/site-packages/manim/utils/tex_file_writing.py\" target=\"_blank\"><span style=\"color: #7f7f7f; text-decoration-color: #7f7f7f\">tex_file_writing.py</span></a><span style=\"color: #7f7f7f; text-decoration-color: #7f7f7f\">:</span><a href=\"file:///usr/local/lib/python3.11/site-packages/manim/utils/tex_file_writing.py#111\" target=\"_blank\"><span style=\"color: #7f7f7f; text-decoration-color: #7f7f7f\">111</span></a>\n",
              "<span style=\"color: #7fbfbf; text-decoration-color: #7fbfbf\">                    </span>         media/Tex/19ff640e30e26425.tex                                 <span style=\"color: #7f7f7f; text-decoration-color: #7f7f7f\">                       </span>\n",
              "</pre>\n"
            ],
            "text/plain": [
              "\u001b[2;36m                   \u001b[0m\u001b[2;36m \u001b[0m\u001b[32mINFO    \u001b[0m \u001b[1;33mWriting\u001b[0m P\\\u001b[1m{\u001b[0mC\\cap G\\\u001b[1m}\u001b[0m = \u001b[32m0.92\u001b[0m \\cdot \u001b[32m0.9936\u001b[0m = \u001b[32m0.9141\u001b[0m to           \u001b]8;id=454965;file:///usr/local/lib/python3.11/site-packages/manim/utils/tex_file_writing.py\u001b\\\u001b[2mtex_file_writing.py\u001b[0m\u001b]8;;\u001b\\\u001b[2m:\u001b[0m\u001b]8;id=132516;file:///usr/local/lib/python3.11/site-packages/manim/utils/tex_file_writing.py#111\u001b\\\u001b[2m111\u001b[0m\u001b]8;;\u001b\\\n",
              "\u001b[2;36m                    \u001b[0m         media/Tex/19ff640e30e26425.tex                                 \u001b[2m                       \u001b[0m\n"
            ]
          },
          "metadata": {},
          "output_type": "display_data"
        },
        {
          "data": {
            "text/html": [
              "<pre style=\"white-space:pre;overflow-x:auto;line-height:normal;font-family:Menlo,'DejaVu Sans Mono',consolas,'Courier New',monospace\"><span style=\"color: #7fbfbf; text-decoration-color: #7fbfbf\">                    </span><span style=\"color: #008000; text-decoration-color: #008000\">INFO    </span> <span style=\"color: #808000; text-decoration-color: #808000; font-weight: bold\">Writing</span> P\\<span style=\"font-weight: bold\">{</span>C\\cap G\\<span style=\"font-weight: bold\">}</span> = <span style=\"color: #008000; text-decoration-color: #008000\">0.92</span> \\cdot<span style=\"font-weight: bold\">{</span>\\quad<span style=\"font-weight: bold\">}</span> to                    <a href=\"file:///usr/local/lib/python3.11/site-packages/manim/utils/tex_file_writing.py\" target=\"_blank\"><span style=\"color: #7f7f7f; text-decoration-color: #7f7f7f\">tex_file_writing.py</span></a><span style=\"color: #7f7f7f; text-decoration-color: #7f7f7f\">:</span><a href=\"file:///usr/local/lib/python3.11/site-packages/manim/utils/tex_file_writing.py#111\" target=\"_blank\"><span style=\"color: #7f7f7f; text-decoration-color: #7f7f7f\">111</span></a>\n",
              "<span style=\"color: #7fbfbf; text-decoration-color: #7fbfbf\">                    </span>         media/Tex/cece327b40f058a8.tex                                 <span style=\"color: #7f7f7f; text-decoration-color: #7f7f7f\">                       </span>\n",
              "</pre>\n"
            ],
            "text/plain": [
              "\u001b[2;36m                   \u001b[0m\u001b[2;36m \u001b[0m\u001b[32mINFO    \u001b[0m \u001b[1;33mWriting\u001b[0m P\\\u001b[1m{\u001b[0mC\\cap G\\\u001b[1m}\u001b[0m = \u001b[32m0.92\u001b[0m \\cdot\u001b[1m{\u001b[0m\\quad\u001b[1m}\u001b[0m to                    \u001b]8;id=831740;file:///usr/local/lib/python3.11/site-packages/manim/utils/tex_file_writing.py\u001b\\\u001b[2mtex_file_writing.py\u001b[0m\u001b]8;;\u001b\\\u001b[2m:\u001b[0m\u001b]8;id=707175;file:///usr/local/lib/python3.11/site-packages/manim/utils/tex_file_writing.py#111\u001b\\\u001b[2m111\u001b[0m\u001b]8;;\u001b\\\n",
              "\u001b[2;36m                    \u001b[0m         media/Tex/cece327b40f058a8.tex                                 \u001b[2m                       \u001b[0m\n"
            ]
          },
          "metadata": {},
          "output_type": "display_data"
        },
        {
          "data": {
            "text/html": [
              "<pre style=\"white-space:pre;overflow-x:auto;line-height:normal;font-family:Menlo,'DejaVu Sans Mono',consolas,'Courier New',monospace\"><span style=\"color: #7fbfbf; text-decoration-color: #7fbfbf\">[10/07/25 12:07:08] </span><span style=\"color: #008000; text-decoration-color: #008000\">INFO    </span> <span style=\"color: #808000; text-decoration-color: #808000; font-weight: bold\">Writing</span> = to media/Tex/383d1fb9b7d92e82.tex                    <a href=\"file:///usr/local/lib/python3.11/site-packages/manim/utils/tex_file_writing.py\" target=\"_blank\"><span style=\"color: #7f7f7f; text-decoration-color: #7f7f7f\">tex_file_writing.py</span></a><span style=\"color: #7f7f7f; text-decoration-color: #7f7f7f\">:</span><a href=\"file:///usr/local/lib/python3.11/site-packages/manim/utils/tex_file_writing.py#111\" target=\"_blank\"><span style=\"color: #7f7f7f; text-decoration-color: #7f7f7f\">111</span></a>\n",
              "</pre>\n"
            ],
            "text/plain": [
              "\u001b[2;36m[10/07/25 12:07:08]\u001b[0m\u001b[2;36m \u001b[0m\u001b[32mINFO    \u001b[0m \u001b[1;33mWriting\u001b[0m = to media/Tex/383d1fb9b7d92e82.tex                    \u001b]8;id=893447;file:///usr/local/lib/python3.11/site-packages/manim/utils/tex_file_writing.py\u001b\\\u001b[2mtex_file_writing.py\u001b[0m\u001b]8;;\u001b\\\u001b[2m:\u001b[0m\u001b]8;id=337124;file:///usr/local/lib/python3.11/site-packages/manim/utils/tex_file_writing.py#111\u001b\\\u001b[2m111\u001b[0m\u001b]8;;\u001b\\\n"
            ]
          },
          "metadata": {},
          "output_type": "display_data"
        },
        {
          "data": {
            "text/html": [
              "<pre style=\"white-space:pre;overflow-x:auto;line-height:normal;font-family:Menlo,'DejaVu Sans Mono',consolas,'Courier New',monospace\"><span style=\"color: #7fbfbf; text-decoration-color: #7fbfbf\">[10/07/25 12:07:09] </span><span style=\"color: #008000; text-decoration-color: #008000\">INFO    </span> <span style=\"color: #808000; text-decoration-color: #808000; font-weight: bold\">Writing</span> <span style=\"color: #008000; text-decoration-color: #008000\">0.9141</span> to media/Tex/2ee608b4e9e73c43.tex               <a href=\"file:///usr/local/lib/python3.11/site-packages/manim/utils/tex_file_writing.py\" target=\"_blank\"><span style=\"color: #7f7f7f; text-decoration-color: #7f7f7f\">tex_file_writing.py</span></a><span style=\"color: #7f7f7f; text-decoration-color: #7f7f7f\">:</span><a href=\"file:///usr/local/lib/python3.11/site-packages/manim/utils/tex_file_writing.py#111\" target=\"_blank\"><span style=\"color: #7f7f7f; text-decoration-color: #7f7f7f\">111</span></a>\n",
              "</pre>\n"
            ],
            "text/plain": [
              "\u001b[2;36m[10/07/25 12:07:09]\u001b[0m\u001b[2;36m \u001b[0m\u001b[32mINFO    \u001b[0m \u001b[1;33mWriting\u001b[0m \u001b[32m0.9141\u001b[0m to media/Tex/2ee608b4e9e73c43.tex               \u001b]8;id=508635;file:///usr/local/lib/python3.11/site-packages/manim/utils/tex_file_writing.py\u001b\\\u001b[2mtex_file_writing.py\u001b[0m\u001b]8;;\u001b\\\u001b[2m:\u001b[0m\u001b]8;id=545200;file:///usr/local/lib/python3.11/site-packages/manim/utils/tex_file_writing.py#111\u001b\\\u001b[2m111\u001b[0m\u001b]8;;\u001b\\\n"
            ]
          },
          "metadata": {},
          "output_type": "display_data"
        },
        {
          "name": "stderr",
          "output_type": "stream",
          "text": [
            "                                                                                                                              \r"
          ]
        },
        {
          "data": {
            "text/html": [
              "<pre style=\"white-space:pre;overflow-x:auto;line-height:normal;font-family:Menlo,'DejaVu Sans Mono',consolas,'Courier New',monospace\"><span style=\"color: #7fbfbf; text-decoration-color: #7fbfbf\">[10/07/25 12:07:11] </span><span style=\"color: #008000; text-decoration-color: #008000\">INFO    </span> Animation <span style=\"color: #008000; text-decoration-color: #008000\">17</span> : Partial movie file written in                  <a href=\"file:///usr/local/lib/python3.11/site-packages/manim/scene/scene_file_writer.py\" target=\"_blank\"><span style=\"color: #7f7f7f; text-decoration-color: #7f7f7f\">scene_file_writer.py</span></a><span style=\"color: #7f7f7f; text-decoration-color: #7f7f7f\">:</span><a href=\"file:///usr/local/lib/python3.11/site-packages/manim/scene/scene_file_writer.py#588\" target=\"_blank\"><span style=\"color: #7f7f7f; text-decoration-color: #7f7f7f\">588</span></a>\n",
              "<span style=\"color: #7fbfbf; text-decoration-color: #7fbfbf\">                    </span>         <span style=\"color: #008000; text-decoration-color: #008000\">'/manim/colab_handouts_PSI/media/videos/colab_handouts_PSI/72</span> <span style=\"color: #7f7f7f; text-decoration-color: #7f7f7f\">                        </span>\n",
              "<span style=\"color: #7fbfbf; text-decoration-color: #7fbfbf\">                    </span>         <span style=\"color: #008000; text-decoration-color: #008000\">0p30/partial_movie_files/CircuitReliabilityChatGPT/543634251_</span> <span style=\"color: #7f7f7f; text-decoration-color: #7f7f7f\">                        </span>\n",
              "<span style=\"color: #7fbfbf; text-decoration-color: #7fbfbf\">                    </span>         <span style=\"color: #008000; text-decoration-color: #008000\">273120342_450752046.mp4'</span>                                      <span style=\"color: #7f7f7f; text-decoration-color: #7f7f7f\">                        </span>\n",
              "</pre>\n"
            ],
            "text/plain": [
              "\u001b[2;36m[10/07/25 12:07:11]\u001b[0m\u001b[2;36m \u001b[0m\u001b[32mINFO    \u001b[0m Animation \u001b[32m17\u001b[0m : Partial movie file written in                  \u001b]8;id=746258;file:///usr/local/lib/python3.11/site-packages/manim/scene/scene_file_writer.py\u001b\\\u001b[2mscene_file_writer.py\u001b[0m\u001b]8;;\u001b\\\u001b[2m:\u001b[0m\u001b]8;id=533332;file:///usr/local/lib/python3.11/site-packages/manim/scene/scene_file_writer.py#588\u001b\\\u001b[2m588\u001b[0m\u001b]8;;\u001b\\\n",
              "\u001b[2;36m                    \u001b[0m         \u001b[32m'/manim/colab_handouts_PSI/media/videos/colab_handouts_PSI/72\u001b[0m \u001b[2m                        \u001b[0m\n",
              "\u001b[2;36m                    \u001b[0m         \u001b[32m0p30/partial_movie_files/CircuitReliabilityChatGPT/543634251_\u001b[0m \u001b[2m                        \u001b[0m\n",
              "\u001b[2;36m                    \u001b[0m         \u001b[32m273120342_450752046.mp4'\u001b[0m                                      \u001b[2m                        \u001b[0m\n"
            ]
          },
          "metadata": {},
          "output_type": "display_data"
        },
        {
          "data": {
            "text/html": [
              "<pre style=\"white-space:pre;overflow-x:auto;line-height:normal;font-family:Menlo,'DejaVu Sans Mono',consolas,'Courier New',monospace\"><span style=\"color: #7fbfbf; text-decoration-color: #7fbfbf\">                    </span><span style=\"color: #008000; text-decoration-color: #008000\">INFO    </span> Animation <span style=\"color: #008000; text-decoration-color: #008000\">18</span> : Partial movie file written in                  <a href=\"file:///usr/local/lib/python3.11/site-packages/manim/scene/scene_file_writer.py\" target=\"_blank\"><span style=\"color: #7f7f7f; text-decoration-color: #7f7f7f\">scene_file_writer.py</span></a><span style=\"color: #7f7f7f; text-decoration-color: #7f7f7f\">:</span><a href=\"file:///usr/local/lib/python3.11/site-packages/manim/scene/scene_file_writer.py#588\" target=\"_blank\"><span style=\"color: #7f7f7f; text-decoration-color: #7f7f7f\">588</span></a>\n",
              "<span style=\"color: #7fbfbf; text-decoration-color: #7fbfbf\">                    </span>         <span style=\"color: #008000; text-decoration-color: #008000\">'/manim/colab_handouts_PSI/media/videos/colab_handouts_PSI/72</span> <span style=\"color: #7f7f7f; text-decoration-color: #7f7f7f\">                        </span>\n",
              "<span style=\"color: #7fbfbf; text-decoration-color: #7fbfbf\">                    </span>         <span style=\"color: #008000; text-decoration-color: #008000\">0p30/partial_movie_files/CircuitReliabilityChatGPT/543634251_</span> <span style=\"color: #7f7f7f; text-decoration-color: #7f7f7f\">                        </span>\n",
              "<span style=\"color: #7fbfbf; text-decoration-color: #7fbfbf\">                    </span>         <span style=\"color: #008000; text-decoration-color: #008000\">3932249147_3423615173.mp4'</span>                                    <span style=\"color: #7f7f7f; text-decoration-color: #7f7f7f\">                        </span>\n",
              "</pre>\n"
            ],
            "text/plain": [
              "\u001b[2;36m                   \u001b[0m\u001b[2;36m \u001b[0m\u001b[32mINFO    \u001b[0m Animation \u001b[32m18\u001b[0m : Partial movie file written in                  \u001b]8;id=251136;file:///usr/local/lib/python3.11/site-packages/manim/scene/scene_file_writer.py\u001b\\\u001b[2mscene_file_writer.py\u001b[0m\u001b]8;;\u001b\\\u001b[2m:\u001b[0m\u001b]8;id=631516;file:///usr/local/lib/python3.11/site-packages/manim/scene/scene_file_writer.py#588\u001b\\\u001b[2m588\u001b[0m\u001b]8;;\u001b\\\n",
              "\u001b[2;36m                    \u001b[0m         \u001b[32m'/manim/colab_handouts_PSI/media/videos/colab_handouts_PSI/72\u001b[0m \u001b[2m                        \u001b[0m\n",
              "\u001b[2;36m                    \u001b[0m         \u001b[32m0p30/partial_movie_files/CircuitReliabilityChatGPT/543634251_\u001b[0m \u001b[2m                        \u001b[0m\n",
              "\u001b[2;36m                    \u001b[0m         \u001b[32m3932249147_3423615173.mp4'\u001b[0m                                    \u001b[2m                        \u001b[0m\n"
            ]
          },
          "metadata": {},
          "output_type": "display_data"
        },
        {
          "data": {
            "text/html": [
              "<pre style=\"white-space:pre;overflow-x:auto;line-height:normal;font-family:Menlo,'DejaVu Sans Mono',consolas,'Courier New',monospace\"><span style=\"color: #7fbfbf; text-decoration-color: #7fbfbf\">                    </span><span style=\"color: #008000; text-decoration-color: #008000\">INFO    </span> <span style=\"color: #808000; text-decoration-color: #808000; font-weight: bold\">Writing</span> H to media/Tex/40d3015135341434.tex                    <a href=\"file:///usr/local/lib/python3.11/site-packages/manim/utils/tex_file_writing.py\" target=\"_blank\"><span style=\"color: #7f7f7f; text-decoration-color: #7f7f7f\">tex_file_writing.py</span></a><span style=\"color: #7f7f7f; text-decoration-color: #7f7f7f\">:</span><a href=\"file:///usr/local/lib/python3.11/site-packages/manim/utils/tex_file_writing.py#111\" target=\"_blank\"><span style=\"color: #7f7f7f; text-decoration-color: #7f7f7f\">111</span></a>\n",
              "</pre>\n"
            ],
            "text/plain": [
              "\u001b[2;36m                   \u001b[0m\u001b[2;36m \u001b[0m\u001b[32mINFO    \u001b[0m \u001b[1;33mWriting\u001b[0m H to media/Tex/40d3015135341434.tex                    \u001b]8;id=143061;file:///usr/local/lib/python3.11/site-packages/manim/utils/tex_file_writing.py\u001b\\\u001b[2mtex_file_writing.py\u001b[0m\u001b]8;;\u001b\\\u001b[2m:\u001b[0m\u001b]8;id=224516;file:///usr/local/lib/python3.11/site-packages/manim/utils/tex_file_writing.py#111\u001b\\\u001b[2m111\u001b[0m\u001b]8;;\u001b\\\n"
            ]
          },
          "metadata": {},
          "output_type": "display_data"
        },
        {
          "name": "stderr",
          "output_type": "stream",
          "text": [
            "                                                                                               \r"
          ]
        },
        {
          "data": {
            "text/html": [
              "<pre style=\"white-space:pre;overflow-x:auto;line-height:normal;font-family:Menlo,'DejaVu Sans Mono',consolas,'Courier New',monospace\"><span style=\"color: #7fbfbf; text-decoration-color: #7fbfbf\">[10/07/25 12:07:13] </span><span style=\"color: #008000; text-decoration-color: #008000\">INFO    </span> Animation <span style=\"color: #008000; text-decoration-color: #008000\">19</span> : Partial movie file written in                  <a href=\"file:///usr/local/lib/python3.11/site-packages/manim/scene/scene_file_writer.py\" target=\"_blank\"><span style=\"color: #7f7f7f; text-decoration-color: #7f7f7f\">scene_file_writer.py</span></a><span style=\"color: #7f7f7f; text-decoration-color: #7f7f7f\">:</span><a href=\"file:///usr/local/lib/python3.11/site-packages/manim/scene/scene_file_writer.py#588\" target=\"_blank\"><span style=\"color: #7f7f7f; text-decoration-color: #7f7f7f\">588</span></a>\n",
              "<span style=\"color: #7fbfbf; text-decoration-color: #7fbfbf\">                    </span>         <span style=\"color: #008000; text-decoration-color: #008000\">'/manim/colab_handouts_PSI/media/videos/colab_handouts_PSI/72</span> <span style=\"color: #7f7f7f; text-decoration-color: #7f7f7f\">                        </span>\n",
              "<span style=\"color: #7fbfbf; text-decoration-color: #7fbfbf\">                    </span>         <span style=\"color: #008000; text-decoration-color: #008000\">0p30/partial_movie_files/CircuitReliabilityChatGPT/543634251_</span> <span style=\"color: #7f7f7f; text-decoration-color: #7f7f7f\">                        </span>\n",
              "<span style=\"color: #7fbfbf; text-decoration-color: #7fbfbf\">                    </span>         <span style=\"color: #008000; text-decoration-color: #008000\">3949937864_4234647268.mp4'</span>                                    <span style=\"color: #7f7f7f; text-decoration-color: #7f7f7f\">                        </span>\n",
              "</pre>\n"
            ],
            "text/plain": [
              "\u001b[2;36m[10/07/25 12:07:13]\u001b[0m\u001b[2;36m \u001b[0m\u001b[32mINFO    \u001b[0m Animation \u001b[32m19\u001b[0m : Partial movie file written in                  \u001b]8;id=683125;file:///usr/local/lib/python3.11/site-packages/manim/scene/scene_file_writer.py\u001b\\\u001b[2mscene_file_writer.py\u001b[0m\u001b]8;;\u001b\\\u001b[2m:\u001b[0m\u001b]8;id=353534;file:///usr/local/lib/python3.11/site-packages/manim/scene/scene_file_writer.py#588\u001b\\\u001b[2m588\u001b[0m\u001b]8;;\u001b\\\n",
              "\u001b[2;36m                    \u001b[0m         \u001b[32m'/manim/colab_handouts_PSI/media/videos/colab_handouts_PSI/72\u001b[0m \u001b[2m                        \u001b[0m\n",
              "\u001b[2;36m                    \u001b[0m         \u001b[32m0p30/partial_movie_files/CircuitReliabilityChatGPT/543634251_\u001b[0m \u001b[2m                        \u001b[0m\n",
              "\u001b[2;36m                    \u001b[0m         \u001b[32m3949937864_4234647268.mp4'\u001b[0m                                    \u001b[2m                        \u001b[0m\n"
            ]
          },
          "metadata": {},
          "output_type": "display_data"
        },
        {
          "name": "stderr",
          "output_type": "stream",
          "text": [
            "                                                                                                     \r"
          ]
        },
        {
          "data": {
            "text/html": [
              "<pre style=\"white-space:pre;overflow-x:auto;line-height:normal;font-family:Menlo,'DejaVu Sans Mono',consolas,'Courier New',monospace\"><span style=\"color: #7fbfbf; text-decoration-color: #7fbfbf\">[10/07/25 12:07:14] </span><span style=\"color: #008000; text-decoration-color: #008000\">INFO    </span> Animation <span style=\"color: #008000; text-decoration-color: #008000\">20</span> : Partial movie file written in                  <a href=\"file:///usr/local/lib/python3.11/site-packages/manim/scene/scene_file_writer.py\" target=\"_blank\"><span style=\"color: #7f7f7f; text-decoration-color: #7f7f7f\">scene_file_writer.py</span></a><span style=\"color: #7f7f7f; text-decoration-color: #7f7f7f\">:</span><a href=\"file:///usr/local/lib/python3.11/site-packages/manim/scene/scene_file_writer.py#588\" target=\"_blank\"><span style=\"color: #7f7f7f; text-decoration-color: #7f7f7f\">588</span></a>\n",
              "<span style=\"color: #7fbfbf; text-decoration-color: #7fbfbf\">                    </span>         <span style=\"color: #008000; text-decoration-color: #008000\">'/manim/colab_handouts_PSI/media/videos/colab_handouts_PSI/72</span> <span style=\"color: #7f7f7f; text-decoration-color: #7f7f7f\">                        </span>\n",
              "<span style=\"color: #7fbfbf; text-decoration-color: #7fbfbf\">                    </span>         <span style=\"color: #008000; text-decoration-color: #008000\">0p30/partial_movie_files/CircuitReliabilityChatGPT/543634251_</span> <span style=\"color: #7f7f7f; text-decoration-color: #7f7f7f\">                        </span>\n",
              "<span style=\"color: #7fbfbf; text-decoration-color: #7fbfbf\">                    </span>         <span style=\"color: #008000; text-decoration-color: #008000\">3440663665_1032144377.mp4'</span>                                    <span style=\"color: #7f7f7f; text-decoration-color: #7f7f7f\">                        </span>\n",
              "</pre>\n"
            ],
            "text/plain": [
              "\u001b[2;36m[10/07/25 12:07:14]\u001b[0m\u001b[2;36m \u001b[0m\u001b[32mINFO    \u001b[0m Animation \u001b[32m20\u001b[0m : Partial movie file written in                  \u001b]8;id=959113;file:///usr/local/lib/python3.11/site-packages/manim/scene/scene_file_writer.py\u001b\\\u001b[2mscene_file_writer.py\u001b[0m\u001b]8;;\u001b\\\u001b[2m:\u001b[0m\u001b]8;id=396257;file:///usr/local/lib/python3.11/site-packages/manim/scene/scene_file_writer.py#588\u001b\\\u001b[2m588\u001b[0m\u001b]8;;\u001b\\\n",
              "\u001b[2;36m                    \u001b[0m         \u001b[32m'/manim/colab_handouts_PSI/media/videos/colab_handouts_PSI/72\u001b[0m \u001b[2m                        \u001b[0m\n",
              "\u001b[2;36m                    \u001b[0m         \u001b[32m0p30/partial_movie_files/CircuitReliabilityChatGPT/543634251_\u001b[0m \u001b[2m                        \u001b[0m\n",
              "\u001b[2;36m                    \u001b[0m         \u001b[32m3440663665_1032144377.mp4'\u001b[0m                                    \u001b[2m                        \u001b[0m\n"
            ]
          },
          "metadata": {},
          "output_type": "display_data"
        },
        {
          "data": {
            "text/html": [
              "<pre style=\"white-space:pre;overflow-x:auto;line-height:normal;font-family:Menlo,'DejaVu Sans Mono',consolas,'Courier New',monospace\"><span style=\"color: #7fbfbf; text-decoration-color: #7fbfbf\">[10/07/25 12:07:15] </span><span style=\"color: #008000; text-decoration-color: #008000\">INFO    </span> Animation <span style=\"color: #008000; text-decoration-color: #008000\">21</span> : Partial movie file written in                  <a href=\"file:///usr/local/lib/python3.11/site-packages/manim/scene/scene_file_writer.py\" target=\"_blank\"><span style=\"color: #7f7f7f; text-decoration-color: #7f7f7f\">scene_file_writer.py</span></a><span style=\"color: #7f7f7f; text-decoration-color: #7f7f7f\">:</span><a href=\"file:///usr/local/lib/python3.11/site-packages/manim/scene/scene_file_writer.py#588\" target=\"_blank\"><span style=\"color: #7f7f7f; text-decoration-color: #7f7f7f\">588</span></a>\n",
              "<span style=\"color: #7fbfbf; text-decoration-color: #7fbfbf\">                    </span>         <span style=\"color: #008000; text-decoration-color: #008000\">'/manim/colab_handouts_PSI/media/videos/colab_handouts_PSI/72</span> <span style=\"color: #7f7f7f; text-decoration-color: #7f7f7f\">                        </span>\n",
              "<span style=\"color: #7fbfbf; text-decoration-color: #7fbfbf\">                    </span>         <span style=\"color: #008000; text-decoration-color: #008000\">0p30/partial_movie_files/CircuitReliabilityChatGPT/543634251_</span> <span style=\"color: #7f7f7f; text-decoration-color: #7f7f7f\">                        </span>\n",
              "<span style=\"color: #7fbfbf; text-decoration-color: #7fbfbf\">                    </span>         <span style=\"color: #008000; text-decoration-color: #008000\">3932249147_2447500775.mp4'</span>                                    <span style=\"color: #7f7f7f; text-decoration-color: #7f7f7f\">                        </span>\n",
              "</pre>\n"
            ],
            "text/plain": [
              "\u001b[2;36m[10/07/25 12:07:15]\u001b[0m\u001b[2;36m \u001b[0m\u001b[32mINFO    \u001b[0m Animation \u001b[32m21\u001b[0m : Partial movie file written in                  \u001b]8;id=288717;file:///usr/local/lib/python3.11/site-packages/manim/scene/scene_file_writer.py\u001b\\\u001b[2mscene_file_writer.py\u001b[0m\u001b]8;;\u001b\\\u001b[2m:\u001b[0m\u001b]8;id=645708;file:///usr/local/lib/python3.11/site-packages/manim/scene/scene_file_writer.py#588\u001b\\\u001b[2m588\u001b[0m\u001b]8;;\u001b\\\n",
              "\u001b[2;36m                    \u001b[0m         \u001b[32m'/manim/colab_handouts_PSI/media/videos/colab_handouts_PSI/72\u001b[0m \u001b[2m                        \u001b[0m\n",
              "\u001b[2;36m                    \u001b[0m         \u001b[32m0p30/partial_movie_files/CircuitReliabilityChatGPT/543634251_\u001b[0m \u001b[2m                        \u001b[0m\n",
              "\u001b[2;36m                    \u001b[0m         \u001b[32m3932249147_2447500775.mp4'\u001b[0m                                    \u001b[2m                        \u001b[0m\n"
            ]
          },
          "metadata": {},
          "output_type": "display_data"
        },
        {
          "name": "stderr",
          "output_type": "stream",
          "text": [
            "                                                                                            \r"
          ]
        },
        {
          "data": {
            "text/html": [
              "<pre style=\"white-space:pre;overflow-x:auto;line-height:normal;font-family:Menlo,'DejaVu Sans Mono',consolas,'Courier New',monospace\"><span style=\"color: #7fbfbf; text-decoration-color: #7fbfbf\">[10/07/25 12:07:16] </span><span style=\"color: #008000; text-decoration-color: #008000\">INFO    </span> Animation <span style=\"color: #008000; text-decoration-color: #008000\">22</span> : Partial movie file written in                  <a href=\"file:///usr/local/lib/python3.11/site-packages/manim/scene/scene_file_writer.py\" target=\"_blank\"><span style=\"color: #7f7f7f; text-decoration-color: #7f7f7f\">scene_file_writer.py</span></a><span style=\"color: #7f7f7f; text-decoration-color: #7f7f7f\">:</span><a href=\"file:///usr/local/lib/python3.11/site-packages/manim/scene/scene_file_writer.py#588\" target=\"_blank\"><span style=\"color: #7f7f7f; text-decoration-color: #7f7f7f\">588</span></a>\n",
              "<span style=\"color: #7fbfbf; text-decoration-color: #7fbfbf\">                    </span>         <span style=\"color: #008000; text-decoration-color: #008000\">'/manim/colab_handouts_PSI/media/videos/colab_handouts_PSI/72</span> <span style=\"color: #7f7f7f; text-decoration-color: #7f7f7f\">                        </span>\n",
              "<span style=\"color: #7fbfbf; text-decoration-color: #7fbfbf\">                    </span>         <span style=\"color: #008000; text-decoration-color: #008000\">0p30/partial_movie_files/CircuitReliabilityChatGPT/543634251_</span> <span style=\"color: #7f7f7f; text-decoration-color: #7f7f7f\">                        </span>\n",
              "<span style=\"color: #7fbfbf; text-decoration-color: #7fbfbf\">                    </span>         <span style=\"color: #008000; text-decoration-color: #008000\">989479096_1293939721.mp4'</span>                                     <span style=\"color: #7f7f7f; text-decoration-color: #7f7f7f\">                        </span>\n",
              "</pre>\n"
            ],
            "text/plain": [
              "\u001b[2;36m[10/07/25 12:07:16]\u001b[0m\u001b[2;36m \u001b[0m\u001b[32mINFO    \u001b[0m Animation \u001b[32m22\u001b[0m : Partial movie file written in                  \u001b]8;id=29098;file:///usr/local/lib/python3.11/site-packages/manim/scene/scene_file_writer.py\u001b\\\u001b[2mscene_file_writer.py\u001b[0m\u001b]8;;\u001b\\\u001b[2m:\u001b[0m\u001b]8;id=91333;file:///usr/local/lib/python3.11/site-packages/manim/scene/scene_file_writer.py#588\u001b\\\u001b[2m588\u001b[0m\u001b]8;;\u001b\\\n",
              "\u001b[2;36m                    \u001b[0m         \u001b[32m'/manim/colab_handouts_PSI/media/videos/colab_handouts_PSI/72\u001b[0m \u001b[2m                        \u001b[0m\n",
              "\u001b[2;36m                    \u001b[0m         \u001b[32m0p30/partial_movie_files/CircuitReliabilityChatGPT/543634251_\u001b[0m \u001b[2m                        \u001b[0m\n",
              "\u001b[2;36m                    \u001b[0m         \u001b[32m989479096_1293939721.mp4'\u001b[0m                                     \u001b[2m                        \u001b[0m\n"
            ]
          },
          "metadata": {},
          "output_type": "display_data"
        },
        {
          "data": {
            "text/html": [
              "<pre style=\"white-space:pre;overflow-x:auto;line-height:normal;font-family:Menlo,'DejaVu Sans Mono',consolas,'Courier New',monospace\"><span style=\"color: #7fbfbf; text-decoration-color: #7fbfbf\">                    </span><span style=\"color: #008000; text-decoration-color: #008000\">INFO    </span> <span style=\"color: #808000; text-decoration-color: #808000; font-weight: bold\">Writing</span> P\\<span style=\"font-weight: bold\">{</span>F\\cup H\\<span style=\"font-weight: bold\">}</span> = <span style=\"color: #008000; text-decoration-color: #008000\">1</span> - <span style=\"font-weight: bold\">(</span><span style=\"color: #008000; text-decoration-color: #008000\">1</span>-P_F<span style=\"font-weight: bold\">)(</span><span style=\"color: #008000; text-decoration-color: #008000\">1</span>-P_H<span style=\"font-weight: bold\">)</span> = <span style=\"color: #008000; text-decoration-color: #008000\">1</span> - <span style=\"font-weight: bold\">(</span><span style=\"color: #008000; text-decoration-color: #008000\">1</span> - <span style=\"color: #008000; text-decoration-color: #008000\">0.8464</span><span style=\"font-weight: bold\">)(</span><span style=\"color: #008000; text-decoration-color: #008000\">1</span> <a href=\"file:///usr/local/lib/python3.11/site-packages/manim/utils/tex_file_writing.py\" target=\"_blank\"><span style=\"color: #7f7f7f; text-decoration-color: #7f7f7f\">tex_file_writing.py</span></a><span style=\"color: #7f7f7f; text-decoration-color: #7f7f7f\">:</span><a href=\"file:///usr/local/lib/python3.11/site-packages/manim/utils/tex_file_writing.py#111\" target=\"_blank\"><span style=\"color: #7f7f7f; text-decoration-color: #7f7f7f\">111</span></a>\n",
              "<span style=\"color: #7fbfbf; text-decoration-color: #7fbfbf\">                    </span>         - <span style=\"color: #008000; text-decoration-color: #008000\">0.9141</span><span style=\"font-weight: bold\">)</span> = <span style=\"color: #008000; text-decoration-color: #008000\">0.9868</span> to media/Tex/c74745bc112a68c2.tex           <span style=\"color: #7f7f7f; text-decoration-color: #7f7f7f\">                       </span>\n",
              "</pre>\n"
            ],
            "text/plain": [
              "\u001b[2;36m                   \u001b[0m\u001b[2;36m \u001b[0m\u001b[32mINFO    \u001b[0m \u001b[1;33mWriting\u001b[0m P\\\u001b[1m{\u001b[0mF\\cup H\\\u001b[1m}\u001b[0m = \u001b[32m1\u001b[0m - \u001b[1m(\u001b[0m\u001b[32m1\u001b[0m-P_F\u001b[1m)\u001b[0m\u001b[1m(\u001b[0m\u001b[32m1\u001b[0m-P_H\u001b[1m)\u001b[0m = \u001b[32m1\u001b[0m - \u001b[1m(\u001b[0m\u001b[32m1\u001b[0m - \u001b[32m0.8464\u001b[0m\u001b[1m)\u001b[0m\u001b[1m(\u001b[0m\u001b[32m1\u001b[0m \u001b]8;id=998677;file:///usr/local/lib/python3.11/site-packages/manim/utils/tex_file_writing.py\u001b\\\u001b[2mtex_file_writing.py\u001b[0m\u001b]8;;\u001b\\\u001b[2m:\u001b[0m\u001b]8;id=186165;file:///usr/local/lib/python3.11/site-packages/manim/utils/tex_file_writing.py#111\u001b\\\u001b[2m111\u001b[0m\u001b]8;;\u001b\\\n",
              "\u001b[2;36m                    \u001b[0m         - \u001b[32m0.9141\u001b[0m\u001b[1m)\u001b[0m = \u001b[32m0.9868\u001b[0m to media/Tex/c74745bc112a68c2.tex           \u001b[2m                       \u001b[0m\n"
            ]
          },
          "metadata": {},
          "output_type": "display_data"
        },
        {
          "data": {
            "text/html": [
              "<pre style=\"white-space:pre;overflow-x:auto;line-height:normal;font-family:Menlo,'DejaVu Sans Mono',consolas,'Courier New',monospace\"><span style=\"color: #7fbfbf; text-decoration-color: #7fbfbf\">                    </span><span style=\"color: #008000; text-decoration-color: #008000\">INFO    </span> <span style=\"color: #808000; text-decoration-color: #808000; font-weight: bold\">Writing</span> P\\<span style=\"font-weight: bold\">{</span>F\\cup H\\<span style=\"font-weight: bold\">}</span> = <span style=\"color: #008000; text-decoration-color: #008000\">1</span> - <span style=\"font-weight: bold\">(</span><span style=\"color: #008000; text-decoration-color: #008000\">1</span>-P_F<span style=\"font-weight: bold\">)(</span><span style=\"color: #008000; text-decoration-color: #008000\">1</span>-P_H<span style=\"font-weight: bold\">)</span> = to                 <a href=\"file:///usr/local/lib/python3.11/site-packages/manim/utils/tex_file_writing.py\" target=\"_blank\"><span style=\"color: #7f7f7f; text-decoration-color: #7f7f7f\">tex_file_writing.py</span></a><span style=\"color: #7f7f7f; text-decoration-color: #7f7f7f\">:</span><a href=\"file:///usr/local/lib/python3.11/site-packages/manim/utils/tex_file_writing.py#111\" target=\"_blank\"><span style=\"color: #7f7f7f; text-decoration-color: #7f7f7f\">111</span></a>\n",
              "<span style=\"color: #7fbfbf; text-decoration-color: #7fbfbf\">                    </span>         media/Tex/582c242b72fb7556.tex                                 <span style=\"color: #7f7f7f; text-decoration-color: #7f7f7f\">                       </span>\n",
              "</pre>\n"
            ],
            "text/plain": [
              "\u001b[2;36m                   \u001b[0m\u001b[2;36m \u001b[0m\u001b[32mINFO    \u001b[0m \u001b[1;33mWriting\u001b[0m P\\\u001b[1m{\u001b[0mF\\cup H\\\u001b[1m}\u001b[0m = \u001b[32m1\u001b[0m - \u001b[1m(\u001b[0m\u001b[32m1\u001b[0m-P_F\u001b[1m)\u001b[0m\u001b[1m(\u001b[0m\u001b[32m1\u001b[0m-P_H\u001b[1m)\u001b[0m = to                 \u001b]8;id=503038;file:///usr/local/lib/python3.11/site-packages/manim/utils/tex_file_writing.py\u001b\\\u001b[2mtex_file_writing.py\u001b[0m\u001b]8;;\u001b\\\u001b[2m:\u001b[0m\u001b]8;id=627013;file:///usr/local/lib/python3.11/site-packages/manim/utils/tex_file_writing.py#111\u001b\\\u001b[2m111\u001b[0m\u001b]8;;\u001b\\\n",
              "\u001b[2;36m                    \u001b[0m         media/Tex/582c242b72fb7556.tex                                 \u001b[2m                       \u001b[0m\n"
            ]
          },
          "metadata": {},
          "output_type": "display_data"
        },
        {
          "data": {
            "text/html": [
              "<pre style=\"white-space:pre;overflow-x:auto;line-height:normal;font-family:Menlo,'DejaVu Sans Mono',consolas,'Courier New',monospace\"><span style=\"color: #7fbfbf; text-decoration-color: #7fbfbf\">[10/07/25 12:07:17] </span><span style=\"color: #008000; text-decoration-color: #008000\">INFO    </span> <span style=\"color: #808000; text-decoration-color: #808000; font-weight: bold\">Writing</span> <span style=\"color: #008000; text-decoration-color: #008000\">1</span> - <span style=\"font-weight: bold\">(</span><span style=\"color: #008000; text-decoration-color: #008000\">1</span> - <span style=\"color: #008000; text-decoration-color: #008000\">0.8464</span><span style=\"font-weight: bold\">)(</span><span style=\"color: #008000; text-decoration-color: #008000\">1</span> - <span style=\"color: #008000; text-decoration-color: #008000\">0.9141</span><span style=\"font-weight: bold\">)</span> = to                      <a href=\"file:///usr/local/lib/python3.11/site-packages/manim/utils/tex_file_writing.py\" target=\"_blank\"><span style=\"color: #7f7f7f; text-decoration-color: #7f7f7f\">tex_file_writing.py</span></a><span style=\"color: #7f7f7f; text-decoration-color: #7f7f7f\">:</span><a href=\"file:///usr/local/lib/python3.11/site-packages/manim/utils/tex_file_writing.py#111\" target=\"_blank\"><span style=\"color: #7f7f7f; text-decoration-color: #7f7f7f\">111</span></a>\n",
              "<span style=\"color: #7fbfbf; text-decoration-color: #7fbfbf\">                    </span>         media/Tex/d43bd7d17e299d31.tex                                 <span style=\"color: #7f7f7f; text-decoration-color: #7f7f7f\">                       </span>\n",
              "</pre>\n"
            ],
            "text/plain": [
              "\u001b[2;36m[10/07/25 12:07:17]\u001b[0m\u001b[2;36m \u001b[0m\u001b[32mINFO    \u001b[0m \u001b[1;33mWriting\u001b[0m \u001b[32m1\u001b[0m - \u001b[1m(\u001b[0m\u001b[32m1\u001b[0m - \u001b[32m0.8464\u001b[0m\u001b[1m)\u001b[0m\u001b[1m(\u001b[0m\u001b[32m1\u001b[0m - \u001b[32m0.9141\u001b[0m\u001b[1m)\u001b[0m = to                      \u001b]8;id=438292;file:///usr/local/lib/python3.11/site-packages/manim/utils/tex_file_writing.py\u001b\\\u001b[2mtex_file_writing.py\u001b[0m\u001b]8;;\u001b\\\u001b[2m:\u001b[0m\u001b]8;id=927770;file:///usr/local/lib/python3.11/site-packages/manim/utils/tex_file_writing.py#111\u001b\\\u001b[2m111\u001b[0m\u001b]8;;\u001b\\\n",
              "\u001b[2;36m                    \u001b[0m         media/Tex/d43bd7d17e299d31.tex                                 \u001b[2m                       \u001b[0m\n"
            ]
          },
          "metadata": {},
          "output_type": "display_data"
        },
        {
          "data": {
            "text/html": [
              "<pre style=\"white-space:pre;overflow-x:auto;line-height:normal;font-family:Menlo,'DejaVu Sans Mono',consolas,'Courier New',monospace\"><span style=\"color: #7fbfbf; text-decoration-color: #7fbfbf\">[10/07/25 12:07:18] </span><span style=\"color: #008000; text-decoration-color: #008000\">INFO    </span> <span style=\"color: #808000; text-decoration-color: #808000; font-weight: bold\">Writing</span> <span style=\"color: #008000; text-decoration-color: #008000\">0.9868</span> to media/Tex/45a33a90d5cb7856.tex               <a href=\"file:///usr/local/lib/python3.11/site-packages/manim/utils/tex_file_writing.py\" target=\"_blank\"><span style=\"color: #7f7f7f; text-decoration-color: #7f7f7f\">tex_file_writing.py</span></a><span style=\"color: #7f7f7f; text-decoration-color: #7f7f7f\">:</span><a href=\"file:///usr/local/lib/python3.11/site-packages/manim/utils/tex_file_writing.py#111\" target=\"_blank\"><span style=\"color: #7f7f7f; text-decoration-color: #7f7f7f\">111</span></a>\n",
              "</pre>\n"
            ],
            "text/plain": [
              "\u001b[2;36m[10/07/25 12:07:18]\u001b[0m\u001b[2;36m \u001b[0m\u001b[32mINFO    \u001b[0m \u001b[1;33mWriting\u001b[0m \u001b[32m0.9868\u001b[0m to media/Tex/45a33a90d5cb7856.tex               \u001b]8;id=106317;file:///usr/local/lib/python3.11/site-packages/manim/utils/tex_file_writing.py\u001b\\\u001b[2mtex_file_writing.py\u001b[0m\u001b]8;;\u001b\\\u001b[2m:\u001b[0m\u001b]8;id=474576;file:///usr/local/lib/python3.11/site-packages/manim/utils/tex_file_writing.py#111\u001b\\\u001b[2m111\u001b[0m\u001b]8;;\u001b\\\n"
            ]
          },
          "metadata": {},
          "output_type": "display_data"
        },
        {
          "name": "stderr",
          "output_type": "stream",
          "text": [
            "                                                                                                                                                             \r"
          ]
        },
        {
          "data": {
            "text/html": [
              "<pre style=\"white-space:pre;overflow-x:auto;line-height:normal;font-family:Menlo,'DejaVu Sans Mono',consolas,'Courier New',monospace\"><span style=\"color: #7fbfbf; text-decoration-color: #7fbfbf\">[10/07/25 12:07:20] </span><span style=\"color: #008000; text-decoration-color: #008000\">INFO    </span> Animation <span style=\"color: #008000; text-decoration-color: #008000\">23</span> : Partial movie file written in                  <a href=\"file:///usr/local/lib/python3.11/site-packages/manim/scene/scene_file_writer.py\" target=\"_blank\"><span style=\"color: #7f7f7f; text-decoration-color: #7f7f7f\">scene_file_writer.py</span></a><span style=\"color: #7f7f7f; text-decoration-color: #7f7f7f\">:</span><a href=\"file:///usr/local/lib/python3.11/site-packages/manim/scene/scene_file_writer.py#588\" target=\"_blank\"><span style=\"color: #7f7f7f; text-decoration-color: #7f7f7f\">588</span></a>\n",
              "<span style=\"color: #7fbfbf; text-decoration-color: #7fbfbf\">                    </span>         <span style=\"color: #008000; text-decoration-color: #008000\">'/manim/colab_handouts_PSI/media/videos/colab_handouts_PSI/72</span> <span style=\"color: #7f7f7f; text-decoration-color: #7f7f7f\">                        </span>\n",
              "<span style=\"color: #7fbfbf; text-decoration-color: #7fbfbf\">                    </span>         <span style=\"color: #008000; text-decoration-color: #008000\">0p30/partial_movie_files/CircuitReliabilityChatGPT/543634251_</span> <span style=\"color: #7f7f7f; text-decoration-color: #7f7f7f\">                        </span>\n",
              "<span style=\"color: #7fbfbf; text-decoration-color: #7fbfbf\">                    </span>         <span style=\"color: #008000; text-decoration-color: #008000\">1821904887_3569425672.mp4'</span>                                    <span style=\"color: #7f7f7f; text-decoration-color: #7f7f7f\">                        </span>\n",
              "</pre>\n"
            ],
            "text/plain": [
              "\u001b[2;36m[10/07/25 12:07:20]\u001b[0m\u001b[2;36m \u001b[0m\u001b[32mINFO    \u001b[0m Animation \u001b[32m23\u001b[0m : Partial movie file written in                  \u001b]8;id=36023;file:///usr/local/lib/python3.11/site-packages/manim/scene/scene_file_writer.py\u001b\\\u001b[2mscene_file_writer.py\u001b[0m\u001b]8;;\u001b\\\u001b[2m:\u001b[0m\u001b]8;id=701664;file:///usr/local/lib/python3.11/site-packages/manim/scene/scene_file_writer.py#588\u001b\\\u001b[2m588\u001b[0m\u001b]8;;\u001b\\\n",
              "\u001b[2;36m                    \u001b[0m         \u001b[32m'/manim/colab_handouts_PSI/media/videos/colab_handouts_PSI/72\u001b[0m \u001b[2m                        \u001b[0m\n",
              "\u001b[2;36m                    \u001b[0m         \u001b[32m0p30/partial_movie_files/CircuitReliabilityChatGPT/543634251_\u001b[0m \u001b[2m                        \u001b[0m\n",
              "\u001b[2;36m                    \u001b[0m         \u001b[32m1821904887_3569425672.mp4'\u001b[0m                                    \u001b[2m                        \u001b[0m\n"
            ]
          },
          "metadata": {},
          "output_type": "display_data"
        },
        {
          "data": {
            "text/html": [
              "<pre style=\"white-space:pre;overflow-x:auto;line-height:normal;font-family:Menlo,'DejaVu Sans Mono',consolas,'Courier New',monospace\"><span style=\"color: #7fbfbf; text-decoration-color: #7fbfbf\">[10/07/25 12:07:21] </span><span style=\"color: #008000; text-decoration-color: #008000\">INFO    </span> Animation <span style=\"color: #008000; text-decoration-color: #008000\">24</span> : Partial movie file written in                  <a href=\"file:///usr/local/lib/python3.11/site-packages/manim/scene/scene_file_writer.py\" target=\"_blank\"><span style=\"color: #7f7f7f; text-decoration-color: #7f7f7f\">scene_file_writer.py</span></a><span style=\"color: #7f7f7f; text-decoration-color: #7f7f7f\">:</span><a href=\"file:///usr/local/lib/python3.11/site-packages/manim/scene/scene_file_writer.py#588\" target=\"_blank\"><span style=\"color: #7f7f7f; text-decoration-color: #7f7f7f\">588</span></a>\n",
              "<span style=\"color: #7fbfbf; text-decoration-color: #7fbfbf\">                    </span>         <span style=\"color: #008000; text-decoration-color: #008000\">'/manim/colab_handouts_PSI/media/videos/colab_handouts_PSI/72</span> <span style=\"color: #7f7f7f; text-decoration-color: #7f7f7f\">                        </span>\n",
              "<span style=\"color: #7fbfbf; text-decoration-color: #7fbfbf\">                    </span>         <span style=\"color: #008000; text-decoration-color: #008000\">0p30/partial_movie_files/CircuitReliabilityChatGPT/543634251_</span> <span style=\"color: #7f7f7f; text-decoration-color: #7f7f7f\">                        </span>\n",
              "<span style=\"color: #7fbfbf; text-decoration-color: #7fbfbf\">                    </span>         <span style=\"color: #008000; text-decoration-color: #008000\">3932249147_354398187.mp4'</span>                                     <span style=\"color: #7f7f7f; text-decoration-color: #7f7f7f\">                        </span>\n",
              "</pre>\n"
            ],
            "text/plain": [
              "\u001b[2;36m[10/07/25 12:07:21]\u001b[0m\u001b[2;36m \u001b[0m\u001b[32mINFO    \u001b[0m Animation \u001b[32m24\u001b[0m : Partial movie file written in                  \u001b]8;id=705590;file:///usr/local/lib/python3.11/site-packages/manim/scene/scene_file_writer.py\u001b\\\u001b[2mscene_file_writer.py\u001b[0m\u001b]8;;\u001b\\\u001b[2m:\u001b[0m\u001b]8;id=371292;file:///usr/local/lib/python3.11/site-packages/manim/scene/scene_file_writer.py#588\u001b\\\u001b[2m588\u001b[0m\u001b]8;;\u001b\\\n",
              "\u001b[2;36m                    \u001b[0m         \u001b[32m'/manim/colab_handouts_PSI/media/videos/colab_handouts_PSI/72\u001b[0m \u001b[2m                        \u001b[0m\n",
              "\u001b[2;36m                    \u001b[0m         \u001b[32m0p30/partial_movie_files/CircuitReliabilityChatGPT/543634251_\u001b[0m \u001b[2m                        \u001b[0m\n",
              "\u001b[2;36m                    \u001b[0m         \u001b[32m3932249147_354398187.mp4'\u001b[0m                                     \u001b[2m                        \u001b[0m\n"
            ]
          },
          "metadata": {},
          "output_type": "display_data"
        },
        {
          "name": "stderr",
          "output_type": "stream",
          "text": [
            "                                                                                            \r"
          ]
        },
        {
          "data": {
            "text/html": [
              "<pre style=\"white-space:pre;overflow-x:auto;line-height:normal;font-family:Menlo,'DejaVu Sans Mono',consolas,'Courier New',monospace\"><span style=\"color: #7fbfbf; text-decoration-color: #7fbfbf\">[10/07/25 12:07:22] </span><span style=\"color: #008000; text-decoration-color: #008000\">INFO    </span> Animation <span style=\"color: #008000; text-decoration-color: #008000\">25</span> : Partial movie file written in                  <a href=\"file:///usr/local/lib/python3.11/site-packages/manim/scene/scene_file_writer.py\" target=\"_blank\"><span style=\"color: #7f7f7f; text-decoration-color: #7f7f7f\">scene_file_writer.py</span></a><span style=\"color: #7f7f7f; text-decoration-color: #7f7f7f\">:</span><a href=\"file:///usr/local/lib/python3.11/site-packages/manim/scene/scene_file_writer.py#588\" target=\"_blank\"><span style=\"color: #7f7f7f; text-decoration-color: #7f7f7f\">588</span></a>\n",
              "<span style=\"color: #7fbfbf; text-decoration-color: #7fbfbf\">                    </span>         <span style=\"color: #008000; text-decoration-color: #008000\">'/manim/colab_handouts_PSI/media/videos/colab_handouts_PSI/72</span> <span style=\"color: #7f7f7f; text-decoration-color: #7f7f7f\">                        </span>\n",
              "<span style=\"color: #7fbfbf; text-decoration-color: #7fbfbf\">                    </span>         <span style=\"color: #008000; text-decoration-color: #008000\">0p30/partial_movie_files/CircuitReliabilityChatGPT/543634251_</span> <span style=\"color: #7f7f7f; text-decoration-color: #7f7f7f\">                        </span>\n",
              "<span style=\"color: #7fbfbf; text-decoration-color: #7fbfbf\">                    </span>         <span style=\"color: #008000; text-decoration-color: #008000\">820307567_3693656919.mp4'</span>                                     <span style=\"color: #7f7f7f; text-decoration-color: #7f7f7f\">                        </span>\n",
              "</pre>\n"
            ],
            "text/plain": [
              "\u001b[2;36m[10/07/25 12:07:22]\u001b[0m\u001b[2;36m \u001b[0m\u001b[32mINFO    \u001b[0m Animation \u001b[32m25\u001b[0m : Partial movie file written in                  \u001b]8;id=223383;file:///usr/local/lib/python3.11/site-packages/manim/scene/scene_file_writer.py\u001b\\\u001b[2mscene_file_writer.py\u001b[0m\u001b]8;;\u001b\\\u001b[2m:\u001b[0m\u001b]8;id=800258;file:///usr/local/lib/python3.11/site-packages/manim/scene/scene_file_writer.py#588\u001b\\\u001b[2m588\u001b[0m\u001b]8;;\u001b\\\n",
              "\u001b[2;36m                    \u001b[0m         \u001b[32m'/manim/colab_handouts_PSI/media/videos/colab_handouts_PSI/72\u001b[0m \u001b[2m                        \u001b[0m\n",
              "\u001b[2;36m                    \u001b[0m         \u001b[32m0p30/partial_movie_files/CircuitReliabilityChatGPT/543634251_\u001b[0m \u001b[2m                        \u001b[0m\n",
              "\u001b[2;36m                    \u001b[0m         \u001b[32m820307567_3693656919.mp4'\u001b[0m                                     \u001b[2m                        \u001b[0m\n"
            ]
          },
          "metadata": {},
          "output_type": "display_data"
        },
        {
          "data": {
            "text/html": [
              "<pre style=\"white-space:pre;overflow-x:auto;line-height:normal;font-family:Menlo,'DejaVu Sans Mono',consolas,'Courier New',monospace\"><span style=\"color: #7fbfbf; text-decoration-color: #7fbfbf\">[10/07/25 12:07:23] </span><span style=\"color: #008000; text-decoration-color: #008000\">INFO    </span> Animation <span style=\"color: #008000; text-decoration-color: #008000\">26</span> : Partial movie file written in                  <a href=\"file:///usr/local/lib/python3.11/site-packages/manim/scene/scene_file_writer.py\" target=\"_blank\"><span style=\"color: #7f7f7f; text-decoration-color: #7f7f7f\">scene_file_writer.py</span></a><span style=\"color: #7f7f7f; text-decoration-color: #7f7f7f\">:</span><a href=\"file:///usr/local/lib/python3.11/site-packages/manim/scene/scene_file_writer.py#588\" target=\"_blank\"><span style=\"color: #7f7f7f; text-decoration-color: #7f7f7f\">588</span></a>\n",
              "<span style=\"color: #7fbfbf; text-decoration-color: #7fbfbf\">                    </span>         <span style=\"color: #008000; text-decoration-color: #008000\">'/manim/colab_handouts_PSI/media/videos/colab_handouts_PSI/72</span> <span style=\"color: #7f7f7f; text-decoration-color: #7f7f7f\">                        </span>\n",
              "<span style=\"color: #7fbfbf; text-decoration-color: #7fbfbf\">                    </span>         <span style=\"color: #008000; text-decoration-color: #008000\">0p30/partial_movie_files/CircuitReliabilityChatGPT/543634251_</span> <span style=\"color: #7f7f7f; text-decoration-color: #7f7f7f\">                        </span>\n",
              "<span style=\"color: #7fbfbf; text-decoration-color: #7fbfbf\">                    </span>         <span style=\"color: #008000; text-decoration-color: #008000\">2536175139_1728992194.mp4'</span>                                    <span style=\"color: #7f7f7f; text-decoration-color: #7f7f7f\">                        </span>\n",
              "</pre>\n"
            ],
            "text/plain": [
              "\u001b[2;36m[10/07/25 12:07:23]\u001b[0m\u001b[2;36m \u001b[0m\u001b[32mINFO    \u001b[0m Animation \u001b[32m26\u001b[0m : Partial movie file written in                  \u001b]8;id=560016;file:///usr/local/lib/python3.11/site-packages/manim/scene/scene_file_writer.py\u001b\\\u001b[2mscene_file_writer.py\u001b[0m\u001b]8;;\u001b\\\u001b[2m:\u001b[0m\u001b]8;id=844276;file:///usr/local/lib/python3.11/site-packages/manim/scene/scene_file_writer.py#588\u001b\\\u001b[2m588\u001b[0m\u001b]8;;\u001b\\\n",
              "\u001b[2;36m                    \u001b[0m         \u001b[32m'/manim/colab_handouts_PSI/media/videos/colab_handouts_PSI/72\u001b[0m \u001b[2m                        \u001b[0m\n",
              "\u001b[2;36m                    \u001b[0m         \u001b[32m0p30/partial_movie_files/CircuitReliabilityChatGPT/543634251_\u001b[0m \u001b[2m                        \u001b[0m\n",
              "\u001b[2;36m                    \u001b[0m         \u001b[32m2536175139_1728992194.mp4'\u001b[0m                                    \u001b[2m                        \u001b[0m\n"
            ]
          },
          "metadata": {},
          "output_type": "display_data"
        },
        {
          "data": {
            "text/html": [
              "<pre style=\"white-space:pre;overflow-x:auto;line-height:normal;font-family:Menlo,'DejaVu Sans Mono',consolas,'Courier New',monospace\"><span style=\"color: #7fbfbf; text-decoration-color: #7fbfbf\">                    </span><span style=\"color: #008000; text-decoration-color: #008000\">INFO    </span> <span style=\"color: #808000; text-decoration-color: #808000; font-weight: bold\">Writing</span> <span style=\"color: #800080; text-decoration-color: #800080; font-weight: bold\">P</span><span style=\"font-weight: bold\">(</span>\\text<span style=\"font-weight: bold\">{</span>Sistema operativo<span style=\"font-weight: bold\">})</span> = <span style=\"color: #008000; text-decoration-color: #008000\">0.9868</span> to                <a href=\"file:///usr/local/lib/python3.11/site-packages/manim/utils/tex_file_writing.py\" target=\"_blank\"><span style=\"color: #7f7f7f; text-decoration-color: #7f7f7f\">tex_file_writing.py</span></a><span style=\"color: #7f7f7f; text-decoration-color: #7f7f7f\">:</span><a href=\"file:///usr/local/lib/python3.11/site-packages/manim/utils/tex_file_writing.py#111\" target=\"_blank\"><span style=\"color: #7f7f7f; text-decoration-color: #7f7f7f\">111</span></a>\n",
              "<span style=\"color: #7fbfbf; text-decoration-color: #7fbfbf\">                    </span>         media/Tex/af9da2d17a997dc8.tex                                 <span style=\"color: #7f7f7f; text-decoration-color: #7f7f7f\">                       </span>\n",
              "</pre>\n"
            ],
            "text/plain": [
              "\u001b[2;36m                   \u001b[0m\u001b[2;36m \u001b[0m\u001b[32mINFO    \u001b[0m \u001b[1;33mWriting\u001b[0m \u001b[1;35mP\u001b[0m\u001b[1m(\u001b[0m\\text\u001b[1m{\u001b[0mSistema operativo\u001b[1m}\u001b[0m\u001b[1m)\u001b[0m = \u001b[32m0.9868\u001b[0m to                \u001b]8;id=747741;file:///usr/local/lib/python3.11/site-packages/manim/utils/tex_file_writing.py\u001b\\\u001b[2mtex_file_writing.py\u001b[0m\u001b]8;;\u001b\\\u001b[2m:\u001b[0m\u001b]8;id=635176;file:///usr/local/lib/python3.11/site-packages/manim/utils/tex_file_writing.py#111\u001b\\\u001b[2m111\u001b[0m\u001b]8;;\u001b\\\n",
              "\u001b[2;36m                    \u001b[0m         media/Tex/af9da2d17a997dc8.tex                                 \u001b[2m                       \u001b[0m\n"
            ]
          },
          "metadata": {},
          "output_type": "display_data"
        },
        {
          "data": {
            "text/html": [
              "<pre style=\"white-space:pre;overflow-x:auto;line-height:normal;font-family:Menlo,'DejaVu Sans Mono',consolas,'Courier New',monospace\"><span style=\"color: #7fbfbf; text-decoration-color: #7fbfbf\">[10/07/25 12:07:24] </span><span style=\"color: #008000; text-decoration-color: #008000\">INFO    </span> <span style=\"color: #808000; text-decoration-color: #808000; font-weight: bold\">Writing</span> <span style=\"color: #800080; text-decoration-color: #800080; font-weight: bold\">P</span><span style=\"font-weight: bold\">(</span>\\text<span style=\"font-weight: bold\">{</span>Sistema operativo<span style=\"font-weight: bold\">})</span> = to                       <a href=\"file:///usr/local/lib/python3.11/site-packages/manim/utils/tex_file_writing.py\" target=\"_blank\"><span style=\"color: #7f7f7f; text-decoration-color: #7f7f7f\">tex_file_writing.py</span></a><span style=\"color: #7f7f7f; text-decoration-color: #7f7f7f\">:</span><a href=\"file:///usr/local/lib/python3.11/site-packages/manim/utils/tex_file_writing.py#111\" target=\"_blank\"><span style=\"color: #7f7f7f; text-decoration-color: #7f7f7f\">111</span></a>\n",
              "<span style=\"color: #7fbfbf; text-decoration-color: #7fbfbf\">                    </span>         media/Tex/daf73c54dad7bf0f.tex                                 <span style=\"color: #7f7f7f; text-decoration-color: #7f7f7f\">                       </span>\n",
              "</pre>\n"
            ],
            "text/plain": [
              "\u001b[2;36m[10/07/25 12:07:24]\u001b[0m\u001b[2;36m \u001b[0m\u001b[32mINFO    \u001b[0m \u001b[1;33mWriting\u001b[0m \u001b[1;35mP\u001b[0m\u001b[1m(\u001b[0m\\text\u001b[1m{\u001b[0mSistema operativo\u001b[1m}\u001b[0m\u001b[1m)\u001b[0m = to                       \u001b]8;id=496490;file:///usr/local/lib/python3.11/site-packages/manim/utils/tex_file_writing.py\u001b\\\u001b[2mtex_file_writing.py\u001b[0m\u001b]8;;\u001b\\\u001b[2m:\u001b[0m\u001b]8;id=905083;file:///usr/local/lib/python3.11/site-packages/manim/utils/tex_file_writing.py#111\u001b\\\u001b[2m111\u001b[0m\u001b]8;;\u001b\\\n",
              "\u001b[2;36m                    \u001b[0m         media/Tex/daf73c54dad7bf0f.tex                                 \u001b[2m                       \u001b[0m\n"
            ]
          },
          "metadata": {},
          "output_type": "display_data"
        },
        {
          "name": "stderr",
          "output_type": "stream",
          "text": [
            "                                                                                                                      \r"
          ]
        },
        {
          "data": {
            "text/html": [
              "<pre style=\"white-space:pre;overflow-x:auto;line-height:normal;font-family:Menlo,'DejaVu Sans Mono',consolas,'Courier New',monospace\"><span style=\"color: #7fbfbf; text-decoration-color: #7fbfbf\">[10/07/25 12:07:26] </span><span style=\"color: #008000; text-decoration-color: #008000\">INFO    </span> Animation <span style=\"color: #008000; text-decoration-color: #008000\">27</span> : Partial movie file written in                  <a href=\"file:///usr/local/lib/python3.11/site-packages/manim/scene/scene_file_writer.py\" target=\"_blank\"><span style=\"color: #7f7f7f; text-decoration-color: #7f7f7f\">scene_file_writer.py</span></a><span style=\"color: #7f7f7f; text-decoration-color: #7f7f7f\">:</span><a href=\"file:///usr/local/lib/python3.11/site-packages/manim/scene/scene_file_writer.py#588\" target=\"_blank\"><span style=\"color: #7f7f7f; text-decoration-color: #7f7f7f\">588</span></a>\n",
              "<span style=\"color: #7fbfbf; text-decoration-color: #7fbfbf\">                    </span>         <span style=\"color: #008000; text-decoration-color: #008000\">'/manim/colab_handouts_PSI/media/videos/colab_handouts_PSI/72</span> <span style=\"color: #7f7f7f; text-decoration-color: #7f7f7f\">                        </span>\n",
              "<span style=\"color: #7fbfbf; text-decoration-color: #7fbfbf\">                    </span>         <span style=\"color: #008000; text-decoration-color: #008000\">0p30/partial_movie_files/CircuitReliabilityChatGPT/543634251_</span> <span style=\"color: #7f7f7f; text-decoration-color: #7f7f7f\">                        </span>\n",
              "<span style=\"color: #7fbfbf; text-decoration-color: #7fbfbf\">                    </span>         <span style=\"color: #008000; text-decoration-color: #008000\">3034197394_697571342.mp4'</span>                                     <span style=\"color: #7f7f7f; text-decoration-color: #7f7f7f\">                        </span>\n",
              "</pre>\n"
            ],
            "text/plain": [
              "\u001b[2;36m[10/07/25 12:07:26]\u001b[0m\u001b[2;36m \u001b[0m\u001b[32mINFO    \u001b[0m Animation \u001b[32m27\u001b[0m : Partial movie file written in                  \u001b]8;id=101024;file:///usr/local/lib/python3.11/site-packages/manim/scene/scene_file_writer.py\u001b\\\u001b[2mscene_file_writer.py\u001b[0m\u001b]8;;\u001b\\\u001b[2m:\u001b[0m\u001b]8;id=426154;file:///usr/local/lib/python3.11/site-packages/manim/scene/scene_file_writer.py#588\u001b\\\u001b[2m588\u001b[0m\u001b]8;;\u001b\\\n",
              "\u001b[2;36m                    \u001b[0m         \u001b[32m'/manim/colab_handouts_PSI/media/videos/colab_handouts_PSI/72\u001b[0m \u001b[2m                        \u001b[0m\n",
              "\u001b[2;36m                    \u001b[0m         \u001b[32m0p30/partial_movie_files/CircuitReliabilityChatGPT/543634251_\u001b[0m \u001b[2m                        \u001b[0m\n",
              "\u001b[2;36m                    \u001b[0m         \u001b[32m3034197394_697571342.mp4'\u001b[0m                                     \u001b[2m                        \u001b[0m\n"
            ]
          },
          "metadata": {},
          "output_type": "display_data"
        },
        {
          "data": {
            "text/html": [
              "<pre style=\"white-space:pre;overflow-x:auto;line-height:normal;font-family:Menlo,'DejaVu Sans Mono',consolas,'Courier New',monospace\"><span style=\"color: #7fbfbf; text-decoration-color: #7fbfbf\">[10/07/25 12:07:28] </span><span style=\"color: #008000; text-decoration-color: #008000\">INFO    </span> Animation <span style=\"color: #008000; text-decoration-color: #008000\">28</span> : Partial movie file written in                  <a href=\"file:///usr/local/lib/python3.11/site-packages/manim/scene/scene_file_writer.py\" target=\"_blank\"><span style=\"color: #7f7f7f; text-decoration-color: #7f7f7f\">scene_file_writer.py</span></a><span style=\"color: #7f7f7f; text-decoration-color: #7f7f7f\">:</span><a href=\"file:///usr/local/lib/python3.11/site-packages/manim/scene/scene_file_writer.py#588\" target=\"_blank\"><span style=\"color: #7f7f7f; text-decoration-color: #7f7f7f\">588</span></a>\n",
              "<span style=\"color: #7fbfbf; text-decoration-color: #7fbfbf\">                    </span>         <span style=\"color: #008000; text-decoration-color: #008000\">'/manim/colab_handouts_PSI/media/videos/colab_handouts_PSI/72</span> <span style=\"color: #7f7f7f; text-decoration-color: #7f7f7f\">                        </span>\n",
              "<span style=\"color: #7fbfbf; text-decoration-color: #7fbfbf\">                    </span>         <span style=\"color: #008000; text-decoration-color: #008000\">0p30/partial_movie_files/CircuitReliabilityChatGPT/543634251_</span> <span style=\"color: #7f7f7f; text-decoration-color: #7f7f7f\">                        </span>\n",
              "<span style=\"color: #7fbfbf; text-decoration-color: #7fbfbf\">                    </span>         <span style=\"color: #008000; text-decoration-color: #008000\">2844360058_2645853617.mp4'</span>                                    <span style=\"color: #7f7f7f; text-decoration-color: #7f7f7f\">                        </span>\n",
              "</pre>\n"
            ],
            "text/plain": [
              "\u001b[2;36m[10/07/25 12:07:28]\u001b[0m\u001b[2;36m \u001b[0m\u001b[32mINFO    \u001b[0m Animation \u001b[32m28\u001b[0m : Partial movie file written in                  \u001b]8;id=255571;file:///usr/local/lib/python3.11/site-packages/manim/scene/scene_file_writer.py\u001b\\\u001b[2mscene_file_writer.py\u001b[0m\u001b]8;;\u001b\\\u001b[2m:\u001b[0m\u001b]8;id=866989;file:///usr/local/lib/python3.11/site-packages/manim/scene/scene_file_writer.py#588\u001b\\\u001b[2m588\u001b[0m\u001b]8;;\u001b\\\n",
              "\u001b[2;36m                    \u001b[0m         \u001b[32m'/manim/colab_handouts_PSI/media/videos/colab_handouts_PSI/72\u001b[0m \u001b[2m                        \u001b[0m\n",
              "\u001b[2;36m                    \u001b[0m         \u001b[32m0p30/partial_movie_files/CircuitReliabilityChatGPT/543634251_\u001b[0m \u001b[2m                        \u001b[0m\n",
              "\u001b[2;36m                    \u001b[0m         \u001b[32m2844360058_2645853617.mp4'\u001b[0m                                    \u001b[2m                        \u001b[0m\n"
            ]
          },
          "metadata": {},
          "output_type": "display_data"
        },
        {
          "name": "stderr",
          "output_type": "stream",
          "text": [
            "                                                                                               \r"
          ]
        },
        {
          "data": {
            "text/html": [
              "<pre style=\"white-space:pre;overflow-x:auto;line-height:normal;font-family:Menlo,'DejaVu Sans Mono',consolas,'Courier New',monospace\"><span style=\"color: #7fbfbf; text-decoration-color: #7fbfbf\">[10/07/25 12:07:30] </span><span style=\"color: #008000; text-decoration-color: #008000\">INFO    </span> Animation <span style=\"color: #008000; text-decoration-color: #008000\">29</span> : Partial movie file written in                  <a href=\"file:///usr/local/lib/python3.11/site-packages/manim/scene/scene_file_writer.py\" target=\"_blank\"><span style=\"color: #7f7f7f; text-decoration-color: #7f7f7f\">scene_file_writer.py</span></a><span style=\"color: #7f7f7f; text-decoration-color: #7f7f7f\">:</span><a href=\"file:///usr/local/lib/python3.11/site-packages/manim/scene/scene_file_writer.py#588\" target=\"_blank\"><span style=\"color: #7f7f7f; text-decoration-color: #7f7f7f\">588</span></a>\n",
              "<span style=\"color: #7fbfbf; text-decoration-color: #7fbfbf\">                    </span>         <span style=\"color: #008000; text-decoration-color: #008000\">'/manim/colab_handouts_PSI/media/videos/colab_handouts_PSI/72</span> <span style=\"color: #7f7f7f; text-decoration-color: #7f7f7f\">                        </span>\n",
              "<span style=\"color: #7fbfbf; text-decoration-color: #7fbfbf\">                    </span>         <span style=\"color: #008000; text-decoration-color: #008000\">0p30/partial_movie_files/CircuitReliabilityChatGPT/543634251_</span> <span style=\"color: #7f7f7f; text-decoration-color: #7f7f7f\">                        </span>\n",
              "<span style=\"color: #7fbfbf; text-decoration-color: #7fbfbf\">                    </span>         <span style=\"color: #008000; text-decoration-color: #008000\">2773850080_433062925.mp4'</span>                                     <span style=\"color: #7f7f7f; text-decoration-color: #7f7f7f\">                        </span>\n",
              "</pre>\n"
            ],
            "text/plain": [
              "\u001b[2;36m[10/07/25 12:07:30]\u001b[0m\u001b[2;36m \u001b[0m\u001b[32mINFO    \u001b[0m Animation \u001b[32m29\u001b[0m : Partial movie file written in                  \u001b]8;id=51639;file:///usr/local/lib/python3.11/site-packages/manim/scene/scene_file_writer.py\u001b\\\u001b[2mscene_file_writer.py\u001b[0m\u001b]8;;\u001b\\\u001b[2m:\u001b[0m\u001b]8;id=122958;file:///usr/local/lib/python3.11/site-packages/manim/scene/scene_file_writer.py#588\u001b\\\u001b[2m588\u001b[0m\u001b]8;;\u001b\\\n",
              "\u001b[2;36m                    \u001b[0m         \u001b[32m'/manim/colab_handouts_PSI/media/videos/colab_handouts_PSI/72\u001b[0m \u001b[2m                        \u001b[0m\n",
              "\u001b[2;36m                    \u001b[0m         \u001b[32m0p30/partial_movie_files/CircuitReliabilityChatGPT/543634251_\u001b[0m \u001b[2m                        \u001b[0m\n",
              "\u001b[2;36m                    \u001b[0m         \u001b[32m2773850080_433062925.mp4'\u001b[0m                                     \u001b[2m                        \u001b[0m\n"
            ]
          },
          "metadata": {},
          "output_type": "display_data"
        },
        {
          "data": {
            "text/html": [
              "<pre style=\"white-space:pre;overflow-x:auto;line-height:normal;font-family:Menlo,'DejaVu Sans Mono',consolas,'Courier New',monospace\"><span style=\"color: #7fbfbf; text-decoration-color: #7fbfbf\">[10/07/25 12:07:31] </span><span style=\"color: #008000; text-decoration-color: #008000\">INFO    </span> Animation <span style=\"color: #008000; text-decoration-color: #008000\">30</span> : Partial movie file written in                  <a href=\"file:///usr/local/lib/python3.11/site-packages/manim/scene/scene_file_writer.py\" target=\"_blank\"><span style=\"color: #7f7f7f; text-decoration-color: #7f7f7f\">scene_file_writer.py</span></a><span style=\"color: #7f7f7f; text-decoration-color: #7f7f7f\">:</span><a href=\"file:///usr/local/lib/python3.11/site-packages/manim/scene/scene_file_writer.py#588\" target=\"_blank\"><span style=\"color: #7f7f7f; text-decoration-color: #7f7f7f\">588</span></a>\n",
              "<span style=\"color: #7fbfbf; text-decoration-color: #7fbfbf\">                    </span>         <span style=\"color: #008000; text-decoration-color: #008000\">'/manim/colab_handouts_PSI/media/videos/colab_handouts_PSI/72</span> <span style=\"color: #7f7f7f; text-decoration-color: #7f7f7f\">                        </span>\n",
              "<span style=\"color: #7fbfbf; text-decoration-color: #7fbfbf\">                    </span>         <span style=\"color: #008000; text-decoration-color: #008000\">0p30/partial_movie_files/CircuitReliabilityChatGPT/543634251_</span> <span style=\"color: #7f7f7f; text-decoration-color: #7f7f7f\">                        </span>\n",
              "<span style=\"color: #7fbfbf; text-decoration-color: #7fbfbf\">                    </span>         <span style=\"color: #008000; text-decoration-color: #008000\">3932249147_2353104759.mp4'</span>                                    <span style=\"color: #7f7f7f; text-decoration-color: #7f7f7f\">                        </span>\n",
              "</pre>\n"
            ],
            "text/plain": [
              "\u001b[2;36m[10/07/25 12:07:31]\u001b[0m\u001b[2;36m \u001b[0m\u001b[32mINFO    \u001b[0m Animation \u001b[32m30\u001b[0m : Partial movie file written in                  \u001b]8;id=996824;file:///usr/local/lib/python3.11/site-packages/manim/scene/scene_file_writer.py\u001b\\\u001b[2mscene_file_writer.py\u001b[0m\u001b]8;;\u001b\\\u001b[2m:\u001b[0m\u001b]8;id=816688;file:///usr/local/lib/python3.11/site-packages/manim/scene/scene_file_writer.py#588\u001b\\\u001b[2m588\u001b[0m\u001b]8;;\u001b\\\n",
              "\u001b[2;36m                    \u001b[0m         \u001b[32m'/manim/colab_handouts_PSI/media/videos/colab_handouts_PSI/72\u001b[0m \u001b[2m                        \u001b[0m\n",
              "\u001b[2;36m                    \u001b[0m         \u001b[32m0p30/partial_movie_files/CircuitReliabilityChatGPT/543634251_\u001b[0m \u001b[2m                        \u001b[0m\n",
              "\u001b[2;36m                    \u001b[0m         \u001b[32m3932249147_2353104759.mp4'\u001b[0m                                    \u001b[2m                        \u001b[0m\n"
            ]
          },
          "metadata": {},
          "output_type": "display_data"
        },
        {
          "data": {
            "text/html": [
              "<pre style=\"white-space:pre;overflow-x:auto;line-height:normal;font-family:Menlo,'DejaVu Sans Mono',consolas,'Courier New',monospace\"><span style=\"color: #7fbfbf; text-decoration-color: #7fbfbf\">                    </span><span style=\"color: #008000; text-decoration-color: #008000\">INFO    </span> Combining to Movie file.                                      <a href=\"file:///usr/local/lib/python3.11/site-packages/manim/scene/scene_file_writer.py\" target=\"_blank\"><span style=\"color: #7f7f7f; text-decoration-color: #7f7f7f\">scene_file_writer.py</span></a><span style=\"color: #7f7f7f; text-decoration-color: #7f7f7f\">:</span><a href=\"file:///usr/local/lib/python3.11/site-packages/manim/scene/scene_file_writer.py#739\" target=\"_blank\"><span style=\"color: #7f7f7f; text-decoration-color: #7f7f7f\">739</span></a>\n",
              "</pre>\n"
            ],
            "text/plain": [
              "\u001b[2;36m                   \u001b[0m\u001b[2;36m \u001b[0m\u001b[32mINFO    \u001b[0m Combining to Movie file.                                      \u001b]8;id=292615;file:///usr/local/lib/python3.11/site-packages/manim/scene/scene_file_writer.py\u001b\\\u001b[2mscene_file_writer.py\u001b[0m\u001b]8;;\u001b\\\u001b[2m:\u001b[0m\u001b]8;id=899138;file:///usr/local/lib/python3.11/site-packages/manim/scene/scene_file_writer.py#739\u001b\\\u001b[2m739\u001b[0m\u001b]8;;\u001b\\\n"
            ]
          },
          "metadata": {},
          "output_type": "display_data"
        },
        {
          "data": {
            "text/html": [
              "<pre style=\"white-space:pre;overflow-x:auto;line-height:normal;font-family:Menlo,'DejaVu Sans Mono',consolas,'Courier New',monospace\"><span style=\"color: #7fbfbf; text-decoration-color: #7fbfbf\">                    </span><span style=\"color: #008000; text-decoration-color: #008000\">INFO    </span>                                                               <a href=\"file:///usr/local/lib/python3.11/site-packages/manim/scene/scene_file_writer.py\" target=\"_blank\"><span style=\"color: #7f7f7f; text-decoration-color: #7f7f7f\">scene_file_writer.py</span></a><span style=\"color: #7f7f7f; text-decoration-color: #7f7f7f\">:</span><a href=\"file:///usr/local/lib/python3.11/site-packages/manim/scene/scene_file_writer.py#886\" target=\"_blank\"><span style=\"color: #7f7f7f; text-decoration-color: #7f7f7f\">886</span></a>\n",
              "<span style=\"color: #7fbfbf; text-decoration-color: #7fbfbf\">                    </span>         <span style=\"color: #808000; text-decoration-color: #808000; font-weight: bold\">File</span> ready at                                                 <span style=\"color: #7f7f7f; text-decoration-color: #7f7f7f\">                        </span>\n",
              "<span style=\"color: #7fbfbf; text-decoration-color: #7fbfbf\">                    </span>         <span style=\"color: #008000; text-decoration-color: #008000\">'/manim/colab_handouts_PSI/media/videos/colab_handouts_PSI/72</span> <span style=\"color: #7f7f7f; text-decoration-color: #7f7f7f\">                        </span>\n",
              "<span style=\"color: #7fbfbf; text-decoration-color: #7fbfbf\">                    </span>         <span style=\"color: #008000; text-decoration-color: #008000\">0p30/CircuitReliabilityChatGPT.mp4'</span>                           <span style=\"color: #7f7f7f; text-decoration-color: #7f7f7f\">                        </span>\n",
              "<span style=\"color: #7fbfbf; text-decoration-color: #7fbfbf\">                    </span>                                                                       <span style=\"color: #7f7f7f; text-decoration-color: #7f7f7f\">                        </span>\n",
              "</pre>\n"
            ],
            "text/plain": [
              "\u001b[2;36m                   \u001b[0m\u001b[2;36m \u001b[0m\u001b[32mINFO    \u001b[0m                                                               \u001b]8;id=637123;file:///usr/local/lib/python3.11/site-packages/manim/scene/scene_file_writer.py\u001b\\\u001b[2mscene_file_writer.py\u001b[0m\u001b]8;;\u001b\\\u001b[2m:\u001b[0m\u001b]8;id=712857;file:///usr/local/lib/python3.11/site-packages/manim/scene/scene_file_writer.py#886\u001b\\\u001b[2m886\u001b[0m\u001b]8;;\u001b\\\n",
              "\u001b[2;36m                    \u001b[0m         \u001b[1;33mFile\u001b[0m ready at                                                 \u001b[2m                        \u001b[0m\n",
              "\u001b[2;36m                    \u001b[0m         \u001b[32m'/manim/colab_handouts_PSI/media/videos/colab_handouts_PSI/72\u001b[0m \u001b[2m                        \u001b[0m\n",
              "\u001b[2;36m                    \u001b[0m         \u001b[32m0p30/CircuitReliabilityChatGPT.mp4'\u001b[0m                           \u001b[2m                        \u001b[0m\n",
              "\u001b[2;36m                    \u001b[0m                                                                       \u001b[2m                        \u001b[0m\n"
            ]
          },
          "metadata": {},
          "output_type": "display_data"
        },
        {
          "data": {
            "text/html": [
              "<pre style=\"white-space:pre;overflow-x:auto;line-height:normal;font-family:Menlo,'DejaVu Sans Mono',consolas,'Courier New',monospace\"><span style=\"color: #7fbfbf; text-decoration-color: #7fbfbf\">                    </span><span style=\"color: #008000; text-decoration-color: #008000\">INFO    </span> <span style=\"color: #808000; text-decoration-color: #808000; font-weight: bold\">Rendered</span> CircuitReliabilityChatGPT                                        <a href=\"file:///usr/local/lib/python3.11/site-packages/manim/scene/scene.py\" target=\"_blank\"><span style=\"color: #7f7f7f; text-decoration-color: #7f7f7f\">scene.py</span></a><span style=\"color: #7f7f7f; text-decoration-color: #7f7f7f\">:</span><a href=\"file:///usr/local/lib/python3.11/site-packages/manim/scene/scene.py#255\" target=\"_blank\"><span style=\"color: #7f7f7f; text-decoration-color: #7f7f7f\">255</span></a>\n",
              "<span style=\"color: #7fbfbf; text-decoration-color: #7fbfbf\">                    </span>         <span style=\"color: #808000; text-decoration-color: #808000; font-weight: bold\">Played</span> <span style=\"color: #008000; text-decoration-color: #008000\">31</span> <span style=\"color: #808000; text-decoration-color: #808000; font-weight: bold\">animations</span>                                                      <span style=\"color: #7f7f7f; text-decoration-color: #7f7f7f\">            </span>\n",
              "</pre>\n"
            ],
            "text/plain": [
              "\u001b[2;36m                   \u001b[0m\u001b[2;36m \u001b[0m\u001b[32mINFO    \u001b[0m \u001b[1;33mRendered\u001b[0m CircuitReliabilityChatGPT                                        \u001b]8;id=685876;file:///usr/local/lib/python3.11/site-packages/manim/scene/scene.py\u001b\\\u001b[2mscene.py\u001b[0m\u001b]8;;\u001b\\\u001b[2m:\u001b[0m\u001b]8;id=610660;file:///usr/local/lib/python3.11/site-packages/manim/scene/scene.py#255\u001b\\\u001b[2m255\u001b[0m\u001b]8;;\u001b\\\n",
              "\u001b[2;36m                    \u001b[0m         \u001b[1;33mPlayed\u001b[0m \u001b[32m31\u001b[0m \u001b[1;33manimations\u001b[0m                                                      \u001b[2m            \u001b[0m\n"
            ]
          },
          "metadata": {},
          "output_type": "display_data"
        },
        {
          "data": {
            "text/html": [
              "<video src=\"media/jupyter/CircuitReliabilityChatGPT@2025-10-07@12-07-31.mp4\" controls autoplay loop style=\"max-width: 60%;\"  >\n",
              "      Your browser does not support the <code>video</code> element.\n",
              "    </video>"
            ],
            "text/plain": [
              "<IPython.core.display.Video object>"
            ]
          },
          "metadata": {},
          "output_type": "display_data"
        }
      ],
      "source": [
        "%manim -qm CircuitReliabilityChatGPT"
      ]
    },
    {
      "cell_type": "code",
      "execution_count": null,
      "metadata": {},
      "outputs": [],
      "source": []
    }
  ],
  "metadata": {
    "colab": {
      "authorship_tag": "ABX9TyNkFiCc4VvmEt1FYhuk+YZP",
      "include_colab_link": true,
      "provenance": []
    },
    "kernelspec": {
      "display_name": "Python 3",
      "name": "python3"
    },
    "language_info": {
      "codemirror_mode": {
        "name": "ipython",
        "version": 3
      },
      "file_extension": ".py",
      "mimetype": "text/x-python",
      "name": "python",
      "nbconvert_exporter": "python",
      "pygments_lexer": "ipython3",
      "version": "3.11.11"
    }
  },
  "nbformat": 4,
  "nbformat_minor": 0
}
