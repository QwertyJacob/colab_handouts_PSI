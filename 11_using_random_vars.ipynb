{
  "nbformat": 4,
  "nbformat_minor": 0,
  "metadata": {
    "colab": {
      "provenance": [],
      "toc_visible": true,
      "authorship_tag": "ABX9TyN/uYI810cCFCCCAwCqRXpj",
      "include_colab_link": true
    },
    "kernelspec": {
      "name": "python3",
      "display_name": "Python 3"
    },
    "language_info": {
      "name": "python"
    }
  },
  "cells": [
    {
      "cell_type": "markdown",
      "metadata": {
        "id": "view-in-github",
        "colab_type": "text"
      },
      "source": [
        "<a href=\"https://colab.research.google.com/github/QwertyJacob/colab_handouts_PSI/blob/main/11_using_random_vars.ipynb\" target=\"_parent\"><img src=\"https://colab.research.google.com/assets/colab-badge.svg\" alt=\"Open In Colab\"/></a>"
      ]
    },
    {
      "cell_type": "markdown",
      "source": [
        "# Usando le Variabili Aleatorie\n"
      ],
      "metadata": {
        "id": "AEacAQHFsLPj"
      }
    },
    {
      "cell_type": "markdown",
      "source": [
        "Abbiamo visto finora alcune distribuzione di probabilità note: Bernoulli, Binomiale, Geometrica, Poisson. La cosa importante è sapere come usare queste variabili aleatorie, sapere quale è la casistica in cui si usa ciascuna di esse."
      ],
      "metadata": {
        "id": "gDzs4FCbtQfN"
      }
    },
    {
      "cell_type": "markdown",
      "source": [
        "Facciamo un recap di queste casistiche:\n",
        "\n",
        "## Variabile Aleatoria Bernoulliana\n",
        "\n",
        "La **variabile aleatoria Bernoulliana** è utilizzata per modellare esperimenti con una singola esecuzione che ha due possibili esiti: **successo** (con probabilità \\( p \\)) o **insuccessso** (con probabilità \\( 1 - p \\)).\n",
        "\n",
        "### Utilizzo\n",
        "- Un **singolo esperimento**.\n",
        "- Risultati **binari** (successo o fallimento).\n",
        "  \n",
        "### Definizione\n",
        "\n",
        "$$ P(X = 1) = p \\quad \\text{e} \\quad P(X = 0) = 1 - p $$\n",
        "\n",
        "dove ($ X $) rappresenta il successo $( X = 1 )$ o il fallimento $( X = 0 )$.\n",
        "\n",
        "### Esempio\n",
        "Lancio di una moneta bilanciata: ($ p = 0.5 $).\n",
        "\n",
        "---\n",
        "\n",
        "## Variabile Aleatoria Binomiale\n",
        "### Descrizione\n",
        "La **variabile aleatoria Binomiale** estende la Bernoulliana a \\( n \\) esperimenti indipendenti, ciascuno con probabilità \\( p \\) di successo.\n",
        "\n",
        "### Utilizzo\n",
        "- **Ripetizioni indipendenti** di un esperimento (successo/fallimento).\n",
        "- \\( n \\) prove, ciascuna con probabilità di successo \\( p \\).\n",
        "\n",
        "### Definizione\n",
        "$$\n",
        "P(X = k) = \\binom{n}{k} p^k (1-p)^{n-k}, \\quad k = 0, 1, \\dots, n\n",
        "$$\n",
        "\n",
        "dove:\n",
        "- \\( n \\): numero di prove.\n",
        "- \\( p \\): probabilità di successo.\n",
        "- \\( k \\): numero di successi.\n",
        "\n",
        "### Esempio\n",
        "Assumendo di aver studiato poco e di non aver fatto esercizi, la possiamo usare per modellare il numero di risposte corrette in un quiz a scelta multipla con \\( n = 10 \\) domande e probabilità di risposta corretta \\( p = 0.25 \\). ^_^\n",
        "\n",
        "---\n",
        "\n",
        "## Variabile Aleatoria Geometrica\n",
        "### Descrizione\n",
        "La **variabile aleatoria Geometrica** conta il numero di prove necessarie fino al primo successo in una sequenza di esperimenti indipendenti con probabilità \\( p \\). Si dice anche \"numero di prove _in corrispondeza del primo successo_\" per sottolineare il fatto che l'istante di primo successo è **incluso** nel conteggio.\n",
        "\n",
        "### Utilizzo\n",
        "- **Esperimenti ripetuti** fino a ottenere un successo.\n",
        "- Risultati **binari** (successo/fallimento).\n",
        "\n",
        "### Definizione\n",
        "$$\n",
        "P(X = k) = (1-p)^{k-1}p, \\quad k = 1, 2, 3, \\dots\n",
        "$$\n",
        "dove \\( k \\) è il numero di prove necessarie per ottenere il primo successo.\n",
        "\n",
        "### Esempio\n",
        "Lancio di un dado: trovare il numero di lanci necessari per ottenere un 6 (\\( p = 1/6 \\)).\n",
        "\n",
        "---\n",
        "\n",
        "## Variabile Aleatoria Poissoniana\n",
        "### Descrizione\n",
        "La **variabile aleatoria Poissoniana** descrive il conteggio di eventi rari che si verificano in un intervallo di tempo o spazio fisso, dove gli eventi sono indipendenti.\n",
        "\n",
        "### Utilizzo\n",
        "- **Eventi rari** distribuiti in modo casuale.\n",
        "- Contare gli eventi in un intervallo fisso.\n",
        "\n",
        "### Definizione\n",
        "$$\n",
        "P(X = k) = \\frac{\\lambda^k e^{-\\lambda}}{k!}, \\quad k = 0, 1, 2, \\dots\n",
        "$$\n",
        "dove:\n",
        "- ($ \\lambda $): tasso medio di eventi nell'intervallo considerato.\n",
        "- ($ k $): numero di eventi.\n",
        "\n",
        "### Esempio\n",
        "Numero di clienti che arrivano in un'ora in una piccola caffetteria, se diciamo che ne arrivano in media 5 clienti in un'ora, allora tale numero potrà essere descrito da una v.a. di Poisson co parametro ($ \\lambda = 5 $).\n",
        "\n",
        "---\n",
        "\n",
        "## Riassunto\n",
        "| Variabile Aleatoria | Utilizzo Principale                                            | Parametri           |\n",
        "|---------------------|-------------------------------------------------------------|---------------------|\n",
        "| **Bernoulliana**    | Singolo esperimento con successo/fallimento                 | \\( p \\)             |\n",
        "| **Binomiale**       | Più esperimenti indipendenti con successo/fallimento        | \\( n, p \\)          |\n",
        "| **Geometrica**      | Prove necessarie fino al primo successo                     | \\( p \\)             |\n",
        "| **Poissoniana**     | Contare eventi rari in un intervallo fisso                  | ($ \\lambda $)       |\n",
        "\n",
        "---\n"
      ],
      "metadata": {
        "id": "pmQFYeaLuKZB"
      }
    },
    {
      "cell_type": "markdown",
      "source": [
        "Quando nel nostro lavoro ti capiterà di aver a che fare con una v.a. la cui distribuzione non abbiamo studiato prima, per esempio la distribuzione di Boltzman, o la distributione Ipergeometrica, non ci si deve preoccupare: Sappiamo infatti che queste distribuzione si aggiustano ad un caso particolare, che possiamo consultare e capire, e poi ci basta sapere la sua  la sua funzione di massa di probabilità e il suo valore atteso e varianza. Con questi elementi potremmo usare ogni v.a. in casi contreti, proprio come abbiamo usato le variabili aleatorie che già conosciamo!"
      ],
      "metadata": {
        "id": "1NOZypsjt5KD"
      }
    },
    {
      "cell_type": "markdown",
      "source": [
        "\n",
        "## Esempio 1: Il Sistema di Controllo Qualità\n",
        "Una fabbrica di microchip testa 500 componenti al giorno. Storicamente, la probabilità che un componente sia difettoso è dello 0.2%.\n",
        "Vogliamo studiare il numero di componenti difettosi trovati in un giorno.\n",
        "Se ii venisse chiesto di trovare la probabilità che il valore massimo di componenti difettosi in un giorno sia 2...\n",
        "\n",
        "\n",
        "- Quale v.a. useresti?\n",
        "  - In questo caso potremmo usare sia una **Binomiale** (n=500, p=0.002) che una _**Poissoniana**_, ma:\n",
        "  - La _Poissoniana_ è preferibile perché abbiamo:\n",
        "    - n grande (500)\n",
        "    - p molto piccola (0.002)\n",
        "    - np = 1 (quindi λ=1)\n",
        "- Cosa rappresenta X?\n",
        "  - X = numero di componenti difettosi in un giorno\n",
        "- Cosa ci chiederebbe il problema in termini di v.a?\n",
        "  - P(X ≤ 2), che corrisponde infatti alla probabilità di trovare al massimo 2 componenti difettosi in un giorno\n"
      ],
      "metadata": {
        "id": "pqbCz-qisRD6"
      }
    },
    {
      "cell_type": "markdown",
      "source": [
        "\n",
        "## Esempio 2: Il Servizio Email\n",
        "Un'azienda sta analizzando il proprio servizio email. Ogni email in arrivo ha una probabilità del 30% di essere spam.\n",
        "Si vuole studiare se una singola email in arrivo è spam.\n",
        "\n",
        "**Analisi:**\n",
        "- Quale v.a. useresti?\n",
        "  - **Bernoulli** (p=0.3)\n",
        "  - Non serve una Binomiale perché stiamo considerando una singola prova\n",
        "- Cosa rappresenta X?\n",
        "  - X = 1 se l'email è spam, X = 0 se l'email è legittima\n",
        "- Cosa significa P(X = 1)?\n",
        "  - Probabilità che una specifica email sia spam\n",
        "\n",
        "## Esempio 3: Il Call Center\n",
        "Un call center riceve in media 120 chiamate all'ora. Si vuole studiare il numero di chiamate ricevute in un intervallo di 30 minuti.\n",
        "\n",
        "**Analisi:**\n",
        "- Quale v.a. useresti?\n",
        "  - **Poisson** (λ=60)\n",
        "  - È perfetta per eventi rari in intervalli di tempo\n",
        "  - Il rate λ va aggiustato a 60 chiamate per mezz'ora\n",
        "- Cosa rappresenta X?\n",
        "  - X = numero di chiamate ricevute in 30 minuti\n",
        "- Cosa significa P(X ≥ 70)?\n",
        "  - Probabilità di ricevere 70 o più chiamate in mezz'ora\n",
        "\n",
        "## Esempio 4: Il Test a Risposta Multipla\n",
        "Uno studente risponde a caso a un test di 40 domande a risposta multipla. Ogni domanda ha 4 opzioni.\n",
        "Si vuole studiare il numero di risposte corrette assumento che lo studente risponda a caso.\n",
        "\n",
        "**Analisi:**\n",
        "- Quale v.a. useresti?\n",
        "  - **Binomiale** (n=40, p=0.25)\n",
        "  - Non è approssimabile con Poisson perché p non è piccola abbastanza.\n",
        "- Cosa rappresenta X?\n",
        "  - X = numero di risposte corrette nel test\n",
        "- Cosa significa P(X ≥ 25)?\n",
        "  - Probabilità di \"indovinare\" 25 o più risposte corrette\n",
        "\n",
        "## Esempio 5: I Difetti di Stampa\n",
        "Una stampante industriale produce in media 0.5 difetti per pagina. Si vuole studiare il numero di difetti in un documento di 10 pagine.\n",
        "\n",
        "**Analisi:**\n",
        "- Quale v.a. useresti?\n",
        "  - **Poisson** (λ=5)\n",
        "  - Il rate totale è λ = 0.5 × 10 = 5 difetti per documento\n",
        "- Cosa rappresenta X?\n",
        "  - X = numero di difetti nel documento completo\n",
        "- Cosa significa P(X = 0)?\n",
        "  - Probabilità di avere un documento perfetto, senza difetti\n",
        "\n"
      ],
      "metadata": {
        "id": "TFiotE6wsKYK"
      }
    },
    {
      "cell_type": "markdown",
      "source": [
        "\n",
        "## Esempio 6: Difetti su una catena di produzione\n",
        "**Problema**: Su una linea di produzione vengono prodotti in media 3 pezzi difettosi ogni ora. Si vuole sapere quanti pezzi difettosi ci saranno in un'ora specifica.\n",
        "\n",
        "**Domanda**: Quale variabile aleatoria è più adatta? Cosa rappresenta?\n",
        "\n",
        "### Risoluzione\n",
        "1. Il problema descrive il conteggio di eventi rari (pezzi difettosi) in un intervallo di tempo fisso.\n",
        "2. La variabile aleatoria adatta è **Poisson** con parametro \\( \\lambda = 3 \\), che rappresenta il numero medio di pezzi difettosi per ora.\n",
        "3. La variabile aleatoria \\( X \\) rappresenta il numero di pezzi difettosi prodotti in quell'ora."
      ],
      "metadata": {
        "id": "SJv7t3mUyWsH"
      }
    },
    {
      "cell_type": "code",
      "source": [
        "import numpy as np\n",
        "import matplotlib.pyplot as plt\n",
        "from scipy.stats import poisson\n",
        "\n",
        "# Parametro lambda\n",
        "lmbda = 3\n",
        "\n",
        "# Supporto per la variabile aleatoria\n",
        "x = np.arange(0, 10)\n",
        "\n",
        "# Distribuzione di Poisson\n",
        "pmf = poisson.pmf(x, lmbda)\n",
        "\n",
        "# Plot\n",
        "plt.bar(x, pmf, color=\"skyblue\", edgecolor=\"black\")\n",
        "plt.title(\"Distribuzione di Poisson ($\\lambda=3$)\")\n",
        "plt.xlabel(\"Numero di pezzi difettosi\")\n",
        "plt.ylabel(\"Probabilità\")\n",
        "plt.show()"
      ],
      "metadata": {
        "colab": {
          "base_uri": "https://localhost:8080/",
          "height": 474
        },
        "id": "-0YvcL9GxJD2",
        "outputId": "4d3fe175-b84a-49f7-9679-767b156e66ce"
      },
      "execution_count": 1,
      "outputs": [
        {
          "output_type": "display_data",
          "data": {
            "text/plain": [
              "<Figure size 640x480 with 1 Axes>"
            ],
            "image/png": "[encoded data removed]"
          },
          "metadata": {}
        }
      ]
    },
    {
      "cell_type": "markdown",
      "source": [
        "## Esempio 7: Errore di inventario\n",
        "**Problema**: In un magazzino si verifica un errore di inventario con probabilità \\( p = 0.002 \\) ogni giorno. Il magazzino è aperto per \\( n = 500 \\) giorni all'anno.\n",
        "\n",
        "**Domanda**: Quale variabile aleatoria è più adatta? Spiegare eventuali approssimazioni.\n",
        "\n",
        "### Risoluzione\n",
        "1. Dato che \\( n \\) è grande e \\( p \\) è piccolo, la distribuzione binomiale \\( B(n=500, p=0.002) \\) può essere approssimata da una distribuzione **Poisson** con parametro \\( \\lambda = np = 500 \\cdot 0.002 = 1 \\).\n",
        "2. La variabile aleatoria \\( X \\) rappresenta il numero di errori di inventario in un anno.\n",
        "\n",
        "---\n",
        "\n",
        "## Esempio 8: Campionamento di successi in un sondaggio\n",
        "**Problema**: Un sondaggio coinvolge 100 persone, ognuna delle quali ha il 70% di probabilità di preferire un certo prodotto. Si vuole sapere quante persone preferiscono il prodotto.\n",
        "\n",
        "**Domanda**: Quale variabile aleatoria è più adatta? Cosa rappresenta?\n",
        "\n",
        "### Risoluzione\n",
        "1. Questo è un esperimento con \\( n = 100 \\) prove indipendenti e probabilità di successo \\( p = 0.7 \\).\n",
        "2. La variabile aleatoria adatta è **Binomiale** con parametri \\( n = 100 \\) e \\( p = 0.7 \\).\n",
        "3. La variabile aleatoria \\( X \\) rappresenta il numero di persone che preferiscono il prodotto.\n",
        "\n",
        "---"
      ],
      "metadata": {
        "id": "-CcKAWVpytY6"
      }
    }
  ]
}