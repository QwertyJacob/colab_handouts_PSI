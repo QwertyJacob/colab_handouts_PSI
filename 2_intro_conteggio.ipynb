{
  "cells": [
    {
      "cell_type": "markdown",
      "metadata": {
        "colab_type": "text",
        "id": "view-in-github"
      },
      "source": [
        "<a href=\"https://colab.research.google.com/github/QwertyJacob/colab_handouts_PSI/blob/main/conteggio_2509.ipynb\" target=\"_parent\"><img src=\"https://colab.research.google.com/assets/colab-badge.svg\" alt=\"Open In Colab\"/></a>"
      ]
    },
    {
      "cell_type": "markdown",
      "metadata": {
        "id": "hK_m7Dpvn0qz"
      },
      "source": [
        "## 2.3 Calcolo delle probabilità degli eventi attraverso il conteggio dei esiti\n",
        "___________\n",
        "\n",
        "Addattamento da: \n",
        "- Probability for Computer Science, D. Forsyth, Springer Nature, 2018\n",
        "- Probability and Statistics for Computer Scientists, M. Baron, CRC Press, 2014\n",
        "\n",
        "\n",
        "Se si può calcolare la probabilità di ogni singolo esito in un evento $\\mathcal{F}$, calcolare la probabilità dell'evento è semplice: Gli eventi fatti da singoli esiti -chiamati anche _singoletti_ sono eventi disgiunti, quindi è sufficiente sommare le probabilità.\n",
        "\n",
        "\n",
        "Una situazione semplice per il calcolo delle probabilità è quella dei **esiti equiprobabili**.  \n",
        "\n",
        "Cioè, quando lo spazio campionario $ \\Omega $ è costituito da $ n $ esiti possibili, $ \\omega_1, \\ldots, \\omega_n $, ciascuno con la stessa probabilità, poiché\n",
        "$$\n",
        "\\sum_{k=1}^n P\\{\\omega_k\\} = P\\{\\Omega\\} = 1,\n",
        "$$\n",
        "in questo caso si avrà che $ P\\{\\omega_k\\} = \\frac{1}{n} $ per ogni $ k $.\n",
        "\n",
        "Di conseguenza, la probabilità di un qualsiasi evento $ E $, costituito da $ t $ esiti, sarà uguale a:\n",
        "\n",
        "$$\n",
        "P\\{E\\} = \\sum_{\\omega_k \\in E} \\frac{1}{n} = t \\cdot \\frac{1}{n} = \\frac{\\text{numero di esiti in } E}{\\text{numero di esiti in } \\Omega}.\n",
        "$$\n",
        "\n",
        "Questa formula è spesso riassunta come:\n",
        "$$\n",
        "P\\{E\\} = \\frac{|E|}{|\\Omega|},\n",
        "$$\n",
        "dove $ |E| $ indica il numero di elementi (esiti) nell’evento $ E $, e $ |\\Omega| $ è il numero totale di esiti possibili.\n",
        "\n",
        "\n"
      ]
    },
    {
      "cell_type": "markdown",
      "metadata": {},
      "source": [
        "Gli esiti che formano l'evento $ E $ sono spesso chiamati **\"favorevoli\"**.  \n",
        "Così otteniamo la formula:\n",
        "\n",
        "**Esiti equiprobabili**\n",
        "$$\n",
        "P\\{E\\} = \\frac{\\text{numero di esiti favorevoli}}{\\text{numero totale di esiti}} = \\frac{N_F}{N_T}\n",
        "$$\n",
        "\n",
        "dove l'indice “$ F $” indica “favorevole” e “$ T $” indica “totale”.\n"
      ]
    },
    {
      "cell_type": "markdown",
      "metadata": {},
      "source": [
        "\n",
        "**Esempio 2.21.** Lanciare un dado produce 6 esiti possibili, equiprobabili, identificati dal numero di punti da 1 a 6. Applicando la formula (2.5), otteniamo:\n",
        "\n",
        "$$\n",
        "P\\{1\\} = \\frac{1}{6}, \\quad\n",
        "P\\{\\text{numero dispari di punti}\\} = \\frac{3}{6} = \\frac{1}{2}, \\quad\n",
        "P\\{\\text{meno di 5}\\} = \\frac{4}{6} = \\frac{2}{3}.\n",
        "$$\n",
        "♦\n",
        "\n",
        "La soluzione, e persino la risposta a problemi di questo tipo, può dipendere dalla scelta degli esiti e dallo spazio campionario. Gli esiti devono essere definiti in modo che siano **equiprobabili**; altrimenti, la formula (2.5) non è applicabile.\n",
        "\n",
        "---\n",
        "\n",
        "**Esempio 2.22.** Una carta viene estratta a caso da un mazzo di 52 carte da bridge. Calcolare la probabilità che la carta estratta sia un picca.\n",
        "\n",
        "**Prima soluzione.** Lo spazio campionario è costituito da 52 esiti equiprobabili (le carte). Tra questi, ci sono 13 esiti favorevoli (i picche). Dunque:\n",
        "\n",
        "$$\n",
        "P\\{\\text{picca}\\} = \\frac{13}{52} = \\frac{1}{4}.\n",
        "$$\n",
        "\n",
        "**Seconda soluzione.** Lo spazio campionario è costituito da 4 esiti equiprobabili: i semi — fiori, quadri, cuori e picche. Uno solo è favorevole (picche). Dunque:\n",
        "\n",
        "$$\n",
        "P\\{\\text{picca}\\} = \\frac{1}{4}.\n",
        "$$\n",
        "♦\n",
        "\n",
        "Le due soluzioni si basano su spazi campionari diversi. Tuttavia, in entrambi i casi, gli esiti sono stati definiti come equiprobabili, quindi la formula (2.5) è applicabile e si ottiene lo stesso risultato.\n",
        "\n"
      ]
    },
    {
      "cell_type": "markdown",
      "metadata": {
        "id": "coL13ypvoowC"
      },
      "source": [
        "> **Esempio (bonus)**: (Numeri dispari con dadi equi) Lanciamo un dado equo (ogni numero ha la stessa probabilità) due volte, poi sommiamo i due numeri. Qual è la probabilità di ottenere un numero dispari?\n",
        "\n",
        "*Soluzione*\n",
        "Ci sono $36$ esiti (parliamo di come cadono i dadi, non del numero che sommano i due dadi). Ognuno degli esiti ha la stessa probabilità $ \\frac{1}{36} $.\n",
        "\n",
        "In diciotto di essi, quando sommiamo, otteniamo un numero dispari e gli altri diciotto danno un numero pari. Quindi la probabilità è $\\frac{18}{36}= 0.5$"
      ]
    },
    {
      "cell_type": "markdown",
      "metadata": {
        "id": "trI6BIUqp-of"
      },
      "source": [
        "Il seguente codice Python genera tutte le probabilità per ogni risultato possibile.\n",
        "\n",
        "Nota: Riesci a capire dov'è che questo codice non è ottimizzato?"
      ]
    },
    {
      "cell_type": "code",
      "execution_count": 1,
      "metadata": {
        "colab": {
          "base_uri": "https://localhost:8080/",
          "height": 472
        },
        "id": "SywuZvxNpY-6",
        "outputId": "59887031-4712-4290-fbb3-96493cf0932a"
      },
      "outputs": [
        {
          "data": {
            "image/png": "[encoded data removed]",
            "text/plain": [
              "<Figure size 640x480 with 1 Axes>"
            ]
          },
          "metadata": {},
          "output_type": "display_data"
        }
      ],
      "source": [
        "\n",
        "import matplotlib.pyplot as plt\n",
        "\n",
        "def dice_sum_probabilities():\n",
        "  \"\"\"Generates a plot of the probabilities of sums of two dice rolls.\"\"\"\n",
        "\n",
        "  possible_sums = list(range(2, 13))\n",
        "  probabilities = []\n",
        "\n",
        "  for total in possible_sums:\n",
        "    count = 0\n",
        "\n",
        "    for die1 in range(1, 7):\n",
        "      for die2 in range(1, 7):\n",
        "        if die1 + die2 == total:\n",
        "          count += 1\n",
        "\n",
        "    probabilities.append(count / 36)\n",
        "\n",
        "  plt.bar(possible_sums, probabilities)\n",
        "  plt.xlabel(\"Sum of Two Dice\")\n",
        "  plt.ylabel(\"Probability\")\n",
        "  plt.title(\"Probabilities of Sums of Two Dice Rolls\")\n",
        "  plt.show()\n",
        "\n",
        "dice_sum_probabilities()"
      ]
    },
    {
      "cell_type": "markdown",
      "metadata": {
        "id": "I9tGROiYq9uG"
      },
      "source": [
        "L'esercizio precedente si poteva risolvere facendo i conti in modo bruttale:"
      ]
    },
    {
      "cell_type": "code",
      "execution_count": 2,
      "metadata": {
        "colab": {
          "base_uri": "https://localhost:8080/"
        },
        "id": "wMNQ2yEZp6w9",
        "outputId": "fb80c6d6-09db-44e4-8fa8-449376fde0b5"
      },
      "outputs": [
        {
          "name": "stdout",
          "output_type": "stream",
          "text": [
            "0.5\n"
          ]
        }
      ],
      "source": [
        "possible_sums = list(range(2, 13))\n",
        "probability_of_pair_result = 0\n",
        "\n",
        "for total in possible_sums:\n",
        "  count = 0\n",
        "  if total % 2 == 0:\n",
        "    for die1 in range(1, 7):\n",
        "      for die2 in range(1, 7):\n",
        "        if die1 + die2 == total:\n",
        "          count += 1\n",
        "\n",
        "  probability_of_pair_result += count / 36\n",
        "\n",
        "print(probability_of_pair_result)"
      ]
    },
    {
      "cell_type": "markdown",
      "metadata": {
        "id": "UJTFNKJ4rFZl"
      },
      "source": [
        "> **Esempio (bonus)**: (Numeri divisibili per cinque con dadi equi) Lanciamo due volte un dado equo a sei facce, poi sommiamo i due numeri. Qual è la probabilità di ottenere un numero divisibile per cinque?\n",
        "\n",
        "**Soluzione** Ci sono 36 risultati. Ognuno di essi ha la stessa probabilità $\\frac{1}{36}$. Per questo evento, i punti devono sommare o 5\n",
        "o 10. Ci sono 4 modi per ottenere 5. Ci sono 3 modi per ottenere 10, quindi la probabilità è $\\frac{7}{36}$."
      ]
    },
    {
      "cell_type": "code",
      "execution_count": 3,
      "metadata": {
        "colab": {
          "base_uri": "https://localhost:8080/"
        },
        "id": "IMWzh0nprnp3",
        "outputId": "aa87d4c4-e6cf-471e-e788-5f11f13756de"
      },
      "outputs": [
        {
          "data": {
            "text/plain": [
              "0.19444444444444445"
            ]
          },
          "execution_count": 3,
          "metadata": {},
          "output_type": "execute_result"
        }
      ],
      "source": [
        "7/36"
      ]
    },
    {
      "cell_type": "code",
      "execution_count": 4,
      "metadata": {
        "colab": {
          "base_uri": "https://localhost:8080/"
        },
        "id": "u291fOMprb6i",
        "outputId": "53cf5829-899a-4a82-ed74-1bdd0e62a194"
      },
      "outputs": [
        {
          "name": "stdout",
          "output_type": "stream",
          "text": [
            "The probability of obtaining a number divisible by 5 is: 0.19444444444444445\n"
          ]
        }
      ],
      "source": [
        "def probability_divisible_by_five():\n",
        "\n",
        "  favorable_outcomes = 0\n",
        "  total_outcomes = 36\n",
        "\n",
        "  for die1 in range(1, 7):\n",
        "    for die2 in range(1, 7):\n",
        "      if (die1 + die2) % 5 == 0:\n",
        "        favorable_outcomes += 1\n",
        "\n",
        "  probability = favorable_outcomes / total_outcomes\n",
        "  return probability\n",
        "\n",
        "probability = probability_divisible_by_five()\n",
        "print(f\"The probability of obtaining a number divisible by 5 is: {probability}\")"
      ]
    },
    {
      "cell_type": "markdown",
      "metadata": {},
      "source": [
        "---\n",
        "\n",
        "**Esempio 2.23.** Una giovane famiglia prevede di avere due figli. Qual è la probabilità che entrambi siano femmine?\n",
        "\n",
        "**Soluzione 1 (sbagliata).** Ci sono 3 possibili combinazioni per una famiglia con due figli: due femmine, due maschi, o un maschio e una femmina. Quindi, la probabilità di due femmine sarebbe $ \\frac{1}{3} $.\n",
        "\n",
        "**Soluzione 2 (corretta).** Ogni figlio ha la stessa probabilità di essere maschio o femmina (ipotizziamo $ \\frac{1}{2} $), e i generi dei due figli sono indipendenti. Dunque:\n",
        "\n",
        "$$\n",
        "P\\{\\text{due femmine}\\} = \\left(\\frac{1}{2}\\right)\\left(\\frac{1}{2}\\right) = \\frac{1}{4}.\n",
        "$$\n",
        "♦\n",
        "\n",
        "La seconda soluzione implica che lo spazio campionario consista di **quattro esiti equiprobabili**:\n",
        "- due maschi (MM),\n",
        "- due femmine (FF),\n",
        "- primo maschio, seconda femmina (MF),\n",
        "- prima femmina, secondo maschio (FM).\n",
        "\n",
        "Ogni esito ha probabilità $ \\frac{1}{4} $. Si noti che gli ultimi due esiti sono distinti: rappresentano l'ordine di nascita.\n",
        "\n",
        "È possibile definire lo spazio campionario come nella Soluzione 1, ma in tal caso gli esiti **non sono equiprobabili**. Infatti, dalla Soluzione 2, vediamo che l’esito “un figlio per genere” ha probabilità $ \\frac{1}{4} + \\frac{1}{4} = \\frac{1}{2} $, mentre “due maschi” o “due femmine” hanno ciascuno probabilità $ \\frac{1}{4} $.  \n",
        "È quindi un errore applicare la formula (2.5) a uno spazio con esiti non equiprobabili.\n",
        "\n",
        "---"
      ]
    },
    {
      "cell_type": "markdown",
      "metadata": {
        "id": "DVg75Y6jr6AS"
      },
      "source": [
        "> **Esempio (bonus):** Una coppia decide di avere dei figli. Decidono semplicemente di avere tre figli. Si supponga che si verifichino tre nascite, che da ogni nascita nasca un bambino unicamente, e che i maschi e le femmine abbiano la stessa probabilità ad ogni nascita. Sia $\\mathcal{B}_i$ è l'evento in cui ci sono $i$ bambini e $\\mathcal{C}$ è l'evento in cui ci sono più bambine che bambini. Calcolare $P(\\mathcal{B}_1)$ e $P(\\mathcal{C})$.\n",
        "\n",
        "*Soluzione*\n",
        "\n",
        "Ci sono otto esiti. Ognuno di essi ha la stessa probabilità. Tre di essi hanno un solo ragazzo, quindi $P(\\mathcal{B}_1)=\\frac38$, mentre quattro di questi esiti hanno più ragazze che ragazzi, quindi $P(\\mathcal{C})=\\frac12$."
      ]
    },
    {
      "cell_type": "code",
      "execution_count": 5,
      "metadata": {
        "colab": {
          "base_uri": "https://localhost:8080/"
        },
        "id": "qJ_gwGQMs2Wj",
        "outputId": "1c3020d3-55fd-491e-8ed3-714efb57951c"
      },
      "outputs": [
        {
          "name": "stdout",
          "output_type": "stream",
          "text": [
            "All possible outcomes:\n",
            "1 ('B', 'B', 'B')\n",
            "2 ('B', 'B', 'G')\n",
            "3 ('B', 'G', 'B')\n",
            "4 ('B', 'G', 'G')\n",
            "5 ('G', 'B', 'B')\n",
            "6 ('G', 'B', 'G')\n",
            "7 ('G', 'G', 'B')\n",
            "8 ('G', 'G', 'G')\n",
            "Number of possible outcomes: 8\n"
          ]
        }
      ],
      "source": [
        "import itertools\n",
        "\n",
        "possible_outcomes = list(itertools.product(['B', 'G'], repeat=3))\n",
        "\n",
        "print(\"All possible outcomes:\")\n",
        "for idx, outcome in enumerate(possible_outcomes):\n",
        "    print(idx+1, outcome)\n",
        "\n",
        "num_outcomes = len(possible_outcomes)\n",
        "print(f\"Number of possible outcomes: {num_outcomes}\")"
      ]
    },
    {
      "cell_type": "code",
      "execution_count": 6,
      "metadata": {
        "colab": {
          "base_uri": "https://localhost:8080/"
        },
        "id": "u2xuzNTstMO_",
        "outputId": "f6d0a185-f0ae-430d-dfef-f7b322a426c7"
      },
      "outputs": [
        {
          "name": "stdout",
          "output_type": "stream",
          "text": [
            "Possible outcomes with one boy:\n",
            "1 ('B', 'G', 'G')\n",
            "2 ('G', 'B', 'G')\n",
            "3 ('G', 'G', 'B')\n",
            "Possible outcomes with more girls than boys:\n",
            "1 ('B', 'G', 'G')\n",
            "2 ('G', 'B', 'G')\n",
            "3 ('G', 'G', 'B')\n",
            "4 ('G', 'G', 'G')\n"
          ]
        }
      ],
      "source": [
        "num_boys_1 = 0\n",
        "num_more_girls = 0\n",
        "\n",
        "print(\"Possible outcomes with one boy:\")\n",
        "\n",
        "for outcome in possible_outcomes:\n",
        "  num_boys = outcome.count('B')\n",
        "  if num_boys == 1:\n",
        "    num_boys_1 += 1\n",
        "    print(num_boys_1, outcome)\n",
        "\n",
        "print(\"Possible outcomes with more girls than boys:\")\n",
        "for outcome in possible_outcomes:\n",
        "  if outcome.count('G') > outcome.count('B'):\n",
        "    num_more_girls += 1\n",
        "    print(num_more_girls, outcome)"
      ]
    },
    {
      "cell_type": "code",
      "execution_count": 7,
      "metadata": {
        "colab": {
          "base_uri": "https://localhost:8080/"
        },
        "id": "2LFKNz66smno",
        "outputId": "a664a251-35d8-447c-df54-30932f3f7726"
      },
      "outputs": [
        {
          "name": "stdout",
          "output_type": "stream",
          "text": [
            "P(B_1) = 0.375\n",
            "P(C) = 0.5\n"
          ]
        }
      ],
      "source": [
        "probability_boys_1 = num_boys_1 / num_outcomes\n",
        "probability_more_girls = num_more_girls / num_outcomes\n",
        "\n",
        "print(f\"P(B_1) = {probability_boys_1}\")\n",
        "print(f\"P(C) = {probability_more_girls}\")"
      ]
    },
    {
      "cell_type": "markdown",
      "metadata": {
        "id": "SCXe9ZlxAIO3"
      },
      "source": [
        "## Permutazioni e disposizioni: quando \"l'ordine conta\".\n",
        "\n",
        "______________"
      ]
    },
    {
      "cell_type": "markdown",
      "metadata": {
        "id": "ZQ4wfKFG7oBG"
      },
      "source": [
        "Il conteggio degli esiti di un evento può richiedere argomenti combinatori piuttosto elaborati. Una forma di argomentazione\n",
        "particolarmente importante è quella di ragionare sulle **permutazioni** e sulle **combinazioni**. Si ricorda che il numero di permutazioni distinte di N elementi è $n!$\n",
        "\n",
        "> **Permutazioni**: Quando abbiamo N elementi distinti e vogliamo *ordinarli* *in tutti i modi possibili*, stiamo calcolando le **permutazioni**. Il risultato è $n!$."
      ]
    },
    {
      "cell_type": "markdown",
      "metadata": {
        "id": "vzBBHtu08xaj"
      },
      "source": [
        "> Esempio: Si estrae una mano di sette carte da un mazzo di carte standard correttamente mescolato. Con quale probabilità vengono estratte le carte 2,3,4,...,8 di cuori (in quell'ordine)?\n",
        "\n",
        "*Soluzione* Useremo le permutazioni per risolvere questo esericizio. Esistono $52!$ ordinamenti diversi di un mazzo di carte opportunamente mescolato. Questo è il numero totale degli esiti possibili (cioè la cardinalità dello spazio campione). Il numero di esiti dell'evento in questione invece si ottiene notando che che ogni risultato nell'evento è un ordine di carte in cui tra le prime sette carte si trova la sequenza 2,3,4,...,7,8, in quell'ordine.\n",
        "\n",
        "Ci sono quindi $45!$ esiti nell'evento, perché è possibile riordinare le 45 carte rimanenti in modo arbitrario. Ciò significa che la\n",
        "probabilità è:\n",
        "\n",
        "$$ \\frac{45!}{52!}$$"
      ]
    },
    {
      "cell_type": "markdown",
      "metadata": {
        "id": "1FbZ5_Tf-S7z"
      },
      "source": [
        "> Nota anti-confusione: Di solito, quando vogliamo calcolare il numero di ordinamenti possibili di **tutti** gli $n$ elementi di un insieme, parliamo di **permutazioni**. Invece, quando volgiamo calcolare il numero di ordinamenti di un **sottoinsieme** di elementi, come nell'esercizio precedente, parliamo di **disposizioni**.\n",
        "\n",
        "Per quello, la formula che ci aiuterà a calcolare il numero di ordinamenti di $k$ elementi presi da un insieme di $n$ elementi si dennota con $D_{n,k}$, ed è chiamata \"*numero di disposizioni semplici di classe $k$ di $n$ elementi diversi*\":\n",
        "\n",
        "$$ D_{n,k} = \\frac{n!}{(n-k)!} $$\n",
        "\n",
        "Non ci confondiamo con le diciture. Parliamo di numero di *disposizioni* perché l'ordine conta. Teniamo in conto che, presi i $k$ elementi, ne rimangono $n-K$. Questo vuol dire che **non stiamo reinserendo gli elementi che prendiamo.** In letteratura, questo modo di contare -cioè senza reinserimento- viene chiamato *semplice*, per questo si parla di numero di *disposizioni semplici*.\n",
        "\n",
        "Nell'esempio precedente, reinserire le carte ogni volta e miscolare il mazzo di carte porterebbe ad un altra probabilità. Cioè se facciamo sette estrazioni con reinserimento, ad ogni estrazione abbiamo sempre 52 esiti diversi, il che vuol dire che gli esiti possibili per la sequenza di 7 estazioni con reinserimento è $52^7$. Di queste, quante corrispondono alla sequenza 2,3,4,5,6,7,8 di cuori in quell'ordine? Una. Quindi la probabilità è $\\frac{1}{52^7}$. Si poteva arrivare a questa risposta anche sapendo che la probabiiltà di estrarre una certa carta dal mazzo è sempre $\\frac{1}{52}$ quando c'è reinserimento, per qualsiasi carta, e sapendo che ogni estrazione è un evento indipendente dalle altre estrazioni, ma ne parleremo più avanti nel corso... Per ora ci basta ricordare che:\n",
        "\n",
        "> Il numero di disposizioni con reinserimento di classe $k$ di $n$ elementi diversi è:\n",
        "\n",
        "$$ D_{n,k} = n^k$$\n",
        "\n",
        "Faciamo attenzione al fatto che, per questa e per la formula precedente, abbiamo detto \"$n$ elementi *diversi*\". Per ora non facciamo nessun controesempio né diciamo perché è importante questa clausola, ma più avanti verrà fuori tutto questo. Per ora ci basti dare importanza al fatto che queste formule valgono quando gli $n$ oggetti sono, infatti, diversi.\n",
        "\n",
        "\n",
        "> **Ricorda**: Quado parliamo di **disposizioni** di elementi **senza reinserimento **nell'insieme di partenza, parliamo di **disposizioni semplici**.\n",
        "\n",
        "\n",
        "> **Ricorda**: se devi contare il numero di ordinamenti, cioè se \"**l'ordine conta**\" allora parliamo di **disposizioni**!!!"
      ]
    },
    {
      "cell_type": "markdown",
      "metadata": {
        "id": "wOD80k3xABp2"
      },
      "source": [
        "## Combinazioni: quando \"l'ordine non conta\"\n",
        "__________"
      ]
    },
    {
      "cell_type": "markdown",
      "metadata": {
        "id": "HzL54TApAS-9"
      },
      "source": [
        "Il numero di *combinazioni* invece è diverso dal numero di ordinamenti. Contare il numero di combinazioni equivale a contare il numero di  sottoinsiemi di una certa dimensione che possono essere formati da un insieme più grande,**senza considerare l'ordine degli elementi all'interno di ciascun sottoinsieme.**\n",
        "Per essere più precisi:\n",
        "\n",
        "> **Definizione di combinazione:** Una combinazione è una *selezione* di $k$ elementi da un insieme di $n$ elementi, dove l'ordine non importa. Cioè, due combinazioni vengono considerate diverse solo se differiscono per almeno un elemento. Se due combinazioni hanno gli stessi elementi in ordine diverso, vengono comunque considerate la stessa combinazione.\n",
        "\n",
        "> Si indica comunemente il numero di combinazioni di classe $k$ prese da un insieme di $n$ elementi diversi con:\n",
        "\n",
        "$ C_{n,k} = \\binom{n}{k} $.\n",
        "\n",
        "Dove $ n \\choose k$ è il *coefficiente binomiale* $n$ $k$. Più specificamente abbiamo:\n",
        "\n",
        "> Formula per le combinazioni: Il numero di combinazioni di classe $k$ prese da un insieme di $n$ elementi è dato da:\n",
        "\n",
        "$$ C_{n,k} = \\frac{n!}{k! \\cdot (n-k)!} $$\n",
        "\n",
        "\n",
        "Ancora una volta, ripetiamo:\n",
        "\n",
        "- Differenza tra combinazioni e disposizioni o permutazioni:\n",
        "\n",
        "Le permutazioni considerano l'ordine (ABC è diverso da CBA). Le combinazioni non considerano l'ordine (ABC è lo stesso di CBA).\n",
        "\n",
        "- Interpretazione:\n",
        "\n",
        "Contare le combinazioni equivale a contare in quanti modi possiamo selezionare $k$ oggetti da un gruppo di $n$ oggetti, dove non ci interessa l'ordine in cui vengono selezionati. È come rispondere alla domanda: \"In quanti modi diversi posso formare un comitato di $k$ persone da un gruppo di n persone?\"\n",
        "\n",
        "\n",
        "- Connessione con i sottoinsiemi:\n",
        "\n",
        "Ogni combinazione rappresenta un sottoinsieme di $k$ elementi dell'insieme originale di $n$ elementi. Infatti, il numero totale di sottoinsiemi di un insieme di $n$ elementi (inclusi l'insieme vuoto e l'insieme completo) è $2^n$, che è la somma di tutte le possibili combinazioni: $C_{n,0} + C_{n,1} + ... + C_{n,n}$. Puoi dimostrarlo?\n",
        "\n",
        "\n",
        "\n",
        "> In sintesi, mentre le _permutazioni_ o _disposizioni_ contano tutti i possibili *ordinamenti*, le combinazioni contano i sottoinsiemi senza considerare l'ordine interno. Questo concetto è fondamentale in molte applicazioni, dalla teoria delle probabilità alla statistica, dalla teoria dei giochi alla crittografia."
      ]
    },
    {
      "cell_type": "markdown",
      "metadata": {
        "id": "X-mSsoCxCOec"
      },
      "source": [
        "> Trovi delle spiegazioni più \"passo passo\" sul sito di [YouMath](https://www.youmath.it/lezioni/probabilita/calcolo-combinatorio.html)"
      ]
    }
  ],
  "metadata": {
    "colab": {
      "include_colab_link": true,
      "provenance": []
    },
    "kernelspec": {
      "display_name": "Python 3",
      "name": "python3"
    },
    "language_info": {
      "codemirror_mode": {
        "name": "ipython",
        "version": 3
      },
      "file_extension": ".py",
      "mimetype": "text/x-python",
      "name": "python",
      "nbconvert_exporter": "python",
      "pygments_lexer": "ipython3",
      "version": "3.11.11"
    }
  },
  "nbformat": 4,
  "nbformat_minor": 0
}
