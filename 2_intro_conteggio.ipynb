{
  "cells": [
    {
      "cell_type": "markdown",
      "metadata": {
        "colab_type": "text",
        "id": "view-in-github"
      },
      "source": [
        "<a href=\"https://colab.research.google.com/github/QwertyJacob/colab_handouts_PSI/blob/main/2_intro_conteggio.ipynb\" target=\"_parent\"><img src=\"https://colab.research.google.com/assets/colab-badge.svg\" alt=\"Open In Colab\"/></a>"
      ]
    },
    {
      "cell_type": "markdown",
      "metadata": {},
      "source": [
        "### 2.3.2 Permutazioni e combinazioni"
      ]
    },
    {
      "cell_type": "markdown",
      "metadata": {
        "id": "SCXe9ZlxAIO3"
      },
      "source": [
        "#### Permutazioni e disposizioni: quando \"l'ordine conta\".\n",
        "\n",
        "______________"
      ]
    },
    {
      "cell_type": "markdown",
      "metadata": {
        "id": "ZQ4wfKFG7oBG"
      },
      "source": [
        "Il conteggio degli esiti di un evento può richiedere argomenti combinatori piuttosto elaborati. Una forma di argomentazione\n",
        "particolarmente importante è quella di ragionare sulle **permutazioni** e sulle **combinazioni**. Si ricorda che il numero di permutazioni distinte di N elementi è $n!$\n",
        "\n",
        "> **Permutazioni**: Quando abbiamo N elementi distinti e vogliamo *ordinarli* *in tutti i modi possibili*, stiamo calcolando le **permutazioni**. Il risultato è $n!$."
      ]
    },
    {
      "cell_type": "markdown",
      "metadata": {
        "id": "vzBBHtu08xaj"
      },
      "source": [
        "> Esempio: Si estrae una mano di sette carte da un mazzo di carte standard correttamente mescolato. Con quale probabilità vengono estratte le carte 2,3,4,...,8 di cuori (in quell'ordine)?\n",
        "\n",
        "*Soluzione* Useremo le permutazioni per risolvere questo esericizio. Esistono $52!$ ordinamenti diversi di un mazzo di carte opportunamente mescolato. Questo è il numero totale degli esiti possibili (cioè la cardinalità dello spazio campione). Il numero di esiti dell'evento in questione invece si ottiene notando che che ogni risultato nell'evento è un ordine di carte in cui tra le prime sette carte si trova la sequenza 2,3,4,...,7,8, in quell'ordine.\n",
        "\n",
        "Ci sono quindi $45!$ esiti nell'evento, perché è possibile riordinare le 45 carte rimanenti in modo arbitrario. Ciò significa che la\n",
        "probabilità è:\n",
        "\n",
        "$$ \\frac{45!}{52!}$$"
      ]
    },
    {
      "cell_type": "markdown",
      "metadata": {
        "id": "1FbZ5_Tf-S7z"
      },
      "source": [
        "> Nota anti-confusione: Di solito, quando vogliamo calcolare il numero di ordinamenti possibili di **tutti** gli $n$ elementi di un insieme, parliamo di **permutazioni**. Invece, quando volgiamo calcolare il numero di ordinamenti di un **sottoinsieme** di elementi, come nell'esercizio precedente, parliamo di **disposizioni**.\n",
        "\n",
        "Per quello, la formula che ci aiuterà a calcolare il numero di ordinamenti di $k$ elementi presi da un insieme di $n$ elementi si dennota con $D_{n,k}$, ed è chiamata \"*numero di disposizioni semplici di classe $k$ di $n$ elementi diversi*\":\n",
        "\n",
        "$$ D_{n,k} = \\frac{n!}{(n-k)!} $$\n",
        "\n",
        "Non ci confondiamo con le diciture. Parliamo di numero di *disposizioni* perché l'ordine conta. Teniamo in conto che, presi i $k$ elementi, ne rimangono $n-K$. Questo vuol dire che **non stiamo reinserendo gli elementi che prendiamo.** In letteratura, questo modo di contare -cioè senza reinserimento- viene chiamato *semplice*, per questo si parla di numero di *disposizioni semplici*.\n",
        "\n",
        "Nell'esempio precedente, reinserire le carte ogni volta e miscolare il mazzo di carte porterebbe ad un altra probabilità. Cioè se facciamo sette estrazioni con reinserimento, ad ogni estrazione abbiamo sempre 52 esiti diversi, il che vuol dire che gli esiti possibili per la sequenza di 7 estazioni con reinserimento è $52^7$. Di queste, quante corrispondono alla sequenza 2,3,4,5,6,7,8 di cuori in quell'ordine? Una. Quindi la probabilità è $\\frac{1}{52^7}$. Si poteva arrivare a questa risposta anche sapendo che la probabiiltà di estrarre una certa carta dal mazzo è sempre $\\frac{1}{52}$ quando c'è reinserimento, per qualsiasi carta, e sapendo che ogni estrazione è un evento indipendente dalle altre estrazioni, ma ne parleremo più avanti nel corso... Per ora ci basta ricordare che:\n",
        "\n",
        "> Il numero di disposizioni con reinserimento di classe $k$ di $n$ elementi diversi è:\n",
        "\n",
        "$$ D_{n,k} = n^k$$\n",
        "\n",
        "Faciamo attenzione al fatto che, per questa e per la formula precedente, abbiamo detto \"$n$ elementi *diversi*\". Per ora non facciamo nessun controesempio né diciamo perché è importante questa clausola, ma più avanti verrà fuori tutto questo. Per ora ci basti dare importanza al fatto che queste formule valgono quando gli $n$ oggetti sono, infatti, diversi.\n",
        "\n",
        "\n",
        "> **Ricorda**: Quado parliamo di **disposizioni** di elementi **senza reinserimento **nell'insieme di partenza, parliamo di **disposizioni semplici**.\n",
        "\n",
        "\n",
        "> **Ricorda**: se devi contare il numero di ordinamenti, cioè se \"**l'ordine conta**\" allora parliamo di **disposizioni**!!!"
      ]
    },
    {
      "cell_type": "markdown",
      "metadata": {
        "id": "wOD80k3xABp2"
      },
      "source": [
        "#### Combinazioni: quando \"l'ordine non conta\"\n",
        "__________"
      ]
    },
    {
      "cell_type": "markdown",
      "metadata": {
        "id": "HzL54TApAS-9"
      },
      "source": [
        "Il numero di *combinazioni* invece è diverso dal numero di ordinamenti. Contare il numero di combinazioni equivale a contare il numero di  sottoinsiemi di una certa dimensione che possono essere formati da un insieme più grande,**senza considerare l'ordine degli elementi all'interno di ciascun sottoinsieme.**\n",
        "Per essere più precisi:\n",
        "\n",
        "> **Definizione di combinazione:** Una combinazione è una *selezione* di $k$ elementi da un insieme di $n$ elementi, dove l'ordine non importa. Cioè, due combinazioni vengono considerate diverse solo se differiscono per almeno un elemento. Se due combinazioni hanno gli stessi elementi in ordine diverso, vengono comunque considerate la stessa combinazione.\n",
        "\n",
        "> Si indica comunemente il numero di combinazioni di classe $k$ prese da un insieme di $n$ elementi diversi con:\n",
        "\n",
        "$ C_{n,k} = \\binom{n}{k} $.\n",
        "\n",
        "Dove $ n \\choose k$ è il *coefficiente binomiale* $n$ $k$. Più specificamente abbiamo:\n",
        "\n",
        "> Formula per le combinazioni: Il numero di combinazioni di classe $k$ prese da un insieme di $n$ elementi è dato da:\n",
        "\n",
        "$$ C_{n,k} = \\frac{n!}{k! \\cdot (n-k)!} $$\n",
        "\n",
        "\n",
        "Ancora una volta, ripetiamo:\n",
        "\n",
        "- Differenza tra combinazioni e disposizioni o permutazioni:\n",
        "\n",
        "Le permutazioni considerano l'ordine (ABC è diverso da CBA). Le combinazioni non considerano l'ordine (ABC è lo stesso di CBA).\n",
        "\n",
        "- Interpretazione:\n",
        "\n",
        "Contare le combinazioni equivale a contare in quanti modi possiamo selezionare $k$ oggetti da un gruppo di $n$ oggetti, dove non ci interessa l'ordine in cui vengono selezionati. È come rispondere alla domanda: \"In quanti modi diversi posso formare un comitato di $k$ persone da un gruppo di n persone?\"\n",
        "\n",
        "\n",
        "- Connessione con i sottoinsiemi:\n",
        "\n",
        "Ogni combinazione rappresenta un sottoinsieme di $k$ elementi dell'insieme originale di $n$ elementi. Infatti, il numero totale di sottoinsiemi di un insieme di $n$ elementi (inclusi l'insieme vuoto e l'insieme completo) è $2^n$, che è la somma di tutte le possibili combinazioni: $C_{n,0} + C_{n,1} + ... + C_{n,n}$. Puoi dimostrarlo?\n",
        "\n",
        "\n",
        "\n",
        "> In sintesi, mentre le _permutazioni_ o _disposizioni_ contano tutti i possibili *ordinamenti*, le combinazioni contano i sottoinsiemi senza considerare l'ordine interno. Questo concetto è fondamentale in molte applicazioni, dalla teoria delle probabilità alla statistica, dalla teoria dei giochi alla crittografia."
      ]
    },
    {
      "cell_type": "markdown",
      "metadata": {
        "id": "X-mSsoCxCOec"
      },
      "source": [
        "> Trovi delle spiegazioni più \"passo passo\" sul sito di [YouMath](https://www.youmath.it/lezioni/probabilita/calcolo-combinatorio.html)"
      ]
    }
  ],
  "metadata": {
    "colab": {
      "include_colab_link": true,
      "provenance": []
    },
    "kernelspec": {
      "display_name": "Python 3",
      "name": "python3"
    },
    "language_info": {
      "codemirror_mode": {
        "name": "ipython",
        "version": 3
      },
      "file_extension": ".py",
      "mimetype": "text/x-python",
      "name": "python",
      "nbconvert_exporter": "python",
      "pygments_lexer": "ipython3",
      "version": "3.11.11"
    }
  },
  "nbformat": 4,
  "nbformat_minor": 0
}
