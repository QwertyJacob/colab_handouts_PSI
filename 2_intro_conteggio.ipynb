{
  "cells": [
    {
      "cell_type": "markdown",
      "metadata": {
        "colab_type": "text",
        "id": "view-in-github"
      },
      "source": [
        "<a href=\"https://colab.research.google.com/github/QwertyJacob/colab_handouts_PSI/blob/main/2_intro_conteggio.ipynb\" target=\"_parent\"><img src=\"https://colab.research.google.com/assets/colab-badge.svg\" alt=\"Open In Colab\"/></a>"
      ]
    },
    {
      "cell_type": "markdown",
      "metadata": {},
      "source": [
        "### 2.3.2 Permutazioni e combinazioni"
      ]
    },
    {
      "cell_type": "markdown",
      "metadata": {},
      "source": [
        "___________\n",
        "\n",
        "Addattamento da: \n",
        "- Probability and Statistics for Computer Scientists, M. Baron, CRC Press, 2014\n"
      ]
    },
    {
      "cell_type": "markdown",
      "metadata": {},
      "source": [
        "### 2.3.2 Calcolo combinatorio: Permutazioni e Combinazioni\n",
        "\n",
        "Ricordiamo la formula (2.5) che definisce la probabilità in caso di esiti equiprobabili:\n",
        "\n",
        "**Probabilità di un evento in caso di esiti equiprobabili (definizione _classica_ della probabilità)**\n",
        "$$\n",
        "P\\{E\\} = \\frac{\\text{numero di esiti favorevoli}}{\\text{numero totale di esiti}} = \\frac{N_F}{N_T} \\tag{2.5}\n",
        "$$\n",
        "\n",
        "Questa definizione è semplice, purché il suo numeratore e il suo denominatore possano essere facilmente calcolati.  \n",
        "Tuttavia, questo capita raramente; spesso lo spazio campion2 è costituito da una moltitudine di esiti.  \n",
        "La combinatoria fornisce tecniche specifiche per il calcolo di $ N_T $ e $ N_F $, rispettivamente il numero totale di esiti possibili in $\\Omega$, in qualunque modo esso sia definito, e il numero di esiti favorevoli o esiti inclusi in un determinato evento $E$."
      ]
    },
    {
      "cell_type": "markdown",
      "metadata": {},
      "source": [
        "> Ti ricordi l'esercizio di esame dei [database](https://uninsubria365-my.sharepoint.com/:b:/r/personal/ids88517470_uninsubria_it/Documents/Teaching/Statistics%20ITA/Exercises/Raccolta%20Esercizi%20di%20esame%20svolti/Varese/20240919_Appello_VI_soluzioni.pdf?csf=1&web=1&e=8JctaQ)?\n",
        "\n",
        "Quell'esercizio risulta emblematico per il discorso che stiamo per fare ora. \n",
        "\n",
        "In realtà il problema di calcolare $ N_T $ e $ N_F $ può essere delicato quando non sappiamo come è fatto $\\Omega$.\n",
        "\n",
        "Quindi il primo passo da fare è quello di farsi un'idea della grandezza di $\\Omega$, anche se non riusciamo a scriverlo su un pezzo di carta o elecarne gli elementi a voce, perché può essere molto grande. \n",
        "\n",
        "Per fare questo si parte sempre e comunque da un **vocabolario di simboli**, che indicheremo con $\\mathcal{V}$, tale che:\n",
        "\n",
        "$$ \\mathcal{V} \\coloneqq \\{ \\mathcal{v}_1,\\mathcal{v}_2,\\mathcal{v}_3,...\\mathcal{v}_m \\} $$\n",
        "\n",
        "e poi prenderemo delle SEQUENZE di simboli di questo vocabolario per creare gli esiti dello spazio campione, per esempio:\n",
        "\n",
        "$$ \\omega_1 \\coloneqq \"\\mathcal{v}_1 \\mathcal{v}_2 \\mathcal{v}_3\"  $$\n",
        "\n",
        "$$ \\omega_2 \\coloneqq \"\\mathcal{v}_2 \\mathcal{v}_2 \\mathcal{v}_3\" $$\n",
        "\n",
        "$$ \\omega_3 \\coloneqq \"\\mathcal{v}_3 \\mathcal{v}_2 \\mathcal{v}_2 \\mathcal{v}_2 \\mathcal{v}_{23}\" $$\n",
        "\n",
        "Si noti come queste SEQUENZE DI SIMBOLI NON SONO INSIEMI, e infatti l'ordine delle sequenze potrebbe essere importante. \n",
        "\n",
        "Dicevamo quindi che, in molti esercizi di esame, il primo passo da fare è, partendo da un vocabolario di simboli (che scegliamo noi in modo intuitivo, come nel caso dell'esercizio dei database), è costruire $\\Omega$, cioè costruire gli esiti dello spazio campione, gli esiti dell'esperimento in questione,  $\\omega_1, \\omega_2, \\omega_3, \\ldots, \\omega_n$ come **sequenze di simboli del vocabolario**.\n",
        "\n",
        "Abbiamo detto in precedenza che gli esiti sono l'unità più elementare di probabilità! Ad ogni modo, per riferirci ad uno spazio campione, per capire quali e sopratutto QUANTI sono gli esiti in esso contenuti, **molte volte** dobbiamo pensare agli esiti come sequenze di simboli di un vocabolario, proprio perché **l'unica cosa che conosciamo è il vocabolario**!\n",
        "\n",
        "Detto questo, teniamo in conto queste 5 osservazioni che intervengono nel modo in cui possiamo creare gli esiti a partire di sequenze di simboli di un vocabolario:\n",
        "\n",
        "1. **Regola d'oro:** Sequenze contenenti simboli diversi formano esiti diversi. Sempre.\n",
        "2. (**O**) Caso di simboli **\"_distinguibili_\"**: Sequenze contenenti gli stessi simboli formano comunque esiti diversi se l'ordine dei simboli è diverso.\n",
        "3. (**~O**) Caso di simboli **\"_indistinguibili_\"**: Sequenze contenenti gli stessi simboli sono sempre considerate un'unico esito, indipendentemente dell'ordine dei simboli nelle sequenze.\n",
        "4. (**R**) Estrazione di sequenze di simboli **con reinserimento**: un esito è una sequenza di simboli che può contenere più volte lo stesso simbolo. \n",
        "5. (**~R**) Estrazione di sequenze di simboli **senza reinserimento**: le sequenze che costituiscono esiti non hanno mai un simbolo ripetuto. \n",
        "\n",
        "\n",
        "Di modo che abbiamo 4 casi o modi in qui le sequenze di simboli formano esiti:\n",
        "\n",
        "1. **(O R)** : In questo caso diciamo che, nella creazione di esiti a partire di sequenze di simboli, **l'ordine conta** e **c'è il reinserimento**. Diciamo anche che gli esiti corrispondono a **_\"disposizioni con reinserimento\"_** di simboli del vocabolario.\n",
        "2. **(O ~R)**: In questo caso, **l'ordine conta** ma **non c'è reinserimento** al momento di creare gli esiti dello spazio campione come sequenze di simboli del vocabolario. Diciamo anche che gli esiti corrispondono a **_\"disposizioni senza reinserimento\"_** oppure **_\"disposizioni semplici\"_** di simboli del vocabolario.\n",
        "3. **(~O R)**: In questo caso, **l'ordine non conta** e **c'è reinserimento**. Diciamo anche che gli esiti corrispondono a **_\"combinazioni con reinserimento\"_** di simboli del vocabolario.\n",
        "4. **(~O ~R)**: In questo caso, **l'ordine non conta** e **non c'è reinserimento**. Diciamo anche che gli esiti corrispondono a **_\"combinazioni semplici\"_** di simboli del vocabolario.\n",
        "\n",
        "\n",
        "Quindi sì, le _sequenze_ possono essere _combinazioni_ (quando l'ordine non conta) o _disposizioni_ (quando l'ordine conta). \n",
        "\n",
        "> Non abbiamo detto niente rispetto alla **lunghezza** delle sequenze di simboli! Di fatto, la lunghezza è un constraint che dovremmo capire di volta in volta quando si risolve un esercizio. Se per esempio l'esercizio parla di lanciare due dadi e registrare i risultati, allora il vocabolario potrebbe essere, per esempio, l'insieme dei numeri da 1 a 6, e la lunghezza delle sequenze di simboli che costituisce un esito sarebbe pari al numero dei dadi, cioè 2!\n",
        "\n",
        "Vedremo più avanti che c'è un caso speciale di formazione di esiti in cui si ha che le sequenze devono avere sempre tutti gli elementi del vocabolario, e l'ordine conta, e non cè reinserimento, in questo caso tali sequenze sono chiamate _permutazioni_."
      ]
    },
    {
      "cell_type": "markdown",
      "metadata": {},
      "source": [
        "Nel caso dell'esercizio dei **database**, il nostro vocabolario era costituito di 5 simboli diversi. _Mongo, Redis, MySQL, PostgreSQL e Cassandra_.\n",
        "Ora, dato che l'esercizio ci diceva -tra le righe- che l'esperimento consisteva nella **_scelta di due database_**, abbiamo usato le **\"_combinazioni semplici di lunghezza 2_\"** di questi 5 simboli del nostro vocabolario per creare gli esiti dello spazio campione, e quindi abbiamo capito quanto era grande il nostro spazio campione (10)!"
      ]
    },
    {
      "cell_type": "markdown",
      "metadata": {},
      "source": [
        "> **IN SINTESI**\n",
        "\n",
        "\n",
        "> Considereremo una situazione generica in cui degli oggetti (simboli del vocabolario) vengono selezionati casualmente da un insieme di $ n $ elementi.  Questo modello generale ha diverse applicazioni utili nella costruzione di spazi campione.\n",
        "\n",
        "\n",
        "> Gli oggetti possono essere selezionati \"**_con reinserimento_**\" oppure \"_**senza reinserimento**_\".  Possono inoltre essere \"_**distinguibili**_\" o \"_**indistinguibili**_\". (Quest'ultima dicitura rachiude in letteratura la semantica di \"ordine conta\" e \"ordine non conta\", rispettivamente)\n",
        "\n",
        "\n",
        "\n",
        "> **DEFINIZIONE 2.12**   L'estrazione _**con reinserimento**_ significa che **ogni oggetto estratto viene rimesso** nell'insieme iniziale, in modo tale che  _lo stesso oggetto può essere estratto più di una volta._ \n",
        "\n",
        "> **DEFINIZIONE 2.13** L'estrazione **senza reinserimento** significa che ogni oggetto estratto **viene rimosso dalle successive estrazioni**, quindi l'insieme delle possibilità **si riduce di 1 dopo ogni selezione**.\n",
        "\n",
        "> **DEFINIZIONE 2.14** Gli oggetti sono **distinguibili** se l'estrazione degli stessi oggetti in un** ordine diverso è considerata un esito diverso**,  ovvero un diverso elemento dello spazio campione. Per oggetti **indistinguibili** invece, **l'ordine non è importante**: conta soltanto quali oggetti sono stati estratti e quali no. Oggetti indistinguibili _disposti_ in ordine diverso non generano un nuovo esito dell'esperimento."
      ]
    },
    {
      "cell_type": "markdown",
      "metadata": {
        "id": "SCXe9ZlxAIO3"
      },
      "source": [
        "#### Permutazioni e disposizioni: quando \"l'ordine conta\".\n",
        "\n",
        "______________"
      ]
    },
    {
      "cell_type": "markdown",
      "metadata": {
        "id": "ZQ4wfKFG7oBG"
      },
      "source": [
        "Il conteggio degli esiti di un evento può richiedere argomenti combinatori piuttosto elaborati. Una forma di argomentazione\n",
        "particolarmente importante è quella di ragionare sulle **permutazioni** e sulle **combinazioni**. Si ricorda che il numero di permutazioni distinte di N elementi è $n!$\n",
        "\n",
        "> **Permutazioni**: Quando abbiamo N elementi distinti e vogliamo *ordinarli* *in tutti i modi possibili*, stiamo calcolando le **permutazioni**. Il risultato è $n!$."
      ]
    },
    {
      "cell_type": "markdown",
      "metadata": {
        "id": "vzBBHtu08xaj"
      },
      "source": [
        "> Esempio: Si estrae una mano di sette carte da un mazzo di carte standard correttamente mescolato. Con quale probabilità vengono estratte le carte 2,3,4,...,8 di cuori (in quell'ordine)?\n",
        "\n",
        "*Soluzione* Useremo le permutazioni per risolvere questo esericizio. Esistono $52!$ ordinamenti diversi di un mazzo di carte opportunamente mescolato. Questo è il numero totale degli esiti possibili (cioè la cardinalità dello spazio campione). Il numero di esiti dell'evento in questione invece si ottiene notando che che ogni risultato nell'evento è un ordine di carte in cui tra le prime sette carte si trova la sequenza 2,3,4,...,7,8, in quell'ordine.\n",
        "\n",
        "Ci sono quindi $45!$ esiti nell'evento, perché è possibile riordinare le 45 carte rimanenti in modo arbitrario. Ciò significa che la\n",
        "probabilità è:\n",
        "\n",
        "$$ \\frac{45!}{52!}$$"
      ]
    },
    {
      "cell_type": "markdown",
      "metadata": {
        "id": "1FbZ5_Tf-S7z"
      },
      "source": [
        "> Nota anti-confusione: Di solito, quando vogliamo calcolare il numero di ordinamenti possibili di **tutti** gli $n$ elementi di un insieme, parliamo di **permutazioni**. Invece, quando volgiamo calcolare il numero di ordinamenti di un **sottoinsieme** di elementi, come nell'esercizio precedente, parliamo di **disposizioni**.\n",
        "\n",
        "Per quello, la formula che ci aiuterà a calcolare il numero di ordinamenti di $k$ elementi presi da un insieme di $n$ elementi si dennota con $D_{n,k}$, ed è chiamata \"*numero di disposizioni semplici di classe $k$ di $n$ elementi diversi*\":\n",
        "\n",
        "$$ D_{n,k} = \\frac{n!}{(n-k)!} $$\n",
        "\n",
        "Non ci confondiamo con le diciture. Parliamo di numero di *disposizioni* perché l'ordine conta. Teniamo in conto che, presi i $k$ elementi, ne rimangono $n-K$. Questo vuol dire che **non stiamo reinserendo gli elementi che prendiamo.** In letteratura, questo modo di contare -cioè senza reinserimento- viene chiamato *semplice*, per questo si parla di numero di *disposizioni semplici*.\n",
        "\n",
        "Nell'esempio precedente, reinserire le carte ogni volta e miscolare il mazzo di carte porterebbe ad un altra probabilità. Cioè se facciamo sette estrazioni con reinserimento, ad ogni estrazione abbiamo sempre 52 esiti diversi, il che vuol dire che gli esiti possibili per la sequenza di 7 estazioni con reinserimento è $52^7$. Di queste, quante corrispondono alla sequenza 2,3,4,5,6,7,8 di cuori in quell'ordine? Una. Quindi la probabilità è $\\frac{1}{52^7}$. Si poteva arrivare a questa risposta anche sapendo che la probabiiltà di estrarre una certa carta dal mazzo è sempre $\\frac{1}{52}$ quando c'è reinserimento, per qualsiasi carta, e sapendo che ogni estrazione è un evento indipendente dalle altre estrazioni, ma ne parleremo più avanti nel corso... Per ora ci basta ricordare che:\n",
        "\n",
        "> Il numero di disposizioni con reinserimento di classe $k$ di $n$ elementi diversi è:\n",
        "\n",
        "$$ D_{n,k} = n^k$$\n",
        "\n",
        "Faciamo attenzione al fatto che, per questa e per la formula precedente, abbiamo detto \"$n$ elementi *diversi*\". Per ora non facciamo nessun controesempio né diciamo perché è importante questa clausola, ma più avanti verrà fuori tutto questo. Per ora ci basti dare importanza al fatto che queste formule valgono quando gli $n$ oggetti sono, infatti, diversi.\n",
        "\n",
        "\n",
        "> **Ricorda**: Quado parliamo di **disposizioni** di elementi **senza reinserimento **nell'insieme di partenza, parliamo di **disposizioni semplici**.\n",
        "\n",
        "\n",
        "> **Ricorda**: se devi contare il numero di ordinamenti, cioè se \"**l'ordine conta**\" allora parliamo di **disposizioni**!!!"
      ]
    },
    {
      "cell_type": "markdown",
      "metadata": {
        "id": "wOD80k3xABp2"
      },
      "source": [
        "#### Combinazioni: quando \"l'ordine non conta\"\n",
        "__________"
      ]
    },
    {
      "cell_type": "markdown",
      "metadata": {
        "id": "HzL54TApAS-9"
      },
      "source": [
        "Il numero di *combinazioni* invece è diverso dal numero di ordinamenti. Contare il numero di combinazioni equivale a contare il numero di  sottoinsiemi di una certa dimensione che possono essere formati da un insieme più grande,**senza considerare l'ordine degli elementi all'interno di ciascun sottoinsieme.**\n",
        "Per essere più precisi:\n",
        "\n",
        "> **Definizione di combinazione:** Una combinazione è una *selezione* di $k$ elementi da un insieme di $n$ elementi, dove l'ordine non importa. Cioè, due combinazioni vengono considerate diverse solo se differiscono per almeno un elemento. Se due combinazioni hanno gli stessi elementi in ordine diverso, vengono comunque considerate la stessa combinazione.\n",
        "\n",
        "> Si indica comunemente il numero di combinazioni di classe $k$ prese da un insieme di $n$ elementi diversi con:\n",
        "\n",
        "$ C_{n,k} = \\binom{n}{k} $.\n",
        "\n",
        "Dove $ n \\choose k$ è il *coefficiente binomiale* $n$ $k$. Più specificamente abbiamo:\n",
        "\n",
        "> Formula per le combinazioni: Il numero di combinazioni di classe $k$ prese da un insieme di $n$ elementi è dato da:\n",
        "\n",
        "$$ C_{n,k} = \\frac{n!}{k! \\cdot (n-k)!} $$\n",
        "\n",
        "\n",
        "Ancora una volta, ripetiamo:\n",
        "\n",
        "- Differenza tra combinazioni e disposizioni o permutazioni:\n",
        "\n",
        "Le permutazioni considerano l'ordine (ABC è diverso da CBA). Le combinazioni non considerano l'ordine (ABC è lo stesso di CBA).\n",
        "\n",
        "- Interpretazione:\n",
        "\n",
        "Contare le combinazioni equivale a contare in quanti modi possiamo selezionare $k$ oggetti da un gruppo di $n$ oggetti, dove non ci interessa l'ordine in cui vengono selezionati. È come rispondere alla domanda: \"In quanti modi diversi posso formare un comitato di $k$ persone da un gruppo di n persone?\"\n",
        "\n",
        "\n",
        "- Connessione con i sottoinsiemi:\n",
        "\n",
        "Ogni combinazione rappresenta un sottoinsieme di $k$ elementi dell'insieme originale di $n$ elementi. Infatti, il numero totale di sottoinsiemi di un insieme di $n$ elementi (inclusi l'insieme vuoto e l'insieme completo) è $2^n$, che è la somma di tutte le possibili combinazioni: $C_{n,0} + C_{n,1} + ... + C_{n,n}$. Puoi dimostrarlo?\n",
        "\n",
        "\n",
        "\n",
        "> In sintesi, mentre le _permutazioni_ o _disposizioni_ contano tutti i possibili *ordinamenti*, le combinazioni contano i sottoinsiemi senza considerare l'ordine interno. Questo concetto è fondamentale in molte applicazioni, dalla teoria delle probabilità alla statistica, dalla teoria dei giochi alla crittografia."
      ]
    },
    {
      "cell_type": "markdown",
      "metadata": {
        "id": "X-mSsoCxCOec"
      },
      "source": [
        "> Trovi delle spiegazioni più \"passo passo\" sul sito di [YouMath](https://www.youmath.it/lezioni/probabilita/calcolo-combinatorio.html)"
      ]
    }
  ],
  "metadata": {
    "colab": {
      "include_colab_link": true,
      "provenance": []
    },
    "kernelspec": {
      "display_name": "Python 3",
      "name": "python3"
    },
    "language_info": {
      "codemirror_mode": {
        "name": "ipython",
        "version": 3
      },
      "file_extension": ".py",
      "mimetype": "text/x-python",
      "name": "python",
      "nbconvert_exporter": "python",
      "pygments_lexer": "ipython3",
      "version": "3.11.11"
    }
  },
  "nbformat": 4,
  "nbformat_minor": 0
}
