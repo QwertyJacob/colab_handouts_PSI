{
  "cells": [
    {
      "cell_type": "markdown",
      "metadata": {
        "colab_type": "text",
        "id": "view-in-github"
      },
      "source": [
        "<a href=\"https://colab.research.google.com/github/QwertyJacob/colab_handouts_PSI/blob/main/2_intro_conteggio.ipynb\" target=\"_parent\"><img src=\"https://colab.research.google.com/assets/colab-badge.svg\" alt=\"Open In Colab\"/></a>"
      ]
    },
    {
      "cell_type": "markdown",
      "metadata": {},
      "source": [
        "### 2.3.2 Introduzione al Conteggio\n",
        "___________\n",
        "\n",
        "Addattamento da: \n",
        "- Probability and Statistics for Computer Scientists, M. Baron, CRC Press, 2014\n",
        "\n",
        "\n",
        "Ricordiamo la formula (2.5) che definisce la probabilità in caso di esiti equiprobabili:\n",
        "\n",
        "**Probabilità di un evento in caso di esiti equiprobabili (definizione _classica_ della probabilità)**\n",
        "$$\n",
        "P\\{E\\} = \\frac{\\text{numero di esiti favorevoli}}{\\text{numero totale di esiti}} = \\frac{N_F}{N_T} \\tag{2.5}\n",
        "$$\n",
        "\n",
        "Questa definizione è semplice, purché il suo numeratore e il suo denominatore possano essere facilmente calcolati.  \n",
        "Tuttavia, questo capita raramente; spesso lo spazio campione è costituito da una moltitudine di esiti difficile da contare. \n",
        "\n",
        "Il *calcolo combinatorio* o, più semplicemente, la *combinatoria*, fornisce tecniche specifiche per il calcolo di $ N_T $ e $ N_F $, rispettivamente il numero totale di esiti possibili in $\\Omega$, in qualunque modo esso sia definito, e il numero di esiti favorevoli o esiti inclusi in un determinato evento $E$."
      ]
    },
    {
      "cell_type": "markdown",
      "metadata": {},
      "source": [
        "> Ti ricordi l'esercizio di esame dei [database](https://uninsubria365-my.sharepoint.com/:b:/r/personal/ids88517470_uninsubria_it/Documents/Teaching/Statistics%20ITA/Exercises/Raccolta%20Esercizi%20di%20esame%20svolti/Varese/20240919_Appello_VI_soluzioni.pdf?csf=1&web=1&e=8JctaQ)?\n",
        "\n",
        "Quell'esercizio risulta emblematico per il discorso che stiamo per fare ora. \n",
        "\n",
        "In realtà il problema di calcolare $ N_T $ e $ N_F $ può essere delicato quando non sappiamo come è fatto $\\Omega$.\n",
        "\n",
        "Quindi il primo passo da fare è quello di farsi un'idea della grandezza di $\\Omega$, anche nel caso non si riuscisse a scriverlo su un pezzo di carta o elecarne gli elementi a voce, perché molto grande. \n",
        "\n",
        "Per fare questo si parte sempre e comunque da un **vocabolario di simboli**, che indicheremo con $\\mathcal{V}$, tale che:\n",
        "\n",
        "$$ \\mathcal{V} \\coloneqq \\{ \\mathcal{v}_1,\\mathcal{v}_2,\\mathcal{v}_3,...\\mathcal{v}_m \\} $$\n",
        "\n",
        "e poi prenderemo delle SEQUENZE di simboli di questo vocabolario per creare gli esiti dello spazio campione, per esempio:\n",
        "\n",
        "$$ \\omega_1 \\coloneqq \"\\mathcal{v}_1 \\mathcal{v}_2 \\mathcal{v}_3\"  $$\n",
        "\n",
        "$$ \\omega_2 \\coloneqq \"\\mathcal{v}_2 \\mathcal{v}_2 \\mathcal{v}_3\" $$\n",
        "\n",
        "$$ \\omega_3 \\coloneqq \"\\mathcal{v}_3 \\mathcal{v}_2 \\mathcal{v}_2 \\mathcal{v}_2 \\mathcal{v}_{23}\" $$\n",
        "\n",
        "Si noti come queste SEQUENZE DI SIMBOLI NON SONO INSIEMI, e infatti l'ordine delle sequenze potrebbe essere importante. \n",
        "\n",
        "Dicevamo quindi che, in molti esercizi di esame, il primo passo da fare è, partendo da un vocabolario di simboli (che scegliamo noi in modo intuitivo, come nel caso dell'esercizio dei database), costruire $\\Omega$, cioè costruire gli esiti dello spazio campione, gli esiti dell'esperimento in questione,  $\\omega_1, \\omega_2, \\omega_3, \\ldots, \\omega_n$ come **sequenze di simboli del vocabolario**.\n",
        "\n",
        "Abbiamo detto in precedenza che gli esiti sono l'unità più elementare di probabilità! Ad ogni modo, per riferirci ad uno spazio campione, per capire quali e sopratutto QUANTI sono gli esiti in esso contenuti, **molte volte** dobbiamo pensare agli esiti come sequenze di simboli di un vocabolario, proprio perché **l'unica cosa che conosciamo è il vocabolario**!\n",
        "\n",
        "Detto questo, teniamo in conto queste 5 osservazioni che intervengono nel modo in cui possiamo creare gli esiti a partire di sequenze di simboli di un vocabolario:\n",
        "\n",
        "1. **Regola d'oro:** Sequenze contenenti simboli diversi formano esiti diversi. Sempre.\n",
        "2. (**O**) Caso di simboli **\"_distinguibili_\"**: Sequenze contenenti gli stessi simboli formano comunque esiti diversi se l'ordine dei simboli è diverso.\n",
        "3. (**~O**) Caso di simboli **\"_indistinguibili_\"**: Sequenze contenenti gli stessi simboli sono sempre considerate un'unico esito, indipendentemente dell'ordine dei simboli nelle sequenze.\n",
        "4. (**R**) Estrazione di sequenze di simboli **con reinserimento**: un esito è una sequenza di simboli che può contenere più volte lo stesso simbolo. \n",
        "5. (**~R**) Estrazione di sequenze di simboli **senza reinserimento**: le sequenze che costituiscono esiti non hanno mai un simbolo ripetuto. \n",
        "\n",
        "\n",
        "Di modo che abbiamo 4 casi o modi in qui le sequenze di simboli formano esiti:\n",
        "\n",
        "1. **(O R)** : In questo caso diciamo che, nella creazione di esiti a partire di sequenze di simboli, **l'ordine conta** e **c'è il reinserimento**. Diciamo anche che gli esiti corrispondono a **_\"disposizioni con reinserimento\"_** di simboli del vocabolario.\n",
        "2. **(O ~R)**: In questo caso, **l'ordine conta** ma **non c'è reinserimento** al momento di creare gli esiti dello spazio campione come sequenze di simboli del vocabolario. Diciamo anche che gli esiti corrispondono a **_\"disposizioni senza reinserimento\"_** oppure **_\"disposizioni semplici\"_** di simboli del vocabolario.\n",
        "3. **(~O R)**: In questo caso, **l'ordine non conta** e **c'è reinserimento**. Diciamo anche che gli esiti corrispondono a **_\"combinazioni con reinserimento\"_** di simboli del vocabolario.\n",
        "4. **(~O ~R)**: In questo caso, **l'ordine non conta** e **non c'è reinserimento**. Diciamo anche che gli esiti corrispondono a **_\"combinazioni semplici\"_** di simboli del vocabolario.\n",
        "\n",
        "\n",
        "Quindi sì, le _sequenze_ possono essere _combinazioni_ (quando l'ordine non conta) o _disposizioni_ (quando l'ordine conta). \n",
        "\n",
        "> Non abbiamo detto niente rispetto alla **lunghezza** delle sequenze di simboli! Di fatto, la lunghezza è un constraint che dovremmo capire di volta in volta quando si risolve un esercizio. Se per esempio l'esercizio parla di lanciare due dadi e registrare i risultati, allora il vocabolario potrebbe essere, per esempio, l'insieme dei numeri da 1 a 6, e la lunghezza delle sequenze di simboli che costituisce un esito sarebbe pari al numero dei dadi, cioè 2!\n",
        "\n",
        "Vedremo più avanti che c'è un caso speciale di formazione di esiti in cui si ha che le sequenze devono avere sempre tutti gli elementi del vocabolario, e l'ordine conta, e non cè reinserimento, in questo caso tali sequenze sono chiamate _permutazioni_."
      ]
    },
    {
      "cell_type": "markdown",
      "metadata": {},
      "source": [
        "Nel caso dell'esercizio dei **database**, il nostro vocabolario era costituito di 5 simboli diversi. _Mongo, Redis, MySQL, PostgreSQL e Cassandra_.\n",
        "Ora, dato che l'esercizio ci diceva -tra le righe- che l'esperimento consisteva nella **_scelta di due database_**, abbiamo usato le **\"_combinazioni semplici di lunghezza 2_\"** di questi 5 simboli del nostro vocabolario per creare gli esiti dello spazio campione, e quindi abbiamo capito quanto era grande il nostro spazio campione (10)!"
      ]
    },
    {
      "cell_type": "markdown",
      "metadata": {},
      "source": [
        "> **IN SINTESI**\n",
        "\n",
        "\n",
        "> Considereremo una situazione generica in cui degli oggetti (simboli del vocabolario) vengono selezionati casualmente da un insieme di $ n $ elementi.  Questo modello generale ha diverse applicazioni utili nella costruzione di spazi campione.\n",
        "\n",
        "\n",
        "> Gli oggetti possono essere selezionati \"**_con reinserimento_**\" oppure \"_**senza reinserimento**_\".  Possono inoltre essere \"_**distinguibili**_\" o \"_**indistinguibili**_\". (Quest'ultima dicitura rachiude in letteratura la semantica di \"ordine conta\" e \"ordine non conta\", rispettivamente)\n",
        "\n",
        "\n",
        "\n",
        "> **DEFINIZIONE 2.12**   L'estrazione _**con reinserimento**_ significa che **ogni oggetto estratto viene rimesso** nell'insieme iniziale, in modo tale che  _lo stesso oggetto può essere estratto più di una volta._ \n",
        "\n",
        "> **DEFINIZIONE 2.13** L'estrazione **senza reinserimento** significa che ogni oggetto estratto **viene rimosso dalle successive estrazioni**, quindi l'insieme delle possibilità **si riduce di 1 dopo ogni selezione**.\n",
        "\n",
        "> **DEFINIZIONE 2.14** Gli oggetti sono **distinguibili** se l'estrazione degli stessi oggetti in un** ordine diverso è considerata un esito diverso**,  ovvero un diverso elemento dello spazio campione. Per oggetti **indistinguibili** invece, **l'ordine non è importante**: conta soltanto quali oggetti sono stati estratti e quali no. Oggetti indistinguibili _disposti_ in ordine diverso non generano un nuovo esito dell'esperimento."
      ]
    },
    {
      "cell_type": "markdown",
      "metadata": {},
      "source": [
        "**Esempio 2.25 (Password generate dal computer).** Supponiamo che il nostro esperimento corrisponda alla generazione di password come sequenze di simboli di un certo vocabolario.\n",
        "Come creare gli esiti dello spazio campione in questo caso??? Quali sono gli esiti possibili?? **Se sappiamo quali sono, sapremo quanti sono**. Riflettiamo:\n",
        "- l'ordine dei caratteri è importante perché un ordine diverso produce una password diversa. Quindi diciamo che _\"i caratteri sono distinguibili\"_. \n",
        "- Inoltre, se una password deve essere composta da caratteri diversi, questi vengono estratti dall'alfabeto _senza reinserimento_.\n",
        "\n",
        "♦\n",
        "\n",
        "**Esempio 2.26 (Sondaggi).** Ora supponiamo che l'esperimento corrisponda ad un sondaggio dove cè un unica domanda SI\\NO, fatto ad un insieme di N persone.\n",
        "Quali sono i diversi esiti possibili di un sondaggio?\n",
        "In questo caso il nostro vocabolario saranno le sequenze di N risposte possibili, nelle quali ovviamente ci sarà la ripetizione e nelle quali -solimtamente- non ci interessa l'ordine, a meno che **non venga detto esplicitamente** il contrario.  \n",
        "♦"
      ]
    }
  ],
  "metadata": {
    "colab": {
      "include_colab_link": true,
      "provenance": []
    },
    "kernelspec": {
      "display_name": "Python 3",
      "name": "python3"
    },
    "language_info": {
      "codemirror_mode": {
        "name": "ipython",
        "version": 3
      },
      "file_extension": ".py",
      "mimetype": "text/x-python",
      "name": "python",
      "nbconvert_exporter": "python",
      "pygments_lexer": "ipython3",
      "version": "3.11.11"
    }
  },
  "nbformat": 4,
  "nbformat_minor": 0
}
