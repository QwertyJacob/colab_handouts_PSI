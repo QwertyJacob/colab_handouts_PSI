{
  "cells": [
    {
      "cell_type": "markdown",
      "metadata": {
        "colab_type": "text",
        "id": "view-in-github"
      },
      "source": [
        "<a href=\"https://colab.research.google.com/github/QwertyJacob/colab_handouts_PSI/blob/main/PROBABILIT%C3%80_2309.ipynb\" target=\"_parent\"><img src=\"https://colab.research.google.com/assets/colab-badge.svg\" alt=\"Open In Colab\"/></a>"
      ]
    },
    {
      "cell_type": "markdown",
      "metadata": {
        "id": "7Q4Yhr2773gq"
      },
      "source": [
        "### 2.2.1 Assiomi della probabilità\n",
        "__________________\n",
        "\n",
        "1. La probabilità di ogni evento è compresa tra zero e uno; in equazione:\n",
        "$ 0 \\leq P(\\mathcal{A}) \\leq 1$ per qualsiasi evento $\\mathcal{A}$.\n",
        "\n",
        "2. Ogni esperimento ha esattamente un esito, in equazioni: $P(\\Omega) = 1$.\n",
        "\n",
        "3. La probabilità di **eventi disgiunti** è additiva. Per scriverla in equazioni è necessaria una certa notazione. Supponiamo di avere\n",
        "una collezione di eventi $\\mathcal{A}_i$ , indicizzati da $i$. Richiediamo che questi abbiano la proprietà $\\mathcal{A}_i \\cap \\mathcal{A}_j =  ∅ $ quando $i \\neq j$.\n",
        "\n",
        "Questo significa che non c'è nessun risultato che compaia in più di un insieme $\\mathcal{A}_i$. A sua volta, se interpretiamo la probabilità come una frequenza relativa, dobbiamo avere che\n",
        "\n",
        "$P(\\cup_i \\mathcal{A}_i) = \\sum_i P(\\mathcal{A}_i)$"
      ]
    },
    {
      "cell_type": "markdown",
      "metadata": {},
      "source": []
    }
  ],
  "metadata": {
    "colab": {
      "authorship_tag": "ABX9TyNkFiCc4VvmEt1FYhuk+YZP",
      "include_colab_link": true,
      "provenance": []
    },
    "kernelspec": {
      "display_name": "Python 3",
      "name": "python3"
    },
    "language_info": {
      "codemirror_mode": {
        "name": "ipython",
        "version": 3
      },
      "file_extension": ".py",
      "mimetype": "text/x-python",
      "name": "python",
      "nbconvert_exporter": "python",
      "pygments_lexer": "ipython3",
      "version": "3.11.11"
    }
  },
  "nbformat": 4,
  "nbformat_minor": 0
}
